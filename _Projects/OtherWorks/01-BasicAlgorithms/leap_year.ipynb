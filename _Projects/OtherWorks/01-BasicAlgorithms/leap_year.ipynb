{
  "nbformat": 4,
  "nbformat_minor": 0,
  "metadata": {
    "colab": {
      "name": "leap_year",
      "provenance": [],
      "collapsed_sections": [],
      "authorship_tag": "ABX9TyN6D5+r15qdqcg/zyvPamCQ"
    },
    "kernelspec": {
      "name": "python3",
      "display_name": "Python 3"
    },
    "language_info": {
      "name": "python"
    }
  },
  "cells": [
    {
      "cell_type": "code",
      "metadata": {
        "colab": {
          "base_uri": "https://localhost:8080/"
        },
        "id": "h5cJSEH8oriJ",
        "outputId": "3cbc3faf-ea41-421b-f3d4-0297e3fd0d5b"
      },
      "source": [
        "year = int(input(\"Enter year :\"))\n",
        "\n",
        "if year %4 == 0 and year %100 != 0 or year % 400 == 0:\n",
        "  print(\"The year is a leap year!\")\n",
        "else:\n",
        "  print(\"The year is a not leap year!\")    "
      ],
      "execution_count": 23,
      "outputs": [
        {
          "output_type": "stream",
          "text": [
            "Enter year :6666\n",
            "The year is a not leap year!\n"
          ],
          "name": "stdout"
        }
      ]
    },
    {
      "cell_type": "code",
      "metadata": {
        "id": "zo8BuhcqqloR"
      },
      "source": [
        ""
      ],
      "execution_count": null,
      "outputs": []
    }
  ]
}