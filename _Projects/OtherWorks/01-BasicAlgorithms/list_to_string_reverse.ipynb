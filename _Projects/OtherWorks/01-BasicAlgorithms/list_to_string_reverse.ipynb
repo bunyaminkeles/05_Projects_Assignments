{
  "nbformat": 4,
  "nbformat_minor": 0,
  "metadata": {
    "colab": {
      "name": "list_to_string_reverse",
      "provenance": [],
      "authorship_tag": "ABX9TyMN65zO0m/xnD7AYN13pJVq"
    },
    "kernelspec": {
      "name": "python3",
      "display_name": "Python 3"
    },
    "language_info": {
      "name": "python"
    }
  },
  "cells": [
    {
      "cell_type": "code",
      "metadata": {
        "colab": {
          "base_uri": "https://localhost:8080/"
        },
        "id": "XWldvzyXRAX6",
        "outputId": "3dcb0fbd-99a9-4530-da22-fa5a5ad6fe1a"
      },
      "source": [
        "#The function will print the numbers in the list, which contains two lists,\n",
        "#reverse the numbers and adds them and lists the numbers of the total in reverse order.\n",
        "#Lists cannot be empty\n",
        "\n",
        "def listToString(a,b):\n",
        "  a.reverse()\n",
        "  b.reverse()\n",
        "  str1 = ''.join([str(i) for i in a])\n",
        "  str2 = ''.join([str(i) for i in b])   \n",
        "  c =  int(str1)+int(str2)\n",
        "  c =  list(map(int,list(str(c)[::-1])))\n",
        "  return c\n",
        "a = [3,5,7]\n",
        "b = [4,6,8]\n",
        "\n",
        "listToString(a,b) "
      ],
      "execution_count": 1,
      "outputs": [
        {
          "output_type": "execute_result",
          "data": {
            "text/plain": [
              "[7, 1, 6, 1]"
            ]
          },
          "metadata": {
            "tags": []
          },
          "execution_count": 1
        }
      ]
    }
  ]
}