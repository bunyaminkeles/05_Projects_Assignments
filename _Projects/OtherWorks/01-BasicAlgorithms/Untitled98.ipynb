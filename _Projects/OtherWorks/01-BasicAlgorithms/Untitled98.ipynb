{
  "nbformat": 4,
  "nbformat_minor": 0,
  "metadata": {
    "colab": {
      "name": "Untitled98.ipynb",
      "provenance": [],
      "authorship_tag": "ABX9TyNrOHdvHF/5AAd4vUICAk1y"
    },
    "kernelspec": {
      "name": "python3",
      "display_name": "Python 3"
    },
    "language_info": {
      "name": "python"
    }
  },
  "cells": [
    {
      "cell_type": "code",
      "metadata": {
        "colab": {
          "base_uri": "https://localhost:8080/"
        },
        "id": "y1AQ6uKEg3SE",
        "outputId": "2754b7cc-2a00-4c8a-a61e-f8a868c788bf"
      },
      "source": [
        "dir(list)"
      ],
      "execution_count": 1,
      "outputs": [
        {
          "output_type": "execute_result",
          "data": {
            "text/plain": [
              "['__add__',\n",
              " '__class__',\n",
              " '__contains__',\n",
              " '__delattr__',\n",
              " '__delitem__',\n",
              " '__dir__',\n",
              " '__doc__',\n",
              " '__eq__',\n",
              " '__format__',\n",
              " '__ge__',\n",
              " '__getattribute__',\n",
              " '__getitem__',\n",
              " '__gt__',\n",
              " '__hash__',\n",
              " '__iadd__',\n",
              " '__imul__',\n",
              " '__init__',\n",
              " '__init_subclass__',\n",
              " '__iter__',\n",
              " '__le__',\n",
              " '__len__',\n",
              " '__lt__',\n",
              " '__mul__',\n",
              " '__ne__',\n",
              " '__new__',\n",
              " '__reduce__',\n",
              " '__reduce_ex__',\n",
              " '__repr__',\n",
              " '__reversed__',\n",
              " '__rmul__',\n",
              " '__setattr__',\n",
              " '__setitem__',\n",
              " '__sizeof__',\n",
              " '__str__',\n",
              " '__subclasshook__',\n",
              " 'append',\n",
              " 'clear',\n",
              " 'copy',\n",
              " 'count',\n",
              " 'extend',\n",
              " 'index',\n",
              " 'insert',\n",
              " 'pop',\n",
              " 'remove',\n",
              " 'reverse',\n",
              " 'sort']"
            ]
          },
          "metadata": {
            "tags": []
          },
          "execution_count": 1
        }
      ]
    },
    {
      "cell_type": "code",
      "metadata": {
        "colab": {
          "base_uri": "https://localhost:8080/"
        },
        "id": "In1jfh6gg302",
        "outputId": "3bcc4f7a-c61e-4faf-abfa-1ae0f6a1a229"
      },
      "source": [
        "\n",
        "print(list(set([1,2,2,2,2,3])-set([2])))\n"
      ],
      "execution_count": 41,
      "outputs": [
        {
          "output_type": "stream",
          "text": [
            "[1, 3]\n"
          ],
          "name": "stdout"
        }
      ]
    },
    {
      "cell_type": "code",
      "metadata": {
        "colab": {
          "base_uri": "https://localhost:8080/"
        },
        "id": "MUlmDWtqysMc",
        "outputId": "9d6093f9-6bdd-4f9e-dcce-50e690c51fce"
      },
      "source": [
        "print(list({item for item in [1,2,2,2,2,3] if item not in [2]}))"
      ],
      "execution_count": 32,
      "outputs": [
        {
          "output_type": "stream",
          "text": [
            "[1, 3]\n"
          ],
          "name": "stdout"
        }
      ]
    },
    {
      "cell_type": "code",
      "metadata": {
        "colab": {
          "base_uri": "https://localhost:8080/"
        },
        "id": "n3C-92NLiBTx",
        "outputId": "ec791c22-8760-400c-92fc-69f30ce1ed19"
      },
      "source": [
        "list_1 = [\"a\", \"b\", \"c\", \"d\", \"e\"]\n",
        "list_2 = [\"a\", \"f\", \"c\", \"m\"] \n",
        " \n",
        "main_list = [item for item in list_1 if item not in list_2]\n",
        "main_list"
      ],
      "execution_count": 15,
      "outputs": [
        {
          "output_type": "execute_result",
          "data": {
            "text/plain": [
              "['b', 'd', 'e']"
            ]
          },
          "metadata": {
            "tags": []
          },
          "execution_count": 15
        }
      ]
    },
    {
      "cell_type": "code",
      "metadata": {
        "colab": {
          "base_uri": "https://localhost:8080/"
        },
        "id": "EcrI-O5rlwYC",
        "outputId": "4dfa7d4c-499b-4cba-8cd5-f8253f4c959c"
      },
      "source": [
        "def clarusway(emir):\n",
        "    zıtlar = {\"Kuzey\": \"Guney\", \"Guney\": \"Kuzey\", \"Dogu\": \"Bati\", \"Bati\": \"Dogu\"}\n",
        "    sonuc = []\n",
        "    for i in emir:\n",
        "        if sonuc and zıtlar[i] == sonuc[-1]:  # sonuc listesinde ve zıt yönler listesinde seçili eleman son elemana eşitse\n",
        "            sonuc.pop()  # son elemanı sil\n",
        "        else:  # değil ise\n",
        "            sonuc.append(i)  # seçili elemanı yazdır\n",
        "    return sonuc  # sonucu getir\n",
        "# denemeler\n",
        "print(clarusway([\"Kuzey\", \"Guney\", \"Guney\", \"Dogu\", \"Bati\", \"Kuzey\", \"Bati\"]))\n",
        "print(clarusway([\"Kuzey\", \"Bati\", \"Guney\", \"Dogu\"]))"
      ],
      "execution_count": 21,
      "outputs": [
        {
          "output_type": "stream",
          "text": [
            "['Bati']\n",
            "['Kuzey', 'Bati', 'Guney', 'Dogu']\n"
          ],
          "name": "stdout"
        }
      ]
    },
    {
      "cell_type": "code",
      "metadata": {
        "colab": {
          "base_uri": "https://localhost:8080/"
        },
        "id": "czKMDYd9rrPj",
        "outputId": "f1be2f45-dd0a-4d36-92d1-a4f80646f75a"
      },
      "source": [
        ""
      ],
      "execution_count": 29,
      "outputs": [
        {
          "output_type": "stream",
          "text": [
            "Kaç tane sayı eklemek istiyorsun? : 3\n",
            "Eklemek istediği sayı ne? : 5\n",
            "Eklemek istediği sayı ne? : 5\n",
            "Eklemek istediği sayı ne? : 5\n",
            "Kaç tane sayı silmek istiyorsun? : 1\n",
            "Silmek istediğin sayı ne? : 6\n",
            "[5]\n"
          ],
          "name": "stdout"
        }
      ]
    },
    {
      "cell_type": "code",
      "metadata": {
        "colab": {
          "base_uri": "https://localhost:8080/"
        },
        "id": "yinoUG-P5VgW",
        "outputId": "f33f24ad-99a2-4eb5-9adf-e31b4a6261f4"
      },
      "source": [
        "x = [161,182,161,154,176,170,167,171,170,174]\n",
        "print(sum(x)/len(x))"
      ],
      "execution_count": 44,
      "outputs": [
        {
          "output_type": "stream",
          "text": [
            "168.6\n"
          ],
          "name": "stdout"
        }
      ]
    },
    {
      "cell_type": "code",
      "metadata": {
        "colab": {
          "base_uri": "https://localhost:8080/"
        },
        "id": "1CWS4M8H5csk",
        "outputId": "b5dc7c7e-b2b9-475f-d4f8-89358acded0b"
      },
      "source": [
        "x = set([161,182,161,154,176,170,167,171,170,174])\n",
        "print(sum(x)/len(x))"
      ],
      "execution_count": 45,
      "outputs": [
        {
          "output_type": "stream",
          "text": [
            "169.375\n"
          ],
          "name": "stdout"
        }
      ]
    }
  ]
}