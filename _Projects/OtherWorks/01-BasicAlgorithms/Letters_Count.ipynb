{
  "nbformat": 4,
  "nbformat_minor": 0,
  "metadata": {
    "colab": {
      "name": "Letters_Count",
      "provenance": [],
      "authorship_tag": "ABX9TyNpVbWKW5uNoPreCWYG640Z"
    },
    "kernelspec": {
      "name": "python3",
      "display_name": "Python 3"
    },
    "language_info": {
      "name": "python"
    }
  },
  "cells": [
    {
      "cell_type": "code",
      "metadata": {
        "colab": {
          "base_uri": "https://localhost:8080/"
        },
        "id": "3U7_-lvQbeT4",
        "outputId": "7f353841-c2bd-490f-9fb4-77f87f62f58d"
      },
      "source": [
        "list = []\n",
        "n = input(\"Enter a sentence : \")\n",
        "for i in n :\n",
        "  list.append(i)\n",
        "my_dict = {i:list.count(i) for i in list}\n",
        "my_dict\n"
      ],
      "execution_count": 20,
      "outputs": [
        {
          "output_type": "stream",
          "text": [
            "Enter a sentence : ABCABA__112233**\n"
          ],
          "name": "stdout"
        },
        {
          "output_type": "execute_result",
          "data": {
            "text/plain": [
              "{'*': 2, '1': 2, '2': 2, '3': 2, 'A': 3, 'B': 2, 'C': 1, '_': 2}"
            ]
          },
          "metadata": {
            "tags": []
          },
          "execution_count": 20
        }
      ]
    }
  ]
}