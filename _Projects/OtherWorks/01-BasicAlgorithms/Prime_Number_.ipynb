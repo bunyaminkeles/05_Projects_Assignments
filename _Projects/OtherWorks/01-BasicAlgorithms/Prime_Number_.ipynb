{
  "nbformat": 4,
  "nbformat_minor": 0,
  "metadata": {
    "colab": {
      "name": "Prime Number?",
      "provenance": [],
      "authorship_tag": "ABX9TyOB5FpHd9/8mDs2K9bwh7Up"
    },
    "kernelspec": {
      "name": "python3",
      "display_name": "Python 3"
    },
    "language_info": {
      "name": "python"
    }
  },
  "cells": [
    {
      "cell_type": "code",
      "metadata": {
        "id": "Qqe7XE93FTCw"
      },
      "source": [
        "# Program to check if a number is prime or not\n",
        "\n",
        "num =int(input())\n",
        "\n",
        "# prime numbers are greater than 1\n",
        "if num > 1:\n",
        "   # check for factors\n",
        "   for i in range(2,num):\n",
        "       if (num % i) == 0:\n",
        "           print(num,\"is not a prime number\")\n",
        "           print(i,\"times\",num//i,\"is\",num)\n",
        "           break\n",
        "   else:\n",
        "       print(num,\"is a prime number\")\n",
        "       \n",
        "# if input number is less than\n",
        "# or equal to 1, it is not prime\n",
        "else:\n",
        "   print(num,\"is not a prime number\")"
      ],
      "execution_count": null,
      "outputs": []
    }
  ]
}