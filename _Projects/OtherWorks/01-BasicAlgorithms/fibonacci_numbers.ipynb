{
  "nbformat": 4,
  "nbformat_minor": 0,
  "metadata": {
    "colab": {
      "name": "fibonacci_numbers",
      "provenance": [],
      "authorship_tag": "ABX9TyNYEZoVfLEAFV9tnwCDhyEs"
    },
    "kernelspec": {
      "name": "python3",
      "display_name": "Python 3"
    },
    "language_info": {
      "name": "python"
    }
  },
  "cells": [
    {
      "cell_type": "code",
      "metadata": {
        "colab": {
          "base_uri": "https://localhost:8080/"
        },
        "id": "3IMqBpbYLsQS",
        "outputId": "1edc7c1b-e26b-46b8-cd5c-ddb6fd095741"
      },
      "source": [
        "#Task : Create a list consisting of Fibonacci numbers from 1 to 55 using control flow statements.\n",
        "fibonacci = []\n",
        "#fn =  (fn-1)+(fn-2) \n",
        "num = 0\n",
        "\n",
        "for fn in range(0,55):\n",
        "\n",
        "  # [0,1]\n",
        "  if fn == 0 or fn == 1:\n",
        "     fibonacci.append(fn)\n",
        "  \n",
        "  # [1,2,3,5,...]\n",
        "  if len(fibonacci) >=2:\n",
        "    num = fibonacci[-1] + fibonacci[-2] \n",
        "    fibonacci.append(num)\n",
        "  if num ==55:\n",
        "    break\n",
        "print(fibonacci[1:])\n"
      ],
      "execution_count": 16,
      "outputs": [
        {
          "output_type": "stream",
          "text": [
            "[]\n"
          ],
          "name": "stdout"
        }
      ]
    }
  ]
}