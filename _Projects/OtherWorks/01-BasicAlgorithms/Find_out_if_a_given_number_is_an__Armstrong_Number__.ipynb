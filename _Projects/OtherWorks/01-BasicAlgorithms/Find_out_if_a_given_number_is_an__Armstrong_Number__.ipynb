{
  "nbformat": 4,
  "nbformat_minor": 0,
  "metadata": {
    "colab": {
      "name": "Find out if a given number is an \"Armstrong Number\".",
      "provenance": [],
      "authorship_tag": "ABX9TyPyP/VSCbIvJRLUQnyvXyYy"
    },
    "kernelspec": {
      "name": "python3",
      "display_name": "Python 3"
    },
    "language_info": {
      "name": "python"
    }
  },
  "cells": [
    {
      "cell_type": "code",
      "metadata": {
        "colab": {
          "base_uri": "https://localhost:8080/"
        },
        "id": "NoQu6gkwWs0b",
        "outputId": "56907272-4421-43a5-9cbb-ecf84df26b1e"
      },
      "source": [
        "num = int(input(\"Please enter a positive number : \"))\n",
        "num_yedek = num\n",
        "\n",
        "us = len(str(num))\n",
        "\n",
        "toplam = 0\n",
        "\n",
        "while num > 0: \n",
        "\t\n",
        "    kalan = int(num % 10)\n",
        "    \n",
        "    toplam += kalan ** us\n",
        "    print(kalan, num, toplam)\n",
        "    num = int(num / 10)\n",
        "\n",
        "\n",
        "\n",
        "if toplam == num_yedek:\n",
        "\tprint(\"Yes, \", num_yedek ,\" is an Armstrong number\")\n",
        "    \n",
        "else :\n",
        "\tprint(\"No, \", num_yedek ,\" is not an Armstrong number\")"
      ],
      "execution_count": 1,
      "outputs": [
        {
          "output_type": "stream",
          "text": [
            "Please enter a positive number : 345\n",
            "5 345 125\n",
            "4 34 189\n",
            "3 3 216\n",
            "No,  345  is not an Armstrong number\n"
          ],
          "name": "stdout"
        }
      ]
    },
    {
      "cell_type": "code",
      "metadata": {
        "id": "RZEEGAR2WtVI"
      },
      "source": [
        ""
      ],
      "execution_count": null,
      "outputs": []
    },
    {
      "cell_type": "code",
      "metadata": {
        "id": "UKTGQOmhWtZq"
      },
      "source": [
        ""
      ],
      "execution_count": null,
      "outputs": []
    },
    {
      "cell_type": "code",
      "metadata": {
        "id": "coFcRGsGWted"
      },
      "source": [
        ""
      ],
      "execution_count": null,
      "outputs": []
    },
    {
      "cell_type": "code",
      "metadata": {
        "id": "bEWrXLJIWtgr"
      },
      "source": [
        ""
      ],
      "execution_count": null,
      "outputs": []
    },
    {
      "cell_type": "code",
      "metadata": {
        "id": "enMPp37-Wtja"
      },
      "source": [
        ""
      ],
      "execution_count": null,
      "outputs": []
    },
    {
      "cell_type": "code",
      "metadata": {
        "id": "gAU_8K7NWttC"
      },
      "source": [
        ""
      ],
      "execution_count": null,
      "outputs": []
    },
    {
      "cell_type": "code",
      "metadata": {
        "id": "xh6KqvoWWtv3"
      },
      "source": [
        ""
      ],
      "execution_count": null,
      "outputs": []
    },
    {
      "cell_type": "code",
      "metadata": {
        "id": "Ob7SXB1kWt5l"
      },
      "source": [
        ""
      ],
      "execution_count": null,
      "outputs": []
    }
  ]
}