{
  "nbformat": 4,
  "nbformat_minor": 0,
  "metadata": {
    "colab": {
      "name": "Finding the largest number without using the max() function",
      "provenance": [],
      "authorship_tag": "ABX9TyMxSWOBWdcVSb5roREx1bVQ"
    },
    "kernelspec": {
      "name": "python3",
      "display_name": "Python 3"
    },
    "language_info": {
      "name": "python"
    }
  },
  "cells": [
    {
      "cell_type": "code",
      "metadata": {
        "id": "QRvuhPQDiplD"
      },
      "source": [
        "#Write a python code that finds the largest number among the n numbers given by the user as input.\n",
        "\n",
        "#First, take n from the user, then take n numbers one by one and select-print the largest one.\n",
        "\n",
        "#It is forbidden to use max() function.\n",
        "\n",
        "\n",
        "kactane=int(input(\"kaç tane sayı girmek istiyorsunuz:\"))\n",
        "sayilar=[]\n",
        "while True:\n",
        "    if kactane==0:\n",
        "        break\n",
        "    else:\n",
        "        sayilar.append(int(input(str(kactane) + \". sayıyı giriniz:\")))\n",
        "        kactane=kactane-1\n",
        "\n",
        "    print(sayilar)\n",
        "    sıralı_sayılar = sorted(sayilar)\n",
        "    print(\"The Largest Number is:\",  + sıralı_sayılar[-1] )\n",
        "    "
      ],
      "execution_count": null,
      "outputs": []
    }
  ]
}