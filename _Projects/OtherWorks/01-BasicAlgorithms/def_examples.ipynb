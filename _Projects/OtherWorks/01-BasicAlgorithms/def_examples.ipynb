{
  "nbformat": 4,
  "nbformat_minor": 0,
  "metadata": {
    "colab": {
      "name": "def_examples",
      "provenance": [],
      "authorship_tag": "ABX9TyO9XFudGMIBNdkMvKJ6/fch"
    },
    "kernelspec": {
      "name": "python3",
      "display_name": "Python 3"
    },
    "language_info": {
      "name": "python"
    }
  },
  "cells": [
    {
      "cell_type": "code",
      "metadata": {
        "colab": {
          "base_uri": "https://localhost:8080/"
        },
        "id": "cXt3zb4gA5V4",
        "outputId": "ddda0229-3560-4ae9-d15d-88121d863814"
      },
      "source": [
        "def printMax(a, b):\n",
        " if a > b:\n",
        "   print(a, 'is maximum')\n",
        " elif a == b:\n",
        "   print(a, 'is equal to', b)\n",
        " else:\n",
        "   print(b, 'is maximum')\n",
        "printMax(3, 4)"
      ],
      "execution_count": 2,
      "outputs": [
        {
          "output_type": "stream",
          "text": [
            "4 is maximum\n"
          ],
          "name": "stdout"
        }
      ]
    },
    {
      "cell_type": "code",
      "metadata": {
        "colab": {
          "base_uri": "https://localhost:8080/"
        },
        "id": "l0PAULghBpiz",
        "outputId": "eabd933a-4b4c-44eb-f4f2-75db2f17d3e3"
      },
      "source": [
        "x = 50\n",
        "def func(x):\n",
        " print('x is', x)\n",
        " x = 2\n",
        " print('Changed local x to', x)\n",
        "func(x)\n",
        "print('x is now', x)\n"
      ],
      "execution_count": 3,
      "outputs": [
        {
          "output_type": "stream",
          "text": [
            "x is 50\n",
            "Changed local x to 2\n",
            "x is now 50\n"
          ],
          "name": "stdout"
        }
      ]
    },
    {
      "cell_type": "code",
      "metadata": {
        "colab": {
          "base_uri": "https://localhost:8080/"
        },
        "id": "zmLNukApCMVg",
        "outputId": "2967db33-e3fa-444d-912d-bcf93662f497"
      },
      "source": [
        "def function1(var1=5, var2=7):\n",
        " var2=9\n",
        " var1=3\n",
        " print (var1, \" \", var2)\n",
        "function1(10,12)"
      ],
      "execution_count": 4,
      "outputs": [
        {
          "output_type": "stream",
          "text": [
            "3   9\n"
          ],
          "name": "stdout"
        }
      ]
    }
  ]
}