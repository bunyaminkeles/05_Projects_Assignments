{
  "nbformat": 4,
  "nbformat_minor": 0,
  "metadata": {
    "colab": {
      "name": "Front-Back Char",
      "provenance": [],
      "collapsed_sections": [],
      "authorship_tag": "ABX9TyPbi6de8woAAliyOTNKBx0R"
    },
    "kernelspec": {
      "name": "python3",
      "display_name": "Python 3"
    },
    "language_info": {
      "name": "python"
    }
  },
  "cells": [
    {
      "cell_type": "code",
      "metadata": {
        "id": "h5cJSEH8oriJ"
      },
      "source": [
        ""
      ],
      "execution_count": 31,
      "outputs": []
    },
    {
      "cell_type": "code",
      "metadata": {
        "colab": {
          "base_uri": "https://localhost:8080/"
        },
        "id": "Y8In4brkuMtD",
        "outputId": "6652e85f-41a8-4da7-d821-5019b87219d1"
      },
      "source": [
        "def front_back(str1):\n",
        "  if len(str1) >= 2:\n",
        "      return str1[-1] + str1[1:-1] + str1[0]\n",
        "  else:\n",
        "      return str1  \n",
        "print(front_back('ABDULLAH'))\n",
        "print(front_back('a'))\n",
        "print(front_back('ab'))"
      ],
      "execution_count": 59,
      "outputs": [
        {
          "output_type": "stream",
          "text": [
            "HBDULLAA\n",
            "a\n",
            "ba\n"
          ],
          "name": "stdout"
        }
      ]
    }
  ]
}