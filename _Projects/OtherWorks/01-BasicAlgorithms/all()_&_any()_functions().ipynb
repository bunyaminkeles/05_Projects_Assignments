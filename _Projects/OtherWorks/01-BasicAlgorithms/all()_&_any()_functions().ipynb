{
  "nbformat": 4,
  "nbformat_minor": 0,
  "metadata": {
    "colab": {
      "name": "all() & any() functions()",
      "provenance": [],
      "authorship_tag": "ABX9TyMW7tMfoHKaiMhZmPgW1xDr"
    },
    "kernelspec": {
      "name": "python3",
      "display_name": "Python 3"
    },
    "language_info": {
      "name": "python"
    }
  },
  "cells": [
    {
      "cell_type": "code",
      "metadata": {
        "colab": {
          "base_uri": "https://localhost:8080/"
        },
        "id": "N2u5hMpD48MN",
        "outputId": "5e223bed-4e15-4ea1-cda5-3382e276f64d"
      },
      "source": [
        "# all() function\n",
        "# if all elements in an iterable are true --> True\n",
        "# if all elements in an iterable are false --> False\n",
        "\n",
        "names = [\"susan\",\"tom\",\"mike\"]\n",
        "mood  = [\"happy\",\"sad\",0]\n",
        "empty = {}\n",
        "\n",
        "print(all(names),all(mood),all(empty), sep = \"\\n\" )"
      ],
      "execution_count": 3,
      "outputs": [
        {
          "output_type": "stream",
          "text": [
            "True\n",
            "False\n",
            "True\n"
          ],
          "name": "stdout"
        }
      ]
    },
    {
      "cell_type": "code",
      "metadata": {
        "colab": {
          "base_uri": "https://localhost:8080/"
        },
        "id": "lHQnLuPX7knD",
        "outputId": "4825ab03-2e45-4b9d-dae4-c0d1673afc5c"
      },
      "source": [
        "all({})"
      ],
      "execution_count": 6,
      "outputs": [
        {
          "output_type": "execute_result",
          "data": {
            "text/plain": [
              "True"
            ]
          },
          "metadata": {
            "tags": []
          },
          "execution_count": 6
        }
      ]
    },
    {
      "cell_type": "code",
      "metadata": {
        "colab": {
          "base_uri": "https://localhost:8080/"
        },
        "id": "dgqBw7zJ7xqj",
        "outputId": "f8626533-b7e5-4a82-c332-b2f683d1b9e1"
      },
      "source": [
        "all([[]])"
      ],
      "execution_count": 9,
      "outputs": [
        {
          "output_type": "execute_result",
          "data": {
            "text/plain": [
              "False"
            ]
          },
          "metadata": {
            "tags": []
          },
          "execution_count": 9
        }
      ]
    },
    {
      "cell_type": "code",
      "metadata": {
        "colab": {
          "base_uri": "https://localhost:8080/"
        },
        "id": "9Mqx-C4i6f7G",
        "outputId": "cda46094-1105-4196-97af-8f5c27e8fd7a"
      },
      "source": [
        "all([\"\", \"dolu\", 1 ]) "
      ],
      "execution_count": 4,
      "outputs": [
        {
          "output_type": "execute_result",
          "data": {
            "text/plain": [
              "False"
            ]
          },
          "metadata": {
            "tags": []
          },
          "execution_count": 4
        }
      ]
    },
    {
      "cell_type": "code",
      "metadata": {
        "colab": {
          "base_uri": "https://localhost:8080/"
        },
        "id": "K_TW9yv98Yiy",
        "outputId": "bf03ab36-cb72-47ad-9564-a9291df6e561"
      },
      "source": [
        "# any() \n",
        "# all values are true --> True\n",
        "# all values are False --> False\n",
        "# empty iterable --> False\n",
        "names = [\"susan\",\"tom\",\"mike\"]\n",
        "mood  = [None, (), 0 ]\n",
        "empty = {}\n",
        "\n",
        "print(any(names),any(mood),any(empty), sep = \"\\n\" )"
      ],
      "execution_count": 11,
      "outputs": [
        {
          "output_type": "stream",
          "text": [
            "True\n",
            "False\n",
            "False\n"
          ],
          "name": "stdout"
        }
      ]
    },
    {
      "cell_type": "code",
      "metadata": {
        "id": "sMoKC8gN-Nb0"
      },
      "source": [
        ""
      ],
      "execution_count": null,
      "outputs": []
    }
  ]
}