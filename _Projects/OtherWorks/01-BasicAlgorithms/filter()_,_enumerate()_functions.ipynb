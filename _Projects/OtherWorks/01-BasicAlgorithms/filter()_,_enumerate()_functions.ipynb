{
 "cells": [
  {
   "cell_type": "code",
   "execution_count": null,
   "metadata": {
    "id": "UJ2el_Z-_D1d"
   },
   "outputs": [],
   "source": [
    "# filter(function,iterable)"
   ]
  },
  {
   "cell_type": "code",
   "execution_count": 1,
   "metadata": {
    "colab": {
     "base_uri": "https://localhost:8080/"
    },
    "id": "gf3LOkfW_MiT",
    "outputId": "2ff9c40b-ed7c-4ed0-c48f-c17436acd477"
   },
   "outputs": [
    {
     "name": "stdout",
     "output_type": "stream",
     "text": [
      "The filtered elements are :  \n",
      "susan\n",
      "tom\n",
      "0\n"
     ]
    }
   ],
   "source": [
    "listA = [\"susan\", \"tom\",False ,0,\"0\" ]\n",
    "filtered_list = filter(None,listA)\n",
    "print(\"The filtered elements are :  \" )\n",
    "for i in filtered_list:\n",
    "  print(i)"
   ]
  },
  {
   "cell_type": "code",
   "execution_count": 2,
   "metadata": {
    "colab": {
     "base_uri": "https://localhost:8080/"
    },
    "id": "5x0mPyaI_9RO",
    "outputId": "92d907c4-693c-40fa-f0be-3a3734cccc49"
   },
   "outputs": [
    {
     "data": {
      "text/plain": [
       "<filter at 0x7fa1d9760b10>"
      ]
     },
     "execution_count": 2,
     "metadata": {
      "tags": []
     },
     "output_type": "execute_result"
    }
   ],
   "source": [
    "listem = [None,\"0\",\"İstanbul\",()]\n",
    "filtered = filter(None,listem)\n",
    "filtered\n"
   ]
  },
  {
   "cell_type": "code",
   "execution_count": 3,
   "metadata": {
    "colab": {
     "base_uri": "https://localhost:8080/"
    },
    "id": "wGvC8sdFAnBl",
    "outputId": "58b4cc2e-0e7a-46be-a48d-36a0601e1f0c"
   },
   "outputs": [
    {
     "name": "stdout",
     "output_type": "stream",
     "text": [
      "0 İstanbul\n"
     ]
    }
   ],
   "source": [
    "print(*filtered)"
   ]
  },
  {
   "cell_type": "code",
   "execution_count": 5,
   "metadata": {
    "id": "WYKluEGiArN1"
   },
   "outputs": [],
   "source": [
    "for i in filtered:\n",
    "  print(i) "
   ]
  },
  {
   "cell_type": "code",
   "execution_count": null,
   "metadata": {
    "id": "FWa-zSXCA32W"
   },
   "outputs": [],
   "source": []
  },
  {
   "cell_type": "code",
   "execution_count": 6,
   "metadata": {
    "id": "V5j5Jwx9AyGD"
   },
   "outputs": [],
   "source": [
    "# enumarate functions\n",
    "# syntax : enumarate(iterable, start = 0 )"
   ]
  },
  {
   "cell_type": "code",
   "execution_count": 10,
   "metadata": {
    "colab": {
     "base_uri": "https://localhost:8080/"
    },
    "id": "nTOuP7BZBOYo",
    "outputId": "bab66d2c-e886-457e-9130-2f0d8b220ca7"
   },
   "outputs": [
    {
     "name": "stdout",
     "output_type": "stream",
     "text": [
      "<class 'enumerate'>\n",
      "[(0, 'bread'), (1, 'water'), (2, 'olive')]\n",
      "[(10, 'bread'), (11, 'water'), (12, 'olive')]\n"
     ]
    }
   ],
   "source": [
    "grocery = [\"bread\",\"water\",\"olive\"]\n",
    "enum_grocery = enumerate(grocery)\n",
    "print(type(enum_grocery))\n",
    "print(list(enum_grocery))\n",
    "enum_grocery = enumerate(grocery,10) # 10 is parameter.\n",
    "print(list(enum_grocery))"
   ]
  },
  {
   "cell_type": "code",
   "execution_count": null,
   "metadata": {
    "id": "HEl_QaQSBd6Q"
   },
   "outputs": [],
   "source": []
  }
 ],
 "metadata": {
  "colab": {
   "authorship_tag": "ABX9TyMlQi12t12PcVXSUroZ1zRs",
   "name": "filter() , enumerate()",
   "provenance": []
  },
  "kernelspec": {
   "display_name": "Python 3",
   "language": "python",
   "name": "python3"
  },
  "language_info": {
   "codemirror_mode": {
    "name": "ipython",
    "version": 3
   },
   "file_extension": ".py",
   "mimetype": "text/x-python",
   "name": "python",
   "nbconvert_exporter": "python",
   "pygments_lexer": "ipython3",
   "version": "3.8.8"
  }
 },
 "nbformat": 4,
 "nbformat_minor": 1
}
