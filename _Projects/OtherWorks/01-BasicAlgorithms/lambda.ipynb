{
  "nbformat": 4,
  "nbformat_minor": 0,
  "metadata": {
    "colab": {
      "name": "lambda",
      "provenance": [],
      "collapsed_sections": [],
      "authorship_tag": "ABX9TyNNPxM794mXe9mSQnaTYw7I"
    },
    "kernelspec": {
      "name": "python3",
      "display_name": "Python 3"
    },
    "language_info": {
      "name": "python"
    }
  },
  "cells": [
    {
      "cell_type": "code",
      "metadata": {
        "colab": {
          "base_uri": "https://localhost:8080/"
        },
        "id": "C0dPLRc1RvZA",
        "outputId": "ef72453c-7151-44ee-d8a6-58cb6e518d60"
      },
      "source": [
        "def a (x) :\n",
        "  return x**2\n",
        "a(3)"
      ],
      "execution_count": 14,
      "outputs": [
        {
          "output_type": "execute_result",
          "data": {
            "text/plain": [
              "9"
            ]
          },
          "metadata": {
            "tags": []
          },
          "execution_count": 14
        }
      ]
    },
    {
      "cell_type": "code",
      "metadata": {
        "colab": {
          "base_uri": "https://localhost:8080/"
        },
        "id": "j6FTAOaaR1Pe",
        "outputId": "422c1a6f-a250-461e-9c16-4187333f2c3f"
      },
      "source": [
        "lambda x : x**2"
      ],
      "execution_count": 15,
      "outputs": [
        {
          "output_type": "execute_result",
          "data": {
            "text/plain": [
              "<function __main__.<lambda>>"
            ]
          },
          "metadata": {
            "tags": []
          },
          "execution_count": 15
        }
      ]
    },
    {
      "cell_type": "code",
      "metadata": {
        "colab": {
          "base_uri": "https://localhost:8080/"
        },
        "id": "YB1CJAlfmcuc",
        "outputId": "2638d4d2-49ab-4072-da61-78888ce0b8c4"
      },
      "source": [
        "(lambda x: x**2) (2)"
      ],
      "execution_count": 16,
      "outputs": [
        {
          "output_type": "execute_result",
          "data": {
            "text/plain": [
              "4"
            ]
          },
          "metadata": {
            "tags": []
          },
          "execution_count": 16
        }
      ]
    },
    {
      "cell_type": "code",
      "metadata": {
        "colab": {
          "base_uri": "https://localhost:8080/"
        },
        "id": "lzKwZeGhoF7c",
        "outputId": "0090735e-a786-4b91-e60d-bc5065c40ac3"
      },
      "source": [
        "print((lambda x, y: (x+y)/2)(3, 5))  "
      ],
      "execution_count": 21,
      "outputs": [
        {
          "output_type": "stream",
          "text": [
            "4.0\n"
          ],
          "name": "stdout"
        }
      ]
    },
    {
      "cell_type": "code",
      "metadata": {
        "colab": {
          "base_uri": "https://localhost:8080/"
        },
        "id": "39R9sv_Aoa9P",
        "outputId": "f34c14f9-9bb2-4efe-d11a-c6107333ee54"
      },
      "source": [
        "average = lambda x, y: (x+y)/2\n",
        "print(average(3, 5))  # we call"
      ],
      "execution_count": 22,
      "outputs": [
        {
          "output_type": "stream",
          "text": [
            "4.0\n"
          ],
          "name": "stdout"
        }
      ]
    },
    {
      "cell_type": "code",
      "metadata": {
        "colab": {
          "base_uri": "https://localhost:8080/"
        },
        "id": "5JjXUHwnpOTw",
        "outputId": "ca85f749-6ae5-46fd-8f23-5ff5c08fc600"
      },
      "source": [
        "echo_word = lambda x , hello :  x*hello\n",
        "print(echo_word('hello', 3))"
      ],
      "execution_count": 66,
      "outputs": [
        {
          "output_type": "stream",
          "text": [
            "hellohellohello\n"
          ],
          "name": "stdout"
        }
      ]
    },
    {
      "cell_type": "code",
      "metadata": {
        "colab": {
          "base_uri": "https://localhost:8080/"
        },
        "id": "xf8HK42exts6",
        "outputId": "20168c59-f50c-42e2-b3f6-affc3ce1eaf9"
      },
      "source": [
        "print((lambda x: x**3)(5))"
      ],
      "execution_count": 67,
      "outputs": [
        {
          "output_type": "stream",
          "text": [
            "125\n"
          ],
          "name": "stdout"
        }
      ]
    },
    {
      "cell_type": "code",
      "metadata": {
        "colab": {
          "base_uri": "https://localhost:8080/"
        },
        "id": "pl8ZlY3Qzj_6",
        "outputId": "08c3edb9-2ccd-44fd-bc4b-1925a0adda66"
      },
      "source": [
        "iterable = [1, 2, 3, 4, 5]\n",
        "iterablec = [2,3,85,9]\n",
        "\n",
        "print(list(map(lambda x:x**2, iterablec)))\n"
      ],
      "execution_count": 79,
      "outputs": [
        {
          "output_type": "stream",
          "text": [
            "[4, 9, 7225, 81]\n"
          ],
          "name": "stdout"
        }
      ]
    },
    {
      "cell_type": "code",
      "metadata": {
        "colab": {
          "base_uri": "https://localhost:8080/"
        },
        "id": "XJINAt3qpQZv",
        "outputId": "0ea3e689-827c-4c2f-95f5-97c1f479f2bd"
      },
      "source": [
        "average = (lambda x: (  x+3 ))(2)\n",
        "print(average)"
      ],
      "execution_count": 41,
      "outputs": [
        {
          "output_type": "stream",
          "text": [
            "5\n"
          ],
          "name": "stdout"
        }
      ]
    },
    {
      "cell_type": "code",
      "metadata": {
        "colab": {
          "base_uri": "https://localhost:8080/"
        },
        "id": "lLfJNW6b5Mrm",
        "outputId": "75f23fc5-7e45-4610-bae1-3dc165351634"
      },
      "source": [
        "letter1 = ['o', 's', 't', 't']\n",
        "letter2 = ['n', 'i', 'e', 'w']\n",
        "letter3 = ['e', 'x', 'n', 'o']\n",
        "numbers = map(lambda x, y, z: x+y+z, letter1, letter2, letter3)\n",
        "\n",
        "print(list(numbers))"
      ],
      "execution_count": 83,
      "outputs": [
        {
          "output_type": "stream",
          "text": [
            "['one', 'six', 'ten', 'two']\n"
          ],
          "name": "stdout"
        }
      ]
    },
    {
      "cell_type": "code",
      "metadata": {
        "colab": {
          "base_uri": "https://localhost:8080/"
        },
        "id": "1oGvmpLR7z10",
        "outputId": "6bbefc8e-116a-4b75-cb31-62604afba59d"
      },
      "source": [
        "number_list = [1, 2, 3, 4, 5]\n",
        "\n",
        "result = list(map(lambda x : x*3, number_list))\n",
        "print(result)"
      ],
      "execution_count": 89,
      "outputs": [
        {
          "output_type": "stream",
          "text": [
            "[3, 6, 9, 12, 15]\n"
          ],
          "name": "stdout"
        }
      ]
    },
    {
      "cell_type": "code",
      "metadata": {
        "colab": {
          "base_uri": "https://localhost:8080/"
        },
        "id": "P41b7tpXyR8G",
        "outputId": "78dd396b-ba74-41e1-c8b9-f8dfb086261a"
      },
      "source": [
        "iterable = [1, 2, 3, 4, 5]\n",
        "map(lambda x:x**2, iterable)\n",
        "result = map(lambda x:x**2, iterable)\n",
        "print(type(result))  # it's a map type\n",
        "\n",
        "print(list(result))  # we've converted it to list type to print\n",
        "\n",
        "print(list(map(lambda x:x**2, iterable)))  # you can print directly"
      ],
      "execution_count": 72,
      "outputs": [
        {
          "output_type": "stream",
          "text": [
            "<class 'map'>\n",
            "[1, 4, 9, 16, 25]\n",
            "[1, 4, 9, 16, 25]\n"
          ],
          "name": "stdout"
        }
      ]
    }
  ]
}