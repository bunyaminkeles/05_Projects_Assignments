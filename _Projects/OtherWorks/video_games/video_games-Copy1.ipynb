{
 "cells": [
  {
   "cell_type": "code",
   "execution_count": 2,
   "id": "930aa812",
   "metadata": {},
   "outputs": [],
   "source": [
    "import pandas as pd\n",
    "import numpy as np\n",
    "\n",
    "\n",
    "import plotly \n",
    "import plotly.express as px\n",
    "import plotly.graph_objs as go\n",
    "import plotly.offline as py\n",
    "from plotly.offline import iplot\n",
    "from plotly.subplots import make_subplots\n",
    "import plotly.figure_factory as ff\n",
    "\n",
    "import seaborn as sns\n",
    "import matplotlib.pyplot as plt"
   ]
  },
  {
   "cell_type": "code",
   "execution_count": 3,
   "id": "c64b851d",
   "metadata": {},
   "outputs": [],
   "source": [
    "df = pd.read_csv(\"android-games.csv\")"
   ]
  },
  {
   "cell_type": "code",
   "execution_count": 4,
   "id": "a04e70b1",
   "metadata": {},
   "outputs": [
    {
     "data": {
      "text/html": [
       "<div>\n",
       "<style scoped>\n",
       "    .dataframe tbody tr th:only-of-type {\n",
       "        vertical-align: middle;\n",
       "    }\n",
       "\n",
       "    .dataframe tbody tr th {\n",
       "        vertical-align: top;\n",
       "    }\n",
       "\n",
       "    .dataframe thead th {\n",
       "        text-align: right;\n",
       "    }\n",
       "</style>\n",
       "<table border=\"1\" class=\"dataframe\">\n",
       "  <thead>\n",
       "    <tr style=\"text-align: right;\">\n",
       "      <th></th>\n",
       "      <th>rank</th>\n",
       "      <th>title</th>\n",
       "      <th>total ratings</th>\n",
       "      <th>installs</th>\n",
       "      <th>average rating</th>\n",
       "      <th>growth (30 days)</th>\n",
       "      <th>growth (60 days)</th>\n",
       "      <th>price</th>\n",
       "      <th>category</th>\n",
       "      <th>5 star ratings</th>\n",
       "      <th>4 star ratings</th>\n",
       "      <th>3 star ratings</th>\n",
       "      <th>2 star ratings</th>\n",
       "      <th>1 star ratings</th>\n",
       "      <th>paid</th>\n",
       "    </tr>\n",
       "  </thead>\n",
       "  <tbody>\n",
       "    <tr>\n",
       "      <th>0</th>\n",
       "      <td>1</td>\n",
       "      <td>Garena Free Fire- World Series</td>\n",
       "      <td>86273129</td>\n",
       "      <td>500.0 M</td>\n",
       "      <td>4</td>\n",
       "      <td>2.1</td>\n",
       "      <td>6.9</td>\n",
       "      <td>0.0</td>\n",
       "      <td>GAME ACTION</td>\n",
       "      <td>63546766</td>\n",
       "      <td>4949507</td>\n",
       "      <td>3158756</td>\n",
       "      <td>2122183</td>\n",
       "      <td>12495915</td>\n",
       "      <td>False</td>\n",
       "    </tr>\n",
       "    <tr>\n",
       "      <th>1</th>\n",
       "      <td>2</td>\n",
       "      <td>PUBG MOBILE - Traverse</td>\n",
       "      <td>37276732</td>\n",
       "      <td>500.0 M</td>\n",
       "      <td>4</td>\n",
       "      <td>1.8</td>\n",
       "      <td>3.6</td>\n",
       "      <td>0.0</td>\n",
       "      <td>GAME ACTION</td>\n",
       "      <td>28339753</td>\n",
       "      <td>2164478</td>\n",
       "      <td>1253185</td>\n",
       "      <td>809821</td>\n",
       "      <td>4709492</td>\n",
       "      <td>False</td>\n",
       "    </tr>\n",
       "    <tr>\n",
       "      <th>2</th>\n",
       "      <td>3</td>\n",
       "      <td>Mobile Legends: Bang Bang</td>\n",
       "      <td>26663595</td>\n",
       "      <td>100.0 M</td>\n",
       "      <td>4</td>\n",
       "      <td>1.5</td>\n",
       "      <td>3.2</td>\n",
       "      <td>0.0</td>\n",
       "      <td>GAME ACTION</td>\n",
       "      <td>18777988</td>\n",
       "      <td>1812094</td>\n",
       "      <td>1050600</td>\n",
       "      <td>713912</td>\n",
       "      <td>4308998</td>\n",
       "      <td>False</td>\n",
       "    </tr>\n",
       "    <tr>\n",
       "      <th>3</th>\n",
       "      <td>4</td>\n",
       "      <td>Brawl Stars</td>\n",
       "      <td>17971552</td>\n",
       "      <td>100.0 M</td>\n",
       "      <td>4</td>\n",
       "      <td>1.4</td>\n",
       "      <td>4.4</td>\n",
       "      <td>0.0</td>\n",
       "      <td>GAME ACTION</td>\n",
       "      <td>13018610</td>\n",
       "      <td>1552950</td>\n",
       "      <td>774012</td>\n",
       "      <td>406184</td>\n",
       "      <td>2219794</td>\n",
       "      <td>False</td>\n",
       "    </tr>\n",
       "    <tr>\n",
       "      <th>4</th>\n",
       "      <td>5</td>\n",
       "      <td>Sniper 3D: Fun Free Online FPS Shooting Game</td>\n",
       "      <td>14464235</td>\n",
       "      <td>500.0 M</td>\n",
       "      <td>4</td>\n",
       "      <td>0.8</td>\n",
       "      <td>1.5</td>\n",
       "      <td>0.0</td>\n",
       "      <td>GAME ACTION</td>\n",
       "      <td>9827328</td>\n",
       "      <td>2124154</td>\n",
       "      <td>1047741</td>\n",
       "      <td>380670</td>\n",
       "      <td>1084340</td>\n",
       "      <td>False</td>\n",
       "    </tr>\n",
       "  </tbody>\n",
       "</table>\n",
       "</div>"
      ],
      "text/plain": [
       "   rank                                         title  total ratings installs  \\\n",
       "0     1                Garena Free Fire- World Series       86273129  500.0 M   \n",
       "1     2                        PUBG MOBILE - Traverse       37276732  500.0 M   \n",
       "2     3                     Mobile Legends: Bang Bang       26663595  100.0 M   \n",
       "3     4                                   Brawl Stars       17971552  100.0 M   \n",
       "4     5  Sniper 3D: Fun Free Online FPS Shooting Game       14464235  500.0 M   \n",
       "\n",
       "   average rating  growth (30 days)  growth (60 days)  price     category  \\\n",
       "0               4               2.1               6.9    0.0  GAME ACTION   \n",
       "1               4               1.8               3.6    0.0  GAME ACTION   \n",
       "2               4               1.5               3.2    0.0  GAME ACTION   \n",
       "3               4               1.4               4.4    0.0  GAME ACTION   \n",
       "4               4               0.8               1.5    0.0  GAME ACTION   \n",
       "\n",
       "   5 star ratings  4 star ratings  3 star ratings  2 star ratings  \\\n",
       "0        63546766         4949507         3158756         2122183   \n",
       "1        28339753         2164478         1253185          809821   \n",
       "2        18777988         1812094         1050600          713912   \n",
       "3        13018610         1552950          774012          406184   \n",
       "4         9827328         2124154         1047741          380670   \n",
       "\n",
       "   1 star ratings   paid  \n",
       "0        12495915  False  \n",
       "1         4709492  False  \n",
       "2         4308998  False  \n",
       "3         2219794  False  \n",
       "4         1084340  False  "
      ]
     },
     "execution_count": 4,
     "metadata": {},
     "output_type": "execute_result"
    }
   ],
   "source": [
    "df.head()"
   ]
  },
  {
   "cell_type": "code",
   "execution_count": 5,
   "id": "9596e8ee",
   "metadata": {},
   "outputs": [
    {
     "data": {
      "text/plain": [
       "(1730, 15)"
      ]
     },
     "execution_count": 5,
     "metadata": {},
     "output_type": "execute_result"
    }
   ],
   "source": [
    "df.shape"
   ]
  },
  {
   "cell_type": "code",
   "execution_count": 6,
   "id": "dcc5f5e8",
   "metadata": {},
   "outputs": [
    {
     "data": {
      "text/plain": [
       "rank                0\n",
       "title               0\n",
       "total ratings       0\n",
       "installs            0\n",
       "average rating      0\n",
       "growth (30 days)    0\n",
       "growth (60 days)    0\n",
       "price               0\n",
       "category            0\n",
       "5 star ratings      0\n",
       "4 star ratings      0\n",
       "3 star ratings      0\n",
       "2 star ratings      0\n",
       "1 star ratings      0\n",
       "paid                0\n",
       "dtype: int64"
      ]
     },
     "execution_count": 6,
     "metadata": {},
     "output_type": "execute_result"
    }
   ],
   "source": [
    "df.isnull().sum()"
   ]
  },
  {
   "cell_type": "code",
   "execution_count": 7,
   "id": "8ab6a5fb",
   "metadata": {},
   "outputs": [
    {
     "name": "stdout",
     "output_type": "stream",
     "text": [
      "<class 'pandas.core.frame.DataFrame'>\n",
      "RangeIndex: 1730 entries, 0 to 1729\n",
      "Data columns (total 15 columns):\n",
      " #   Column            Non-Null Count  Dtype  \n",
      "---  ------            --------------  -----  \n",
      " 0   rank              1730 non-null   int64  \n",
      " 1   title             1730 non-null   object \n",
      " 2   total ratings     1730 non-null   int64  \n",
      " 3   installs          1730 non-null   object \n",
      " 4   average rating    1730 non-null   int64  \n",
      " 5   growth (30 days)  1730 non-null   float64\n",
      " 6   growth (60 days)  1730 non-null   float64\n",
      " 7   price             1730 non-null   float64\n",
      " 8   category          1730 non-null   object \n",
      " 9   5 star ratings    1730 non-null   int64  \n",
      " 10  4 star ratings    1730 non-null   int64  \n",
      " 11  3 star ratings    1730 non-null   int64  \n",
      " 12  2 star ratings    1730 non-null   int64  \n",
      " 13  1 star ratings    1730 non-null   int64  \n",
      " 14  paid              1730 non-null   bool   \n",
      "dtypes: bool(1), float64(3), int64(8), object(3)\n",
      "memory usage: 191.0+ KB\n"
     ]
    }
   ],
   "source": [
    "df.info()"
   ]
  },
  {
   "cell_type": "code",
   "execution_count": 8,
   "id": "1d55141e",
   "metadata": {},
   "outputs": [
    {
     "data": {
      "text/html": [
       "<div>\n",
       "<style scoped>\n",
       "    .dataframe tbody tr th:only-of-type {\n",
       "        vertical-align: middle;\n",
       "    }\n",
       "\n",
       "    .dataframe tbody tr th {\n",
       "        vertical-align: top;\n",
       "    }\n",
       "\n",
       "    .dataframe thead th {\n",
       "        text-align: right;\n",
       "    }\n",
       "</style>\n",
       "<table border=\"1\" class=\"dataframe\">\n",
       "  <thead>\n",
       "    <tr style=\"text-align: right;\">\n",
       "      <th></th>\n",
       "      <th>rank</th>\n",
       "      <th>total ratings</th>\n",
       "      <th>average rating</th>\n",
       "      <th>growth (30 days)</th>\n",
       "      <th>growth (60 days)</th>\n",
       "      <th>price</th>\n",
       "      <th>5 star ratings</th>\n",
       "      <th>4 star ratings</th>\n",
       "      <th>3 star ratings</th>\n",
       "      <th>2 star ratings</th>\n",
       "      <th>1 star ratings</th>\n",
       "    </tr>\n",
       "  </thead>\n",
       "  <tbody>\n",
       "    <tr>\n",
       "      <th>count</th>\n",
       "      <td>1730.000000</td>\n",
       "      <td>1.730000e+03</td>\n",
       "      <td>1730.000000</td>\n",
       "      <td>1730.000000</td>\n",
       "      <td>1730.000000</td>\n",
       "      <td>1730.000000</td>\n",
       "      <td>1.730000e+03</td>\n",
       "      <td>1.730000e+03</td>\n",
       "      <td>1.730000e+03</td>\n",
       "      <td>1.730000e+03</td>\n",
       "      <td>1.730000e+03</td>\n",
       "    </tr>\n",
       "    <tr>\n",
       "      <th>mean</th>\n",
       "      <td>50.386705</td>\n",
       "      <td>1.064332e+06</td>\n",
       "      <td>3.908092</td>\n",
       "      <td>321.735896</td>\n",
       "      <td>122.554971</td>\n",
       "      <td>0.010942</td>\n",
       "      <td>7.622315e+05</td>\n",
       "      <td>1.164366e+05</td>\n",
       "      <td>5.706307e+04</td>\n",
       "      <td>2.710336e+04</td>\n",
       "      <td>1.014950e+05</td>\n",
       "    </tr>\n",
       "    <tr>\n",
       "      <th>std</th>\n",
       "      <td>28.936742</td>\n",
       "      <td>3.429250e+06</td>\n",
       "      <td>0.290973</td>\n",
       "      <td>6018.914507</td>\n",
       "      <td>2253.891703</td>\n",
       "      <td>0.214987</td>\n",
       "      <td>2.538658e+06</td>\n",
       "      <td>3.021631e+05</td>\n",
       "      <td>1.495314e+05</td>\n",
       "      <td>8.154542e+04</td>\n",
       "      <td>4.083745e+05</td>\n",
       "    </tr>\n",
       "    <tr>\n",
       "      <th>min</th>\n",
       "      <td>1.000000</td>\n",
       "      <td>3.299300e+04</td>\n",
       "      <td>2.000000</td>\n",
       "      <td>0.000000</td>\n",
       "      <td>0.000000</td>\n",
       "      <td>0.000000</td>\n",
       "      <td>1.397500e+04</td>\n",
       "      <td>2.451000e+03</td>\n",
       "      <td>7.180000e+02</td>\n",
       "      <td>2.660000e+02</td>\n",
       "      <td>5.450000e+02</td>\n",
       "    </tr>\n",
       "    <tr>\n",
       "      <th>25%</th>\n",
       "      <td>25.000000</td>\n",
       "      <td>1.759992e+05</td>\n",
       "      <td>4.000000</td>\n",
       "      <td>0.100000</td>\n",
       "      <td>0.200000</td>\n",
       "      <td>0.000000</td>\n",
       "      <td>1.277300e+05</td>\n",
       "      <td>2.064300e+04</td>\n",
       "      <td>9.652500e+03</td>\n",
       "      <td>4.262250e+03</td>\n",
       "      <td>1.281200e+04</td>\n",
       "    </tr>\n",
       "    <tr>\n",
       "      <th>50%</th>\n",
       "      <td>50.000000</td>\n",
       "      <td>4.286065e+05</td>\n",
       "      <td>4.000000</td>\n",
       "      <td>0.500000</td>\n",
       "      <td>1.000000</td>\n",
       "      <td>0.000000</td>\n",
       "      <td>2.964340e+05</td>\n",
       "      <td>5.098050e+04</td>\n",
       "      <td>2.507800e+04</td>\n",
       "      <td>1.067550e+04</td>\n",
       "      <td>3.368600e+04</td>\n",
       "    </tr>\n",
       "    <tr>\n",
       "      <th>75%</th>\n",
       "      <td>75.000000</td>\n",
       "      <td>8.837970e+05</td>\n",
       "      <td>4.000000</td>\n",
       "      <td>1.700000</td>\n",
       "      <td>3.300000</td>\n",
       "      <td>0.000000</td>\n",
       "      <td>6.198358e+05</td>\n",
       "      <td>1.018140e+05</td>\n",
       "      <td>5.229500e+04</td>\n",
       "      <td>2.322875e+04</td>\n",
       "      <td>8.015725e+04</td>\n",
       "    </tr>\n",
       "    <tr>\n",
       "      <th>max</th>\n",
       "      <td>100.000000</td>\n",
       "      <td>8.627313e+07</td>\n",
       "      <td>4.000000</td>\n",
       "      <td>227105.700000</td>\n",
       "      <td>69441.400000</td>\n",
       "      <td>7.490000</td>\n",
       "      <td>6.354677e+07</td>\n",
       "      <td>5.404966e+06</td>\n",
       "      <td>3.158756e+06</td>\n",
       "      <td>2.122183e+06</td>\n",
       "      <td>1.249592e+07</td>\n",
       "    </tr>\n",
       "  </tbody>\n",
       "</table>\n",
       "</div>"
      ],
      "text/plain": [
       "              rank  total ratings  average rating  growth (30 days)  \\\n",
       "count  1730.000000   1.730000e+03     1730.000000       1730.000000   \n",
       "mean     50.386705   1.064332e+06        3.908092        321.735896   \n",
       "std      28.936742   3.429250e+06        0.290973       6018.914507   \n",
       "min       1.000000   3.299300e+04        2.000000          0.000000   \n",
       "25%      25.000000   1.759992e+05        4.000000          0.100000   \n",
       "50%      50.000000   4.286065e+05        4.000000          0.500000   \n",
       "75%      75.000000   8.837970e+05        4.000000          1.700000   \n",
       "max     100.000000   8.627313e+07        4.000000     227105.700000   \n",
       "\n",
       "       growth (60 days)        price  5 star ratings  4 star ratings  \\\n",
       "count       1730.000000  1730.000000    1.730000e+03    1.730000e+03   \n",
       "mean         122.554971     0.010942    7.622315e+05    1.164366e+05   \n",
       "std         2253.891703     0.214987    2.538658e+06    3.021631e+05   \n",
       "min            0.000000     0.000000    1.397500e+04    2.451000e+03   \n",
       "25%            0.200000     0.000000    1.277300e+05    2.064300e+04   \n",
       "50%            1.000000     0.000000    2.964340e+05    5.098050e+04   \n",
       "75%            3.300000     0.000000    6.198358e+05    1.018140e+05   \n",
       "max        69441.400000     7.490000    6.354677e+07    5.404966e+06   \n",
       "\n",
       "       3 star ratings  2 star ratings  1 star ratings  \n",
       "count    1.730000e+03    1.730000e+03    1.730000e+03  \n",
       "mean     5.706307e+04    2.710336e+04    1.014950e+05  \n",
       "std      1.495314e+05    8.154542e+04    4.083745e+05  \n",
       "min      7.180000e+02    2.660000e+02    5.450000e+02  \n",
       "25%      9.652500e+03    4.262250e+03    1.281200e+04  \n",
       "50%      2.507800e+04    1.067550e+04    3.368600e+04  \n",
       "75%      5.229500e+04    2.322875e+04    8.015725e+04  \n",
       "max      3.158756e+06    2.122183e+06    1.249592e+07  "
      ]
     },
     "execution_count": 8,
     "metadata": {},
     "output_type": "execute_result"
    }
   ],
   "source": [
    "df.describe()"
   ]
  },
  {
   "cell_type": "code",
   "execution_count": 9,
   "id": "11ccf598",
   "metadata": {},
   "outputs": [
    {
     "data": {
      "text/plain": [
       "10.0 M      805\n",
       "50.0 M      252\n",
       "5.0 M       245\n",
       "100.0 M     204\n",
       "1.0 M       192\n",
       "500.0 k      15\n",
       "500.0 M      12\n",
       "100.0 k       3\n",
       "1000.0 M      2\n",
       "Name: installs, dtype: int64"
      ]
     },
     "execution_count": 9,
     "metadata": {},
     "output_type": "execute_result"
    }
   ],
   "source": [
    "df.installs.value_counts()"
   ]
  },
  {
   "cell_type": "code",
   "execution_count": 10,
   "id": "e3ff9285",
   "metadata": {},
   "outputs": [],
   "source": [
    "def in_thousand (inst) :\n",
    "    if inst == \"500.0 k\" :\n",
    "        return \"0.5 M\"\n",
    "    elif inst == \"100.0 k\" :\n",
    "        return \"0.1 M\"\n",
    "    else :\n",
    "        return inst"
   ]
  },
  {
   "cell_type": "code",
   "execution_count": 11,
   "id": "599d9f43",
   "metadata": {},
   "outputs": [],
   "source": [
    "df['installs']= df['installs'].apply(in_thousand)"
   ]
  },
  {
   "cell_type": "code",
   "execution_count": 12,
   "id": "5e64a56b",
   "metadata": {},
   "outputs": [],
   "source": [
    "df['installs']= df['installs'].str.replace( 'M', '').str.strip().astype('float')"
   ]
  },
  {
   "cell_type": "code",
   "execution_count": 13,
   "id": "2eb20571",
   "metadata": {},
   "outputs": [
    {
     "data": {
      "text/plain": [
       "10.0      805\n",
       "50.0      252\n",
       "5.0       245\n",
       "100.0     204\n",
       "1.0       192\n",
       "0.5        15\n",
       "500.0      12\n",
       "0.1         3\n",
       "1000.0      2\n",
       "Name: installs, dtype: int64"
      ]
     },
     "execution_count": 13,
     "metadata": {},
     "output_type": "execute_result"
    }
   ],
   "source": [
    "df.installs.value_counts()"
   ]
  },
  {
   "cell_type": "code",
   "execution_count": 14,
   "id": "b62da0c9",
   "metadata": {},
   "outputs": [],
   "source": [
    "df = df.rename(columns = {\"installs\": \"in_million_install\"})"
   ]
  },
  {
   "cell_type": "code",
   "execution_count": 15,
   "id": "12ddac08",
   "metadata": {},
   "outputs": [
    {
     "name": "stdout",
     "output_type": "stream",
     "text": [
      "<class 'pandas.core.frame.DataFrame'>\n",
      "RangeIndex: 1730 entries, 0 to 1729\n",
      "Data columns (total 15 columns):\n",
      " #   Column              Non-Null Count  Dtype  \n",
      "---  ------              --------------  -----  \n",
      " 0   rank                1730 non-null   int64  \n",
      " 1   title               1730 non-null   object \n",
      " 2   total ratings       1730 non-null   int64  \n",
      " 3   in_million_install  1730 non-null   float64\n",
      " 4   average rating      1730 non-null   int64  \n",
      " 5   growth (30 days)    1730 non-null   float64\n",
      " 6   growth (60 days)    1730 non-null   float64\n",
      " 7   price               1730 non-null   float64\n",
      " 8   category            1730 non-null   object \n",
      " 9   5 star ratings      1730 non-null   int64  \n",
      " 10  4 star ratings      1730 non-null   int64  \n",
      " 11  3 star ratings      1730 non-null   int64  \n",
      " 12  2 star ratings      1730 non-null   int64  \n",
      " 13  1 star ratings      1730 non-null   int64  \n",
      " 14  paid                1730 non-null   bool   \n",
      "dtypes: bool(1), float64(4), int64(8), object(2)\n",
      "memory usage: 191.0+ KB\n"
     ]
    }
   ],
   "source": [
    "df.info()"
   ]
  },
  {
   "cell_type": "code",
   "execution_count": 16,
   "id": "88e0d456",
   "metadata": {},
   "outputs": [
    {
     "data": {
      "text/plain": [
       "Index(['rank', 'title', 'total ratings', 'in_million_install',\n",
       "       'average rating', 'growth (30 days)', 'growth (60 days)', 'price',\n",
       "       'category', '5 star ratings', '4 star ratings', '3 star ratings',\n",
       "       '2 star ratings', '1 star ratings', 'paid'],\n",
       "      dtype='object')"
      ]
     },
     "execution_count": 16,
     "metadata": {},
     "output_type": "execute_result"
    }
   ],
   "source": [
    "df.columns"
   ]
  },
  {
   "cell_type": "code",
   "execution_count": 17,
   "id": "223ad5f7",
   "metadata": {},
   "outputs": [
    {
     "data": {
      "text/plain": [
       "10.0      805\n",
       "50.0      252\n",
       "5.0       245\n",
       "100.0     204\n",
       "1.0       192\n",
       "0.5        15\n",
       "500.0      12\n",
       "0.1         3\n",
       "1000.0      2\n",
       "Name: in_million_install, dtype: int64"
      ]
     },
     "execution_count": 17,
     "metadata": {},
     "output_type": "execute_result"
    }
   ],
   "source": [
    "df.in_million_install.value_counts()"
   ]
  },
  {
   "cell_type": "code",
   "execution_count": 18,
   "id": "c6c34e20",
   "metadata": {},
   "outputs": [
    {
     "data": {
      "text/plain": [
       "0.00    1723\n",
       "1.99       3\n",
       "1.49       1\n",
       "0.99       1\n",
       "2.99       1\n",
       "7.49       1\n",
       "Name: price, dtype: int64"
      ]
     },
     "execution_count": 18,
     "metadata": {},
     "output_type": "execute_result"
    }
   ],
   "source": [
    "df.price.value_counts()"
   ]
  },
  {
   "cell_type": "code",
   "execution_count": 19,
   "id": "c80229be",
   "metadata": {},
   "outputs": [
    {
     "data": {
      "text/plain": [
       "False    1723\n",
       "True        7\n",
       "Name: paid, dtype: int64"
      ]
     },
     "execution_count": 19,
     "metadata": {},
     "output_type": "execute_result"
    }
   ],
   "source": [
    "df.paid.value_counts()"
   ]
  },
  {
   "cell_type": "code",
   "execution_count": 20,
   "id": "ac5e8fab",
   "metadata": {},
   "outputs": [],
   "source": [
    "df = df.drop(\"price\", axis = 1)"
   ]
  },
  {
   "cell_type": "code",
   "execution_count": 21,
   "id": "a842019b",
   "metadata": {},
   "outputs": [
    {
     "name": "stdout",
     "output_type": "stream",
     "text": [
      "<class 'pandas.core.frame.DataFrame'>\n",
      "RangeIndex: 1730 entries, 0 to 1729\n",
      "Data columns (total 14 columns):\n",
      " #   Column              Non-Null Count  Dtype  \n",
      "---  ------              --------------  -----  \n",
      " 0   rank                1730 non-null   int64  \n",
      " 1   title               1730 non-null   object \n",
      " 2   total ratings       1730 non-null   int64  \n",
      " 3   in_million_install  1730 non-null   float64\n",
      " 4   average rating      1730 non-null   int64  \n",
      " 5   growth (30 days)    1730 non-null   float64\n",
      " 6   growth (60 days)    1730 non-null   float64\n",
      " 7   category            1730 non-null   object \n",
      " 8   5 star ratings      1730 non-null   int64  \n",
      " 9   4 star ratings      1730 non-null   int64  \n",
      " 10  3 star ratings      1730 non-null   int64  \n",
      " 11  2 star ratings      1730 non-null   int64  \n",
      " 12  1 star ratings      1730 non-null   int64  \n",
      " 13  paid                1730 non-null   bool   \n",
      "dtypes: bool(1), float64(3), int64(8), object(2)\n",
      "memory usage: 177.5+ KB\n"
     ]
    }
   ],
   "source": [
    "df.info()"
   ]
  },
  {
   "cell_type": "markdown",
   "id": "cf8c4bec",
   "metadata": {},
   "source": [
    "# Analysis"
   ]
  },
  {
   "cell_type": "code",
   "execution_count": 33,
   "id": "baf4023a",
   "metadata": {},
   "outputs": [
    {
     "data": {
      "text/plain": [
       "GAME CARD            126\n",
       "GAME WORD            104\n",
       "GAME RACING          100\n",
       "GAME STRATEGY        100\n",
       "GAME MUSIC           100\n",
       "GAME SPORTS          100\n",
       "GAME CASINO          100\n",
       "GAME ROLE PLAYING    100\n",
       "GAME CASUAL          100\n",
       "GAME SIMULATION      100\n",
       "GAME ARCADE          100\n",
       "GAME ACTION          100\n",
       "GAME PUZZLE          100\n",
       "GAME EDUCATIONAL     100\n",
       "GAME ADVENTURE       100\n",
       "GAME BOARD           100\n",
       "GAME TRIVIA          100\n",
       "Name: category, dtype: int64"
      ]
     },
     "execution_count": 33,
     "metadata": {},
     "output_type": "execute_result"
    }
   ],
   "source": [
    "df[\"category\"].value_counts()"
   ]
  },
  {
   "cell_type": "code",
   "execution_count": 31,
   "id": "79cbae32",
   "metadata": {},
   "outputs": [
    {
     "data": {
      "text/plain": [
       "GAME CARD            0.072832\n",
       "GAME WORD            0.060116\n",
       "GAME RACING          0.057803\n",
       "GAME STRATEGY        0.057803\n",
       "GAME MUSIC           0.057803\n",
       "GAME SPORTS          0.057803\n",
       "GAME CASINO          0.057803\n",
       "GAME ROLE PLAYING    0.057803\n",
       "GAME CASUAL          0.057803\n",
       "GAME SIMULATION      0.057803\n",
       "GAME ARCADE          0.057803\n",
       "GAME ACTION          0.057803\n",
       "GAME PUZZLE          0.057803\n",
       "GAME EDUCATIONAL     0.057803\n",
       "GAME ADVENTURE       0.057803\n",
       "GAME BOARD           0.057803\n",
       "GAME TRIVIA          0.057803\n",
       "Name: category, dtype: float64"
      ]
     },
     "execution_count": 31,
     "metadata": {},
     "output_type": "execute_result"
    }
   ],
   "source": [
    "df.category.value_counts(normalize=True)"
   ]
  },
  {
   "cell_type": "code",
   "execution_count": 25,
   "id": "2f850546",
   "metadata": {},
   "outputs": [
    {
     "data": {
      "image/png": "[encoded data removed]",
      "text/plain": [
       "<Figure size 1080x360 with 1 Axes>"
      ]
     },
     "metadata": {
      "needs_background": "light"
     },
     "output_type": "display_data"
    }
   ],
   "source": [
    "plt.figure(figsize=(15,5))\n",
    "\n",
    "plt.title(\"Game Categories\")\n",
    "\n",
    "sns.countplot(x = \"category\", data = df)\n",
    "plt.xticks(rotation = 90);"
   ]
  },
  {
   "cell_type": "markdown",
   "id": "22844b5c",
   "metadata": {},
   "source": [
    "# Total Ratings"
   ]
  },
  {
   "cell_type": "code",
   "execution_count": null,
   "id": "80bcd34c",
   "metadata": {},
   "outputs": [],
   "source": [
    "# kaan hocanın\n",
    "# fig = px.histogram(df, x=\"category\", title='Game Categories')\n",
    "# fig.update_layout(xaxis={'categoryorder':'total descending'}) \n",
    "# fig.show()"
   ]
  },
  {
   "cell_type": "code",
   "execution_count": 26,
   "id": "de854694",
   "metadata": {},
   "outputs": [
    {
     "data": {
      "text/plain": [
       "count    1.730000e+03\n",
       "mean     1.064332e+06\n",
       "std      3.429250e+06\n",
       "min      3.299300e+04\n",
       "25%      1.759992e+05\n",
       "50%      4.286065e+05\n",
       "75%      8.837970e+05\n",
       "max      8.627313e+07\n",
       "Name: total ratings, dtype: float64"
      ]
     },
     "execution_count": 26,
     "metadata": {},
     "output_type": "execute_result"
    }
   ],
   "source": [
    "df[\"total ratings\"].describe()"
   ]
  },
  {
   "cell_type": "code",
   "execution_count": 39,
   "id": "9f8b6230",
   "metadata": {},
   "outputs": [
    {
     "data": {
      "image/png": "[encoded data removed]",
      "text/plain": [
       "<Figure size 1080x360 with 1 Axes>"
      ]
     },
     "metadata": {
      "needs_background": "light"
     },
     "output_type": "display_data"
    }
   ],
   "source": [
    "plt.figure(figsize=(15,5))\n",
    "plt.title(\"Game's Total Ratings\")\n",
    "sns.histplot(data=df, x =\"total ratings\");"
   ]
  },
  {
   "cell_type": "code",
   "execution_count": 30,
   "id": "bc8998fd",
   "metadata": {},
   "outputs": [],
   "source": [
    "# Kaan hocanın \n",
    "\n",
    "# fig1 = px.box(df, \"total ratings\", title=\" Games Total Ratings\")\n",
    "\n",
    "# fig1.show()\n"
   ]
  },
  {
   "cell_type": "code",
   "execution_count": 40,
   "id": "0bbec5d7",
   "metadata": {},
   "outputs": [
    {
     "data": {
      "image/png": "[encoded data removed]",
      "text/plain": [
       "<Figure size 1080x360 with 1 Axes>"
      ]
     },
     "metadata": {
      "needs_background": "light"
     },
     "output_type": "display_data"
    }
   ],
   "source": [
    "plt.figure(figsize=(15,5))\n",
    "sns.boxplot(data=df, x =\"total ratings\");"
   ]
  },
  {
   "cell_type": "code",
   "execution_count": 41,
   "id": "1b8bdd0b",
   "metadata": {},
   "outputs": [
    {
     "data": {
      "text/plain": [
       "count    1730.000000\n",
       "mean       29.176185\n",
       "std        60.287333\n",
       "min         0.100000\n",
       "25%         5.000000\n",
       "50%        10.000000\n",
       "75%        50.000000\n",
       "max      1000.000000\n",
       "Name: in_million_install, dtype: float64"
      ]
     },
     "execution_count": 41,
     "metadata": {},
     "output_type": "execute_result"
    }
   ],
   "source": [
    "df.in_million_install.describe()"
   ]
  },
  {
   "cell_type": "code",
   "execution_count": 44,
   "id": "a3f738f5",
   "metadata": {},
   "outputs": [
    {
     "data": {
      "image/png": "[encoded data removed]",
      "text/plain": [
       "<Figure size 1080x360 with 1 Axes>"
      ]
     },
     "metadata": {
      "needs_background": "light"
     },
     "output_type": "display_data"
    }
   ],
   "source": [
    "plt.figure(figsize=(15,5))\n",
    "\n",
    "plt.title(\"In_million_install\")\n",
    "\n",
    "sns.histplot(x = \"in_million_install\", data = df)\n",
    "plt.xticks(rotation = 90);"
   ]
  },
  {
   "cell_type": "code",
   "execution_count": 47,
   "id": "2bc68d5c",
   "metadata": {},
   "outputs": [],
   "source": [
    "# fig = px.histogram(df, x= 'in_million_install', title='Number of Game Install in Millions')\n",
    "\n",
    "# fig.show()"
   ]
  },
  {
   "cell_type": "code",
   "execution_count": 49,
   "id": "2056a4bf",
   "metadata": {},
   "outputs": [
    {
     "data": {
      "image/png": "[encoded data removed]",
      "text/plain": [
       "<Figure size 1080x360 with 1 Axes>"
      ]
     },
     "metadata": {
      "needs_background": "light"
     },
     "output_type": "display_data"
    }
   ],
   "source": [
    "plt.figure(figsize=(15,5))\n",
    "sns.boxplot(data=df, x =\"in_million_install\");"
   ]
  },
  {
   "cell_type": "code",
   "execution_count": 52,
   "id": "9dd82338",
   "metadata": {},
   "outputs": [],
   "source": [
    "# fig = px.box(df, x= 'in_million_install', hover_data = df[['title','category']])\n",
    "# fig.update_traces(quartilemethod=\"inclusive\")\n",
    "# fig.show()"
   ]
  },
  {
   "cell_type": "markdown",
   "id": "e59a45ad",
   "metadata": {},
   "source": [
    "# Paid-Free Games"
   ]
  },
  {
   "cell_type": "code",
   "execution_count": 54,
   "id": "5d0c5a61",
   "metadata": {},
   "outputs": [
    {
     "data": {
      "text/plain": [
       "False    0.995954\n",
       "True     0.004046\n",
       "Name: paid, dtype: float64"
      ]
     },
     "execution_count": 54,
     "metadata": {},
     "output_type": "execute_result"
    }
   ],
   "source": [
    "df.paid.value_counts(normalize=True)"
   ]
  },
  {
   "cell_type": "code",
   "execution_count": 68,
   "id": "5353c633",
   "metadata": {},
   "outputs": [
    {
     "data": {
      "image/png": "[encoded data removed]",
      "text/plain": [
       "<Figure size 504x360 with 1 Axes>"
      ]
     },
     "metadata": {},
     "output_type": "display_data"
    }
   ],
   "source": [
    "y = df.paid.value_counts()\n",
    "\n",
    "mylabels = [\"Free\", \"Paid\"]\n",
    "\n",
    "plt.figure(figsize=(7,5))\n",
    "\n",
    "myexplode = [0, 0]\n",
    "\n",
    "plt.pie(y, labels = mylabels, labeldistance = 1.1, \n",
    "        explode = myexplode, \n",
    "        startangle = 0, \n",
    "        autopct = '%1.1f%%')\n",
    "\n",
    "plt.show()"
   ]
  },
  {
   "cell_type": "code",
   "execution_count": 70,
   "id": "3479be3e",
   "metadata": {},
   "outputs": [],
   "source": [
    "# paid_free= df['paid'].value_counts()\n",
    "# label =['Free','Paid']\n",
    "# fig = px.pie(paid_free, values=df['paid'].value_counts().values, names=label,\n",
    "#              title='Paid & Free Games')\n",
    "# fig.update_traces(textposition='inside', textinfo='percent+label')\n",
    "# fig.show()"
   ]
  },
  {
   "cell_type": "markdown",
   "id": "bc471f1b",
   "metadata": {},
   "source": [
    "# Total Ratings by Category"
   ]
  },
  {
   "cell_type": "code",
   "execution_count": 73,
   "id": "420d35d5",
   "metadata": {},
   "outputs": [
    {
     "data": {
      "text/plain": [
       "category\n",
       "GAME ACTION          4.011344e+06\n",
       "GAME ADVENTURE       8.935617e+05\n",
       "GAME ARCADE          1.793780e+06\n",
       "GAME BOARD           4.457431e+05\n",
       "GAME CARD            3.326041e+05\n",
       "GAME CASINO          3.619031e+05\n",
       "GAME CASUAL          2.470866e+06\n",
       "GAME EDUCATIONAL     1.529804e+05\n",
       "GAME MUSIC           2.163020e+05\n",
       "GAME PUZZLE          9.466929e+05\n",
       "GAME RACING          1.139027e+06\n",
       "GAME ROLE PLAYING    7.087648e+05\n",
       "GAME SIMULATION      9.341417e+05\n",
       "GAME SPORTS          1.353829e+06\n",
       "GAME STRATEGY        1.856570e+06\n",
       "GAME TRIVIA          2.982217e+05\n",
       "GAME WORD            3.943603e+05\n",
       "Name: total ratings, dtype: float64"
      ]
     },
     "execution_count": 73,
     "metadata": {},
     "output_type": "execute_result"
    }
   ],
   "source": [
    "total_ratings_by_category = df.groupby('category')['total ratings'].mean()\n",
    "total_ratings_by_category"
   ]
  },
  {
   "cell_type": "code",
   "execution_count": 83,
   "id": "e02ef441",
   "metadata": {},
   "outputs": [
    {
     "data": {
      "image/png": "[encoded data removed]",
      "text/plain": [
       "<Figure size 1152x720 with 1 Axes>"
      ]
     },
     "metadata": {
      "needs_background": "light"
     },
     "output_type": "display_data"
    }
   ],
   "source": [
    "plt.figure(figsize = (16,10))\n",
    "sns.barplot(data = df, x = total_ratings_by_category.index, y= total_ratings_by_category.values)\n",
    "\n",
    "plt.xticks(rotation = 60);\n",
    "plt.show()\n"
   ]
  },
  {
   "cell_type": "code",
   "execution_count": null,
   "id": "ddeb789a",
   "metadata": {},
   "outputs": [],
   "source": []
  }
 ],
 "metadata": {
  "kernelspec": {
   "display_name": "Python 3",
   "language": "python",
   "name": "python3"
  },
  "language_info": {
   "codemirror_mode": {
    "name": "ipython",
    "version": 3
   },
   "file_extension": ".py",
   "mimetype": "text/x-python",
   "name": "python",
   "nbconvert_exporter": "python",
   "pygments_lexer": "ipython3",
   "version": "3.8.8"
  }
 },
 "nbformat": 4,
 "nbformat_minor": 5
}
