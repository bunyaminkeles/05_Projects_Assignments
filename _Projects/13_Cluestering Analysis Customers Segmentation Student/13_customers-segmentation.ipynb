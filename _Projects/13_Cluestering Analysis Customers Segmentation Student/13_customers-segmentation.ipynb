{
 "cells": [
  {
   "cell_type": "markdown",
   "metadata": {
    "id": "view-in-github"
   },
   "source": [
    "<a href=\"https://colab.research.google.com/github/walidba/DS-Portfolio/blob/master/Customers_Segmentation/Customer_Segmentation.ipynb\" target=\"_parent\"><img src=\"https://colab.research.google.com/assets/colab-badge.svg\" alt=\"Open In Colab\"/></a>"
   ]
  },
  {
   "cell_type": "markdown",
   "metadata": {
    "id": "y64tkv5JDBvv"
   },
   "source": [
    "#### **Customer Segmentation Project**\n",
    "Customer Segmentation is one the most important applications of unsupervised learning. With the help of clustering techniques, **B2C** (Business to customers) companies can identify the several segments of customers that share a similarity in different ways that are relevant to marketing such as gender, age, interests, and miscellaneous spending habits.This will allow them to target the potential user base. \n",
    "\n",
    "\\- In this Data Science Project, we will perform one of the most essential applications of machine learning – Customer Segmentation. In this project, we will implement customer segmentation in python. Whenever you need to find your best customer, customer segmentation is the ideal methodology.\n"
   ]
  },
  {
   "cell_type": "markdown",
   "metadata": {
    "id": "4IpWBLRIEIiu"
   },
   "source": [
    "#### **1. Exploratory data analysis**"
   ]
  },
  {
   "cell_type": "markdown",
   "metadata": {
    "id": "IgIXtBulA8_i"
   },
   "source": [
    "We will start our customer segmentation project by exploring the data. Our data consists of one .csv file containing the following features that describe each customer:\n",
    "* CustomerIDs. \n",
    "* Age.\n",
    "* Gender.\n",
    "*Annual Income.\n",
    "*Spending Score."
   ]
  },
  {
   "cell_type": "markdown",
   "metadata": {
    "id": "yRNys8PRCUTs"
   },
   "source": [
    "Let's begin by importing the necessary packages and loading our data."
   ]
  },
  {
   "cell_type": "code",
   "execution_count": null,
   "metadata": {
    "id": "Vd3unWtsA5Z6"
   },
   "outputs": [],
   "source": [
    "import pandas as pd\n",
    "import numpy as np\n",
    "import matplotlib.pyplot as plt\n",
    "import seaborn as sns\n"
   ]
  },
  {
   "cell_type": "code",
   "execution_count": null,
   "metadata": {
    "id": "IGSGXEaACv9G"
   },
   "outputs": [],
   "source": [
    "customers_df = pd.read_csv('../input/customers-seg/Mall_Customers.csv')"
   ]
  },
  {
   "cell_type": "markdown",
   "metadata": {
    "id": "yW1K2-GNDZ12"
   },
   "source": [
    "\\- We will display the first five rows of our dataset using the head() function and use the describe() function to output a statistical summary of it"
   ]
  },
  {
   "cell_type": "code",
   "execution_count": null,
   "metadata": {
    "id": "mvEFn_i-DBI3",
    "outputId": "2b947fe8-2617-436c-e3b4-0649d30affcf"
   },
   "outputs": [],
   "source": [
    "customers_df.head()"
   ]
  },
  {
   "cell_type": "code",
   "execution_count": null,
   "metadata": {
    "id": "jJKCz1TmDU2K",
    "outputId": "04e6834e-3780-4d21-ab38-72bdc1547413"
   },
   "outputs": [],
   "source": [
    "customers_df.describe()"
   ]
  },
  {
   "cell_type": "markdown",
   "metadata": {
    "id": "sC6h-5XxyJqw"
   },
   "source": [
    "\\- We need to dig down more to get better insights from the data. In order to do that we will next perform a univariate analysis on each feature of the dataset.\n",
    "* **Gender :**\n",
    "\n",
    "\\- In this, we will create a barplot and a piechart to show the gender distribution across our customers dataset."
   ]
  },
  {
   "cell_type": "code",
   "execution_count": null,
   "metadata": {
    "id": "2jt2yldEylHH",
    "outputId": "92c64059-b5c3-4619-83e0-86c6574a4c1a"
   },
   "outputs": [],
   "source": [
    "plt.figure(figsize=(8,5))\n",
    "sns.countplot(x='Gender',data=customers_df)\n",
    "plt.show()"
   ]
  },
  {
   "cell_type": "code",
   "execution_count": null,
   "metadata": {
    "id": "ukbU3Uakpjm0",
    "outputId": "d8caf8ac-02c5-4320-dcfb-c4816616dd7e"
   },
   "outputs": [],
   "source": [
    "plt.figure(figsize=(8,5))\n",
    "customers_df.Gender.value_counts().plot.pie( autopct='%.2f%%')\n",
    "plt.show()"
   ]
  },
  {
   "cell_type": "markdown",
   "metadata": {
    "id": "cVLAtUeouqAd"
   },
   "source": [
    "\\- From the above graph, we conclude that the percentage of female is 56%, whereas the percentage of male in our customer dataset is 44%.\n",
    "\n",
    "* **Age :**\n",
    "\n",
    "\\- Next, we analyse the age feature, it's a continuous variable, thus we will plot a histogram to view the distribution of customer ages. We will first proceed by taking summary of the this variable."
   ]
  },
  {
   "cell_type": "code",
   "execution_count": null,
   "metadata": {
    "id": "E4xVnr3dx5kF",
    "outputId": "ecb1ddb2-6148-4f27-8761-ca2071fd0b6f"
   },
   "outputs": [],
   "source": [
    "customers_df.Age.describe()"
   ]
  },
  {
   "cell_type": "code",
   "execution_count": null,
   "metadata": {
    "id": "64u8lHkXu0DY",
    "outputId": "e79ce946-0188-4e5a-f53f-95069f8fd2a6"
   },
   "outputs": [],
   "source": [
    "plt.figure(figsize=(8,5))\n",
    "customers_df.Age.plot.hist(bins=15,alpha=.8)\n",
    "plt.show()"
   ]
  },
  {
   "cell_type": "code",
   "execution_count": null,
   "metadata": {
    "id": "2PG5cjYX8DJn",
    "outputId": "0e6ecdc1-cf3d-4a98-d95a-cf9aa51bdb89"
   },
   "outputs": [],
   "source": [
    "sns.boxplot(x='Age',data=customers_df)"
   ]
  },
  {
   "cell_type": "markdown",
   "metadata": {
    "id": "cR0dITIL8SRl"
   },
   "source": [
    "From the above graphs, we can obviously conclude that most of the customers have an age between 30 and 35, also the minimum age of customers is 18, whereas the maximum age is 70.\n",
    "\n",
    "* **Annual Income**\n",
    "\n",
    "Now we will explore the annual income feature using a histogram and a density plots to get insights from this feature.\n"
   ]
  },
  {
   "cell_type": "code",
   "execution_count": null,
   "metadata": {
    "id": "FzrQMJgO8o5_",
    "outputId": "3f826ca5-4cc0-409d-9521-477797fe795e"
   },
   "outputs": [],
   "source": [
    "customers_df['Annual Income (k$)'].describe()"
   ]
  },
  {
   "cell_type": "code",
   "execution_count": null,
   "metadata": {
    "id": "S8CcBj0p9xJ5",
    "outputId": "7275f8fb-e925-4fa4-ba3c-0d8427c17639"
   },
   "outputs": [],
   "source": [
    "plt.figure(figsize=(8,5))\n",
    "customers_df['Annual Income (k$)'].plot.hist(bins=14,color=\"#660033\")\n",
    "plt.show()"
   ]
  },
  {
   "cell_type": "code",
   "execution_count": null,
   "metadata": {
    "id": "w5WiB--m_ZTE",
    "outputId": "d0dd6d9c-ab52-4560-a967-4b9e642b3a5a"
   },
   "outputs": [],
   "source": [
    "plt.figure(figsize=(8,5))\n",
    "sns.kdeplot(customers_df['Annual Income (k$)'], color=\"blue\", shade=True)\n",
    "plt.show()"
   ]
  },
  {
   "cell_type": "markdown",
   "metadata": {
    "id": "FEyTz6f-BnLJ"
   },
   "source": [
    "\\- From the above graphs, we can obviously see that the minimum annual income of the customers is 15 while the maximum income is 137. People earning an average income of 70 have the highest frequency count in our histogram distribution. The average income of all the customers is 60.56. In the Kernel Density Plot that we displayed above, we observe that the annual income has a normal distribution.\n",
    "\n",
    "* **Spending Score :**\n",
    "\n",
    "In the same way, we will analyse the spending score feature."
   ]
  },
  {
   "cell_type": "code",
   "execution_count": null,
   "metadata": {
    "id": "ra62NIWPCOBg",
    "outputId": "698e816d-1143-47ea-f3b5-820df2dd9a32"
   },
   "outputs": [],
   "source": [
    "customers_df['Spending Score (1-100)'].describe()"
   ]
  },
  {
   "cell_type": "code",
   "execution_count": null,
   "metadata": {
    "id": "c0kHjPNOCotB",
    "outputId": "4a87f8b4-aa23-45c0-f014-36b5bbfe3a24"
   },
   "outputs": [],
   "source": [
    "customers_df['Spending Score (1-100)'].plot.box()\n",
    "plt.show()"
   ]
  },
  {
   "cell_type": "code",
   "execution_count": null,
   "metadata": {
    "id": "9_9KUR2XCxqO",
    "outputId": "9811b596-b322-4379-b105-b7ea5531b141"
   },
   "outputs": [],
   "source": [
    "sns.distplot(customers_df['Spending Score (1-100)'])\n",
    "plt.show()"
   ]
  },
  {
   "cell_type": "markdown",
   "metadata": {
    "id": "Fvo4DRJkDBS9"
   },
   "source": [
    "\\- The minimum spending score is 1 while the maximum is 99 and the average is 50.20. From the distribution plot, we can conclude that class of customers having a spending score between 40 and 50 have the highest frequency among all classes.\n",
    "\n",
    "#### **2. K-means clustering**\n",
    "After exploring each feature of our dataset, now it's time to segment the customers based on their features. In order to do that, we will use k-means clustering. This algorithm starts by selecting k objects from dataset randomly that will serve as the initial centers for our clusters  known as centroids. Then at each step, the algorithm seek to minimize the intra distance which is the distance between individuals within each cluste and maximize the inter-distance which is the distance between clusters.\n",
    "\n",
    "* **Determining Optimal number of Clusters:**\n",
    "\n",
    "While working with clusters, we need to specify the number of clusters to use. Thus we need to find the optimal number of clusters, to do that we will use the Silhouette method.\n",
    " * **Average Silhouette Method:**\n",
    "\n",
    " With the help of the average silhouette method, we can measure the quality of our clustering operation. With this, we can determine how well within the cluster is the data object. If we obtain a high average silhouette width, it means that we have good clustering. The average silhouette method calculates the mean of silhouette observations for different k values. With the optimal number of k clusters, one can maximize the average silhouette over significant values for k clusters.\n",
    " \n"
   ]
  },
  {
   "cell_type": "code",
   "execution_count": null,
   "metadata": {
    "id": "AzEhkTU3eHEP"
   },
   "outputs": [],
   "source": [
    "customers_df['Gender'] = customers_df.Gender.map({'Male':1,'Female':0})"
   ]
  },
  {
   "cell_type": "code",
   "execution_count": null,
   "metadata": {
    "id": "LMoH04tpGuzk",
    "outputId": "a3e23afe-484d-4bb9-ce0d-7b8938018cf7"
   },
   "outputs": [],
   "source": [
    "from sklearn.cluster import KMeans\n",
    "from sklearn.metrics import silhouette_samples, silhouette_score\n",
    "import matplotlib.cm as cm\n",
    "\n",
    "l=[]\n",
    "X = customers_df.iloc[:,1:]\n",
    "for n_clusters in range(2,11):\n",
    "    fig, ax1 = plt.subplots(1, 1)\n",
    "    fig.set_size_inches(15, 7)\n",
    "\n",
    "\n",
    "    ax1.set_xlim([-.1, 1])\n",
    "    # The (n_clusters+1)*10 is for inserting blank space between silhouette\n",
    "    # plots of individual clusters, to demarcate them clearly.\n",
    "    ax1.set_ylim([0, len(X) + (n_clusters + 1) * 10])\n",
    "\n",
    "    # Initialize the clusterer with n_clusters value and a random generator\n",
    "    # seed of 10 for reproducibility.\n",
    "    clusterer = KMeans(n_clusters=n_clusters, random_state=10)\n",
    "    cluster_labels = clusterer.fit_predict(X)\n",
    "\n",
    "    # The silhouette_score gives the average value for all the samples.\n",
    "    # This gives a perspective into the density and separation of the formed\n",
    "    # clusters\n",
    "    silhouette_avg = silhouette_score(X, cluster_labels)\n",
    "    print(\"For n_clusters =\", n_clusters,\n",
    "          \"The average silhouette_score is :\", silhouette_avg)\n",
    "    l.append(silhouette_avg)\n",
    "    # Compute the silhouette scores for each sample\n",
    "    sample_silhouette_values = silhouette_samples(X, cluster_labels)\n",
    "\n",
    "    y_lower = 10\n",
    "    for i in range(n_clusters):\n",
    "        # Aggregate the silhouette scores for samples belonging to\n",
    "        # cluster i, and sort them\n",
    "        ith_cluster_silhouette_values = \\\n",
    "            sample_silhouette_values[cluster_labels == i]\n",
    "\n",
    "        ith_cluster_silhouette_values.sort()\n",
    "\n",
    "        size_cluster_i = ith_cluster_silhouette_values.shape[0]\n",
    "        y_upper = y_lower + size_cluster_i\n",
    "\n",
    "        color = cm.nipy_spectral(float(i) / n_clusters)\n",
    "        ax1.fill_betweenx(np.arange(y_lower, y_upper),\n",
    "                          0, ith_cluster_silhouette_values,\n",
    "                          facecolor=color, edgecolor=color, alpha=0.7)\n",
    "\n",
    "        # Label the silhouette plots with their cluster numbers at the middle\n",
    "        ax1.text(-0.05, y_lower + 0.5 * size_cluster_i, str(i))\n",
    "\n",
    "        # Compute the new y_lower for next plot\n",
    "        y_lower = y_upper + 10  # 10 for the 0 samples\n",
    "\n",
    "    ax1.set_title(\"The silhouette plot for the various clusters.\")\n",
    "    ax1.set_xlabel(\"The silhouette coefficient values\")\n",
    "    ax1.set_ylabel(\"Cluster label\")\n",
    "\n",
    "    # The vertical line for average silhouette score of all the values\n",
    "    ax1.axvline(x=silhouette_avg, color=\"red\", linestyle=\"--\")\n",
    "\n",
    "    ax1.set_yticks([])  # Clear the yaxis labels / ticks\n",
    "    ax1.set_xticks([-0.1, 0, 0.2, 0.4, 0.6, 0.8, 1])\n",
    "\n",
    "    \n",
    "\n",
    "    plt.suptitle((\"Silhouette analysis for KMeans clustering on Customers data \"\n",
    "                  \"with n_clusters = %d\" % n_clusters),\n",
    "                 fontsize=14, fontweight='bold')\n",
    "    "
   ]
  },
  {
   "cell_type": "code",
   "execution_count": null,
   "metadata": {
    "id": "AjkRyD2Jflk3",
    "outputId": "0371a876-ab65-4ee2-d3d9-6997fc50ddf7"
   },
   "outputs": [],
   "source": [
    "clusters = list(range(2,11))\n",
    "plt.plot(clusters,l,'-bo')\n",
    "axes = plt.axes()\n",
    "axes.set_xlabel(\"Number of clusters k\")\n",
    "axes.set_ylabel(\"Average silhouette Width\")\n",
    "plt.show()"
   ]
  },
  {
   "cell_type": "markdown",
   "metadata": {
    "id": "L1ZlZDo2hlG5"
   },
   "source": [
    "\\- As we can see from the figure above, the optimal number of clusters k for our customers segmentation task is 6 with an average silhouette width of 0.45."
   ]
  },
  {
   "cell_type": "markdown",
   "metadata": {
    "id": "ZnYN3zGAjW5F"
   },
   "source": [
    "#### **3. Visualizing the Clustering Results using the PCA with 2 components:**\n"
   ]
  },
  {
   "cell_type": "code",
   "execution_count": null,
   "metadata": {
    "id": "4sFZsruwjcu7",
    "outputId": "6c254ffe-587f-4c8b-a69d-e6ec382818e3"
   },
   "outputs": [],
   "source": [
    "from sklearn.decomposition import PCA\n",
    "reduced = PCA(n_components=2).fit_transform(X)\n",
    "\n",
    "kmeans = KMeans(init='k-means++', n_clusters=6, random_state=10)\n",
    "kmeans.fit(reduced)\n",
    "\n"
   ]
  },
  {
   "cell_type": "code",
   "execution_count": null,
   "metadata": {
    "id": "xQVoW5dT9rCV",
    "outputId": "7b28d9c6-13b7-407f-81bc-84ccc5812f73"
   },
   "outputs": [],
   "source": [
    "pca_df = pd.DataFrame(reduced,columns=['Component1','Component2'])\n",
    "pca_df['Segment'] = kmeans.labels_\n",
    "pca_df.head(10)"
   ]
  },
  {
   "cell_type": "code",
   "execution_count": null,
   "metadata": {
    "id": "ZHhg70j7-5Tg",
    "outputId": "bd9c1f87-002a-4290-8721-ff828e9fb205"
   },
   "outputs": [],
   "source": [
    "plt.figure(figsize=(12,7))\n",
    "sns.scatterplot(x='Component1',y='Component2',data=pca_df,hue='Segment',palette='bright')\n",
    "plt.title('K-means clustering on the customers segmentation dataset (PCA-reduced data)\\n'\n",
    "          'Centroids are marked with white cross')\n",
    "plt.legend()\n",
    "plt.show()\n"
   ]
  },
  {
   "cell_type": "markdown",
   "metadata": {
    "id": "KX2-Icv4_-2h"
   },
   "source": [
    "  \\- **Cluster 0 and 5** – The two cluster consists of  customers with medium PCA2 and a high PCA1.\n",
    "\n",
    "  \\- **Cluster 1** – This cluster represents customers having a high PCA2 and a low PCA1.\n",
    "\n",
    "  \\- **Cluster 2** - This cluster consists of customers with medium PCA1 and medium PCA2 score.\n",
    "\n",
    "  \\- **Cluster 3** – This comprises of customers with a high PCA2 and a medium annual spend of income.\n",
    "\n",
    "  \\- **Cluster 4** – In this cluster, there are customers with a medium PCA1 and a low PCA2 score.\n",
    "\n",
    "  \n",
    "\n",
    "\n",
    "\n",
    "\n",
    "\n",
    "\n",
    "\n",
    "\n",
    "\\- With the help of clustering, we can understand the variables much better, prompting us to take careful decisions. With the identification of customers, companies can release products and services that target customers based on several parameters like income, age, spending patterns, etc. Furthermore, more complex patterns like product reviews are taken into consideration for better segmentation."
   ]
  }
 ],
 "metadata": {
  "kernelspec": {
   "display_name": "Python 3",
   "language": "python",
   "name": "python3"
  },
  "language_info": {
   "codemirror_mode": {
    "name": "ipython",
    "version": 3
   },
   "file_extension": ".py",
   "mimetype": "text/x-python",
   "name": "python",
   "nbconvert_exporter": "python",
   "pygments_lexer": "ipython3",
   "version": "3.8.8"
  }
 },
 "nbformat": 4,
 "nbformat_minor": 4
}
