{
 "cells": [
  {
   "cell_type": "markdown",
   "metadata": {},
   "source": [
    "# Keras Classification"
   ]
  },
  {
   "cell_type": "markdown",
   "metadata": {},
   "source": [
    "<span class=\"girk\">We have a dataset in which there are details of a bank's customers and the target variable is a binary variable reflecting the fact whether the customer left the bank (closed his account) or he continues to be a customer.</span>"
   ]
  },
  {
   "cell_type": "markdown",
   "metadata": {},
   "source": [
    "---\n",
    "---"
   ]
  },
  {
   "cell_type": "markdown",
   "metadata": {
    "cell_style": "center"
   },
   "source": [
    "## Import  libraries & data"
   ]
  },
  {
   "cell_type": "code",
   "execution_count": 1,
   "metadata": {
    "cell_style": "center",
    "executionInfo": {
     "elapsed": 991,
     "status": "ok",
     "timestamp": 1610201325502,
     "user": {
      "displayName": "Richard C",
      "photoUrl": "",
      "userId": "08040814671867660929"
     },
     "user_tz": -180
    },
    "id": "6VD4eWBQcze2"
   },
   "outputs": [],
   "source": [
    "import numpy as np\n",
    "import pandas as pd\n",
    "import seaborn as sns\n",
    "import matplotlib.pyplot as plt\n",
    "\n",
    "%matplotlib inline\n",
    "# %matplotlib notebook\n",
    "plt.rcParams[\"figure.figsize\"] = (12, 6)\n",
    "# plt.rcParams['figure.dpi'] = 100\n",
    "sns.set_style(\"whitegrid\")\n",
    "import warnings\n",
    "\n",
    "warnings.filterwarnings(\"ignore\")\n",
    "warnings.warn(\"this will not show\")\n",
    "pd.set_option('display.float_format', lambda x: '%.3f' % x)"
   ]
  },
  {
   "cell_type": "code",
   "execution_count": 2,
   "metadata": {
    "cell_style": "center",
    "executionInfo": {
     "elapsed": 829,
     "status": "ok",
     "timestamp": 1610204616389,
     "user": {
      "displayName": "Richard C",
      "photoUrl": "",
      "userId": "08040814671867660929"
     },
     "user_tz": -180
    },
    "id": "YzzxpfNaoFyZ"
   },
   "outputs": [],
   "source": [
    "from tensorflow.keras.models import Sequential\n",
    "from tensorflow.keras.layers import Dense, Activation, Dropout\n",
    "from tensorflow.keras.callbacks import EarlyStopping\n",
    "from tensorflow.keras.optimizers import Adam\n",
    "from sklearn.metrics import classification_report, confusion_matrix\n",
    "from sklearn.metrics import roc_auc_score, roc_curve, precision_recall_curve, average_precision_score\n",
    "from sklearn.model_selection import cross_val_score, cross_validate\n",
    "from sklearn.model_selection import GridSearchCV"
   ]
  },
  {
   "cell_type": "code",
   "execution_count": 3,
   "metadata": {},
   "outputs": [
    {
     "data": {
      "text/html": [
       "<div>\n",
       "<style scoped>\n",
       "    .dataframe tbody tr th:only-of-type {\n",
       "        vertical-align: middle;\n",
       "    }\n",
       "\n",
       "    .dataframe tbody tr th {\n",
       "        vertical-align: top;\n",
       "    }\n",
       "\n",
       "    .dataframe thead th {\n",
       "        text-align: right;\n",
       "    }\n",
       "</style>\n",
       "<table border=\"1\" class=\"dataframe\">\n",
       "  <thead>\n",
       "    <tr style=\"text-align: right;\">\n",
       "      <th></th>\n",
       "      <th>CustomerId</th>\n",
       "      <th>Surname</th>\n",
       "      <th>CreditScore</th>\n",
       "      <th>Geography</th>\n",
       "      <th>Gender</th>\n",
       "      <th>Age</th>\n",
       "      <th>Tenure</th>\n",
       "      <th>Balance</th>\n",
       "      <th>NumOfProducts</th>\n",
       "      <th>HasCrCard</th>\n",
       "      <th>IsActiveMember</th>\n",
       "      <th>EstimatedSalary</th>\n",
       "      <th>Exited</th>\n",
       "    </tr>\n",
       "    <tr>\n",
       "      <th>RowNumber</th>\n",
       "      <th></th>\n",
       "      <th></th>\n",
       "      <th></th>\n",
       "      <th></th>\n",
       "      <th></th>\n",
       "      <th></th>\n",
       "      <th></th>\n",
       "      <th></th>\n",
       "      <th></th>\n",
       "      <th></th>\n",
       "      <th></th>\n",
       "      <th></th>\n",
       "      <th></th>\n",
       "    </tr>\n",
       "  </thead>\n",
       "  <tbody>\n",
       "    <tr>\n",
       "      <th>1</th>\n",
       "      <td>15634602</td>\n",
       "      <td>Hargrave</td>\n",
       "      <td>619</td>\n",
       "      <td>France</td>\n",
       "      <td>Female</td>\n",
       "      <td>42</td>\n",
       "      <td>2</td>\n",
       "      <td>0.000</td>\n",
       "      <td>1</td>\n",
       "      <td>1</td>\n",
       "      <td>1</td>\n",
       "      <td>101348.880</td>\n",
       "      <td>1</td>\n",
       "    </tr>\n",
       "    <tr>\n",
       "      <th>2</th>\n",
       "      <td>15647311</td>\n",
       "      <td>Hill</td>\n",
       "      <td>608</td>\n",
       "      <td>Spain</td>\n",
       "      <td>Female</td>\n",
       "      <td>41</td>\n",
       "      <td>1</td>\n",
       "      <td>83807.860</td>\n",
       "      <td>1</td>\n",
       "      <td>0</td>\n",
       "      <td>1</td>\n",
       "      <td>112542.580</td>\n",
       "      <td>0</td>\n",
       "    </tr>\n",
       "    <tr>\n",
       "      <th>3</th>\n",
       "      <td>15619304</td>\n",
       "      <td>Onio</td>\n",
       "      <td>502</td>\n",
       "      <td>France</td>\n",
       "      <td>Female</td>\n",
       "      <td>42</td>\n",
       "      <td>8</td>\n",
       "      <td>159660.800</td>\n",
       "      <td>3</td>\n",
       "      <td>1</td>\n",
       "      <td>0</td>\n",
       "      <td>113931.570</td>\n",
       "      <td>1</td>\n",
       "    </tr>\n",
       "    <tr>\n",
       "      <th>4</th>\n",
       "      <td>15701354</td>\n",
       "      <td>Boni</td>\n",
       "      <td>699</td>\n",
       "      <td>France</td>\n",
       "      <td>Female</td>\n",
       "      <td>39</td>\n",
       "      <td>1</td>\n",
       "      <td>0.000</td>\n",
       "      <td>2</td>\n",
       "      <td>0</td>\n",
       "      <td>0</td>\n",
       "      <td>93826.630</td>\n",
       "      <td>0</td>\n",
       "    </tr>\n",
       "    <tr>\n",
       "      <th>5</th>\n",
       "      <td>15737888</td>\n",
       "      <td>Mitchell</td>\n",
       "      <td>850</td>\n",
       "      <td>Spain</td>\n",
       "      <td>Female</td>\n",
       "      <td>43</td>\n",
       "      <td>2</td>\n",
       "      <td>125510.820</td>\n",
       "      <td>1</td>\n",
       "      <td>1</td>\n",
       "      <td>1</td>\n",
       "      <td>79084.100</td>\n",
       "      <td>0</td>\n",
       "    </tr>\n",
       "  </tbody>\n",
       "</table>\n",
       "</div>"
      ],
      "text/plain": [
       "           CustomerId   Surname  CreditScore Geography  Gender  Age  Tenure  \\\n",
       "RowNumber                                                                     \n",
       "1            15634602  Hargrave          619    France  Female   42       2   \n",
       "2            15647311      Hill          608     Spain  Female   41       1   \n",
       "3            15619304      Onio          502    France  Female   42       8   \n",
       "4            15701354      Boni          699    France  Female   39       1   \n",
       "5            15737888  Mitchell          850     Spain  Female   43       2   \n",
       "\n",
       "             Balance  NumOfProducts  HasCrCard  IsActiveMember  \\\n",
       "RowNumber                                                        \n",
       "1              0.000              1          1               1   \n",
       "2          83807.860              1          0               1   \n",
       "3         159660.800              3          1               0   \n",
       "4              0.000              2          0               0   \n",
       "5         125510.820              1          1               1   \n",
       "\n",
       "           EstimatedSalary  Exited  \n",
       "RowNumber                           \n",
       "1               101348.880       1  \n",
       "2               112542.580       0  \n",
       "3               113931.570       1  \n",
       "4                93826.630       0  \n",
       "5                79084.100       0  "
      ]
     },
     "execution_count": 3,
     "metadata": {},
     "output_type": "execute_result"
    }
   ],
   "source": [
    "df = pd.read_csv(\"Churn_Modelling.csv\", index_col='RowNumber')\n",
    "df.head()"
   ]
  },
  {
   "cell_type": "markdown",
   "metadata": {},
   "source": [
    "## Exploratory Data Analysis and Visualization"
   ]
  },
  {
   "cell_type": "code",
   "execution_count": 4,
   "metadata": {},
   "outputs": [],
   "source": [
    "# !pip install pandasgui"
   ]
  },
  {
   "cell_type": "code",
   "execution_count": 5,
   "metadata": {},
   "outputs": [],
   "source": [
    "# from pandasgui import show\n",
    "\n",
    "# gui = show(df)"
   ]
  },
  {
   "cell_type": "code",
   "execution_count": 6,
   "metadata": {
    "cell_style": "split",
    "colab": {
     "base_uri": "https://localhost:8080/"
    },
    "executionInfo": {
     "elapsed": 854,
     "status": "ok",
     "timestamp": 1610201704635,
     "user": {
      "displayName": "Richard C",
      "photoUrl": "",
      "userId": "08040814671867660929"
     },
     "user_tz": -180
    },
    "id": "9ROCQa9wf2uE",
    "outputId": "40e94921-6a7c-48c6-8c09-2623b6b60fa3",
    "scrolled": false
   },
   "outputs": [
    {
     "name": "stdout",
     "output_type": "stream",
     "text": [
      "<class 'pandas.core.frame.DataFrame'>\n",
      "Int64Index: 10000 entries, 1 to 10000\n",
      "Data columns (total 13 columns):\n",
      " #   Column           Non-Null Count  Dtype  \n",
      "---  ------           --------------  -----  \n",
      " 0   CustomerId       10000 non-null  int64  \n",
      " 1   Surname          10000 non-null  object \n",
      " 2   CreditScore      10000 non-null  int64  \n",
      " 3   Geography        10000 non-null  object \n",
      " 4   Gender           10000 non-null  object \n",
      " 5   Age              10000 non-null  int64  \n",
      " 6   Tenure           10000 non-null  int64  \n",
      " 7   Balance          10000 non-null  float64\n",
      " 8   NumOfProducts    10000 non-null  int64  \n",
      " 9   HasCrCard        10000 non-null  int64  \n",
      " 10  IsActiveMember   10000 non-null  int64  \n",
      " 11  EstimatedSalary  10000 non-null  float64\n",
      " 12  Exited           10000 non-null  int64  \n",
      "dtypes: float64(2), int64(8), object(3)\n",
      "memory usage: 1.1+ MB\n"
     ]
    }
   ],
   "source": [
    "df.info()"
   ]
  },
  {
   "cell_type": "code",
   "execution_count": 7,
   "metadata": {
    "cell_style": "split",
    "colab": {
     "base_uri": "https://localhost:8080/"
    },
    "executionInfo": {
     "elapsed": 798,
     "status": "ok",
     "timestamp": 1610201657421,
     "user": {
      "displayName": "Richard C",
      "photoUrl": "",
      "userId": "08040814671867660929"
     },
     "user_tz": -180
    },
    "id": "vPyMUnVWfM0o",
    "outputId": "7a294ad3-49d9-4cea-b6a2-9824e2c0ba4a"
   },
   "outputs": [
    {
     "data": {
      "text/plain": [
       "(10000, 13)"
      ]
     },
     "execution_count": 7,
     "metadata": {},
     "output_type": "execute_result"
    }
   ],
   "source": [
    "df.shape"
   ]
  },
  {
   "cell_type": "code",
   "execution_count": 8,
   "metadata": {
    "cell_style": "split"
   },
   "outputs": [
    {
     "data": {
      "text/plain": [
       "False"
      ]
     },
     "execution_count": 8,
     "metadata": {},
     "output_type": "execute_result"
    }
   ],
   "source": [
    "df.isnull().sum().any()"
   ]
  },
  {
   "cell_type": "code",
   "execution_count": 9,
   "metadata": {
    "cell_style": "split",
    "scrolled": true
   },
   "outputs": [
    {
     "data": {
      "text/plain": [
       "0"
      ]
     },
     "execution_count": 9,
     "metadata": {},
     "output_type": "execute_result"
    }
   ],
   "source": [
    "df.duplicated().sum()"
   ]
  },
  {
   "cell_type": "code",
   "execution_count": 10,
   "metadata": {
    "cell_style": "center",
    "colab": {
     "base_uri": "https://localhost:8080/",
     "height": 1000
    },
    "executionInfo": {
     "elapsed": 967,
     "status": "ok",
     "timestamp": 1610201729941,
     "user": {
      "displayName": "Richard C",
      "photoUrl": "",
      "userId": "08040814671867660929"
     },
     "user_tz": -180
    },
    "id": "mdUkgZD-gCUx",
    "outputId": "cd4f6662-e8c3-4a6f-93d5-26fed83d8a82",
    "scrolled": false
   },
   "outputs": [
    {
     "data": {
      "text/html": [
       "<div>\n",
       "<style scoped>\n",
       "    .dataframe tbody tr th:only-of-type {\n",
       "        vertical-align: middle;\n",
       "    }\n",
       "\n",
       "    .dataframe tbody tr th {\n",
       "        vertical-align: top;\n",
       "    }\n",
       "\n",
       "    .dataframe thead th {\n",
       "        text-align: right;\n",
       "    }\n",
       "</style>\n",
       "<table border=\"1\" class=\"dataframe\">\n",
       "  <thead>\n",
       "    <tr style=\"text-align: right;\">\n",
       "      <th></th>\n",
       "      <th>count</th>\n",
       "      <th>mean</th>\n",
       "      <th>std</th>\n",
       "      <th>min</th>\n",
       "      <th>25%</th>\n",
       "      <th>50%</th>\n",
       "      <th>75%</th>\n",
       "      <th>max</th>\n",
       "    </tr>\n",
       "  </thead>\n",
       "  <tbody>\n",
       "    <tr>\n",
       "      <th>CustomerId</th>\n",
       "      <td>10000.000</td>\n",
       "      <td>15690940.569</td>\n",
       "      <td>71936.186</td>\n",
       "      <td>15565701.000</td>\n",
       "      <td>15628528.250</td>\n",
       "      <td>15690738.000</td>\n",
       "      <td>15753233.750</td>\n",
       "      <td>15815690.000</td>\n",
       "    </tr>\n",
       "    <tr>\n",
       "      <th>CreditScore</th>\n",
       "      <td>10000.000</td>\n",
       "      <td>650.529</td>\n",
       "      <td>96.653</td>\n",
       "      <td>350.000</td>\n",
       "      <td>584.000</td>\n",
       "      <td>652.000</td>\n",
       "      <td>718.000</td>\n",
       "      <td>850.000</td>\n",
       "    </tr>\n",
       "    <tr>\n",
       "      <th>Age</th>\n",
       "      <td>10000.000</td>\n",
       "      <td>38.922</td>\n",
       "      <td>10.488</td>\n",
       "      <td>18.000</td>\n",
       "      <td>32.000</td>\n",
       "      <td>37.000</td>\n",
       "      <td>44.000</td>\n",
       "      <td>92.000</td>\n",
       "    </tr>\n",
       "    <tr>\n",
       "      <th>Tenure</th>\n",
       "      <td>10000.000</td>\n",
       "      <td>5.013</td>\n",
       "      <td>2.892</td>\n",
       "      <td>0.000</td>\n",
       "      <td>3.000</td>\n",
       "      <td>5.000</td>\n",
       "      <td>7.000</td>\n",
       "      <td>10.000</td>\n",
       "    </tr>\n",
       "    <tr>\n",
       "      <th>Balance</th>\n",
       "      <td>10000.000</td>\n",
       "      <td>76485.889</td>\n",
       "      <td>62397.405</td>\n",
       "      <td>0.000</td>\n",
       "      <td>0.000</td>\n",
       "      <td>97198.540</td>\n",
       "      <td>127644.240</td>\n",
       "      <td>250898.090</td>\n",
       "    </tr>\n",
       "    <tr>\n",
       "      <th>NumOfProducts</th>\n",
       "      <td>10000.000</td>\n",
       "      <td>1.530</td>\n",
       "      <td>0.582</td>\n",
       "      <td>1.000</td>\n",
       "      <td>1.000</td>\n",
       "      <td>1.000</td>\n",
       "      <td>2.000</td>\n",
       "      <td>4.000</td>\n",
       "    </tr>\n",
       "    <tr>\n",
       "      <th>HasCrCard</th>\n",
       "      <td>10000.000</td>\n",
       "      <td>0.706</td>\n",
       "      <td>0.456</td>\n",
       "      <td>0.000</td>\n",
       "      <td>0.000</td>\n",
       "      <td>1.000</td>\n",
       "      <td>1.000</td>\n",
       "      <td>1.000</td>\n",
       "    </tr>\n",
       "    <tr>\n",
       "      <th>IsActiveMember</th>\n",
       "      <td>10000.000</td>\n",
       "      <td>0.515</td>\n",
       "      <td>0.500</td>\n",
       "      <td>0.000</td>\n",
       "      <td>0.000</td>\n",
       "      <td>1.000</td>\n",
       "      <td>1.000</td>\n",
       "      <td>1.000</td>\n",
       "    </tr>\n",
       "    <tr>\n",
       "      <th>EstimatedSalary</th>\n",
       "      <td>10000.000</td>\n",
       "      <td>100090.240</td>\n",
       "      <td>57510.493</td>\n",
       "      <td>11.580</td>\n",
       "      <td>51002.110</td>\n",
       "      <td>100193.915</td>\n",
       "      <td>149388.247</td>\n",
       "      <td>199992.480</td>\n",
       "    </tr>\n",
       "    <tr>\n",
       "      <th>Exited</th>\n",
       "      <td>10000.000</td>\n",
       "      <td>0.204</td>\n",
       "      <td>0.403</td>\n",
       "      <td>0.000</td>\n",
       "      <td>0.000</td>\n",
       "      <td>0.000</td>\n",
       "      <td>0.000</td>\n",
       "      <td>1.000</td>\n",
       "    </tr>\n",
       "  </tbody>\n",
       "</table>\n",
       "</div>"
      ],
      "text/plain": [
       "                    count         mean       std          min          25%  \\\n",
       "CustomerId      10000.000 15690940.569 71936.186 15565701.000 15628528.250   \n",
       "CreditScore     10000.000      650.529    96.653      350.000      584.000   \n",
       "Age             10000.000       38.922    10.488       18.000       32.000   \n",
       "Tenure          10000.000        5.013     2.892        0.000        3.000   \n",
       "Balance         10000.000    76485.889 62397.405        0.000        0.000   \n",
       "NumOfProducts   10000.000        1.530     0.582        1.000        1.000   \n",
       "HasCrCard       10000.000        0.706     0.456        0.000        0.000   \n",
       "IsActiveMember  10000.000        0.515     0.500        0.000        0.000   \n",
       "EstimatedSalary 10000.000   100090.240 57510.493       11.580    51002.110   \n",
       "Exited          10000.000        0.204     0.403        0.000        0.000   \n",
       "\n",
       "                         50%          75%          max  \n",
       "CustomerId      15690738.000 15753233.750 15815690.000  \n",
       "CreditScore          652.000      718.000      850.000  \n",
       "Age                   37.000       44.000       92.000  \n",
       "Tenure                 5.000        7.000       10.000  \n",
       "Balance            97198.540   127644.240   250898.090  \n",
       "NumOfProducts          1.000        2.000        4.000  \n",
       "HasCrCard              1.000        1.000        1.000  \n",
       "IsActiveMember         1.000        1.000        1.000  \n",
       "EstimatedSalary   100193.915   149388.247   199992.480  \n",
       "Exited                 0.000        0.000        1.000  "
      ]
     },
     "execution_count": 10,
     "metadata": {},
     "output_type": "execute_result"
    }
   ],
   "source": [
    "df.describe().T\n",
    "\n"
   ]
  },
  {
   "cell_type": "code",
   "execution_count": 11,
   "metadata": {},
   "outputs": [
    {
     "data": {
      "text/plain": [
       "<AxesSubplot:>"
      ]
     },
     "execution_count": 11,
     "metadata": {},
     "output_type": "execute_result"
    },
    {
     "data": {
      "image/png": "[encoded data removed]",
      "text/plain": [
       "<Figure size 864x432 with 1 Axes>"
      ]
     },
     "metadata": {},
     "output_type": "display_data"
    }
   ],
   "source": [
    "df.Balance.plot(kind=\"box\")"
   ]
  },
  {
   "cell_type": "code",
   "execution_count": 12,
   "metadata": {},
   "outputs": [],
   "source": [
    "df.drop(['CustomerId', 'Surname'], axis=1, inplace=True)"
   ]
  },
  {
   "cell_type": "code",
   "execution_count": 13,
   "metadata": {
    "cell_style": "split",
    "colab": {
     "base_uri": "https://localhost:8080/",
     "height": 297
    },
    "executionInfo": {
     "elapsed": 1052,
     "status": "ok",
     "timestamp": 1610201940310,
     "user": {
      "displayName": "Richard C",
      "photoUrl": "",
      "userId": "08040814671867660929"
     },
     "user_tz": -180
    },
    "id": "_7vHUi5Hgldj",
    "outputId": "0018aaa8-d479-40c3-f973-161c63e7a77b"
   },
   "outputs": [
    {
     "name": "stdout",
     "output_type": "stream",
     "text": [
      "0    7963\n",
      "1    2037\n",
      "Name: Exited, dtype: int64\n"
     ]
    },
    {
     "data": {
      "image/png": "[encoded data removed]",
      "text/plain": [
       "<Figure size 864x432 with 1 Axes>"
      ]
     },
     "metadata": {},
     "output_type": "display_data"
    }
   ],
   "source": [
    "print(df.Exited.value_counts())\n",
    "sns.countplot(df[\"Exited\"]);"
   ]
  },
  {
   "cell_type": "code",
   "execution_count": 14,
   "metadata": {
    "cell_style": "split",
    "scrolled": true
   },
   "outputs": [
    {
     "data": {
      "image/png": "[encoded data removed]",
      "text/plain": [
       "<Figure size 1080x864 with 9 Axes>"
      ]
     },
     "metadata": {},
     "output_type": "display_data"
    }
   ],
   "source": [
    "df.hist(figsize=(15, 12), bins=15);\n"
   ]
  },
  {
   "cell_type": "code",
   "execution_count": 15,
   "metadata": {
    "scrolled": true
   },
   "outputs": [
    {
     "data": {
      "image/png": "[encoded data removed]",
      "text/plain": [
       "<Figure size 1152x864 with 4 Axes>"
      ]
     },
     "metadata": {},
     "output_type": "display_data"
    }
   ],
   "source": [
    "cat_list = [\"Gender\", \"HasCrCard\", \"IsActiveMember\", \"Geography\"]\n",
    "index = 0\n",
    "plt.figure(figsize=(16, 12))\n",
    "for i in cat_list:\n",
    "    index += 1\n",
    "    plt.subplot(2, 2, index)\n",
    "    sns.countplot(data=df, x=i, hue=\"Exited\")"
   ]
  },
  {
   "cell_type": "code",
   "execution_count": 16,
   "metadata": {
    "cell_style": "split"
   },
   "outputs": [
    {
     "data": {
      "text/plain": [
       "Age  Exited\n",
       "18   0         20\n",
       "     1          2\n",
       "19   0         26\n",
       "     1          1\n",
       "20   0         38\n",
       "               ..\n",
       "84   0          1\n",
       "     1          1\n",
       "85   0          1\n",
       "88   0          1\n",
       "92   0          2\n",
       "Name: Exited, Length: 128, dtype: int64"
      ]
     },
     "execution_count": 16,
     "metadata": {},
     "output_type": "execute_result"
    }
   ],
   "source": [
    "df.groupby(\"Age\")[\"Exited\"].value_counts()\n"
   ]
  },
  {
   "cell_type": "code",
   "execution_count": 17,
   "metadata": {
    "cell_style": "split"
   },
   "outputs": [
    {
     "data": {
      "image/png": "[encoded data removed]",
      "text/plain": [
       "<Figure size 1440x504 with 1 Axes>"
      ]
     },
     "metadata": {},
     "output_type": "display_data"
    }
   ],
   "source": [
    "plt.figure(figsize=(20, 7))\n",
    "sns.countplot(df.Age, hue=df.Exited);"
   ]
  },
  {
   "cell_type": "code",
   "execution_count": 18,
   "metadata": {},
   "outputs": [
    {
     "data": {
      "text/plain": [
       "count   10000.000\n",
       "mean      650.529\n",
       "std        96.653\n",
       "min       350.000\n",
       "25%       584.000\n",
       "50%       652.000\n",
       "75%       718.000\n",
       "max       850.000\n",
       "Name: CreditScore, dtype: float64"
      ]
     },
     "execution_count": 18,
     "metadata": {},
     "output_type": "execute_result"
    }
   ],
   "source": [
    "df.CreditScore.describe()"
   ]
  },
  {
   "cell_type": "code",
   "execution_count": 19,
   "metadata": {},
   "outputs": [],
   "source": [
    "def credit_transformer(x, y):\n",
    "    if x < 584 and y == 0:\n",
    "        return 0\n",
    "    if x < 584 and y == 1:\n",
    "        return 1\n",
    "    if 584 < x < 718 and y == 0:\n",
    "        return 2\n",
    "    if 584 < x < 718 and y == 1:\n",
    "        return 3\n",
    "    else:\n",
    "        return 4"
   ]
  },
  {
   "cell_type": "code",
   "execution_count": 20,
   "metadata": {
    "scrolled": true
   },
   "outputs": [
    {
     "data": {
      "text/plain": [
       "[3, 2, 1, 2, 4, 3, 4, 1, 0, 3]"
      ]
     },
     "execution_count": 20,
     "metadata": {},
     "output_type": "execute_result"
    }
   ],
   "source": [
    "customer_value = [\n",
    "    credit_transformer(x, y) for x, y in zip(df.CreditScore, df.HasCrCard)\n",
    "]\n",
    "customer_value[:10]"
   ]
  },
  {
   "cell_type": "code",
   "execution_count": 21,
   "metadata": {},
   "outputs": [
    {
     "data": {
      "text/plain": [
       "{0, 1, 2, 3, 4}"
      ]
     },
     "execution_count": 21,
     "metadata": {},
     "output_type": "execute_result"
    }
   ],
   "source": [
    "set(customer_value)"
   ]
  },
  {
   "cell_type": "code",
   "execution_count": 22,
   "metadata": {},
   "outputs": [
    {
     "data": {
      "text/html": [
       "<div>\n",
       "<style scoped>\n",
       "    .dataframe tbody tr th:only-of-type {\n",
       "        vertical-align: middle;\n",
       "    }\n",
       "\n",
       "    .dataframe tbody tr th {\n",
       "        vertical-align: top;\n",
       "    }\n",
       "\n",
       "    .dataframe thead th {\n",
       "        text-align: right;\n",
       "    }\n",
       "</style>\n",
       "<table border=\"1\" class=\"dataframe\">\n",
       "  <thead>\n",
       "    <tr style=\"text-align: right;\">\n",
       "      <th></th>\n",
       "      <th>CreditScore</th>\n",
       "      <th>Geography</th>\n",
       "      <th>Gender</th>\n",
       "      <th>Age</th>\n",
       "      <th>Tenure</th>\n",
       "      <th>Balance</th>\n",
       "      <th>NumOfProducts</th>\n",
       "      <th>HasCrCard</th>\n",
       "      <th>IsActiveMember</th>\n",
       "      <th>EstimatedSalary</th>\n",
       "      <th>Exited</th>\n",
       "    </tr>\n",
       "    <tr>\n",
       "      <th>RowNumber</th>\n",
       "      <th></th>\n",
       "      <th></th>\n",
       "      <th></th>\n",
       "      <th></th>\n",
       "      <th></th>\n",
       "      <th></th>\n",
       "      <th></th>\n",
       "      <th></th>\n",
       "      <th></th>\n",
       "      <th></th>\n",
       "      <th></th>\n",
       "    </tr>\n",
       "  </thead>\n",
       "  <tbody>\n",
       "    <tr>\n",
       "      <th>1</th>\n",
       "      <td>619</td>\n",
       "      <td>France</td>\n",
       "      <td>Female</td>\n",
       "      <td>42</td>\n",
       "      <td>2</td>\n",
       "      <td>0.000</td>\n",
       "      <td>1</td>\n",
       "      <td>1</td>\n",
       "      <td>1</td>\n",
       "      <td>101348.880</td>\n",
       "      <td>1</td>\n",
       "    </tr>\n",
       "    <tr>\n",
       "      <th>2</th>\n",
       "      <td>608</td>\n",
       "      <td>Spain</td>\n",
       "      <td>Female</td>\n",
       "      <td>41</td>\n",
       "      <td>1</td>\n",
       "      <td>83807.860</td>\n",
       "      <td>1</td>\n",
       "      <td>0</td>\n",
       "      <td>1</td>\n",
       "      <td>112542.580</td>\n",
       "      <td>0</td>\n",
       "    </tr>\n",
       "    <tr>\n",
       "      <th>3</th>\n",
       "      <td>502</td>\n",
       "      <td>France</td>\n",
       "      <td>Female</td>\n",
       "      <td>42</td>\n",
       "      <td>8</td>\n",
       "      <td>159660.800</td>\n",
       "      <td>3</td>\n",
       "      <td>1</td>\n",
       "      <td>0</td>\n",
       "      <td>113931.570</td>\n",
       "      <td>1</td>\n",
       "    </tr>\n",
       "    <tr>\n",
       "      <th>4</th>\n",
       "      <td>699</td>\n",
       "      <td>France</td>\n",
       "      <td>Female</td>\n",
       "      <td>39</td>\n",
       "      <td>1</td>\n",
       "      <td>0.000</td>\n",
       "      <td>2</td>\n",
       "      <td>0</td>\n",
       "      <td>0</td>\n",
       "      <td>93826.630</td>\n",
       "      <td>0</td>\n",
       "    </tr>\n",
       "    <tr>\n",
       "      <th>5</th>\n",
       "      <td>850</td>\n",
       "      <td>Spain</td>\n",
       "      <td>Female</td>\n",
       "      <td>43</td>\n",
       "      <td>2</td>\n",
       "      <td>125510.820</td>\n",
       "      <td>1</td>\n",
       "      <td>1</td>\n",
       "      <td>1</td>\n",
       "      <td>79084.100</td>\n",
       "      <td>0</td>\n",
       "    </tr>\n",
       "    <tr>\n",
       "      <th>...</th>\n",
       "      <td>...</td>\n",
       "      <td>...</td>\n",
       "      <td>...</td>\n",
       "      <td>...</td>\n",
       "      <td>...</td>\n",
       "      <td>...</td>\n",
       "      <td>...</td>\n",
       "      <td>...</td>\n",
       "      <td>...</td>\n",
       "      <td>...</td>\n",
       "      <td>...</td>\n",
       "    </tr>\n",
       "    <tr>\n",
       "      <th>9996</th>\n",
       "      <td>771</td>\n",
       "      <td>France</td>\n",
       "      <td>Male</td>\n",
       "      <td>39</td>\n",
       "      <td>5</td>\n",
       "      <td>0.000</td>\n",
       "      <td>2</td>\n",
       "      <td>1</td>\n",
       "      <td>0</td>\n",
       "      <td>96270.640</td>\n",
       "      <td>0</td>\n",
       "    </tr>\n",
       "    <tr>\n",
       "      <th>9997</th>\n",
       "      <td>516</td>\n",
       "      <td>France</td>\n",
       "      <td>Male</td>\n",
       "      <td>35</td>\n",
       "      <td>10</td>\n",
       "      <td>57369.610</td>\n",
       "      <td>1</td>\n",
       "      <td>1</td>\n",
       "      <td>1</td>\n",
       "      <td>101699.770</td>\n",
       "      <td>0</td>\n",
       "    </tr>\n",
       "    <tr>\n",
       "      <th>9998</th>\n",
       "      <td>709</td>\n",
       "      <td>France</td>\n",
       "      <td>Female</td>\n",
       "      <td>36</td>\n",
       "      <td>7</td>\n",
       "      <td>0.000</td>\n",
       "      <td>1</td>\n",
       "      <td>0</td>\n",
       "      <td>1</td>\n",
       "      <td>42085.580</td>\n",
       "      <td>1</td>\n",
       "    </tr>\n",
       "    <tr>\n",
       "      <th>9999</th>\n",
       "      <td>772</td>\n",
       "      <td>Germany</td>\n",
       "      <td>Male</td>\n",
       "      <td>42</td>\n",
       "      <td>3</td>\n",
       "      <td>75075.310</td>\n",
       "      <td>2</td>\n",
       "      <td>1</td>\n",
       "      <td>0</td>\n",
       "      <td>92888.520</td>\n",
       "      <td>1</td>\n",
       "    </tr>\n",
       "    <tr>\n",
       "      <th>10000</th>\n",
       "      <td>792</td>\n",
       "      <td>France</td>\n",
       "      <td>Female</td>\n",
       "      <td>28</td>\n",
       "      <td>4</td>\n",
       "      <td>130142.790</td>\n",
       "      <td>1</td>\n",
       "      <td>1</td>\n",
       "      <td>0</td>\n",
       "      <td>38190.780</td>\n",
       "      <td>0</td>\n",
       "    </tr>\n",
       "  </tbody>\n",
       "</table>\n",
       "<p>10000 rows × 11 columns</p>\n",
       "</div>"
      ],
      "text/plain": [
       "           CreditScore Geography  Gender  Age  Tenure    Balance  \\\n",
       "RowNumber                                                          \n",
       "1                  619    France  Female   42       2      0.000   \n",
       "2                  608     Spain  Female   41       1  83807.860   \n",
       "3                  502    France  Female   42       8 159660.800   \n",
       "4                  699    France  Female   39       1      0.000   \n",
       "5                  850     Spain  Female   43       2 125510.820   \n",
       "...                ...       ...     ...  ...     ...        ...   \n",
       "9996               771    France    Male   39       5      0.000   \n",
       "9997               516    France    Male   35      10  57369.610   \n",
       "9998               709    France  Female   36       7      0.000   \n",
       "9999               772   Germany    Male   42       3  75075.310   \n",
       "10000              792    France  Female   28       4 130142.790   \n",
       "\n",
       "           NumOfProducts  HasCrCard  IsActiveMember  EstimatedSalary  Exited  \n",
       "RowNumber                                                                     \n",
       "1                      1          1               1       101348.880       1  \n",
       "2                      1          0               1       112542.580       0  \n",
       "3                      3          1               0       113931.570       1  \n",
       "4                      2          0               0        93826.630       0  \n",
       "5                      1          1               1        79084.100       0  \n",
       "...                  ...        ...             ...              ...     ...  \n",
       "9996                   2          1               0        96270.640       0  \n",
       "9997                   1          1               1       101699.770       0  \n",
       "9998                   1          0               1        42085.580       1  \n",
       "9999                   2          1               0        92888.520       1  \n",
       "10000                  1          1               0        38190.780       0  \n",
       "\n",
       "[10000 rows x 11 columns]"
      ]
     },
     "execution_count": 22,
     "metadata": {},
     "output_type": "execute_result"
    }
   ],
   "source": [
    "df"
   ]
  },
  {
   "cell_type": "code",
   "execution_count": 23,
   "metadata": {},
   "outputs": [],
   "source": [
    "df.insert(10, \"customer_value\", customer_value)"
   ]
  },
  {
   "cell_type": "code",
   "execution_count": 24,
   "metadata": {},
   "outputs": [
    {
     "data": {
      "text/plain": [
       "RowNumber\n",
       "1        3\n",
       "2        2\n",
       "3        1\n",
       "4        2\n",
       "5        4\n",
       "        ..\n",
       "9996     4\n",
       "9997     1\n",
       "9998     2\n",
       "9999     4\n",
       "10000    4\n",
       "Name: customer_value, Length: 10000, dtype: int64"
      ]
     },
     "execution_count": 24,
     "metadata": {},
     "output_type": "execute_result"
    }
   ],
   "source": [
    "df.customer_value"
   ]
  },
  {
   "cell_type": "markdown",
   "metadata": {},
   "source": [
    "from sklearn.preprocessing import OrdinalEncoder\n",
    "\n",
    "encoder = OrdinalEncoder()\n",
    "\n",
    "result = encoder.fit_transform(df.customer_value.values.reshape(-1, 1))\n",
    "print(result)\n"
   ]
  },
  {
   "cell_type": "markdown",
   "metadata": {},
   "source": [
    "df.customer_value = result\n",
    "df.customer_value"
   ]
  },
  {
   "cell_type": "code",
   "execution_count": 25,
   "metadata": {},
   "outputs": [
    {
     "data": {
      "text/html": [
       "<div>\n",
       "<style scoped>\n",
       "    .dataframe tbody tr th:only-of-type {\n",
       "        vertical-align: middle;\n",
       "    }\n",
       "\n",
       "    .dataframe tbody tr th {\n",
       "        vertical-align: top;\n",
       "    }\n",
       "\n",
       "    .dataframe thead th {\n",
       "        text-align: right;\n",
       "    }\n",
       "</style>\n",
       "<table border=\"1\" class=\"dataframe\">\n",
       "  <thead>\n",
       "    <tr style=\"text-align: right;\">\n",
       "      <th></th>\n",
       "      <th>CreditScore</th>\n",
       "      <th>Geography</th>\n",
       "      <th>Gender</th>\n",
       "      <th>Age</th>\n",
       "      <th>Tenure</th>\n",
       "      <th>Balance</th>\n",
       "      <th>NumOfProducts</th>\n",
       "      <th>HasCrCard</th>\n",
       "      <th>IsActiveMember</th>\n",
       "      <th>EstimatedSalary</th>\n",
       "      <th>customer_value</th>\n",
       "      <th>Exited</th>\n",
       "    </tr>\n",
       "    <tr>\n",
       "      <th>RowNumber</th>\n",
       "      <th></th>\n",
       "      <th></th>\n",
       "      <th></th>\n",
       "      <th></th>\n",
       "      <th></th>\n",
       "      <th></th>\n",
       "      <th></th>\n",
       "      <th></th>\n",
       "      <th></th>\n",
       "      <th></th>\n",
       "      <th></th>\n",
       "      <th></th>\n",
       "    </tr>\n",
       "  </thead>\n",
       "  <tbody>\n",
       "    <tr>\n",
       "      <th>1</th>\n",
       "      <td>619</td>\n",
       "      <td>France</td>\n",
       "      <td>Female</td>\n",
       "      <td>42</td>\n",
       "      <td>2</td>\n",
       "      <td>0.000</td>\n",
       "      <td>1</td>\n",
       "      <td>1</td>\n",
       "      <td>1</td>\n",
       "      <td>101348.880</td>\n",
       "      <td>3</td>\n",
       "      <td>1</td>\n",
       "    </tr>\n",
       "    <tr>\n",
       "      <th>2</th>\n",
       "      <td>608</td>\n",
       "      <td>Spain</td>\n",
       "      <td>Female</td>\n",
       "      <td>41</td>\n",
       "      <td>1</td>\n",
       "      <td>83807.860</td>\n",
       "      <td>1</td>\n",
       "      <td>0</td>\n",
       "      <td>1</td>\n",
       "      <td>112542.580</td>\n",
       "      <td>2</td>\n",
       "      <td>0</td>\n",
       "    </tr>\n",
       "    <tr>\n",
       "      <th>3</th>\n",
       "      <td>502</td>\n",
       "      <td>France</td>\n",
       "      <td>Female</td>\n",
       "      <td>42</td>\n",
       "      <td>8</td>\n",
       "      <td>159660.800</td>\n",
       "      <td>3</td>\n",
       "      <td>1</td>\n",
       "      <td>0</td>\n",
       "      <td>113931.570</td>\n",
       "      <td>1</td>\n",
       "      <td>1</td>\n",
       "    </tr>\n",
       "    <tr>\n",
       "      <th>4</th>\n",
       "      <td>699</td>\n",
       "      <td>France</td>\n",
       "      <td>Female</td>\n",
       "      <td>39</td>\n",
       "      <td>1</td>\n",
       "      <td>0.000</td>\n",
       "      <td>2</td>\n",
       "      <td>0</td>\n",
       "      <td>0</td>\n",
       "      <td>93826.630</td>\n",
       "      <td>2</td>\n",
       "      <td>0</td>\n",
       "    </tr>\n",
       "    <tr>\n",
       "      <th>5</th>\n",
       "      <td>850</td>\n",
       "      <td>Spain</td>\n",
       "      <td>Female</td>\n",
       "      <td>43</td>\n",
       "      <td>2</td>\n",
       "      <td>125510.820</td>\n",
       "      <td>1</td>\n",
       "      <td>1</td>\n",
       "      <td>1</td>\n",
       "      <td>79084.100</td>\n",
       "      <td>4</td>\n",
       "      <td>0</td>\n",
       "    </tr>\n",
       "    <tr>\n",
       "      <th>...</th>\n",
       "      <td>...</td>\n",
       "      <td>...</td>\n",
       "      <td>...</td>\n",
       "      <td>...</td>\n",
       "      <td>...</td>\n",
       "      <td>...</td>\n",
       "      <td>...</td>\n",
       "      <td>...</td>\n",
       "      <td>...</td>\n",
       "      <td>...</td>\n",
       "      <td>...</td>\n",
       "      <td>...</td>\n",
       "    </tr>\n",
       "    <tr>\n",
       "      <th>9996</th>\n",
       "      <td>771</td>\n",
       "      <td>France</td>\n",
       "      <td>Male</td>\n",
       "      <td>39</td>\n",
       "      <td>5</td>\n",
       "      <td>0.000</td>\n",
       "      <td>2</td>\n",
       "      <td>1</td>\n",
       "      <td>0</td>\n",
       "      <td>96270.640</td>\n",
       "      <td>4</td>\n",
       "      <td>0</td>\n",
       "    </tr>\n",
       "    <tr>\n",
       "      <th>9997</th>\n",
       "      <td>516</td>\n",
       "      <td>France</td>\n",
       "      <td>Male</td>\n",
       "      <td>35</td>\n",
       "      <td>10</td>\n",
       "      <td>57369.610</td>\n",
       "      <td>1</td>\n",
       "      <td>1</td>\n",
       "      <td>1</td>\n",
       "      <td>101699.770</td>\n",
       "      <td>1</td>\n",
       "      <td>0</td>\n",
       "    </tr>\n",
       "    <tr>\n",
       "      <th>9998</th>\n",
       "      <td>709</td>\n",
       "      <td>France</td>\n",
       "      <td>Female</td>\n",
       "      <td>36</td>\n",
       "      <td>7</td>\n",
       "      <td>0.000</td>\n",
       "      <td>1</td>\n",
       "      <td>0</td>\n",
       "      <td>1</td>\n",
       "      <td>42085.580</td>\n",
       "      <td>2</td>\n",
       "      <td>1</td>\n",
       "    </tr>\n",
       "    <tr>\n",
       "      <th>9999</th>\n",
       "      <td>772</td>\n",
       "      <td>Germany</td>\n",
       "      <td>Male</td>\n",
       "      <td>42</td>\n",
       "      <td>3</td>\n",
       "      <td>75075.310</td>\n",
       "      <td>2</td>\n",
       "      <td>1</td>\n",
       "      <td>0</td>\n",
       "      <td>92888.520</td>\n",
       "      <td>4</td>\n",
       "      <td>1</td>\n",
       "    </tr>\n",
       "    <tr>\n",
       "      <th>10000</th>\n",
       "      <td>792</td>\n",
       "      <td>France</td>\n",
       "      <td>Female</td>\n",
       "      <td>28</td>\n",
       "      <td>4</td>\n",
       "      <td>130142.790</td>\n",
       "      <td>1</td>\n",
       "      <td>1</td>\n",
       "      <td>0</td>\n",
       "      <td>38190.780</td>\n",
       "      <td>4</td>\n",
       "      <td>0</td>\n",
       "    </tr>\n",
       "  </tbody>\n",
       "</table>\n",
       "<p>10000 rows × 12 columns</p>\n",
       "</div>"
      ],
      "text/plain": [
       "           CreditScore Geography  Gender  Age  Tenure    Balance  \\\n",
       "RowNumber                                                          \n",
       "1                  619    France  Female   42       2      0.000   \n",
       "2                  608     Spain  Female   41       1  83807.860   \n",
       "3                  502    France  Female   42       8 159660.800   \n",
       "4                  699    France  Female   39       1      0.000   \n",
       "5                  850     Spain  Female   43       2 125510.820   \n",
       "...                ...       ...     ...  ...     ...        ...   \n",
       "9996               771    France    Male   39       5      0.000   \n",
       "9997               516    France    Male   35      10  57369.610   \n",
       "9998               709    France  Female   36       7      0.000   \n",
       "9999               772   Germany    Male   42       3  75075.310   \n",
       "10000              792    France  Female   28       4 130142.790   \n",
       "\n",
       "           NumOfProducts  HasCrCard  IsActiveMember  EstimatedSalary  \\\n",
       "RowNumber                                                              \n",
       "1                      1          1               1       101348.880   \n",
       "2                      1          0               1       112542.580   \n",
       "3                      3          1               0       113931.570   \n",
       "4                      2          0               0        93826.630   \n",
       "5                      1          1               1        79084.100   \n",
       "...                  ...        ...             ...              ...   \n",
       "9996                   2          1               0        96270.640   \n",
       "9997                   1          1               1       101699.770   \n",
       "9998                   1          0               1        42085.580   \n",
       "9999                   2          1               0        92888.520   \n",
       "10000                  1          1               0        38190.780   \n",
       "\n",
       "           customer_value  Exited  \n",
       "RowNumber                          \n",
       "1                       3       1  \n",
       "2                       2       0  \n",
       "3                       1       1  \n",
       "4                       2       0  \n",
       "5                       4       0  \n",
       "...                   ...     ...  \n",
       "9996                    4       0  \n",
       "9997                    1       0  \n",
       "9998                    2       1  \n",
       "9999                    4       1  \n",
       "10000                   4       0  \n",
       "\n",
       "[10000 rows x 12 columns]"
      ]
     },
     "execution_count": 25,
     "metadata": {},
     "output_type": "execute_result"
    }
   ],
   "source": [
    "df"
   ]
  },
  {
   "cell_type": "code",
   "execution_count": 26,
   "metadata": {
    "cell_style": "split",
    "colab": {
     "base_uri": "https://localhost:8080/",
     "height": 981
    },
    "executionInfo": {
     "elapsed": 5978,
     "status": "ok",
     "timestamp": 1610202268770,
     "user": {
      "displayName": "Richard C",
      "photoUrl": "",
      "userId": "08040814671867660929"
     },
     "user_tz": -180
    },
    "id": "fNDK3HprhSU3",
    "outputId": "98fe8eba-dc36-4cc7-96ad-ff61182d12a2"
   },
   "outputs": [
    {
     "data": {
      "text/plain": [
       "<AxesSubplot:>"
      ]
     },
     "execution_count": 26,
     "metadata": {},
     "output_type": "execute_result"
    },
    {
     "data": {
      "image/png": "[encoded data removed]",
      "text/plain": [
       "<Figure size 1152x864 with 2 Axes>"
      ]
     },
     "metadata": {},
     "output_type": "display_data"
    }
   ],
   "source": [
    "plt.figure(figsize=(16, 12))\n",
    "sns.heatmap(df.corr(), annot=True, cmap='viridis')"
   ]
  },
  {
   "cell_type": "code",
   "execution_count": 27,
   "metadata": {
    "cell_style": "split",
    "colab": {
     "base_uri": "https://localhost:8080/",
     "height": 391
    },
    "executionInfo": {
     "elapsed": 1405,
     "status": "ok",
     "timestamp": 1610203065835,
     "user": {
      "displayName": "Richard C",
      "photoUrl": "",
      "userId": "08040814671867660929"
     },
     "user_tz": -180
    },
    "id": "IasR3c8ajeC0",
    "outputId": "4742bedb-e6bc-4967-f1cd-c36f7610f33e"
   },
   "outputs": [
    {
     "data": {
      "image/png": "[encoded data removed]",
      "text/plain": [
       "<Figure size 864x432 with 1 Axes>"
      ]
     },
     "metadata": {},
     "output_type": "display_data"
    }
   ],
   "source": [
    "df.corr()['Exited'][:-1].sort_values().plot.barh();"
   ]
  },
  {
   "cell_type": "code",
   "execution_count": null,
   "metadata": {},
   "outputs": [],
   "source": []
  },
  {
   "cell_type": "code",
   "execution_count": 28,
   "metadata": {},
   "outputs": [
    {
     "data": {
      "text/html": [
       "<div>\n",
       "<style scoped>\n",
       "    .dataframe tbody tr th:only-of-type {\n",
       "        vertical-align: middle;\n",
       "    }\n",
       "\n",
       "    .dataframe tbody tr th {\n",
       "        vertical-align: top;\n",
       "    }\n",
       "\n",
       "    .dataframe thead th {\n",
       "        text-align: right;\n",
       "    }\n",
       "</style>\n",
       "<table border=\"1\" class=\"dataframe\">\n",
       "  <thead>\n",
       "    <tr style=\"text-align: right;\">\n",
       "      <th></th>\n",
       "      <th>CreditScore</th>\n",
       "      <th>Age</th>\n",
       "      <th>Tenure</th>\n",
       "      <th>Balance</th>\n",
       "      <th>NumOfProducts</th>\n",
       "      <th>HasCrCard</th>\n",
       "      <th>IsActiveMember</th>\n",
       "      <th>EstimatedSalary</th>\n",
       "      <th>customer_value</th>\n",
       "      <th>Exited</th>\n",
       "      <th>Geography_France</th>\n",
       "      <th>Geography_Germany</th>\n",
       "      <th>Geography_Spain</th>\n",
       "      <th>Gender_Female</th>\n",
       "      <th>Gender_Male</th>\n",
       "    </tr>\n",
       "    <tr>\n",
       "      <th>RowNumber</th>\n",
       "      <th></th>\n",
       "      <th></th>\n",
       "      <th></th>\n",
       "      <th></th>\n",
       "      <th></th>\n",
       "      <th></th>\n",
       "      <th></th>\n",
       "      <th></th>\n",
       "      <th></th>\n",
       "      <th></th>\n",
       "      <th></th>\n",
       "      <th></th>\n",
       "      <th></th>\n",
       "      <th></th>\n",
       "      <th></th>\n",
       "    </tr>\n",
       "  </thead>\n",
       "  <tbody>\n",
       "    <tr>\n",
       "      <th>1</th>\n",
       "      <td>619</td>\n",
       "      <td>42</td>\n",
       "      <td>2</td>\n",
       "      <td>0.000</td>\n",
       "      <td>1</td>\n",
       "      <td>1</td>\n",
       "      <td>1</td>\n",
       "      <td>101348.880</td>\n",
       "      <td>3</td>\n",
       "      <td>1</td>\n",
       "      <td>1</td>\n",
       "      <td>0</td>\n",
       "      <td>0</td>\n",
       "      <td>1</td>\n",
       "      <td>0</td>\n",
       "    </tr>\n",
       "    <tr>\n",
       "      <th>2</th>\n",
       "      <td>608</td>\n",
       "      <td>41</td>\n",
       "      <td>1</td>\n",
       "      <td>83807.860</td>\n",
       "      <td>1</td>\n",
       "      <td>0</td>\n",
       "      <td>1</td>\n",
       "      <td>112542.580</td>\n",
       "      <td>2</td>\n",
       "      <td>0</td>\n",
       "      <td>0</td>\n",
       "      <td>0</td>\n",
       "      <td>1</td>\n",
       "      <td>1</td>\n",
       "      <td>0</td>\n",
       "    </tr>\n",
       "    <tr>\n",
       "      <th>3</th>\n",
       "      <td>502</td>\n",
       "      <td>42</td>\n",
       "      <td>8</td>\n",
       "      <td>159660.800</td>\n",
       "      <td>3</td>\n",
       "      <td>1</td>\n",
       "      <td>0</td>\n",
       "      <td>113931.570</td>\n",
       "      <td>1</td>\n",
       "      <td>1</td>\n",
       "      <td>1</td>\n",
       "      <td>0</td>\n",
       "      <td>0</td>\n",
       "      <td>1</td>\n",
       "      <td>0</td>\n",
       "    </tr>\n",
       "    <tr>\n",
       "      <th>4</th>\n",
       "      <td>699</td>\n",
       "      <td>39</td>\n",
       "      <td>1</td>\n",
       "      <td>0.000</td>\n",
       "      <td>2</td>\n",
       "      <td>0</td>\n",
       "      <td>0</td>\n",
       "      <td>93826.630</td>\n",
       "      <td>2</td>\n",
       "      <td>0</td>\n",
       "      <td>1</td>\n",
       "      <td>0</td>\n",
       "      <td>0</td>\n",
       "      <td>1</td>\n",
       "      <td>0</td>\n",
       "    </tr>\n",
       "    <tr>\n",
       "      <th>5</th>\n",
       "      <td>850</td>\n",
       "      <td>43</td>\n",
       "      <td>2</td>\n",
       "      <td>125510.820</td>\n",
       "      <td>1</td>\n",
       "      <td>1</td>\n",
       "      <td>1</td>\n",
       "      <td>79084.100</td>\n",
       "      <td>4</td>\n",
       "      <td>0</td>\n",
       "      <td>0</td>\n",
       "      <td>0</td>\n",
       "      <td>1</td>\n",
       "      <td>1</td>\n",
       "      <td>0</td>\n",
       "    </tr>\n",
       "  </tbody>\n",
       "</table>\n",
       "</div>"
      ],
      "text/plain": [
       "           CreditScore  Age  Tenure    Balance  NumOfProducts  HasCrCard  \\\n",
       "RowNumber                                                                  \n",
       "1                  619   42       2      0.000              1          1   \n",
       "2                  608   41       1  83807.860              1          0   \n",
       "3                  502   42       8 159660.800              3          1   \n",
       "4                  699   39       1      0.000              2          0   \n",
       "5                  850   43       2 125510.820              1          1   \n",
       "\n",
       "           IsActiveMember  EstimatedSalary  customer_value  Exited  \\\n",
       "RowNumber                                                            \n",
       "1                       1       101348.880               3       1   \n",
       "2                       1       112542.580               2       0   \n",
       "3                       0       113931.570               1       1   \n",
       "4                       0        93826.630               2       0   \n",
       "5                       1        79084.100               4       0   \n",
       "\n",
       "           Geography_France  Geography_Germany  Geography_Spain  \\\n",
       "RowNumber                                                         \n",
       "1                         1                  0                0   \n",
       "2                         0                  0                1   \n",
       "3                         1                  0                0   \n",
       "4                         1                  0                0   \n",
       "5                         0                  0                1   \n",
       "\n",
       "           Gender_Female  Gender_Male  \n",
       "RowNumber                              \n",
       "1                      1            0  \n",
       "2                      1            0  \n",
       "3                      1            0  \n",
       "4                      1            0  \n",
       "5                      1            0  "
      ]
     },
     "execution_count": 28,
     "metadata": {},
     "output_type": "execute_result"
    }
   ],
   "source": [
    "df = pd.get_dummies(df)\n",
    "df.head()"
   ]
  },
  {
   "cell_type": "markdown",
   "metadata": {},
   "source": [
    "## Preprocessing of Data"
   ]
  },
  {
   "cell_type": "code",
   "execution_count": 29,
   "metadata": {
    "executionInfo": {
     "elapsed": 764,
     "status": "ok",
     "timestamp": 1610203310512,
     "user": {
      "displayName": "Richard C",
      "photoUrl": "",
      "userId": "08040814671867660929"
     },
     "user_tz": -180
    },
    "id": "DjY-ZSPWka7D"
   },
   "outputs": [],
   "source": [
    "from sklearn.model_selection import train_test_split\n",
    "from sklearn.preprocessing import MinMaxScaler"
   ]
  },
  {
   "cell_type": "code",
   "execution_count": 30,
   "metadata": {
    "cell_style": "center",
    "executionInfo": {
     "elapsed": 1126,
     "status": "ok",
     "timestamp": 1610203246314,
     "user": {
      "displayName": "Richard C",
      "photoUrl": "",
      "userId": "08040814671867660929"
     },
     "user_tz": -180
    },
    "id": "kjyTH753lq7M"
   },
   "outputs": [],
   "source": [
    "X = df.drop('Exited', axis=1)\n",
    "y = df['Exited'].values\n",
    "\n",
    "X_train, X_test, y_train, y_test = train_test_split(X,\n",
    "                                                    y,\n",
    "                                                    stratify=y,\n",
    "                                                    test_size=0.1,\n",
    "                                                    random_state=42)\n"
   ]
  },
  {
   "cell_type": "code",
   "execution_count": 31,
   "metadata": {
    "cell_style": "split"
   },
   "outputs": [],
   "source": [
    "scaler = MinMaxScaler()\n"
   ]
  },
  {
   "cell_type": "code",
   "execution_count": 32,
   "metadata": {
    "cell_style": "split",
    "executionInfo": {
     "elapsed": 696,
     "status": "ok",
     "timestamp": 1610203508023,
     "user": {
      "displayName": "Richard C",
      "photoUrl": "",
      "userId": "08040814671867660929"
     },
     "user_tz": -180
    },
    "id": "Fgy3D9SBmWcq"
   },
   "outputs": [],
   "source": [
    "X_train = scaler.fit_transform(X_train)\n",
    "X_test = scaler.transform(X_test)"
   ]
  },
  {
   "cell_type": "markdown",
   "metadata": {
    "id": "Ha9hDt_AoGaE"
   },
   "source": [
    "## Modelling & Model Performance"
   ]
  },
  {
   "cell_type": "markdown",
   "metadata": {},
   "source": [
    "<span class=\"mark\">How many hidden layers should I use? : http://www.faqs.org/faqs/ai-faq/neural-nets/part3/section-9.html (mirror: http://francky.me/aifaq/FAQ-comp.ai.neural-net.pdf)\n",
    "How many hidden units should I use? : http://www.faqs.org/faqs/ai-faq/neural-nets/part3/section-10.html (mirror: http://francky.me/aifaq/FAQ-comp.ai.neural-net.pdf)\n",
    "What is genetic algorithm? : https://www.researchgate.net/post/What_is_genetic_algorithm1\n",
    "Genetic algorithm + neural networks: http://francky.me/doc/mrf2011-HEC-ISIR-ENS_en.pdf (chapter 2.2)</span>"
   ]
  },
  {
   "cell_type": "markdown",
   "metadata": {},
   "source": [
    "### without class_weigth"
   ]
  },
  {
   "cell_type": "code",
   "execution_count": 33,
   "metadata": {
    "cell_style": "split"
   },
   "outputs": [],
   "source": [
    "model = Sequential()\n",
    "\n",
    "model.add(Dense(30, activation=\"relu\"))\n",
    "model.add(Dropout(0.5))\n",
    "model.add(Dense(15, activation=\"relu\"))\n",
    "model.add(Dropout(0.5))\n",
    "model.add(Dense(1, activation=\"sigmoid\"))\n",
    "\n",
    "opt = Adam(lr=0.001)\n",
    "model.compile(optimizer=opt, \n",
    "              loss=\"binary_crossentropy\",\n",
    "              metrics=[\"Accuracy\"])"
   ]
  },
  {
   "cell_type": "markdown",
   "metadata": {
    "cell_style": "split"
   },
   "source": [
    "<span class=\"burk\">The patience is often set somewhere between 10 and 100 (10 or 20 is more common), but it really depends on your dataset and network.</span>"
   ]
  },
  {
   "cell_type": "code",
   "execution_count": 34,
   "metadata": {
    "cell_style": "split"
   },
   "outputs": [],
   "source": [
    "early_stop = EarlyStopping(monitor=\"val_loss\",\n",
    "                           mode=\"auto\",\n",
    "                           verbose=1,\n",
    "                           patience=30)"
   ]
  },
  {
   "cell_type": "code",
   "execution_count": 35,
   "metadata": {
    "cell_style": "center",
    "scrolled": true
   },
   "outputs": [
    {
     "name": "stdout",
     "output_type": "stream",
     "text": [
      "Epoch 1/500\n",
      "64/64 [==============================] - 0s 2ms/step - loss: 0.6092 - Accuracy: 0.6848 - val_loss: 0.4920 - val_Accuracy: 0.7989\n",
      "Epoch 2/500\n",
      "64/64 [==============================] - 0s 760us/step - loss: 0.5390 - Accuracy: 0.7822 - val_loss: 0.4776 - val_Accuracy: 0.7989\n",
      "Epoch 3/500\n",
      "64/64 [==============================] - 0s 776us/step - loss: 0.5244 - Accuracy: 0.7905 - val_loss: 0.4670 - val_Accuracy: 0.7989\n",
      "Epoch 4/500\n",
      "64/64 [==============================] - 0s 769us/step - loss: 0.5134 - Accuracy: 0.7935 - val_loss: 0.4616 - val_Accuracy: 0.7989\n",
      "Epoch 5/500\n",
      "64/64 [==============================] - 0s 792us/step - loss: 0.5066 - Accuracy: 0.7959 - val_loss: 0.4570 - val_Accuracy: 0.7989\n",
      "Epoch 6/500\n",
      "64/64 [==============================] - 0s 792us/step - loss: 0.5014 - Accuracy: 0.7951 - val_loss: 0.4549 - val_Accuracy: 0.7989\n",
      "Epoch 7/500\n",
      "64/64 [==============================] - 0s 776us/step - loss: 0.4893 - Accuracy: 0.7963 - val_loss: 0.4471 - val_Accuracy: 0.7989\n",
      "Epoch 8/500\n",
      "64/64 [==============================] - 0s 773us/step - loss: 0.4917 - Accuracy: 0.7962 - val_loss: 0.4444 - val_Accuracy: 0.7989\n",
      "Epoch 9/500\n",
      "64/64 [==============================] - 0s 776us/step - loss: 0.4814 - Accuracy: 0.7960 - val_loss: 0.4407 - val_Accuracy: 0.7989\n",
      "Epoch 10/500\n",
      "64/64 [==============================] - 0s 769us/step - loss: 0.4846 - Accuracy: 0.7962 - val_loss: 0.4401 - val_Accuracy: 0.7989\n",
      "Epoch 11/500\n",
      "64/64 [==============================] - 0s 792us/step - loss: 0.4834 - Accuracy: 0.7974 - val_loss: 0.4374 - val_Accuracy: 0.7989\n",
      "Epoch 12/500\n",
      "64/64 [==============================] - 0s 755us/step - loss: 0.4823 - Accuracy: 0.7963 - val_loss: 0.4392 - val_Accuracy: 0.7989\n",
      "Epoch 13/500\n",
      "64/64 [==============================] - 0s 776us/step - loss: 0.4724 - Accuracy: 0.7972 - val_loss: 0.4342 - val_Accuracy: 0.7989\n",
      "Epoch 14/500\n",
      "64/64 [==============================] - 0s 760us/step - loss: 0.4674 - Accuracy: 0.7973 - val_loss: 0.4300 - val_Accuracy: 0.7989\n",
      "Epoch 15/500\n",
      "64/64 [==============================] - 0s 760us/step - loss: 0.4713 - Accuracy: 0.7972 - val_loss: 0.4308 - val_Accuracy: 0.7989\n",
      "Epoch 16/500\n",
      "64/64 [==============================] - 0s 760us/step - loss: 0.4693 - Accuracy: 0.7969 - val_loss: 0.4267 - val_Accuracy: 0.7989\n",
      "Epoch 17/500\n",
      "64/64 [==============================] - 0s 760us/step - loss: 0.4647 - Accuracy: 0.7986 - val_loss: 0.4236 - val_Accuracy: 0.7989\n",
      "Epoch 18/500\n",
      "64/64 [==============================] - 0s 760us/step - loss: 0.4618 - Accuracy: 0.7999 - val_loss: 0.4202 - val_Accuracy: 0.7989\n",
      "Epoch 19/500\n",
      "64/64 [==============================] - 0s 760us/step - loss: 0.4575 - Accuracy: 0.7991 - val_loss: 0.4171 - val_Accuracy: 0.7989\n",
      "Epoch 20/500\n",
      "64/64 [==============================] - 0s 760us/step - loss: 0.4581 - Accuracy: 0.8006 - val_loss: 0.4128 - val_Accuracy: 0.8000\n",
      "Epoch 21/500\n",
      "64/64 [==============================] - 0s 787us/step - loss: 0.4533 - Accuracy: 0.8021 - val_loss: 0.4113 - val_Accuracy: 0.8089\n",
      "Epoch 22/500\n",
      "64/64 [==============================] - 0s 776us/step - loss: 0.4555 - Accuracy: 0.8025 - val_loss: 0.4093 - val_Accuracy: 0.8144\n",
      "Epoch 23/500\n",
      "64/64 [==============================] - 0s 776us/step - loss: 0.4489 - Accuracy: 0.8056 - val_loss: 0.4055 - val_Accuracy: 0.8244\n",
      "Epoch 24/500\n",
      "64/64 [==============================] - 0s 792us/step - loss: 0.4475 - Accuracy: 0.8046 - val_loss: 0.3989 - val_Accuracy: 0.8278\n",
      "Epoch 25/500\n",
      "64/64 [==============================] - 0s 760us/step - loss: 0.4459 - Accuracy: 0.8038 - val_loss: 0.3959 - val_Accuracy: 0.8256\n",
      "Epoch 26/500\n",
      "64/64 [==============================] - 0s 776us/step - loss: 0.4370 - Accuracy: 0.8038 - val_loss: 0.3895 - val_Accuracy: 0.8256\n",
      "Epoch 27/500\n",
      "64/64 [==============================] - 0s 744us/step - loss: 0.4375 - Accuracy: 0.8081 - val_loss: 0.3887 - val_Accuracy: 0.8300\n",
      "Epoch 28/500\n",
      "64/64 [==============================] - 0s 776us/step - loss: 0.4363 - Accuracy: 0.8119 - val_loss: 0.3826 - val_Accuracy: 0.8378\n",
      "Epoch 29/500\n",
      "64/64 [==============================] - 0s 744us/step - loss: 0.4345 - Accuracy: 0.8093 - val_loss: 0.3789 - val_Accuracy: 0.8444\n",
      "Epoch 30/500\n",
      "64/64 [==============================] - 0s 744us/step - loss: 0.4301 - Accuracy: 0.8115 - val_loss: 0.3741 - val_Accuracy: 0.8456\n",
      "Epoch 31/500\n",
      "64/64 [==============================] - 0s 744us/step - loss: 0.4242 - Accuracy: 0.8151 - val_loss: 0.3716 - val_Accuracy: 0.8544\n",
      "Epoch 32/500\n",
      "64/64 [==============================] - 0s 760us/step - loss: 0.4259 - Accuracy: 0.8180 - val_loss: 0.3658 - val_Accuracy: 0.8544\n",
      "Epoch 33/500\n",
      "64/64 [==============================] - 0s 760us/step - loss: 0.4251 - Accuracy: 0.8179 - val_loss: 0.3625 - val_Accuracy: 0.8567\n",
      "Epoch 34/500\n",
      "64/64 [==============================] - 0s 743us/step - loss: 0.4219 - Accuracy: 0.8178 - val_loss: 0.3592 - val_Accuracy: 0.8622\n",
      "Epoch 35/500\n",
      "64/64 [==============================] - 0s 776us/step - loss: 0.4135 - Accuracy: 0.8215 - val_loss: 0.3561 - val_Accuracy: 0.8622\n",
      "Epoch 36/500\n",
      "64/64 [==============================] - 0s 756us/step - loss: 0.4155 - Accuracy: 0.8236 - val_loss: 0.3539 - val_Accuracy: 0.8656\n",
      "Epoch 37/500\n",
      "64/64 [==============================] - 0s 776us/step - loss: 0.4128 - Accuracy: 0.8237 - val_loss: 0.3531 - val_Accuracy: 0.8667\n",
      "Epoch 38/500\n",
      "64/64 [==============================] - 0s 776us/step - loss: 0.4179 - Accuracy: 0.8253 - val_loss: 0.3513 - val_Accuracy: 0.8689\n",
      "Epoch 39/500\n",
      "64/64 [==============================] - 0s 776us/step - loss: 0.4069 - Accuracy: 0.8251 - val_loss: 0.3467 - val_Accuracy: 0.8744\n",
      "Epoch 40/500\n",
      "64/64 [==============================] - 0s 785us/step - loss: 0.4108 - Accuracy: 0.8243 - val_loss: 0.3462 - val_Accuracy: 0.8689\n",
      "Epoch 41/500\n",
      "64/64 [==============================] - 0s 776us/step - loss: 0.4049 - Accuracy: 0.8279 - val_loss: 0.3422 - val_Accuracy: 0.8644\n",
      "Epoch 42/500\n",
      "64/64 [==============================] - 0s 772us/step - loss: 0.4063 - Accuracy: 0.8232 - val_loss: 0.3382 - val_Accuracy: 0.8711\n",
      "Epoch 43/500\n",
      "64/64 [==============================] - 0s 760us/step - loss: 0.4076 - Accuracy: 0.8280 - val_loss: 0.3380 - val_Accuracy: 0.8744\n",
      "Epoch 44/500\n",
      "64/64 [==============================] - 0s 756us/step - loss: 0.4069 - Accuracy: 0.8285 - val_loss: 0.3387 - val_Accuracy: 0.8767\n",
      "Epoch 45/500\n",
      "64/64 [==============================] - 0s 760us/step - loss: 0.3997 - Accuracy: 0.8285 - val_loss: 0.3357 - val_Accuracy: 0.8756\n",
      "Epoch 46/500\n",
      "64/64 [==============================] - 0s 760us/step - loss: 0.4018 - Accuracy: 0.8280 - val_loss: 0.3342 - val_Accuracy: 0.8767\n",
      "Epoch 47/500\n",
      "64/64 [==============================] - 0s 760us/step - loss: 0.4039 - Accuracy: 0.8268 - val_loss: 0.3345 - val_Accuracy: 0.8744\n",
      "Epoch 48/500\n",
      "64/64 [==============================] - 0s 744us/step - loss: 0.4015 - Accuracy: 0.8290 - val_loss: 0.3324 - val_Accuracy: 0.8733\n",
      "Epoch 49/500\n",
      "64/64 [==============================] - 0s 760us/step - loss: 0.4046 - Accuracy: 0.8286 - val_loss: 0.3322 - val_Accuracy: 0.8722\n",
      "Epoch 50/500\n",
      "64/64 [==============================] - 0s 744us/step - loss: 0.3980 - Accuracy: 0.8326 - val_loss: 0.3312 - val_Accuracy: 0.8744\n",
      "Epoch 51/500\n",
      "64/64 [==============================] - 0s 760us/step - loss: 0.3994 - Accuracy: 0.8304 - val_loss: 0.3309 - val_Accuracy: 0.8756\n",
      "Epoch 52/500\n",
      "64/64 [==============================] - 0s 760us/step - loss: 0.4000 - Accuracy: 0.8305 - val_loss: 0.3293 - val_Accuracy: 0.8722\n",
      "Epoch 53/500\n",
      "64/64 [==============================] - 0s 744us/step - loss: 0.3981 - Accuracy: 0.8304 - val_loss: 0.3291 - val_Accuracy: 0.8711\n",
      "Epoch 54/500\n",
      "64/64 [==============================] - 0s 760us/step - loss: 0.3971 - Accuracy: 0.8333 - val_loss: 0.3277 - val_Accuracy: 0.8722\n",
      "Epoch 55/500\n",
      "64/64 [==============================] - 0s 744us/step - loss: 0.3997 - Accuracy: 0.8257 - val_loss: 0.3279 - val_Accuracy: 0.8722\n",
      "Epoch 56/500\n",
      "64/64 [==============================] - 0s 760us/step - loss: 0.3911 - Accuracy: 0.8359 - val_loss: 0.3261 - val_Accuracy: 0.8767\n",
      "Epoch 57/500\n",
      "64/64 [==============================] - 0s 792us/step - loss: 0.3983 - Accuracy: 0.8267 - val_loss: 0.3277 - val_Accuracy: 0.8767\n"
     ]
    },
    {
     "name": "stdout",
     "output_type": "stream",
     "text": [
      "Epoch 58/500\n",
      "64/64 [==============================] - 0s 776us/step - loss: 0.3920 - Accuracy: 0.8354 - val_loss: 0.3237 - val_Accuracy: 0.8789\n",
      "Epoch 59/500\n",
      "64/64 [==============================] - 0s 760us/step - loss: 0.3957 - Accuracy: 0.8332 - val_loss: 0.3231 - val_Accuracy: 0.8778\n",
      "Epoch 60/500\n",
      "64/64 [==============================] - 0s 760us/step - loss: 0.3899 - Accuracy: 0.8353 - val_loss: 0.3238 - val_Accuracy: 0.8756\n",
      "Epoch 61/500\n",
      "64/64 [==============================] - 0s 760us/step - loss: 0.3913 - Accuracy: 0.8375 - val_loss: 0.3222 - val_Accuracy: 0.8778\n",
      "Epoch 62/500\n",
      "64/64 [==============================] - 0s 776us/step - loss: 0.3949 - Accuracy: 0.8346 - val_loss: 0.3225 - val_Accuracy: 0.8722\n",
      "Epoch 63/500\n",
      "64/64 [==============================] - 0s 772us/step - loss: 0.3897 - Accuracy: 0.8342 - val_loss: 0.3207 - val_Accuracy: 0.8756\n",
      "Epoch 64/500\n",
      "64/64 [==============================] - 0s 760us/step - loss: 0.3901 - Accuracy: 0.8360 - val_loss: 0.3195 - val_Accuracy: 0.8767\n",
      "Epoch 65/500\n",
      "64/64 [==============================] - 0s 760us/step - loss: 0.3905 - Accuracy: 0.8338 - val_loss: 0.3206 - val_Accuracy: 0.8767\n",
      "Epoch 66/500\n",
      "64/64 [==============================] - 0s 758us/step - loss: 0.3922 - Accuracy: 0.8346 - val_loss: 0.3203 - val_Accuracy: 0.8767\n",
      "Epoch 67/500\n",
      "64/64 [==============================] - 0s 744us/step - loss: 0.3885 - Accuracy: 0.8362 - val_loss: 0.3208 - val_Accuracy: 0.8778\n",
      "Epoch 68/500\n",
      "64/64 [==============================] - 0s 760us/step - loss: 0.3919 - Accuracy: 0.8331 - val_loss: 0.3218 - val_Accuracy: 0.8767\n",
      "Epoch 69/500\n",
      "64/64 [==============================] - 0s 760us/step - loss: 0.3891 - Accuracy: 0.8344 - val_loss: 0.3191 - val_Accuracy: 0.8756\n",
      "Epoch 70/500\n",
      "64/64 [==============================] - 0s 760us/step - loss: 0.3926 - Accuracy: 0.8353 - val_loss: 0.3217 - val_Accuracy: 0.8722\n",
      "Epoch 71/500\n",
      "64/64 [==============================] - 0s 776us/step - loss: 0.3898 - Accuracy: 0.8388 - val_loss: 0.3185 - val_Accuracy: 0.8811\n",
      "Epoch 72/500\n",
      "64/64 [==============================] - 0s 776us/step - loss: 0.3883 - Accuracy: 0.8372 - val_loss: 0.3181 - val_Accuracy: 0.8767\n",
      "Epoch 73/500\n",
      "64/64 [==============================] - 0s 779us/step - loss: 0.3944 - Accuracy: 0.8358 - val_loss: 0.3170 - val_Accuracy: 0.8789\n",
      "Epoch 74/500\n",
      "64/64 [==============================] - 0s 760us/step - loss: 0.3910 - Accuracy: 0.8348 - val_loss: 0.3187 - val_Accuracy: 0.8778\n",
      "Epoch 75/500\n",
      "64/64 [==============================] - 0s 760us/step - loss: 0.3810 - Accuracy: 0.8385 - val_loss: 0.3122 - val_Accuracy: 0.8811\n",
      "Epoch 76/500\n",
      "64/64 [==============================] - 0s 760us/step - loss: 0.3851 - Accuracy: 0.8367 - val_loss: 0.3147 - val_Accuracy: 0.8778\n",
      "Epoch 77/500\n",
      "64/64 [==============================] - 0s 760us/step - loss: 0.3843 - Accuracy: 0.8381 - val_loss: 0.3122 - val_Accuracy: 0.8778\n",
      "Epoch 78/500\n",
      "64/64 [==============================] - 0s 744us/step - loss: 0.3843 - Accuracy: 0.8375 - val_loss: 0.3135 - val_Accuracy: 0.8800\n",
      "Epoch 79/500\n",
      "64/64 [==============================] - 0s 760us/step - loss: 0.3869 - Accuracy: 0.8383 - val_loss: 0.3119 - val_Accuracy: 0.8822\n",
      "Epoch 80/500\n",
      "64/64 [==============================] - 0s 744us/step - loss: 0.3861 - Accuracy: 0.8372 - val_loss: 0.3144 - val_Accuracy: 0.8778\n",
      "Epoch 81/500\n",
      "64/64 [==============================] - 0s 760us/step - loss: 0.3854 - Accuracy: 0.8393 - val_loss: 0.3136 - val_Accuracy: 0.8789\n",
      "Epoch 82/500\n",
      "64/64 [==============================] - 0s 753us/step - loss: 0.3871 - Accuracy: 0.8377 - val_loss: 0.3117 - val_Accuracy: 0.8811\n",
      "Epoch 83/500\n",
      "64/64 [==============================] - 0s 760us/step - loss: 0.3829 - Accuracy: 0.8400 - val_loss: 0.3099 - val_Accuracy: 0.8822\n",
      "Epoch 84/500\n",
      "64/64 [==============================] - 0s 744us/step - loss: 0.3841 - Accuracy: 0.8416 - val_loss: 0.3115 - val_Accuracy: 0.8811\n",
      "Epoch 85/500\n",
      "64/64 [==============================] - 0s 760us/step - loss: 0.3853 - Accuracy: 0.8388 - val_loss: 0.3114 - val_Accuracy: 0.8811\n",
      "Epoch 86/500\n",
      "64/64 [==============================] - 0s 776us/step - loss: 0.3865 - Accuracy: 0.8364 - val_loss: 0.3131 - val_Accuracy: 0.8778\n",
      "Epoch 87/500\n",
      "64/64 [==============================] - 0s 776us/step - loss: 0.3798 - Accuracy: 0.8412 - val_loss: 0.3118 - val_Accuracy: 0.8811\n",
      "Epoch 88/500\n",
      "64/64 [==============================] - 0s 760us/step - loss: 0.3848 - Accuracy: 0.8380 - val_loss: 0.3113 - val_Accuracy: 0.8822\n",
      "Epoch 89/500\n",
      "64/64 [==============================] - 0s 744us/step - loss: 0.3837 - Accuracy: 0.8396 - val_loss: 0.3097 - val_Accuracy: 0.8800\n",
      "Epoch 90/500\n",
      "64/64 [==============================] - 0s 776us/step - loss: 0.3802 - Accuracy: 0.8422 - val_loss: 0.3087 - val_Accuracy: 0.8844\n",
      "Epoch 91/500\n",
      "64/64 [==============================] - 0s 760us/step - loss: 0.3822 - Accuracy: 0.8396 - val_loss: 0.3092 - val_Accuracy: 0.8800\n",
      "Epoch 92/500\n",
      "64/64 [==============================] - 0s 744us/step - loss: 0.3857 - Accuracy: 0.8391 - val_loss: 0.3097 - val_Accuracy: 0.8822\n",
      "Epoch 93/500\n",
      "64/64 [==============================] - 0s 776us/step - loss: 0.3862 - Accuracy: 0.8401 - val_loss: 0.3110 - val_Accuracy: 0.8789\n",
      "Epoch 94/500\n",
      "64/64 [==============================] - 0s 760us/step - loss: 0.3864 - Accuracy: 0.8368 - val_loss: 0.3095 - val_Accuracy: 0.8833\n",
      "Epoch 95/500\n",
      "64/64 [==============================] - 0s 744us/step - loss: 0.3864 - Accuracy: 0.8404 - val_loss: 0.3084 - val_Accuracy: 0.8811\n",
      "Epoch 96/500\n",
      "64/64 [==============================] - 0s 760us/step - loss: 0.3832 - Accuracy: 0.8362 - val_loss: 0.3103 - val_Accuracy: 0.8833\n",
      "Epoch 97/500\n",
      "64/64 [==============================] - 0s 772us/step - loss: 0.3848 - Accuracy: 0.8391 - val_loss: 0.3111 - val_Accuracy: 0.8811\n",
      "Epoch 98/500\n",
      "64/64 [==============================] - 0s 760us/step - loss: 0.3803 - Accuracy: 0.8425 - val_loss: 0.3087 - val_Accuracy: 0.8800\n",
      "Epoch 99/500\n",
      "64/64 [==============================] - 0s 760us/step - loss: 0.3837 - Accuracy: 0.8378 - val_loss: 0.3093 - val_Accuracy: 0.8822\n",
      "Epoch 100/500\n",
      "64/64 [==============================] - 0s 760us/step - loss: 0.3780 - Accuracy: 0.8404 - val_loss: 0.3080 - val_Accuracy: 0.8789\n",
      "Epoch 101/500\n",
      "64/64 [==============================] - 0s 771us/step - loss: 0.3804 - Accuracy: 0.8442 - val_loss: 0.3068 - val_Accuracy: 0.8800\n",
      "Epoch 102/500\n",
      "64/64 [==============================] - 0s 760us/step - loss: 0.3772 - Accuracy: 0.8443 - val_loss: 0.3071 - val_Accuracy: 0.8822\n",
      "Epoch 103/500\n",
      "64/64 [==============================] - 0s 760us/step - loss: 0.3743 - Accuracy: 0.8446 - val_loss: 0.3056 - val_Accuracy: 0.8822\n",
      "Epoch 104/500\n",
      "64/64 [==============================] - 0s 760us/step - loss: 0.3833 - Accuracy: 0.8420 - val_loss: 0.3077 - val_Accuracy: 0.8822\n",
      "Epoch 105/500\n",
      "64/64 [==============================] - 0s 776us/step - loss: 0.3792 - Accuracy: 0.8426 - val_loss: 0.3074 - val_Accuracy: 0.8833\n",
      "Epoch 106/500\n",
      "64/64 [==============================] - 0s 776us/step - loss: 0.3852 - Accuracy: 0.8412 - val_loss: 0.3093 - val_Accuracy: 0.8844\n",
      "Epoch 107/500\n",
      "64/64 [==============================] - 0s 776us/step - loss: 0.3789 - Accuracy: 0.8426 - val_loss: 0.3060 - val_Accuracy: 0.8811\n",
      "Epoch 108/500\n",
      "64/64 [==============================] - 0s 760us/step - loss: 0.3795 - Accuracy: 0.8398 - val_loss: 0.3084 - val_Accuracy: 0.8822\n",
      "Epoch 109/500\n",
      "64/64 [==============================] - 0s 760us/step - loss: 0.3811 - Accuracy: 0.8411 - val_loss: 0.3074 - val_Accuracy: 0.8833\n",
      "Epoch 110/500\n",
      "64/64 [==============================] - 0s 760us/step - loss: 0.3765 - Accuracy: 0.8458 - val_loss: 0.3070 - val_Accuracy: 0.8811\n",
      "Epoch 111/500\n",
      "64/64 [==============================] - 0s 760us/step - loss: 0.3773 - Accuracy: 0.8412 - val_loss: 0.3062 - val_Accuracy: 0.8822\n",
      "Epoch 112/500\n",
      "64/64 [==============================] - 0s 792us/step - loss: 0.3769 - Accuracy: 0.8451 - val_loss: 0.3045 - val_Accuracy: 0.8822\n",
      "Epoch 113/500\n",
      "64/64 [==============================] - 0s 760us/step - loss: 0.3758 - Accuracy: 0.8410 - val_loss: 0.3060 - val_Accuracy: 0.8889\n",
      "Epoch 114/500\n",
      "64/64 [==============================] - 0s 776us/step - loss: 0.3788 - Accuracy: 0.8422 - val_loss: 0.3040 - val_Accuracy: 0.8844\n"
     ]
    },
    {
     "name": "stdout",
     "output_type": "stream",
     "text": [
      "Epoch 115/500\n",
      "64/64 [==============================] - 0s 776us/step - loss: 0.3756 - Accuracy: 0.8421 - val_loss: 0.3044 - val_Accuracy: 0.8833\n",
      "Epoch 116/500\n",
      "64/64 [==============================] - 0s 776us/step - loss: 0.3781 - Accuracy: 0.8438 - val_loss: 0.3051 - val_Accuracy: 0.8833\n",
      "Epoch 117/500\n",
      "64/64 [==============================] - 0s 776us/step - loss: 0.3771 - Accuracy: 0.8421 - val_loss: 0.3039 - val_Accuracy: 0.8833\n",
      "Epoch 118/500\n",
      "64/64 [==============================] - 0s 760us/step - loss: 0.3764 - Accuracy: 0.8435 - val_loss: 0.3038 - val_Accuracy: 0.8811\n",
      "Epoch 119/500\n",
      "64/64 [==============================] - 0s 760us/step - loss: 0.3764 - Accuracy: 0.8453 - val_loss: 0.3063 - val_Accuracy: 0.8833\n",
      "Epoch 120/500\n",
      "64/64 [==============================] - 0s 760us/step - loss: 0.3803 - Accuracy: 0.8383 - val_loss: 0.3031 - val_Accuracy: 0.8822\n",
      "Epoch 121/500\n",
      "64/64 [==============================] - 0s 776us/step - loss: 0.3769 - Accuracy: 0.8436 - val_loss: 0.3033 - val_Accuracy: 0.8856\n",
      "Epoch 122/500\n",
      "64/64 [==============================] - 0s 760us/step - loss: 0.3763 - Accuracy: 0.8470 - val_loss: 0.3038 - val_Accuracy: 0.8822\n",
      "Epoch 123/500\n",
      "64/64 [==============================] - 0s 760us/step - loss: 0.3742 - Accuracy: 0.8441 - val_loss: 0.3058 - val_Accuracy: 0.8822\n",
      "Epoch 124/500\n",
      "64/64 [==============================] - 0s 776us/step - loss: 0.3800 - Accuracy: 0.8400 - val_loss: 0.3057 - val_Accuracy: 0.8844\n",
      "Epoch 125/500\n",
      "64/64 [==============================] - 0s 773us/step - loss: 0.3713 - Accuracy: 0.8460 - val_loss: 0.3032 - val_Accuracy: 0.8833\n",
      "Epoch 126/500\n",
      "64/64 [==============================] - 0s 760us/step - loss: 0.3782 - Accuracy: 0.8448 - val_loss: 0.3035 - val_Accuracy: 0.8856\n",
      "Epoch 127/500\n",
      "64/64 [==============================] - 0s 760us/step - loss: 0.3793 - Accuracy: 0.8399 - val_loss: 0.3056 - val_Accuracy: 0.8833\n",
      "Epoch 128/500\n",
      "64/64 [==============================] - 0s 807us/step - loss: 0.3770 - Accuracy: 0.8432 - val_loss: 0.3048 - val_Accuracy: 0.8844\n",
      "Epoch 129/500\n",
      "64/64 [==============================] - 0s 760us/step - loss: 0.3757 - Accuracy: 0.8430 - val_loss: 0.3026 - val_Accuracy: 0.8811\n",
      "Epoch 130/500\n",
      "64/64 [==============================] - 0s 771us/step - loss: 0.3737 - Accuracy: 0.8451 - val_loss: 0.3023 - val_Accuracy: 0.8833\n",
      "Epoch 131/500\n",
      "64/64 [==============================] - 0s 773us/step - loss: 0.3730 - Accuracy: 0.8443 - val_loss: 0.3057 - val_Accuracy: 0.8822\n",
      "Epoch 132/500\n",
      "64/64 [==============================] - 0s 776us/step - loss: 0.3758 - Accuracy: 0.8409 - val_loss: 0.3061 - val_Accuracy: 0.8822\n",
      "Epoch 133/500\n",
      "64/64 [==============================] - 0s 755us/step - loss: 0.3756 - Accuracy: 0.8432 - val_loss: 0.3062 - val_Accuracy: 0.8844\n",
      "Epoch 134/500\n",
      "64/64 [==============================] - 0s 744us/step - loss: 0.3790 - Accuracy: 0.8416 - val_loss: 0.3043 - val_Accuracy: 0.8811\n",
      "Epoch 135/500\n",
      "64/64 [==============================] - 0s 760us/step - loss: 0.3736 - Accuracy: 0.8438 - val_loss: 0.3031 - val_Accuracy: 0.8811\n",
      "Epoch 136/500\n",
      "64/64 [==============================] - 0s 760us/step - loss: 0.3792 - Accuracy: 0.8419 - val_loss: 0.3085 - val_Accuracy: 0.8856\n",
      "Epoch 137/500\n",
      "64/64 [==============================] - 0s 760us/step - loss: 0.3793 - Accuracy: 0.8393 - val_loss: 0.3070 - val_Accuracy: 0.8844\n",
      "Epoch 138/500\n",
      "64/64 [==============================] - 0s 760us/step - loss: 0.3692 - Accuracy: 0.8441 - val_loss: 0.2999 - val_Accuracy: 0.8833\n",
      "Epoch 139/500\n",
      "64/64 [==============================] - 0s 776us/step - loss: 0.3715 - Accuracy: 0.8451 - val_loss: 0.3007 - val_Accuracy: 0.8856\n",
      "Epoch 140/500\n",
      "64/64 [==============================] - 0s 744us/step - loss: 0.3740 - Accuracy: 0.8454 - val_loss: 0.3001 - val_Accuracy: 0.8800\n",
      "Epoch 141/500\n",
      "64/64 [==============================] - 0s 760us/step - loss: 0.3778 - Accuracy: 0.8440 - val_loss: 0.3062 - val_Accuracy: 0.8856\n",
      "Epoch 142/500\n",
      "64/64 [==============================] - 0s 792us/step - loss: 0.3760 - Accuracy: 0.8440 - val_loss: 0.3051 - val_Accuracy: 0.8822\n",
      "Epoch 143/500\n",
      "64/64 [==============================] - 0s 760us/step - loss: 0.3784 - Accuracy: 0.8421 - val_loss: 0.3075 - val_Accuracy: 0.8833\n",
      "Epoch 144/500\n",
      "64/64 [==============================] - 0s 776us/step - loss: 0.3765 - Accuracy: 0.8423 - val_loss: 0.3052 - val_Accuracy: 0.8833\n",
      "Epoch 145/500\n",
      "64/64 [==============================] - 0s 760us/step - loss: 0.3747 - Accuracy: 0.8414 - val_loss: 0.3029 - val_Accuracy: 0.8800\n",
      "Epoch 146/500\n",
      "64/64 [==============================] - 0s 760us/step - loss: 0.3707 - Accuracy: 0.8459 - val_loss: 0.3017 - val_Accuracy: 0.8811\n",
      "Epoch 147/500\n",
      "64/64 [==============================] - 0s 792us/step - loss: 0.3740 - Accuracy: 0.8404 - val_loss: 0.3026 - val_Accuracy: 0.8856\n",
      "Epoch 148/500\n",
      "64/64 [==============================] - 0s 792us/step - loss: 0.3764 - Accuracy: 0.8426 - val_loss: 0.3032 - val_Accuracy: 0.8844\n",
      "Epoch 149/500\n",
      "64/64 [==============================] - 0s 776us/step - loss: 0.3757 - Accuracy: 0.8453 - val_loss: 0.3037 - val_Accuracy: 0.8811\n",
      "Epoch 150/500\n",
      "64/64 [==============================] - 0s 792us/step - loss: 0.3749 - Accuracy: 0.8435 - val_loss: 0.3043 - val_Accuracy: 0.8867\n",
      "Epoch 151/500\n",
      "64/64 [==============================] - 0s 776us/step - loss: 0.3727 - Accuracy: 0.8472 - val_loss: 0.3004 - val_Accuracy: 0.8844\n",
      "Epoch 152/500\n",
      "64/64 [==============================] - 0s 760us/step - loss: 0.3766 - Accuracy: 0.8412 - val_loss: 0.3015 - val_Accuracy: 0.8867\n",
      "Epoch 153/500\n",
      "64/64 [==============================] - 0s 782us/step - loss: 0.3672 - Accuracy: 0.8469 - val_loss: 0.3012 - val_Accuracy: 0.8856\n",
      "Epoch 154/500\n",
      "64/64 [==============================] - 0s 792us/step - loss: 0.3717 - Accuracy: 0.8428 - val_loss: 0.3000 - val_Accuracy: 0.8867\n",
      "Epoch 155/500\n",
      "64/64 [==============================] - 0s 792us/step - loss: 0.3738 - Accuracy: 0.8423 - val_loss: 0.3013 - val_Accuracy: 0.8856\n",
      "Epoch 156/500\n",
      "64/64 [==============================] - 0s 776us/step - loss: 0.3733 - Accuracy: 0.8421 - val_loss: 0.3002 - val_Accuracy: 0.8833\n",
      "Epoch 157/500\n",
      "64/64 [==============================] - 0s 788us/step - loss: 0.3730 - Accuracy: 0.8421 - val_loss: 0.3024 - val_Accuracy: 0.8856\n",
      "Epoch 158/500\n",
      "64/64 [==============================] - 0s 760us/step - loss: 0.3764 - Accuracy: 0.8411 - val_loss: 0.3013 - val_Accuracy: 0.8867\n",
      "Epoch 159/500\n",
      "64/64 [==============================] - 0s 776us/step - loss: 0.3779 - Accuracy: 0.8394 - val_loss: 0.3039 - val_Accuracy: 0.8811\n",
      "Epoch 160/500\n",
      "64/64 [==============================] - 0s 776us/step - loss: 0.3762 - Accuracy: 0.8425 - val_loss: 0.3028 - val_Accuracy: 0.8856\n",
      "Epoch 161/500\n",
      "64/64 [==============================] - 0s 760us/step - loss: 0.3735 - Accuracy: 0.8448 - val_loss: 0.3036 - val_Accuracy: 0.8856\n",
      "Epoch 162/500\n",
      "64/64 [==============================] - 0s 776us/step - loss: 0.3772 - Accuracy: 0.8417 - val_loss: 0.3015 - val_Accuracy: 0.8856\n",
      "Epoch 163/500\n",
      "64/64 [==============================] - 0s 760us/step - loss: 0.3740 - Accuracy: 0.8480 - val_loss: 0.3010 - val_Accuracy: 0.8856\n",
      "Epoch 164/500\n",
      "64/64 [==============================] - 0s 776us/step - loss: 0.3747 - Accuracy: 0.8433 - val_loss: 0.3003 - val_Accuracy: 0.8833\n",
      "Epoch 165/500\n",
      "64/64 [==============================] - 0s 776us/step - loss: 0.3777 - Accuracy: 0.8443 - val_loss: 0.3047 - val_Accuracy: 0.8811\n",
      "Epoch 166/500\n",
      "64/64 [==============================] - 0s 784us/step - loss: 0.3779 - Accuracy: 0.8433 - val_loss: 0.3024 - val_Accuracy: 0.8833\n",
      "Epoch 167/500\n",
      "64/64 [==============================] - 0s 776us/step - loss: 0.3687 - Accuracy: 0.8449 - val_loss: 0.2998 - val_Accuracy: 0.8900\n",
      "Epoch 168/500\n",
      "64/64 [==============================] - 0s 792us/step - loss: 0.3728 - Accuracy: 0.8459 - val_loss: 0.3029 - val_Accuracy: 0.8878\n",
      "Epoch 169/500\n",
      "64/64 [==============================] - 0s 760us/step - loss: 0.3701 - Accuracy: 0.8451 - val_loss: 0.3062 - val_Accuracy: 0.8833\n",
      "Epoch 170/500\n",
      "64/64 [==============================] - 0s 776us/step - loss: 0.3773 - Accuracy: 0.8446 - val_loss: 0.3011 - val_Accuracy: 0.8844\n",
      "Epoch 171/500\n"
     ]
    },
    {
     "name": "stdout",
     "output_type": "stream",
     "text": [
      "64/64 [==============================] - 0s 792us/step - loss: 0.3703 - Accuracy: 0.8453 - val_loss: 0.3007 - val_Accuracy: 0.8833\n",
      "Epoch 172/500\n",
      "64/64 [==============================] - 0s 776us/step - loss: 0.3720 - Accuracy: 0.8444 - val_loss: 0.3017 - val_Accuracy: 0.8856\n",
      "Epoch 173/500\n",
      "64/64 [==============================] - 0s 776us/step - loss: 0.3708 - Accuracy: 0.8457 - val_loss: 0.3010 - val_Accuracy: 0.8878\n",
      "Epoch 174/500\n",
      "64/64 [==============================] - 0s 776us/step - loss: 0.3744 - Accuracy: 0.8426 - val_loss: 0.3051 - val_Accuracy: 0.8822\n",
      "Epoch 175/500\n",
      "64/64 [==============================] - 0s 776us/step - loss: 0.3727 - Accuracy: 0.8441 - val_loss: 0.3015 - val_Accuracy: 0.8833\n",
      "Epoch 176/500\n",
      "64/64 [==============================] - 0s 776us/step - loss: 0.3741 - Accuracy: 0.8451 - val_loss: 0.3040 - val_Accuracy: 0.8822\n",
      "Epoch 177/500\n",
      "64/64 [==============================] - 0s 823us/step - loss: 0.3675 - Accuracy: 0.8463 - val_loss: 0.2978 - val_Accuracy: 0.8889\n",
      "Epoch 178/500\n",
      "64/64 [==============================] - 0s 807us/step - loss: 0.3718 - Accuracy: 0.8440 - val_loss: 0.3007 - val_Accuracy: 0.8844\n",
      "Epoch 179/500\n",
      "64/64 [==============================] - 0s 807us/step - loss: 0.3738 - Accuracy: 0.8448 - val_loss: 0.3013 - val_Accuracy: 0.8822\n",
      "Epoch 180/500\n",
      "64/64 [==============================] - 0s 823us/step - loss: 0.3723 - Accuracy: 0.8422 - val_loss: 0.3004 - val_Accuracy: 0.8867\n",
      "Epoch 181/500\n",
      "64/64 [==============================] - 0s 807us/step - loss: 0.3748 - Accuracy: 0.8442 - val_loss: 0.3012 - val_Accuracy: 0.8856\n",
      "Epoch 182/500\n",
      "64/64 [==============================] - 0s 792us/step - loss: 0.3751 - Accuracy: 0.8421 - val_loss: 0.2999 - val_Accuracy: 0.8878\n",
      "Epoch 183/500\n",
      "64/64 [==============================] - 0s 823us/step - loss: 0.3695 - Accuracy: 0.8465 - val_loss: 0.3012 - val_Accuracy: 0.8867\n",
      "Epoch 184/500\n",
      "64/64 [==============================] - 0s 803us/step - loss: 0.3689 - Accuracy: 0.8491 - val_loss: 0.2982 - val_Accuracy: 0.8867\n",
      "Epoch 185/500\n",
      "64/64 [==============================] - 0s 776us/step - loss: 0.3708 - Accuracy: 0.8478 - val_loss: 0.2989 - val_Accuracy: 0.8811\n",
      "Epoch 186/500\n",
      "64/64 [==============================] - 0s 760us/step - loss: 0.3778 - Accuracy: 0.8446 - val_loss: 0.3009 - val_Accuracy: 0.8856\n",
      "Epoch 187/500\n",
      "64/64 [==============================] - 0s 776us/step - loss: 0.3712 - Accuracy: 0.8420 - val_loss: 0.2993 - val_Accuracy: 0.8867\n",
      "Epoch 188/500\n",
      "64/64 [==============================] - 0s 776us/step - loss: 0.3740 - Accuracy: 0.8422 - val_loss: 0.3002 - val_Accuracy: 0.8811\n",
      "Epoch 189/500\n",
      "64/64 [==============================] - 0s 792us/step - loss: 0.3661 - Accuracy: 0.8453 - val_loss: 0.2980 - val_Accuracy: 0.8856\n",
      "Epoch 190/500\n",
      "64/64 [==============================] - 0s 772us/step - loss: 0.3694 - Accuracy: 0.8472 - val_loss: 0.2972 - val_Accuracy: 0.8867\n",
      "Epoch 191/500\n",
      "64/64 [==============================] - 0s 776us/step - loss: 0.3738 - Accuracy: 0.8447 - val_loss: 0.2983 - val_Accuracy: 0.8833\n",
      "Epoch 192/500\n",
      "64/64 [==============================] - 0s 776us/step - loss: 0.3756 - Accuracy: 0.8467 - val_loss: 0.3000 - val_Accuracy: 0.8878\n",
      "Epoch 193/500\n",
      "64/64 [==============================] - 0s 776us/step - loss: 0.3720 - Accuracy: 0.8449 - val_loss: 0.3005 - val_Accuracy: 0.8844\n",
      "Epoch 194/500\n",
      "64/64 [==============================] - 0s 760us/step - loss: 0.3717 - Accuracy: 0.8448 - val_loss: 0.3016 - val_Accuracy: 0.8856\n",
      "Epoch 195/500\n",
      "64/64 [==============================] - 0s 776us/step - loss: 0.3703 - Accuracy: 0.8480 - val_loss: 0.2997 - val_Accuracy: 0.8867\n",
      "Epoch 196/500\n",
      "64/64 [==============================] - 0s 776us/step - loss: 0.3695 - Accuracy: 0.8444 - val_loss: 0.2989 - val_Accuracy: 0.8867\n",
      "Epoch 197/500\n",
      "64/64 [==============================] - 0s 760us/step - loss: 0.3734 - Accuracy: 0.8419 - val_loss: 0.3019 - val_Accuracy: 0.8889\n",
      "Epoch 198/500\n",
      "64/64 [==============================] - 0s 760us/step - loss: 0.3658 - Accuracy: 0.8457 - val_loss: 0.3013 - val_Accuracy: 0.8833\n",
      "Epoch 199/500\n",
      "64/64 [==============================] - 0s 776us/step - loss: 0.3672 - Accuracy: 0.8472 - val_loss: 0.2986 - val_Accuracy: 0.8844\n",
      "Epoch 200/500\n",
      "64/64 [==============================] - 0s 776us/step - loss: 0.3745 - Accuracy: 0.8427 - val_loss: 0.3028 - val_Accuracy: 0.8822\n",
      "Epoch 201/500\n",
      "64/64 [==============================] - 0s 792us/step - loss: 0.3714 - Accuracy: 0.8441 - val_loss: 0.3033 - val_Accuracy: 0.8878\n",
      "Epoch 202/500\n",
      "64/64 [==============================] - 0s 792us/step - loss: 0.3711 - Accuracy: 0.8477 - val_loss: 0.2979 - val_Accuracy: 0.8844\n",
      "Epoch 203/500\n",
      "64/64 [==============================] - 0s 776us/step - loss: 0.3678 - Accuracy: 0.8442 - val_loss: 0.2983 - val_Accuracy: 0.8856\n",
      "Epoch 204/500\n",
      "64/64 [==============================] - 0s 776us/step - loss: 0.3706 - Accuracy: 0.8479 - val_loss: 0.3000 - val_Accuracy: 0.8900\n",
      "Epoch 205/500\n",
      "64/64 [==============================] - 0s 776us/step - loss: 0.3704 - Accuracy: 0.8449 - val_loss: 0.2977 - val_Accuracy: 0.8911\n",
      "Epoch 206/500\n",
      "64/64 [==============================] - 0s 760us/step - loss: 0.3694 - Accuracy: 0.8443 - val_loss: 0.2968 - val_Accuracy: 0.8889\n",
      "Epoch 207/500\n",
      "64/64 [==============================] - 0s 792us/step - loss: 0.3729 - Accuracy: 0.8473 - val_loss: 0.3002 - val_Accuracy: 0.8856\n",
      "Epoch 208/500\n",
      "64/64 [==============================] - 0s 776us/step - loss: 0.3688 - Accuracy: 0.8469 - val_loss: 0.2990 - val_Accuracy: 0.8844\n",
      "Epoch 209/500\n",
      "64/64 [==============================] - 0s 760us/step - loss: 0.3663 - Accuracy: 0.8479 - val_loss: 0.3032 - val_Accuracy: 0.8844\n",
      "Epoch 210/500\n",
      "64/64 [==============================] - 0s 776us/step - loss: 0.3737 - Accuracy: 0.8446 - val_loss: 0.2995 - val_Accuracy: 0.8844\n",
      "Epoch 211/500\n",
      "64/64 [==============================] - 0s 776us/step - loss: 0.3687 - Accuracy: 0.8479 - val_loss: 0.3004 - val_Accuracy: 0.8856\n",
      "Epoch 212/500\n",
      "64/64 [==============================] - 0s 778us/step - loss: 0.3657 - Accuracy: 0.8496 - val_loss: 0.2945 - val_Accuracy: 0.8900\n",
      "Epoch 213/500\n",
      "64/64 [==============================] - 0s 760us/step - loss: 0.3764 - Accuracy: 0.8441 - val_loss: 0.2981 - val_Accuracy: 0.8900\n",
      "Epoch 214/500\n",
      "64/64 [==============================] - 0s 776us/step - loss: 0.3708 - Accuracy: 0.8470 - val_loss: 0.2961 - val_Accuracy: 0.8844\n",
      "Epoch 215/500\n",
      "64/64 [==============================] - 0s 760us/step - loss: 0.3684 - Accuracy: 0.8489 - val_loss: 0.2949 - val_Accuracy: 0.8900\n",
      "Epoch 216/500\n",
      "64/64 [==============================] - 0s 779us/step - loss: 0.3685 - Accuracy: 0.8446 - val_loss: 0.2950 - val_Accuracy: 0.8856\n",
      "Epoch 217/500\n",
      "64/64 [==============================] - 0s 771us/step - loss: 0.3628 - Accuracy: 0.8451 - val_loss: 0.2970 - val_Accuracy: 0.8822\n",
      "Epoch 218/500\n",
      "64/64 [==============================] - 0s 776us/step - loss: 0.3690 - Accuracy: 0.8481 - val_loss: 0.2987 - val_Accuracy: 0.8844\n",
      "Epoch 219/500\n",
      "64/64 [==============================] - 0s 760us/step - loss: 0.3705 - Accuracy: 0.8460 - val_loss: 0.3011 - val_Accuracy: 0.8833\n",
      "Epoch 220/500\n",
      "64/64 [==============================] - 0s 771us/step - loss: 0.3718 - Accuracy: 0.8428 - val_loss: 0.2984 - val_Accuracy: 0.8878\n",
      "Epoch 221/500\n",
      "64/64 [==============================] - 0s 776us/step - loss: 0.3734 - Accuracy: 0.8462 - val_loss: 0.2986 - val_Accuracy: 0.8889\n",
      "Epoch 222/500\n",
      "64/64 [==============================] - 0s 768us/step - loss: 0.3704 - Accuracy: 0.8451 - val_loss: 0.2969 - val_Accuracy: 0.8856\n",
      "Epoch 223/500\n",
      "64/64 [==============================] - 0s 760us/step - loss: 0.3658 - Accuracy: 0.8456 - val_loss: 0.2983 - val_Accuracy: 0.8867\n",
      "Epoch 224/500\n",
      "64/64 [==============================] - 0s 776us/step - loss: 0.3631 - Accuracy: 0.8483 - val_loss: 0.2958 - val_Accuracy: 0.8944\n",
      "Epoch 225/500\n",
      "64/64 [==============================] - 0s 776us/step - loss: 0.3735 - Accuracy: 0.8459 - val_loss: 0.2968 - val_Accuracy: 0.8889\n",
      "Epoch 226/500\n",
      "64/64 [==============================] - 0s 776us/step - loss: 0.3724 - Accuracy: 0.8421 - val_loss: 0.2978 - val_Accuracy: 0.8844\n",
      "Epoch 227/500\n"
     ]
    },
    {
     "name": "stdout",
     "output_type": "stream",
     "text": [
      "64/64 [==============================] - 0s 792us/step - loss: 0.3691 - Accuracy: 0.8457 - val_loss: 0.2978 - val_Accuracy: 0.8844\n",
      "Epoch 228/500\n",
      "64/64 [==============================] - 0s 776us/step - loss: 0.3675 - Accuracy: 0.8477 - val_loss: 0.2963 - val_Accuracy: 0.8844\n",
      "Epoch 229/500\n",
      "64/64 [==============================] - 0s 776us/step - loss: 0.3665 - Accuracy: 0.8463 - val_loss: 0.2939 - val_Accuracy: 0.8878\n",
      "Epoch 230/500\n",
      "64/64 [==============================] - 0s 776us/step - loss: 0.3673 - Accuracy: 0.8505 - val_loss: 0.2939 - val_Accuracy: 0.8911\n",
      "Epoch 231/500\n",
      "64/64 [==============================] - 0s 792us/step - loss: 0.3644 - Accuracy: 0.8495 - val_loss: 0.2951 - val_Accuracy: 0.8889\n",
      "Epoch 232/500\n",
      "64/64 [==============================] - 0s 760us/step - loss: 0.3676 - Accuracy: 0.8467 - val_loss: 0.2957 - val_Accuracy: 0.8833\n",
      "Epoch 233/500\n",
      "64/64 [==============================] - 0s 792us/step - loss: 0.3707 - Accuracy: 0.8452 - val_loss: 0.2984 - val_Accuracy: 0.8889\n",
      "Epoch 234/500\n",
      "64/64 [==============================] - 0s 776us/step - loss: 0.3768 - Accuracy: 0.8426 - val_loss: 0.3020 - val_Accuracy: 0.8867\n",
      "Epoch 235/500\n",
      "64/64 [==============================] - 0s 792us/step - loss: 0.3719 - Accuracy: 0.8478 - val_loss: 0.2984 - val_Accuracy: 0.8900\n",
      "Epoch 236/500\n",
      "64/64 [==============================] - 0s 807us/step - loss: 0.3676 - Accuracy: 0.8452 - val_loss: 0.2990 - val_Accuracy: 0.8878\n",
      "Epoch 237/500\n",
      "64/64 [==============================] - 0s 792us/step - loss: 0.3686 - Accuracy: 0.8474 - val_loss: 0.2987 - val_Accuracy: 0.8867\n",
      "Epoch 238/500\n",
      "64/64 [==============================] - 0s 776us/step - loss: 0.3643 - Accuracy: 0.8478 - val_loss: 0.2974 - val_Accuracy: 0.8878\n",
      "Epoch 239/500\n",
      "64/64 [==============================] - 0s 760us/step - loss: 0.3727 - Accuracy: 0.8468 - val_loss: 0.2982 - val_Accuracy: 0.8833\n",
      "Epoch 240/500\n",
      "64/64 [==============================] - 0s 776us/step - loss: 0.3709 - Accuracy: 0.8423 - val_loss: 0.2977 - val_Accuracy: 0.8867\n",
      "Epoch 241/500\n",
      "64/64 [==============================] - 0s 776us/step - loss: 0.3722 - Accuracy: 0.8467 - val_loss: 0.2987 - val_Accuracy: 0.8856\n",
      "Epoch 242/500\n",
      "64/64 [==============================] - 0s 776us/step - loss: 0.3661 - Accuracy: 0.8454 - val_loss: 0.2992 - val_Accuracy: 0.8867\n",
      "Epoch 243/500\n",
      "64/64 [==============================] - 0s 776us/step - loss: 0.3726 - Accuracy: 0.8469 - val_loss: 0.2992 - val_Accuracy: 0.8856\n",
      "Epoch 244/500\n",
      "64/64 [==============================] - 0s 776us/step - loss: 0.3689 - Accuracy: 0.8498 - val_loss: 0.2973 - val_Accuracy: 0.8878\n",
      "Epoch 245/500\n",
      "64/64 [==============================] - 0s 792us/step - loss: 0.3702 - Accuracy: 0.8472 - val_loss: 0.2974 - val_Accuracy: 0.8867\n",
      "Epoch 246/500\n",
      "64/64 [==============================] - 0s 792us/step - loss: 0.3636 - Accuracy: 0.8468 - val_loss: 0.2979 - val_Accuracy: 0.8833\n",
      "Epoch 247/500\n",
      "64/64 [==============================] - 0s 792us/step - loss: 0.3656 - Accuracy: 0.8485 - val_loss: 0.2956 - val_Accuracy: 0.8889\n",
      "Epoch 248/500\n",
      "64/64 [==============================] - 0s 792us/step - loss: 0.3616 - Accuracy: 0.8486 - val_loss: 0.2950 - val_Accuracy: 0.8878\n",
      "Epoch 249/500\n",
      "64/64 [==============================] - 0s 793us/step - loss: 0.3641 - Accuracy: 0.8520 - val_loss: 0.2949 - val_Accuracy: 0.8856\n",
      "Epoch 250/500\n",
      "64/64 [==============================] - 0s 792us/step - loss: 0.3680 - Accuracy: 0.8493 - val_loss: 0.2933 - val_Accuracy: 0.8944\n",
      "Epoch 251/500\n",
      "64/64 [==============================] - 0s 792us/step - loss: 0.3673 - Accuracy: 0.8500 - val_loss: 0.2944 - val_Accuracy: 0.8878\n",
      "Epoch 252/500\n",
      "64/64 [==============================] - 0s 776us/step - loss: 0.3664 - Accuracy: 0.8501 - val_loss: 0.2957 - val_Accuracy: 0.8867\n",
      "Epoch 253/500\n",
      "64/64 [==============================] - 0s 760us/step - loss: 0.3715 - Accuracy: 0.8477 - val_loss: 0.2983 - val_Accuracy: 0.8844\n",
      "Epoch 254/500\n",
      "64/64 [==============================] - 0s 792us/step - loss: 0.3680 - Accuracy: 0.8474 - val_loss: 0.2974 - val_Accuracy: 0.8856\n",
      "Epoch 255/500\n",
      "64/64 [==============================] - 0s 807us/step - loss: 0.3635 - Accuracy: 0.8477 - val_loss: 0.2961 - val_Accuracy: 0.8844\n",
      "Epoch 256/500\n",
      "64/64 [==============================] - 0s 776us/step - loss: 0.3681 - Accuracy: 0.8452 - val_loss: 0.2954 - val_Accuracy: 0.8933\n",
      "Epoch 257/500\n",
      "64/64 [==============================] - 0s 792us/step - loss: 0.3687 - Accuracy: 0.8489 - val_loss: 0.2974 - val_Accuracy: 0.8900\n",
      "Epoch 258/500\n",
      "64/64 [==============================] - 0s 776us/step - loss: 0.3685 - Accuracy: 0.8448 - val_loss: 0.2997 - val_Accuracy: 0.8844\n",
      "Epoch 259/500\n",
      "64/64 [==============================] - 0s 776us/step - loss: 0.3691 - Accuracy: 0.8448 - val_loss: 0.2992 - val_Accuracy: 0.8833\n",
      "Epoch 260/500\n",
      "64/64 [==============================] - 0s 792us/step - loss: 0.3637 - Accuracy: 0.8495 - val_loss: 0.2957 - val_Accuracy: 0.8889\n",
      "Epoch 261/500\n",
      "64/64 [==============================] - 0s 792us/step - loss: 0.3688 - Accuracy: 0.8444 - val_loss: 0.2938 - val_Accuracy: 0.8867\n",
      "Epoch 262/500\n",
      "64/64 [==============================] - 0s 760us/step - loss: 0.3726 - Accuracy: 0.8479 - val_loss: 0.2990 - val_Accuracy: 0.8844\n",
      "Epoch 263/500\n",
      "64/64 [==============================] - 0s 776us/step - loss: 0.3643 - Accuracy: 0.8484 - val_loss: 0.2948 - val_Accuracy: 0.8889\n",
      "Epoch 264/500\n",
      "64/64 [==============================] - 0s 776us/step - loss: 0.3680 - Accuracy: 0.8468 - val_loss: 0.2949 - val_Accuracy: 0.8889\n",
      "Epoch 265/500\n",
      "64/64 [==============================] - 0s 775us/step - loss: 0.3632 - Accuracy: 0.8480 - val_loss: 0.2916 - val_Accuracy: 0.8911\n",
      "Epoch 266/500\n",
      "64/64 [==============================] - 0s 760us/step - loss: 0.3641 - Accuracy: 0.8468 - val_loss: 0.2943 - val_Accuracy: 0.8911\n",
      "Epoch 267/500\n",
      "64/64 [==============================] - 0s 776us/step - loss: 0.3655 - Accuracy: 0.8512 - val_loss: 0.2938 - val_Accuracy: 0.8833\n",
      "Epoch 268/500\n",
      "64/64 [==============================] - 0s 776us/step - loss: 0.3654 - Accuracy: 0.8474 - val_loss: 0.2956 - val_Accuracy: 0.8922\n",
      "Epoch 269/500\n",
      "64/64 [==============================] - 0s 776us/step - loss: 0.3648 - Accuracy: 0.8491 - val_loss: 0.2944 - val_Accuracy: 0.8911\n",
      "Epoch 270/500\n",
      "64/64 [==============================] - 0s 776us/step - loss: 0.3665 - Accuracy: 0.8481 - val_loss: 0.2940 - val_Accuracy: 0.8889\n",
      "Epoch 271/500\n",
      "64/64 [==============================] - 0s 770us/step - loss: 0.3696 - Accuracy: 0.8459 - val_loss: 0.2945 - val_Accuracy: 0.8900\n",
      "Epoch 272/500\n",
      "64/64 [==============================] - 0s 760us/step - loss: 0.3686 - Accuracy: 0.8474 - val_loss: 0.2959 - val_Accuracy: 0.8922\n",
      "Epoch 273/500\n",
      "64/64 [==============================] - 0s 759us/step - loss: 0.3662 - Accuracy: 0.8499 - val_loss: 0.2983 - val_Accuracy: 0.8911\n",
      "Epoch 274/500\n",
      "64/64 [==============================] - 0s 776us/step - loss: 0.3651 - Accuracy: 0.8488 - val_loss: 0.2956 - val_Accuracy: 0.8878\n",
      "Epoch 275/500\n",
      "64/64 [==============================] - 0s 792us/step - loss: 0.3619 - Accuracy: 0.8493 - val_loss: 0.2941 - val_Accuracy: 0.8867\n",
      "Epoch 276/500\n",
      "64/64 [==============================] - 0s 792us/step - loss: 0.3690 - Accuracy: 0.8435 - val_loss: 0.2964 - val_Accuracy: 0.8878\n",
      "Epoch 277/500\n",
      "64/64 [==============================] - 0s 772us/step - loss: 0.3691 - Accuracy: 0.8421 - val_loss: 0.2975 - val_Accuracy: 0.8856\n",
      "Epoch 278/500\n",
      "64/64 [==============================] - 0s 792us/step - loss: 0.3680 - Accuracy: 0.8485 - val_loss: 0.2975 - val_Accuracy: 0.8878\n",
      "Epoch 279/500\n",
      "64/64 [==============================] - 0s 787us/step - loss: 0.3692 - Accuracy: 0.8473 - val_loss: 0.2982 - val_Accuracy: 0.8867\n",
      "Epoch 280/500\n",
      "64/64 [==============================] - 0s 776us/step - loss: 0.3742 - Accuracy: 0.8481 - val_loss: 0.3001 - val_Accuracy: 0.8844\n",
      "Epoch 281/500\n",
      "64/64 [==============================] - 0s 792us/step - loss: 0.3607 - Accuracy: 0.8504 - val_loss: 0.2947 - val_Accuracy: 0.8889\n",
      "Epoch 282/500\n",
      "64/64 [==============================] - 0s 792us/step - loss: 0.3725 - Accuracy: 0.8483 - val_loss: 0.2961 - val_Accuracy: 0.8878\n",
      "Epoch 283/500\n"
     ]
    },
    {
     "name": "stdout",
     "output_type": "stream",
     "text": [
      "64/64 [==============================] - 0s 776us/step - loss: 0.3671 - Accuracy: 0.8477 - val_loss: 0.2983 - val_Accuracy: 0.8867\n",
      "Epoch 284/500\n",
      "64/64 [==============================] - 0s 807us/step - loss: 0.3714 - Accuracy: 0.8454 - val_loss: 0.2968 - val_Accuracy: 0.8822\n",
      "Epoch 285/500\n",
      "64/64 [==============================] - 0s 776us/step - loss: 0.3652 - Accuracy: 0.8501 - val_loss: 0.2994 - val_Accuracy: 0.8856\n",
      "Epoch 286/500\n",
      "64/64 [==============================] - 0s 792us/step - loss: 0.3627 - Accuracy: 0.8502 - val_loss: 0.2969 - val_Accuracy: 0.8856\n",
      "Epoch 287/500\n",
      "64/64 [==============================] - 0s 792us/step - loss: 0.3659 - Accuracy: 0.8490 - val_loss: 0.2946 - val_Accuracy: 0.8856\n",
      "Epoch 288/500\n",
      "64/64 [==============================] - 0s 792us/step - loss: 0.3662 - Accuracy: 0.8456 - val_loss: 0.2941 - val_Accuracy: 0.8889\n",
      "Epoch 289/500\n",
      "64/64 [==============================] - 0s 776us/step - loss: 0.3644 - Accuracy: 0.8481 - val_loss: 0.2948 - val_Accuracy: 0.8900\n",
      "Epoch 290/500\n",
      "64/64 [==============================] - 0s 792us/step - loss: 0.3685 - Accuracy: 0.8498 - val_loss: 0.2960 - val_Accuracy: 0.8889\n",
      "Epoch 291/500\n",
      "64/64 [==============================] - 0s 776us/step - loss: 0.3661 - Accuracy: 0.8473 - val_loss: 0.2971 - val_Accuracy: 0.8878\n",
      "Epoch 292/500\n",
      "64/64 [==============================] - 0s 792us/step - loss: 0.3682 - Accuracy: 0.8473 - val_loss: 0.2980 - val_Accuracy: 0.8900\n",
      "Epoch 293/500\n",
      "64/64 [==============================] - 0s 776us/step - loss: 0.3690 - Accuracy: 0.8484 - val_loss: 0.2962 - val_Accuracy: 0.8856\n",
      "Epoch 294/500\n",
      "64/64 [==============================] - 0s 792us/step - loss: 0.3659 - Accuracy: 0.8463 - val_loss: 0.2975 - val_Accuracy: 0.8867\n",
      "Epoch 295/500\n",
      "64/64 [==============================] - 0s 776us/step - loss: 0.3681 - Accuracy: 0.8469 - val_loss: 0.2991 - val_Accuracy: 0.8844\n",
      "Epoch 00295: early stopping\n"
     ]
    },
    {
     "data": {
      "text/plain": [
       "<keras.callbacks.History at 0x28eacfea0d0>"
      ]
     },
     "execution_count": 35,
     "metadata": {},
     "output_type": "execute_result"
    }
   ],
   "source": [
    "model.fit(x=X_train,\n",
    "          y=y_train,\n",
    "          validation_split=.1,\n",
    "          batch_size=128,\n",
    "          epochs=500,\n",
    "          verbose=1,\n",
    "          callbacks=[early_stop])"
   ]
  },
  {
   "cell_type": "code",
   "execution_count": 36,
   "metadata": {
    "cell_style": "center",
    "scrolled": true
   },
   "outputs": [
    {
     "name": "stdout",
     "output_type": "stream",
     "text": [
      "Model: \"sequential\"\n",
      "_________________________________________________________________\n",
      "Layer (type)                 Output Shape              Param #   \n",
      "=================================================================\n",
      "dense (Dense)                (None, 30)                450       \n",
      "_________________________________________________________________\n",
      "dropout (Dropout)            (None, 30)                0         \n",
      "_________________________________________________________________\n",
      "dense_1 (Dense)              (None, 15)                465       \n",
      "_________________________________________________________________\n",
      "dropout_1 (Dropout)          (None, 15)                0         \n",
      "_________________________________________________________________\n",
      "dense_2 (Dense)              (None, 1)                 16        \n",
      "=================================================================\n",
      "Total params: 931\n",
      "Trainable params: 931\n",
      "Non-trainable params: 0\n",
      "_________________________________________________________________\n"
     ]
    }
   ],
   "source": [
    "model.summary()"
   ]
  },
  {
   "cell_type": "code",
   "execution_count": 37,
   "metadata": {
    "cell_style": "split",
    "executionInfo": {
     "elapsed": 809,
     "status": "ok",
     "timestamp": 1610205470123,
     "user": {
      "displayName": "Richard C",
      "photoUrl": "",
      "userId": "08040814671867660929"
     },
     "user_tz": -180
    },
    "id": "vQIbjGQduQpQ"
   },
   "outputs": [
    {
     "data": {
      "text/plain": [
       "<AxesSubplot:>"
      ]
     },
     "execution_count": 37,
     "metadata": {},
     "output_type": "execute_result"
    },
    {
     "data": {
      "image/png": "[encoded data removed]",
      "text/plain": [
       "<Figure size 864x432 with 1 Axes>"
      ]
     },
     "metadata": {},
     "output_type": "display_data"
    }
   ],
   "source": [
    "loss_df = pd.DataFrame(model.history.history)\n",
    "loss_df.plot()"
   ]
  },
  {
   "cell_type": "code",
   "execution_count": 40,
   "metadata": {},
   "outputs": [
    {
     "data": {
      "text/html": [
       "<div>\n",
       "<style scoped>\n",
       "    .dataframe tbody tr th:only-of-type {\n",
       "        vertical-align: middle;\n",
       "    }\n",
       "\n",
       "    .dataframe tbody tr th {\n",
       "        vertical-align: top;\n",
       "    }\n",
       "\n",
       "    .dataframe thead th {\n",
       "        text-align: right;\n",
       "    }\n",
       "</style>\n",
       "<table border=\"1\" class=\"dataframe\">\n",
       "  <thead>\n",
       "    <tr style=\"text-align: right;\">\n",
       "      <th></th>\n",
       "      <th>loss</th>\n",
       "      <th>Accuracy</th>\n",
       "      <th>val_loss</th>\n",
       "      <th>val_Accuracy</th>\n",
       "    </tr>\n",
       "  </thead>\n",
       "  <tbody>\n",
       "    <tr>\n",
       "      <th>223</th>\n",
       "      <td>0.363</td>\n",
       "      <td>0.848</td>\n",
       "      <td>0.296</td>\n",
       "      <td>0.894</td>\n",
       "    </tr>\n",
       "    <tr>\n",
       "      <th>249</th>\n",
       "      <td>0.368</td>\n",
       "      <td>0.849</td>\n",
       "      <td>0.293</td>\n",
       "      <td>0.894</td>\n",
       "    </tr>\n",
       "    <tr>\n",
       "      <th>255</th>\n",
       "      <td>0.368</td>\n",
       "      <td>0.845</td>\n",
       "      <td>0.295</td>\n",
       "      <td>0.893</td>\n",
       "    </tr>\n",
       "    <tr>\n",
       "      <th>267</th>\n",
       "      <td>0.365</td>\n",
       "      <td>0.847</td>\n",
       "      <td>0.296</td>\n",
       "      <td>0.892</td>\n",
       "    </tr>\n",
       "    <tr>\n",
       "      <th>271</th>\n",
       "      <td>0.369</td>\n",
       "      <td>0.847</td>\n",
       "      <td>0.296</td>\n",
       "      <td>0.892</td>\n",
       "    </tr>\n",
       "    <tr>\n",
       "      <th>204</th>\n",
       "      <td>0.370</td>\n",
       "      <td>0.845</td>\n",
       "      <td>0.298</td>\n",
       "      <td>0.891</td>\n",
       "    </tr>\n",
       "    <tr>\n",
       "      <th>229</th>\n",
       "      <td>0.367</td>\n",
       "      <td>0.850</td>\n",
       "      <td>0.294</td>\n",
       "      <td>0.891</td>\n",
       "    </tr>\n",
       "    <tr>\n",
       "      <th>264</th>\n",
       "      <td>0.363</td>\n",
       "      <td>0.848</td>\n",
       "      <td>0.292</td>\n",
       "      <td>0.891</td>\n",
       "    </tr>\n",
       "    <tr>\n",
       "      <th>265</th>\n",
       "      <td>0.364</td>\n",
       "      <td>0.847</td>\n",
       "      <td>0.294</td>\n",
       "      <td>0.891</td>\n",
       "    </tr>\n",
       "    <tr>\n",
       "      <th>268</th>\n",
       "      <td>0.365</td>\n",
       "      <td>0.849</td>\n",
       "      <td>0.294</td>\n",
       "      <td>0.891</td>\n",
       "    </tr>\n",
       "  </tbody>\n",
       "</table>\n",
       "</div>"
      ],
      "text/plain": [
       "     loss  Accuracy  val_loss  val_Accuracy\n",
       "223 0.363     0.848     0.296         0.894\n",
       "249 0.368     0.849     0.293         0.894\n",
       "255 0.368     0.845     0.295         0.893\n",
       "267 0.365     0.847     0.296         0.892\n",
       "271 0.369     0.847     0.296         0.892\n",
       "204 0.370     0.845     0.298         0.891\n",
       "229 0.367     0.850     0.294         0.891\n",
       "264 0.363     0.848     0.292         0.891\n",
       "265 0.364     0.847     0.294         0.891\n",
       "268 0.365     0.849     0.294         0.891"
      ]
     },
     "execution_count": 40,
     "metadata": {},
     "output_type": "execute_result"
    }
   ],
   "source": [
    "loss_df.nlargest(10, \"val_Accuracy\")"
   ]
  },
  {
   "cell_type": "code",
   "execution_count": 41,
   "metadata": {},
   "outputs": [
    {
     "data": {
      "text/html": [
       "<div>\n",
       "<style scoped>\n",
       "    .dataframe tbody tr th:only-of-type {\n",
       "        vertical-align: middle;\n",
       "    }\n",
       "\n",
       "    .dataframe tbody tr th {\n",
       "        vertical-align: top;\n",
       "    }\n",
       "\n",
       "    .dataframe thead th {\n",
       "        text-align: right;\n",
       "    }\n",
       "</style>\n",
       "<table border=\"1\" class=\"dataframe\">\n",
       "  <thead>\n",
       "    <tr style=\"text-align: right;\">\n",
       "      <th></th>\n",
       "      <th>loss</th>\n",
       "      <th>Accuracy</th>\n",
       "      <th>val_loss</th>\n",
       "      <th>val_Accuracy</th>\n",
       "    </tr>\n",
       "  </thead>\n",
       "  <tbody>\n",
       "    <tr>\n",
       "      <th>0</th>\n",
       "      <td>0.609</td>\n",
       "      <td>0.685</td>\n",
       "      <td>0.492</td>\n",
       "      <td>0.799</td>\n",
       "    </tr>\n",
       "    <tr>\n",
       "      <th>1</th>\n",
       "      <td>0.539</td>\n",
       "      <td>0.782</td>\n",
       "      <td>0.478</td>\n",
       "      <td>0.799</td>\n",
       "    </tr>\n",
       "    <tr>\n",
       "      <th>2</th>\n",
       "      <td>0.524</td>\n",
       "      <td>0.790</td>\n",
       "      <td>0.467</td>\n",
       "      <td>0.799</td>\n",
       "    </tr>\n",
       "    <tr>\n",
       "      <th>3</th>\n",
       "      <td>0.513</td>\n",
       "      <td>0.793</td>\n",
       "      <td>0.462</td>\n",
       "      <td>0.799</td>\n",
       "    </tr>\n",
       "    <tr>\n",
       "      <th>4</th>\n",
       "      <td>0.507</td>\n",
       "      <td>0.796</td>\n",
       "      <td>0.457</td>\n",
       "      <td>0.799</td>\n",
       "    </tr>\n",
       "    <tr>\n",
       "      <th>...</th>\n",
       "      <td>...</td>\n",
       "      <td>...</td>\n",
       "      <td>...</td>\n",
       "      <td>...</td>\n",
       "    </tr>\n",
       "    <tr>\n",
       "      <th>290</th>\n",
       "      <td>0.366</td>\n",
       "      <td>0.847</td>\n",
       "      <td>0.297</td>\n",
       "      <td>0.888</td>\n",
       "    </tr>\n",
       "    <tr>\n",
       "      <th>291</th>\n",
       "      <td>0.368</td>\n",
       "      <td>0.847</td>\n",
       "      <td>0.298</td>\n",
       "      <td>0.890</td>\n",
       "    </tr>\n",
       "    <tr>\n",
       "      <th>292</th>\n",
       "      <td>0.369</td>\n",
       "      <td>0.848</td>\n",
       "      <td>0.296</td>\n",
       "      <td>0.886</td>\n",
       "    </tr>\n",
       "    <tr>\n",
       "      <th>293</th>\n",
       "      <td>0.366</td>\n",
       "      <td>0.846</td>\n",
       "      <td>0.297</td>\n",
       "      <td>0.887</td>\n",
       "    </tr>\n",
       "    <tr>\n",
       "      <th>294</th>\n",
       "      <td>0.368</td>\n",
       "      <td>0.847</td>\n",
       "      <td>0.299</td>\n",
       "      <td>0.884</td>\n",
       "    </tr>\n",
       "  </tbody>\n",
       "</table>\n",
       "<p>295 rows × 4 columns</p>\n",
       "</div>"
      ],
      "text/plain": [
       "     loss  Accuracy  val_loss  val_Accuracy\n",
       "0   0.609     0.685     0.492         0.799\n",
       "1   0.539     0.782     0.478         0.799\n",
       "2   0.524     0.790     0.467         0.799\n",
       "3   0.513     0.793     0.462         0.799\n",
       "4   0.507     0.796     0.457         0.799\n",
       "..    ...       ...       ...           ...\n",
       "290 0.366     0.847     0.297         0.888\n",
       "291 0.368     0.847     0.298         0.890\n",
       "292 0.369     0.848     0.296         0.886\n",
       "293 0.366     0.846     0.297         0.887\n",
       "294 0.368     0.847     0.299         0.884\n",
       "\n",
       "[295 rows x 4 columns]"
      ]
     },
     "execution_count": 41,
     "metadata": {},
     "output_type": "execute_result"
    }
   ],
   "source": [
    "loss_df"
   ]
  },
  {
   "cell_type": "code",
   "execution_count": 42,
   "metadata": {
    "cell_style": "split",
    "scrolled": true,
    "tags": []
   },
   "outputs": [
    {
     "name": "stdout",
     "output_type": "stream",
     "text": [
      "[[773  23]\n",
      " [128  76]]\n",
      "              precision    recall  f1-score   support\n",
      "\n",
      "           0       0.86      0.97      0.91       796\n",
      "           1       0.77      0.37      0.50       204\n",
      "\n",
      "    accuracy                           0.85      1000\n",
      "   macro avg       0.81      0.67      0.71      1000\n",
      "weighted avg       0.84      0.85      0.83      1000\n",
      "\n"
     ]
    }
   ],
   "source": [
    "y_test_pred = (model.predict(X_test) > 0.5).astype(\"int32\")\n",
    "print(confusion_matrix(y_test, y_test_pred))\n",
    "print(classification_report(y_test, y_test_pred))"
   ]
  },
  {
   "cell_type": "markdown",
   "metadata": {
    "tags": []
   },
   "source": [
    "### ROC (Receiver Operating Curve) and AUC (Area Under Curve) for model"
   ]
  },
  {
   "cell_type": "code",
   "execution_count": 43,
   "metadata": {
    "cell_style": "split"
   },
   "outputs": [
    {
     "data": {
      "image/png": "[encoded data removed]",
      "text/plain": [
       "<Figure size 864x432 with 1 Axes>"
      ]
     },
     "metadata": {},
     "output_type": "display_data"
    }
   ],
   "source": [
    "y_pred_proba = model.predict(X_test)\n",
    "fpr, tpr, thresholds = roc_curve(y_test, y_pred_proba)\n",
    "plt.plot([0,1],[0,1],'k--')\n",
    "plt.plot(fpr,tpr, label='ANN')\n",
    "plt.xlabel('False Positive Rate')\n",
    "plt.ylabel('True Positive Rate')\n",
    "plt.title('ROC Curve for Keras Model')\n",
    "plt.show()"
   ]
  },
  {
   "cell_type": "code",
   "execution_count": 44,
   "metadata": {
    "cell_style": "split",
    "scrolled": true
   },
   "outputs": [
    {
     "data": {
      "text/plain": [
       "0.6952926754169051"
      ]
     },
     "execution_count": 44,
     "metadata": {},
     "output_type": "execute_result"
    }
   ],
   "source": [
    "average_precision_score(y_test, y_pred_proba)"
   ]
  },
  {
   "cell_type": "markdown",
   "metadata": {},
   "source": [
    "### with class_weigth"
   ]
  },
  {
   "cell_type": "code",
   "execution_count": 217,
   "metadata": {
    "cell_style": "split"
   },
   "outputs": [],
   "source": [
    "model_weighted = Sequential()\n",
    "\n",
    "model_weighted.add(Dense(30, activation=\"relu\"))\n",
    "model_weighted.add(Dropout(0.5))\n",
    "model_weighted.add(Dense(15, activation=\"relu\"))\n",
    "model_weighted.add(Dropout(0.5))\n",
    "model_weighted.add(Dense(1, activation=\"sigmoid\"))\n",
    "\n",
    "opt = Adam(lr=0.001)\n",
    "model_weighted.compile(optimizer=opt, \n",
    "                       loss=\"binary_crossentropy\",\n",
    "                       metrics=[\"f1-score\", \"mse\"])"
   ]
  },
  {
   "cell_type": "code",
   "execution_count": 218,
   "metadata": {
    "cell_style": "split"
   },
   "outputs": [],
   "source": [
    "early_stop = EarlyStopping(monitor=\"val_loss\",\n",
    "                           mode=\"auto\",\n",
    "                           verbose=1,\n",
    "                           patience=30)"
   ]
  },
  {
   "cell_type": "code",
   "execution_count": 219,
   "metadata": {},
   "outputs": [
    {
     "data": {
      "text/plain": [
       "{0: 0.6278777731268314, 1: 2.454991816693944}"
      ]
     },
     "execution_count": 219,
     "metadata": {},
     "output_type": "execute_result"
    }
   ],
   "source": [
    "from sklearn.utils import class_weight\n",
    "\n",
    "class_weights = class_weight.compute_class_weight('balanced',\n",
    "                                                   classes=np.unique(y_train),\n",
    "                                                   y=y_train)\n",
    "\n",
    "class_weights = {0: class_weights[0], 1: class_weights[1]}\n",
    "class_weights"
   ]
  },
  {
   "cell_type": "code",
   "execution_count": 220,
   "metadata": {
    "scrolled": true
   },
   "outputs": [
    {
     "name": "stdout",
     "output_type": "stream",
     "text": [
      "Epoch 1/200\n"
     ]
    },
    {
     "ename": "ValueError",
     "evalue": "in user code:\n\n    C:\\Users\\bunyaminkeles\\anaconda3\\lib\\site-packages\\keras\\engine\\training.py:853 train_function  *\n        return step_function(self, iterator)\n    C:\\Users\\bunyaminkeles\\anaconda3\\lib\\site-packages\\keras\\engine\\training.py:842 step_function  **\n        outputs = model.distribute_strategy.run(run_step, args=(data,))\n    C:\\Users\\bunyaminkeles\\anaconda3\\lib\\site-packages\\tensorflow\\python\\distribute\\distribute_lib.py:1286 run\n        return self._extended.call_for_each_replica(fn, args=args, kwargs=kwargs)\n    C:\\Users\\bunyaminkeles\\anaconda3\\lib\\site-packages\\tensorflow\\python\\distribute\\distribute_lib.py:2849 call_for_each_replica\n        return self._call_for_each_replica(fn, args, kwargs)\n    C:\\Users\\bunyaminkeles\\anaconda3\\lib\\site-packages\\tensorflow\\python\\distribute\\distribute_lib.py:3632 _call_for_each_replica\n        return fn(*args, **kwargs)\n    C:\\Users\\bunyaminkeles\\anaconda3\\lib\\site-packages\\keras\\engine\\training.py:835 run_step  **\n        outputs = model.train_step(data)\n    C:\\Users\\bunyaminkeles\\anaconda3\\lib\\site-packages\\keras\\engine\\training.py:792 train_step\n        self.compiled_metrics.update_state(y, y_pred, sample_weight)\n    C:\\Users\\bunyaminkeles\\anaconda3\\lib\\site-packages\\keras\\engine\\compile_utils.py:436 update_state\n        self.build(y_pred, y_true)\n    C:\\Users\\bunyaminkeles\\anaconda3\\lib\\site-packages\\keras\\engine\\compile_utils.py:358 build\n        self._metrics = tf.__internal__.nest.map_structure_up_to(y_pred, self._get_metric_objects,\n    C:\\Users\\bunyaminkeles\\anaconda3\\lib\\site-packages\\tensorflow\\python\\util\\nest.py:1376 map_structure_up_to\n        return map_structure_with_tuple_paths_up_to(\n    C:\\Users\\bunyaminkeles\\anaconda3\\lib\\site-packages\\tensorflow\\python\\util\\nest.py:1474 map_structure_with_tuple_paths_up_to\n        results = [\n    C:\\Users\\bunyaminkeles\\anaconda3\\lib\\site-packages\\tensorflow\\python\\util\\nest.py:1475 <listcomp>\n        func(*args, **kwargs) for args in zip(flat_path_gen, *flat_value_gen)\n    C:\\Users\\bunyaminkeles\\anaconda3\\lib\\site-packages\\tensorflow\\python\\util\\nest.py:1378 <lambda>\n        lambda _, *values: func(*values),  # Discards the path arg.\n    C:\\Users\\bunyaminkeles\\anaconda3\\lib\\site-packages\\keras\\engine\\compile_utils.py:482 _get_metric_objects\n        return [self._get_metric_object(m, y_t, y_p) for m in metrics]\n    C:\\Users\\bunyaminkeles\\anaconda3\\lib\\site-packages\\keras\\engine\\compile_utils.py:482 <listcomp>\n        return [self._get_metric_object(m, y_t, y_p) for m in metrics]\n    C:\\Users\\bunyaminkeles\\anaconda3\\lib\\site-packages\\keras\\engine\\compile_utils.py:501 _get_metric_object\n        metric_obj = metrics_mod.get(metric)\n    C:\\Users\\bunyaminkeles\\anaconda3\\lib\\site-packages\\keras\\metrics.py:3713 get\n        return deserialize(str(identifier))\n    C:\\Users\\bunyaminkeles\\anaconda3\\lib\\site-packages\\keras\\metrics.py:3669 deserialize\n        return deserialize_keras_object(\n    C:\\Users\\bunyaminkeles\\anaconda3\\lib\\site-packages\\keras\\utils\\generic_utils.py:704 deserialize_keras_object\n        raise ValueError(\n\n    ValueError: Unknown metric function: f1-score. Please ensure this object is passed to the `custom_objects` argument. See https://www.tensorflow.org/guide/keras/save_and_serialize#registering_the_custom_object for details.\n",
     "output_type": "error",
     "traceback": [
      "\u001b[1;31m---------------------------------------------------------------------------\u001b[0m",
      "\u001b[1;31mValueError\u001b[0m                                Traceback (most recent call last)",
      "\u001b[1;32m<ipython-input-220-becc2014328d>\u001b[0m in \u001b[0;36m<module>\u001b[1;34m\u001b[0m\n\u001b[1;32m----> 1\u001b[1;33m model_weighted.fit(x=X_train,\n\u001b[0m\u001b[0;32m      2\u001b[0m                    \u001b[0my\u001b[0m\u001b[1;33m=\u001b[0m\u001b[0my_train\u001b[0m\u001b[1;33m,\u001b[0m\u001b[1;33m\u001b[0m\u001b[1;33m\u001b[0m\u001b[0m\n\u001b[0;32m      3\u001b[0m                    \u001b[0mvalidation_split\u001b[0m\u001b[1;33m=\u001b[0m\u001b[1;36m.1\u001b[0m\u001b[1;33m,\u001b[0m\u001b[1;33m\u001b[0m\u001b[1;33m\u001b[0m\u001b[0m\n\u001b[0;32m      4\u001b[0m                    \u001b[0mbatch_size\u001b[0m\u001b[1;33m=\u001b[0m\u001b[1;36m128\u001b[0m\u001b[1;33m,\u001b[0m\u001b[1;33m\u001b[0m\u001b[1;33m\u001b[0m\u001b[0m\n\u001b[0;32m      5\u001b[0m                    \u001b[0mepochs\u001b[0m\u001b[1;33m=\u001b[0m\u001b[1;36m200\u001b[0m\u001b[1;33m,\u001b[0m\u001b[1;33m\u001b[0m\u001b[1;33m\u001b[0m\u001b[0m\n",
      "\u001b[1;32m~\\anaconda3\\lib\\site-packages\\keras\\engine\\training.py\u001b[0m in \u001b[0;36mfit\u001b[1;34m(self, x, y, batch_size, epochs, verbose, callbacks, validation_split, validation_data, shuffle, class_weight, sample_weight, initial_epoch, steps_per_epoch, validation_steps, validation_batch_size, validation_freq, max_queue_size, workers, use_multiprocessing)\u001b[0m\n\u001b[0;32m   1182\u001b[0m                 _r=1):\n\u001b[0;32m   1183\u001b[0m               \u001b[0mcallbacks\u001b[0m\u001b[1;33m.\u001b[0m\u001b[0mon_train_batch_begin\u001b[0m\u001b[1;33m(\u001b[0m\u001b[0mstep\u001b[0m\u001b[1;33m)\u001b[0m\u001b[1;33m\u001b[0m\u001b[1;33m\u001b[0m\u001b[0m\n\u001b[1;32m-> 1184\u001b[1;33m               \u001b[0mtmp_logs\u001b[0m \u001b[1;33m=\u001b[0m \u001b[0mself\u001b[0m\u001b[1;33m.\u001b[0m\u001b[0mtrain_function\u001b[0m\u001b[1;33m(\u001b[0m\u001b[0miterator\u001b[0m\u001b[1;33m)\u001b[0m\u001b[1;33m\u001b[0m\u001b[1;33m\u001b[0m\u001b[0m\n\u001b[0m\u001b[0;32m   1185\u001b[0m               \u001b[1;32mif\u001b[0m \u001b[0mdata_handler\u001b[0m\u001b[1;33m.\u001b[0m\u001b[0mshould_sync\u001b[0m\u001b[1;33m:\u001b[0m\u001b[1;33m\u001b[0m\u001b[1;33m\u001b[0m\u001b[0m\n\u001b[0;32m   1186\u001b[0m                 \u001b[0mcontext\u001b[0m\u001b[1;33m.\u001b[0m\u001b[0masync_wait\u001b[0m\u001b[1;33m(\u001b[0m\u001b[1;33m)\u001b[0m\u001b[1;33m\u001b[0m\u001b[1;33m\u001b[0m\u001b[0m\n",
      "\u001b[1;32m~\\anaconda3\\lib\\site-packages\\tensorflow\\python\\eager\\def_function.py\u001b[0m in \u001b[0;36m__call__\u001b[1;34m(self, *args, **kwds)\u001b[0m\n\u001b[0;32m    883\u001b[0m \u001b[1;33m\u001b[0m\u001b[0m\n\u001b[0;32m    884\u001b[0m       \u001b[1;32mwith\u001b[0m \u001b[0mOptionalXlaContext\u001b[0m\u001b[1;33m(\u001b[0m\u001b[0mself\u001b[0m\u001b[1;33m.\u001b[0m\u001b[0m_jit_compile\u001b[0m\u001b[1;33m)\u001b[0m\u001b[1;33m:\u001b[0m\u001b[1;33m\u001b[0m\u001b[1;33m\u001b[0m\u001b[0m\n\u001b[1;32m--> 885\u001b[1;33m         \u001b[0mresult\u001b[0m \u001b[1;33m=\u001b[0m \u001b[0mself\u001b[0m\u001b[1;33m.\u001b[0m\u001b[0m_call\u001b[0m\u001b[1;33m(\u001b[0m\u001b[1;33m*\u001b[0m\u001b[0margs\u001b[0m\u001b[1;33m,\u001b[0m \u001b[1;33m**\u001b[0m\u001b[0mkwds\u001b[0m\u001b[1;33m)\u001b[0m\u001b[1;33m\u001b[0m\u001b[1;33m\u001b[0m\u001b[0m\n\u001b[0m\u001b[0;32m    886\u001b[0m \u001b[1;33m\u001b[0m\u001b[0m\n\u001b[0;32m    887\u001b[0m       \u001b[0mnew_tracing_count\u001b[0m \u001b[1;33m=\u001b[0m \u001b[0mself\u001b[0m\u001b[1;33m.\u001b[0m\u001b[0mexperimental_get_tracing_count\u001b[0m\u001b[1;33m(\u001b[0m\u001b[1;33m)\u001b[0m\u001b[1;33m\u001b[0m\u001b[1;33m\u001b[0m\u001b[0m\n",
      "\u001b[1;32m~\\anaconda3\\lib\\site-packages\\tensorflow\\python\\eager\\def_function.py\u001b[0m in \u001b[0;36m_call\u001b[1;34m(self, *args, **kwds)\u001b[0m\n\u001b[0;32m    931\u001b[0m       \u001b[1;31m# This is the first call of __call__, so we have to initialize.\u001b[0m\u001b[1;33m\u001b[0m\u001b[1;33m\u001b[0m\u001b[1;33m\u001b[0m\u001b[0m\n\u001b[0;32m    932\u001b[0m       \u001b[0minitializers\u001b[0m \u001b[1;33m=\u001b[0m \u001b[1;33m[\u001b[0m\u001b[1;33m]\u001b[0m\u001b[1;33m\u001b[0m\u001b[1;33m\u001b[0m\u001b[0m\n\u001b[1;32m--> 933\u001b[1;33m       \u001b[0mself\u001b[0m\u001b[1;33m.\u001b[0m\u001b[0m_initialize\u001b[0m\u001b[1;33m(\u001b[0m\u001b[0margs\u001b[0m\u001b[1;33m,\u001b[0m \u001b[0mkwds\u001b[0m\u001b[1;33m,\u001b[0m \u001b[0madd_initializers_to\u001b[0m\u001b[1;33m=\u001b[0m\u001b[0minitializers\u001b[0m\u001b[1;33m)\u001b[0m\u001b[1;33m\u001b[0m\u001b[1;33m\u001b[0m\u001b[0m\n\u001b[0m\u001b[0;32m    934\u001b[0m     \u001b[1;32mfinally\u001b[0m\u001b[1;33m:\u001b[0m\u001b[1;33m\u001b[0m\u001b[1;33m\u001b[0m\u001b[0m\n\u001b[0;32m    935\u001b[0m       \u001b[1;31m# At this point we know that the initialization is complete (or less\u001b[0m\u001b[1;33m\u001b[0m\u001b[1;33m\u001b[0m\u001b[1;33m\u001b[0m\u001b[0m\n",
      "\u001b[1;32m~\\anaconda3\\lib\\site-packages\\tensorflow\\python\\eager\\def_function.py\u001b[0m in \u001b[0;36m_initialize\u001b[1;34m(self, args, kwds, add_initializers_to)\u001b[0m\n\u001b[0;32m    757\u001b[0m     \u001b[0mself\u001b[0m\u001b[1;33m.\u001b[0m\u001b[0m_graph_deleter\u001b[0m \u001b[1;33m=\u001b[0m \u001b[0mFunctionDeleter\u001b[0m\u001b[1;33m(\u001b[0m\u001b[0mself\u001b[0m\u001b[1;33m.\u001b[0m\u001b[0m_lifted_initializer_graph\u001b[0m\u001b[1;33m)\u001b[0m\u001b[1;33m\u001b[0m\u001b[1;33m\u001b[0m\u001b[0m\n\u001b[0;32m    758\u001b[0m     self._concrete_stateful_fn = (\n\u001b[1;32m--> 759\u001b[1;33m         self._stateful_fn._get_concrete_function_internal_garbage_collected(  # pylint: disable=protected-access\n\u001b[0m\u001b[0;32m    760\u001b[0m             *args, **kwds))\n\u001b[0;32m    761\u001b[0m \u001b[1;33m\u001b[0m\u001b[0m\n",
      "\u001b[1;32m~\\anaconda3\\lib\\site-packages\\tensorflow\\python\\eager\\function.py\u001b[0m in \u001b[0;36m_get_concrete_function_internal_garbage_collected\u001b[1;34m(self, *args, **kwargs)\u001b[0m\n\u001b[0;32m   3064\u001b[0m       \u001b[0margs\u001b[0m\u001b[1;33m,\u001b[0m \u001b[0mkwargs\u001b[0m \u001b[1;33m=\u001b[0m \u001b[1;32mNone\u001b[0m\u001b[1;33m,\u001b[0m \u001b[1;32mNone\u001b[0m\u001b[1;33m\u001b[0m\u001b[1;33m\u001b[0m\u001b[0m\n\u001b[0;32m   3065\u001b[0m     \u001b[1;32mwith\u001b[0m \u001b[0mself\u001b[0m\u001b[1;33m.\u001b[0m\u001b[0m_lock\u001b[0m\u001b[1;33m:\u001b[0m\u001b[1;33m\u001b[0m\u001b[1;33m\u001b[0m\u001b[0m\n\u001b[1;32m-> 3066\u001b[1;33m       \u001b[0mgraph_function\u001b[0m\u001b[1;33m,\u001b[0m \u001b[0m_\u001b[0m \u001b[1;33m=\u001b[0m \u001b[0mself\u001b[0m\u001b[1;33m.\u001b[0m\u001b[0m_maybe_define_function\u001b[0m\u001b[1;33m(\u001b[0m\u001b[0margs\u001b[0m\u001b[1;33m,\u001b[0m \u001b[0mkwargs\u001b[0m\u001b[1;33m)\u001b[0m\u001b[1;33m\u001b[0m\u001b[1;33m\u001b[0m\u001b[0m\n\u001b[0m\u001b[0;32m   3067\u001b[0m     \u001b[1;32mreturn\u001b[0m \u001b[0mgraph_function\u001b[0m\u001b[1;33m\u001b[0m\u001b[1;33m\u001b[0m\u001b[0m\n\u001b[0;32m   3068\u001b[0m \u001b[1;33m\u001b[0m\u001b[0m\n",
      "\u001b[1;32m~\\anaconda3\\lib\\site-packages\\tensorflow\\python\\eager\\function.py\u001b[0m in \u001b[0;36m_maybe_define_function\u001b[1;34m(self, args, kwargs)\u001b[0m\n\u001b[0;32m   3461\u001b[0m \u001b[1;33m\u001b[0m\u001b[0m\n\u001b[0;32m   3462\u001b[0m           \u001b[0mself\u001b[0m\u001b[1;33m.\u001b[0m\u001b[0m_function_cache\u001b[0m\u001b[1;33m.\u001b[0m\u001b[0mmissed\u001b[0m\u001b[1;33m.\u001b[0m\u001b[0madd\u001b[0m\u001b[1;33m(\u001b[0m\u001b[0mcall_context_key\u001b[0m\u001b[1;33m)\u001b[0m\u001b[1;33m\u001b[0m\u001b[1;33m\u001b[0m\u001b[0m\n\u001b[1;32m-> 3463\u001b[1;33m           \u001b[0mgraph_function\u001b[0m \u001b[1;33m=\u001b[0m \u001b[0mself\u001b[0m\u001b[1;33m.\u001b[0m\u001b[0m_create_graph_function\u001b[0m\u001b[1;33m(\u001b[0m\u001b[0margs\u001b[0m\u001b[1;33m,\u001b[0m \u001b[0mkwargs\u001b[0m\u001b[1;33m)\u001b[0m\u001b[1;33m\u001b[0m\u001b[1;33m\u001b[0m\u001b[0m\n\u001b[0m\u001b[0;32m   3464\u001b[0m           \u001b[0mself\u001b[0m\u001b[1;33m.\u001b[0m\u001b[0m_function_cache\u001b[0m\u001b[1;33m.\u001b[0m\u001b[0mprimary\u001b[0m\u001b[1;33m[\u001b[0m\u001b[0mcache_key\u001b[0m\u001b[1;33m]\u001b[0m \u001b[1;33m=\u001b[0m \u001b[0mgraph_function\u001b[0m\u001b[1;33m\u001b[0m\u001b[1;33m\u001b[0m\u001b[0m\n\u001b[0;32m   3465\u001b[0m \u001b[1;33m\u001b[0m\u001b[0m\n",
      "\u001b[1;32m~\\anaconda3\\lib\\site-packages\\tensorflow\\python\\eager\\function.py\u001b[0m in \u001b[0;36m_create_graph_function\u001b[1;34m(self, args, kwargs, override_flat_arg_shapes)\u001b[0m\n\u001b[0;32m   3296\u001b[0m     \u001b[0marg_names\u001b[0m \u001b[1;33m=\u001b[0m \u001b[0mbase_arg_names\u001b[0m \u001b[1;33m+\u001b[0m \u001b[0mmissing_arg_names\u001b[0m\u001b[1;33m\u001b[0m\u001b[1;33m\u001b[0m\u001b[0m\n\u001b[0;32m   3297\u001b[0m     graph_function = ConcreteFunction(\n\u001b[1;32m-> 3298\u001b[1;33m         func_graph_module.func_graph_from_py_func(\n\u001b[0m\u001b[0;32m   3299\u001b[0m             \u001b[0mself\u001b[0m\u001b[1;33m.\u001b[0m\u001b[0m_name\u001b[0m\u001b[1;33m,\u001b[0m\u001b[1;33m\u001b[0m\u001b[1;33m\u001b[0m\u001b[0m\n\u001b[0;32m   3300\u001b[0m             \u001b[0mself\u001b[0m\u001b[1;33m.\u001b[0m\u001b[0m_python_function\u001b[0m\u001b[1;33m,\u001b[0m\u001b[1;33m\u001b[0m\u001b[1;33m\u001b[0m\u001b[0m\n",
      "\u001b[1;32m~\\anaconda3\\lib\\site-packages\\tensorflow\\python\\framework\\func_graph.py\u001b[0m in \u001b[0;36mfunc_graph_from_py_func\u001b[1;34m(name, python_func, args, kwargs, signature, func_graph, autograph, autograph_options, add_control_dependencies, arg_names, op_return_value, collections, capture_by_value, override_flat_arg_shapes, acd_record_initial_resource_uses)\u001b[0m\n\u001b[0;32m   1005\u001b[0m         \u001b[0m_\u001b[0m\u001b[1;33m,\u001b[0m \u001b[0moriginal_func\u001b[0m \u001b[1;33m=\u001b[0m \u001b[0mtf_decorator\u001b[0m\u001b[1;33m.\u001b[0m\u001b[0munwrap\u001b[0m\u001b[1;33m(\u001b[0m\u001b[0mpython_func\u001b[0m\u001b[1;33m)\u001b[0m\u001b[1;33m\u001b[0m\u001b[1;33m\u001b[0m\u001b[0m\n\u001b[0;32m   1006\u001b[0m \u001b[1;33m\u001b[0m\u001b[0m\n\u001b[1;32m-> 1007\u001b[1;33m       \u001b[0mfunc_outputs\u001b[0m \u001b[1;33m=\u001b[0m \u001b[0mpython_func\u001b[0m\u001b[1;33m(\u001b[0m\u001b[1;33m*\u001b[0m\u001b[0mfunc_args\u001b[0m\u001b[1;33m,\u001b[0m \u001b[1;33m**\u001b[0m\u001b[0mfunc_kwargs\u001b[0m\u001b[1;33m)\u001b[0m\u001b[1;33m\u001b[0m\u001b[1;33m\u001b[0m\u001b[0m\n\u001b[0m\u001b[0;32m   1008\u001b[0m \u001b[1;33m\u001b[0m\u001b[0m\n\u001b[0;32m   1009\u001b[0m       \u001b[1;31m# invariant: `func_outputs` contains only Tensors, CompositeTensors,\u001b[0m\u001b[1;33m\u001b[0m\u001b[1;33m\u001b[0m\u001b[1;33m\u001b[0m\u001b[0m\n",
      "\u001b[1;32m~\\anaconda3\\lib\\site-packages\\tensorflow\\python\\eager\\def_function.py\u001b[0m in \u001b[0;36mwrapped_fn\u001b[1;34m(*args, **kwds)\u001b[0m\n\u001b[0;32m    666\u001b[0m         \u001b[1;31m# the function a weak reference to itself to avoid a reference cycle.\u001b[0m\u001b[1;33m\u001b[0m\u001b[1;33m\u001b[0m\u001b[1;33m\u001b[0m\u001b[0m\n\u001b[0;32m    667\u001b[0m         \u001b[1;32mwith\u001b[0m \u001b[0mOptionalXlaContext\u001b[0m\u001b[1;33m(\u001b[0m\u001b[0mcompile_with_xla\u001b[0m\u001b[1;33m)\u001b[0m\u001b[1;33m:\u001b[0m\u001b[1;33m\u001b[0m\u001b[1;33m\u001b[0m\u001b[0m\n\u001b[1;32m--> 668\u001b[1;33m           \u001b[0mout\u001b[0m \u001b[1;33m=\u001b[0m \u001b[0mweak_wrapped_fn\u001b[0m\u001b[1;33m(\u001b[0m\u001b[1;33m)\u001b[0m\u001b[1;33m.\u001b[0m\u001b[0m__wrapped__\u001b[0m\u001b[1;33m(\u001b[0m\u001b[1;33m*\u001b[0m\u001b[0margs\u001b[0m\u001b[1;33m,\u001b[0m \u001b[1;33m**\u001b[0m\u001b[0mkwds\u001b[0m\u001b[1;33m)\u001b[0m\u001b[1;33m\u001b[0m\u001b[1;33m\u001b[0m\u001b[0m\n\u001b[0m\u001b[0;32m    669\u001b[0m         \u001b[1;32mreturn\u001b[0m \u001b[0mout\u001b[0m\u001b[1;33m\u001b[0m\u001b[1;33m\u001b[0m\u001b[0m\n\u001b[0;32m    670\u001b[0m \u001b[1;33m\u001b[0m\u001b[0m\n",
      "\u001b[1;32m~\\anaconda3\\lib\\site-packages\\tensorflow\\python\\framework\\func_graph.py\u001b[0m in \u001b[0;36mwrapper\u001b[1;34m(*args, **kwargs)\u001b[0m\n\u001b[0;32m    992\u001b[0m           \u001b[1;32mexcept\u001b[0m \u001b[0mException\u001b[0m \u001b[1;32mas\u001b[0m \u001b[0me\u001b[0m\u001b[1;33m:\u001b[0m  \u001b[1;31m# pylint:disable=broad-except\u001b[0m\u001b[1;33m\u001b[0m\u001b[1;33m\u001b[0m\u001b[0m\n\u001b[0;32m    993\u001b[0m             \u001b[1;32mif\u001b[0m \u001b[0mhasattr\u001b[0m\u001b[1;33m(\u001b[0m\u001b[0me\u001b[0m\u001b[1;33m,\u001b[0m \u001b[1;34m\"ag_error_metadata\"\u001b[0m\u001b[1;33m)\u001b[0m\u001b[1;33m:\u001b[0m\u001b[1;33m\u001b[0m\u001b[1;33m\u001b[0m\u001b[0m\n\u001b[1;32m--> 994\u001b[1;33m               \u001b[1;32mraise\u001b[0m \u001b[0me\u001b[0m\u001b[1;33m.\u001b[0m\u001b[0mag_error_metadata\u001b[0m\u001b[1;33m.\u001b[0m\u001b[0mto_exception\u001b[0m\u001b[1;33m(\u001b[0m\u001b[0me\u001b[0m\u001b[1;33m)\u001b[0m\u001b[1;33m\u001b[0m\u001b[1;33m\u001b[0m\u001b[0m\n\u001b[0m\u001b[0;32m    995\u001b[0m             \u001b[1;32melse\u001b[0m\u001b[1;33m:\u001b[0m\u001b[1;33m\u001b[0m\u001b[1;33m\u001b[0m\u001b[0m\n\u001b[0;32m    996\u001b[0m               \u001b[1;32mraise\u001b[0m\u001b[1;33m\u001b[0m\u001b[1;33m\u001b[0m\u001b[0m\n",
      "\u001b[1;31mValueError\u001b[0m: in user code:\n\n    C:\\Users\\bunyaminkeles\\anaconda3\\lib\\site-packages\\keras\\engine\\training.py:853 train_function  *\n        return step_function(self, iterator)\n    C:\\Users\\bunyaminkeles\\anaconda3\\lib\\site-packages\\keras\\engine\\training.py:842 step_function  **\n        outputs = model.distribute_strategy.run(run_step, args=(data,))\n    C:\\Users\\bunyaminkeles\\anaconda3\\lib\\site-packages\\tensorflow\\python\\distribute\\distribute_lib.py:1286 run\n        return self._extended.call_for_each_replica(fn, args=args, kwargs=kwargs)\n    C:\\Users\\bunyaminkeles\\anaconda3\\lib\\site-packages\\tensorflow\\python\\distribute\\distribute_lib.py:2849 call_for_each_replica\n        return self._call_for_each_replica(fn, args, kwargs)\n    C:\\Users\\bunyaminkeles\\anaconda3\\lib\\site-packages\\tensorflow\\python\\distribute\\distribute_lib.py:3632 _call_for_each_replica\n        return fn(*args, **kwargs)\n    C:\\Users\\bunyaminkeles\\anaconda3\\lib\\site-packages\\keras\\engine\\training.py:835 run_step  **\n        outputs = model.train_step(data)\n    C:\\Users\\bunyaminkeles\\anaconda3\\lib\\site-packages\\keras\\engine\\training.py:792 train_step\n        self.compiled_metrics.update_state(y, y_pred, sample_weight)\n    C:\\Users\\bunyaminkeles\\anaconda3\\lib\\site-packages\\keras\\engine\\compile_utils.py:436 update_state\n        self.build(y_pred, y_true)\n    C:\\Users\\bunyaminkeles\\anaconda3\\lib\\site-packages\\keras\\engine\\compile_utils.py:358 build\n        self._metrics = tf.__internal__.nest.map_structure_up_to(y_pred, self._get_metric_objects,\n    C:\\Users\\bunyaminkeles\\anaconda3\\lib\\site-packages\\tensorflow\\python\\util\\nest.py:1376 map_structure_up_to\n        return map_structure_with_tuple_paths_up_to(\n    C:\\Users\\bunyaminkeles\\anaconda3\\lib\\site-packages\\tensorflow\\python\\util\\nest.py:1474 map_structure_with_tuple_paths_up_to\n        results = [\n    C:\\Users\\bunyaminkeles\\anaconda3\\lib\\site-packages\\tensorflow\\python\\util\\nest.py:1475 <listcomp>\n        func(*args, **kwargs) for args in zip(flat_path_gen, *flat_value_gen)\n    C:\\Users\\bunyaminkeles\\anaconda3\\lib\\site-packages\\tensorflow\\python\\util\\nest.py:1378 <lambda>\n        lambda _, *values: func(*values),  # Discards the path arg.\n    C:\\Users\\bunyaminkeles\\anaconda3\\lib\\site-packages\\keras\\engine\\compile_utils.py:482 _get_metric_objects\n        return [self._get_metric_object(m, y_t, y_p) for m in metrics]\n    C:\\Users\\bunyaminkeles\\anaconda3\\lib\\site-packages\\keras\\engine\\compile_utils.py:482 <listcomp>\n        return [self._get_metric_object(m, y_t, y_p) for m in metrics]\n    C:\\Users\\bunyaminkeles\\anaconda3\\lib\\site-packages\\keras\\engine\\compile_utils.py:501 _get_metric_object\n        metric_obj = metrics_mod.get(metric)\n    C:\\Users\\bunyaminkeles\\anaconda3\\lib\\site-packages\\keras\\metrics.py:3713 get\n        return deserialize(str(identifier))\n    C:\\Users\\bunyaminkeles\\anaconda3\\lib\\site-packages\\keras\\metrics.py:3669 deserialize\n        return deserialize_keras_object(\n    C:\\Users\\bunyaminkeles\\anaconda3\\lib\\site-packages\\keras\\utils\\generic_utils.py:704 deserialize_keras_object\n        raise ValueError(\n\n    ValueError: Unknown metric function: f1-score. Please ensure this object is passed to the `custom_objects` argument. See https://www.tensorflow.org/guide/keras/save_and_serialize#registering_the_custom_object for details.\n"
     ]
    }
   ],
   "source": [
    "model_weighted.fit(x=X_train,\n",
    "                   y=y_train,\n",
    "                   validation_split=.1,\n",
    "                   batch_size=128,\n",
    "                   epochs=200,\n",
    "                   verbose=1,\n",
    "                   callbacks=[early_stop],\n",
    "                   class_weight=class_weights)"
   ]
  },
  {
   "cell_type": "code",
   "execution_count": 212,
   "metadata": {
    "cell_style": "split",
    "executionInfo": {
     "elapsed": 809,
     "status": "ok",
     "timestamp": 1610205470123,
     "user": {
      "displayName": "Richard C",
      "photoUrl": "",
      "userId": "08040814671867660929"
     },
     "user_tz": -180
    },
    "id": "vQIbjGQduQpQ",
    "scrolled": true
   },
   "outputs": [
    {
     "data": {
      "text/plain": [
       "<AxesSubplot:>"
      ]
     },
     "execution_count": 212,
     "metadata": {},
     "output_type": "execute_result"
    },
    {
     "data": {
      "image/png": "[encoded data removed]",
      "text/plain": [
       "<Figure size 864x432 with 1 Axes>"
      ]
     },
     "metadata": {},
     "output_type": "display_data"
    }
   ],
   "source": [
    "loss_df = pd.DataFrame(model_weighted.history.history)\n",
    "loss_df.plot()"
   ]
  },
  {
   "cell_type": "code",
   "execution_count": 215,
   "metadata": {},
   "outputs": [
    {
     "data": {
      "text/html": [
       "<div>\n",
       "<style scoped>\n",
       "    .dataframe tbody tr th:only-of-type {\n",
       "        vertical-align: middle;\n",
       "    }\n",
       "\n",
       "    .dataframe tbody tr th {\n",
       "        vertical-align: top;\n",
       "    }\n",
       "\n",
       "    .dataframe thead th {\n",
       "        text-align: right;\n",
       "    }\n",
       "</style>\n",
       "<table border=\"1\" class=\"dataframe\">\n",
       "  <thead>\n",
       "    <tr style=\"text-align: right;\">\n",
       "      <th></th>\n",
       "      <th>loss</th>\n",
       "      <th>acc</th>\n",
       "      <th>mse</th>\n",
       "      <th>val_loss</th>\n",
       "      <th>val_acc</th>\n",
       "      <th>val_mse</th>\n",
       "    </tr>\n",
       "  </thead>\n",
       "  <tbody>\n",
       "    <tr>\n",
       "      <th>131</th>\n",
       "      <td>0.499</td>\n",
       "      <td>0.787</td>\n",
       "      <td>0.157</td>\n",
       "      <td>0.424</td>\n",
       "      <td>0.824</td>\n",
       "      <td>0.132</td>\n",
       "    </tr>\n",
       "    <tr>\n",
       "      <th>116</th>\n",
       "      <td>0.505</td>\n",
       "      <td>0.782</td>\n",
       "      <td>0.157</td>\n",
       "      <td>0.450</td>\n",
       "      <td>0.791</td>\n",
       "      <td>0.144</td>\n",
       "    </tr>\n",
       "    <tr>\n",
       "      <th>164</th>\n",
       "      <td>0.497</td>\n",
       "      <td>0.778</td>\n",
       "      <td>0.159</td>\n",
       "      <td>0.438</td>\n",
       "      <td>0.804</td>\n",
       "      <td>0.139</td>\n",
       "    </tr>\n",
       "    <tr>\n",
       "      <th>148</th>\n",
       "      <td>0.496</td>\n",
       "      <td>0.777</td>\n",
       "      <td>0.157</td>\n",
       "      <td>0.437</td>\n",
       "      <td>0.802</td>\n",
       "      <td>0.139</td>\n",
       "    </tr>\n",
       "    <tr>\n",
       "      <th>162</th>\n",
       "      <td>0.500</td>\n",
       "      <td>0.777</td>\n",
       "      <td>0.160</td>\n",
       "      <td>0.453</td>\n",
       "      <td>0.793</td>\n",
       "      <td>0.145</td>\n",
       "    </tr>\n",
       "    <tr>\n",
       "      <th>121</th>\n",
       "      <td>0.503</td>\n",
       "      <td>0.776</td>\n",
       "      <td>0.158</td>\n",
       "      <td>0.448</td>\n",
       "      <td>0.793</td>\n",
       "      <td>0.143</td>\n",
       "    </tr>\n",
       "    <tr>\n",
       "      <th>124</th>\n",
       "      <td>0.505</td>\n",
       "      <td>0.776</td>\n",
       "      <td>0.161</td>\n",
       "      <td>0.455</td>\n",
       "      <td>0.792</td>\n",
       "      <td>0.145</td>\n",
       "    </tr>\n",
       "    <tr>\n",
       "      <th>160</th>\n",
       "      <td>0.498</td>\n",
       "      <td>0.776</td>\n",
       "      <td>0.160</td>\n",
       "      <td>0.452</td>\n",
       "      <td>0.781</td>\n",
       "      <td>0.145</td>\n",
       "    </tr>\n",
       "    <tr>\n",
       "      <th>127</th>\n",
       "      <td>0.500</td>\n",
       "      <td>0.776</td>\n",
       "      <td>0.156</td>\n",
       "      <td>0.453</td>\n",
       "      <td>0.792</td>\n",
       "      <td>0.145</td>\n",
       "    </tr>\n",
       "    <tr>\n",
       "      <th>134</th>\n",
       "      <td>0.500</td>\n",
       "      <td>0.776</td>\n",
       "      <td>0.160</td>\n",
       "      <td>0.418</td>\n",
       "      <td>0.830</td>\n",
       "      <td>0.131</td>\n",
       "    </tr>\n",
       "  </tbody>\n",
       "</table>\n",
       "</div>"
      ],
      "text/plain": [
       "     loss   acc   mse  val_loss  val_acc  val_mse\n",
       "131 0.499 0.787 0.157     0.424    0.824    0.132\n",
       "116 0.505 0.782 0.157     0.450    0.791    0.144\n",
       "164 0.497 0.778 0.159     0.438    0.804    0.139\n",
       "148 0.496 0.777 0.157     0.437    0.802    0.139\n",
       "162 0.500 0.777 0.160     0.453    0.793    0.145\n",
       "121 0.503 0.776 0.158     0.448    0.793    0.143\n",
       "124 0.505 0.776 0.161     0.455    0.792    0.145\n",
       "160 0.498 0.776 0.160     0.452    0.781    0.145\n",
       "127 0.500 0.776 0.156     0.453    0.792    0.145\n",
       "134 0.500 0.776 0.160     0.418    0.830    0.131"
      ]
     },
     "execution_count": 215,
     "metadata": {},
     "output_type": "execute_result"
    }
   ],
   "source": [
    "loss_df.nlargest(10, \"acc\")"
   ]
  },
  {
   "cell_type": "code",
   "execution_count": null,
   "metadata": {},
   "outputs": [],
   "source": [
    "loss_df "
   ]
  },
  {
   "cell_type": "code",
   "execution_count": 216,
   "metadata": {
    "cell_style": "split"
   },
   "outputs": [
    {
     "name": "stdout",
     "output_type": "stream",
     "text": [
      "[[618 178]\n",
      " [ 51 153]]\n",
      "              precision    recall  f1-score   support\n",
      "\n",
      "           0       0.92      0.78      0.84       796\n",
      "           1       0.46      0.75      0.57       204\n",
      "\n",
      "    accuracy                           0.77      1000\n",
      "   macro avg       0.69      0.76      0.71      1000\n",
      "weighted avg       0.83      0.77      0.79      1000\n",
      "\n"
     ]
    }
   ],
   "source": [
    "y_test_pred = (model_weighted.predict(X_test) > 0.5).astype(\"int32\")\n",
    "print(confusion_matrix(y_test, y_test_pred))\n",
    "print(classification_report(y_test, y_test_pred))"
   ]
  },
  {
   "cell_type": "markdown",
   "metadata": {},
   "source": [
    "### ROC (Receiver Operating Curve) and AUC (Area Under Curve) for model"
   ]
  },
  {
   "cell_type": "code",
   "execution_count": 54,
   "metadata": {
    "cell_style": "split",
    "scrolled": true
   },
   "outputs": [
    {
     "data": {
      "image/png": "[encoded data removed]",
      "text/plain": [
       "<Figure size 864x432 with 1 Axes>"
      ]
     },
     "metadata": {},
     "output_type": "display_data"
    }
   ],
   "source": [
    "y_pred_proba = model_weighted.predict(X_test)\n",
    "fpr, tpr, thresholds = roc_curve(y_test, y_pred_proba)\n",
    "plt.plot([0,1],[0,1],'k--')\n",
    "plt.plot(fpr,tpr, label='ANN')\n",
    "plt.xlabel('False Positive Rate')\n",
    "plt.ylabel('True Positive Rate')\n",
    "plt.title('ROC Curve for Keras Model')\n",
    "plt.show()"
   ]
  },
  {
   "cell_type": "code",
   "execution_count": 55,
   "metadata": {
    "cell_style": "split"
   },
   "outputs": [
    {
     "data": {
      "text/plain": [
       "0.6784291126262612"
      ]
     },
     "execution_count": 55,
     "metadata": {},
     "output_type": "execute_result"
    }
   ],
   "source": [
    "average_precision_score(y_test, y_pred_proba)"
   ]
  },
  {
   "cell_type": "markdown",
   "metadata": {},
   "source": [
    "## GridSearchCV"
   ]
  },
  {
   "cell_type": "code",
   "execution_count": 56,
   "metadata": {},
   "outputs": [],
   "source": [
    "from tensorflow.keras.wrappers.scikit_learn import KerasClassifier"
   ]
  },
  {
   "cell_type": "code",
   "execution_count": 57,
   "metadata": {},
   "outputs": [],
   "source": [
    "def build_classifier(optimizer):\n",
    "    \n",
    "    classifier = Sequential()\n",
    "    classifier.add(Dense(30, activation=\"relu\"))\n",
    "    classifier.add(Dropout(0.5))\n",
    "    classifier.add(Dense(15, activation=\"relu\"))\n",
    "    classifier.add(Dropout(0.5))\n",
    "    classifier.add(Dense(1, activation=\"sigmoid\"))\n",
    "    \n",
    "    classifier.compile(optimizer=optimizer,\n",
    "                       loss='binary_crossentropy',\n",
    "                       metrics=['Accuracy'])\n",
    "    return classifier"
   ]
  },
  {
   "cell_type": "code",
   "execution_count": 58,
   "metadata": {},
   "outputs": [
    {
     "data": {
      "text/plain": [
       "{0: 0.6278777731268314, 1: 2.454991816693944}"
      ]
     },
     "execution_count": 58,
     "metadata": {},
     "output_type": "execute_result"
    }
   ],
   "source": [
    "class_weights"
   ]
  },
  {
   "cell_type": "code",
   "execution_count": 59,
   "metadata": {
    "scrolled": true
   },
   "outputs": [
    {
     "name": "stdout",
     "output_type": "stream",
     "text": [
      "Epoch 1/150\n",
      "36/36 [==============================] - 0s 712us/step - loss: 0.7294 - Accuracy: 0.5162\n",
      "Epoch 2/150\n",
      "36/36 [==============================] - 0s 741us/step - loss: 0.7020 - Accuracy: 0.5238\n",
      "Epoch 3/150\n",
      "36/36 [==============================] - 0s 712us/step - loss: 0.6914 - Accuracy: 0.5179\n",
      "Epoch 4/150\n",
      "36/36 [==============================] - 0s 712us/step - loss: 0.6807 - Accuracy: 0.5348\n",
      "Epoch 5/150\n",
      "36/36 [==============================] - 0s 741us/step - loss: 0.6789 - Accuracy: 0.5574\n",
      "Epoch 6/150\n",
      "36/36 [==============================] - 0s 769us/step - loss: 0.6715 - Accuracy: 0.5772\n",
      "Epoch 7/150\n",
      "36/36 [==============================] - 0s 741us/step - loss: 0.6690 - Accuracy: 0.5884\n",
      "Epoch 8/150\n",
      "36/36 [==============================] - 0s 741us/step - loss: 0.6674 - Accuracy: 0.5920\n",
      "Epoch 9/150\n",
      "36/36 [==============================] - 0s 712us/step - loss: 0.6602 - Accuracy: 0.6108\n",
      "Epoch 10/150\n",
      "36/36 [==============================] - 0s 741us/step - loss: 0.6597 - Accuracy: 0.5908\n",
      "Epoch 11/150\n",
      "36/36 [==============================] - 0s 712us/step - loss: 0.6567 - Accuracy: 0.6148\n",
      "Epoch 12/150\n",
      "36/36 [==============================] - 0s 741us/step - loss: 0.6532 - Accuracy: 0.6140\n",
      "Epoch 13/150\n",
      "36/36 [==============================] - 0s 712us/step - loss: 0.6522 - Accuracy: 0.6233\n",
      "Epoch 14/150\n",
      "36/36 [==============================] - 0s 713us/step - loss: 0.6488 - Accuracy: 0.6224\n",
      "Epoch 15/150\n",
      "36/36 [==============================] - 0s 741us/step - loss: 0.6452 - Accuracy: 0.6421\n",
      "Epoch 16/150\n",
      "36/36 [==============================] - 0s 712us/step - loss: 0.6418 - Accuracy: 0.6349\n",
      "Epoch 17/150\n",
      "36/36 [==============================] - 0s 741us/step - loss: 0.6417 - Accuracy: 0.6401\n",
      "Epoch 18/150\n",
      "36/36 [==============================] - 0s 741us/step - loss: 0.6372 - Accuracy: 0.6497\n",
      "Epoch 19/150\n",
      "36/36 [==============================] - 0s 712us/step - loss: 0.6326 - Accuracy: 0.6522\n",
      "Epoch 20/150\n",
      "36/36 [==============================] - 0s 712us/step - loss: 0.6370 - Accuracy: 0.6540\n",
      "Epoch 21/150\n",
      "36/36 [==============================] - 0s 709us/step - loss: 0.6300 - Accuracy: 0.6601\n",
      "Epoch 22/150\n",
      "36/36 [==============================] - 0s 712us/step - loss: 0.6289 - Accuracy: 0.6627\n",
      "Epoch 23/150\n",
      "36/36 [==============================] - 0s 712us/step - loss: 0.6213 - Accuracy: 0.6644\n",
      "Epoch 24/150\n",
      "36/36 [==============================] - 0s 712us/step - loss: 0.6198 - Accuracy: 0.6786\n",
      "Epoch 25/150\n",
      "36/36 [==============================] - 0s 712us/step - loss: 0.6178 - Accuracy: 0.6693\n",
      "Epoch 26/150\n",
      "36/36 [==============================] - 0s 712us/step - loss: 0.6195 - Accuracy: 0.6843\n",
      "Epoch 27/150\n",
      "36/36 [==============================] - 0s 741us/step - loss: 0.6207 - Accuracy: 0.6803\n",
      "Epoch 28/150\n",
      "36/36 [==============================] - 0s 712us/step - loss: 0.6203 - Accuracy: 0.6741\n",
      "Epoch 29/150\n",
      "36/36 [==============================] - 0s 741us/step - loss: 0.6120 - Accuracy: 0.6887\n",
      "Epoch 30/150\n",
      "36/36 [==============================] - 0s 741us/step - loss: 0.6073 - Accuracy: 0.6874\n",
      "Epoch 31/150\n",
      "36/36 [==============================] - 0s 741us/step - loss: 0.6075 - Accuracy: 0.6976\n",
      "Epoch 32/150\n",
      "36/36 [==============================] - 0s 712us/step - loss: 0.6095 - Accuracy: 0.6898\n",
      "Epoch 33/150\n",
      "36/36 [==============================] - 0s 741us/step - loss: 0.6071 - Accuracy: 0.6911\n",
      "Epoch 34/150\n",
      "36/36 [==============================] - 0s 712us/step - loss: 0.5999 - Accuracy: 0.7070\n",
      "Epoch 35/150\n",
      "36/36 [==============================] - 0s 712us/step - loss: 0.6049 - Accuracy: 0.6998\n",
      "Epoch 36/150\n",
      "36/36 [==============================] - 0s 712us/step - loss: 0.6005 - Accuracy: 0.6992\n",
      "Epoch 37/150\n",
      "36/36 [==============================] - 0s 712us/step - loss: 0.6005 - Accuracy: 0.7084\n",
      "Epoch 38/150\n",
      "36/36 [==============================] - 0s 741us/step - loss: 0.5998 - Accuracy: 0.7073\n",
      "Epoch 39/150\n",
      "36/36 [==============================] - 0s 712us/step - loss: 0.5955 - Accuracy: 0.7088\n",
      "Epoch 40/150\n",
      "36/36 [==============================] - 0s 712us/step - loss: 0.5882 - Accuracy: 0.7058\n",
      "Epoch 41/150\n",
      "36/36 [==============================] - 0s 712us/step - loss: 0.5947 - Accuracy: 0.7194\n",
      "Epoch 42/150\n",
      "36/36 [==============================] - 0s 712us/step - loss: 0.5910 - Accuracy: 0.7106\n",
      "Epoch 43/150\n",
      "36/36 [==============================] - 0s 712us/step - loss: 0.5901 - Accuracy: 0.7113\n",
      "Epoch 44/150\n",
      "36/36 [==============================] - 0s 712us/step - loss: 0.5915 - Accuracy: 0.7151\n",
      "Epoch 45/150\n",
      "36/36 [==============================] - 0s 712us/step - loss: 0.5842 - Accuracy: 0.7211\n",
      "Epoch 46/150\n",
      "36/36 [==============================] - 0s 741us/step - loss: 0.5825 - Accuracy: 0.7263\n",
      "Epoch 47/150\n",
      "36/36 [==============================] - 0s 741us/step - loss: 0.5849 - Accuracy: 0.7193\n",
      "Epoch 48/150\n",
      "36/36 [==============================] - 0s 712us/step - loss: 0.5848 - Accuracy: 0.7261\n",
      "Epoch 49/150\n",
      "36/36 [==============================] - 0s 741us/step - loss: 0.5790 - Accuracy: 0.7318\n",
      "Epoch 50/150\n",
      "36/36 [==============================] - 0s 741us/step - loss: 0.5761 - Accuracy: 0.7289\n",
      "Epoch 51/150\n",
      "36/36 [==============================] - 0s 712us/step - loss: 0.5773 - Accuracy: 0.7239\n",
      "Epoch 52/150\n",
      "36/36 [==============================] - 0s 741us/step - loss: 0.5756 - Accuracy: 0.7309\n",
      "Epoch 53/150\n",
      "36/36 [==============================] - 0s 741us/step - loss: 0.5720 - Accuracy: 0.7297\n",
      "Epoch 54/150\n",
      "36/36 [==============================] - 0s 712us/step - loss: 0.5748 - Accuracy: 0.7274\n",
      "Epoch 55/150\n",
      "36/36 [==============================] - 0s 741us/step - loss: 0.5776 - Accuracy: 0.7367\n",
      "Epoch 56/150\n",
      "36/36 [==============================] - 0s 741us/step - loss: 0.5654 - Accuracy: 0.7352\n",
      "Epoch 57/150\n",
      "36/36 [==============================] - 0s 712us/step - loss: 0.5696 - Accuracy: 0.7382\n",
      "Epoch 58/150\n",
      "36/36 [==============================] - 0s 741us/step - loss: 0.5651 - Accuracy: 0.7400\n",
      "Epoch 59/150\n",
      "36/36 [==============================] - 0s 712us/step - loss: 0.5645 - Accuracy: 0.7390\n",
      "Epoch 60/150\n",
      "36/36 [==============================] - 0s 741us/step - loss: 0.5721 - Accuracy: 0.7297\n",
      "Epoch 61/150\n",
      "36/36 [==============================] - 0s 741us/step - loss: 0.5627 - Accuracy: 0.7441\n",
      "Epoch 62/150\n",
      "36/36 [==============================] - 0s 723us/step - loss: 0.5684 - Accuracy: 0.7379\n",
      "Epoch 63/150\n",
      "36/36 [==============================] - 0s 741us/step - loss: 0.5624 - Accuracy: 0.7420\n",
      "Epoch 64/150\n",
      "36/36 [==============================] - 0s 712us/step - loss: 0.5632 - Accuracy: 0.7404\n",
      "Epoch 65/150\n",
      "36/36 [==============================] - 0s 712us/step - loss: 0.5642 - Accuracy: 0.7401\n",
      "Epoch 66/150\n",
      "36/36 [==============================] - 0s 741us/step - loss: 0.5641 - Accuracy: 0.7356\n",
      "Epoch 67/150\n",
      "36/36 [==============================] - 0s 712us/step - loss: 0.5651 - Accuracy: 0.7458\n",
      "Epoch 68/150\n",
      "36/36 [==============================] - 0s 741us/step - loss: 0.5519 - Accuracy: 0.7530\n",
      "Epoch 69/150\n",
      "36/36 [==============================] - 0s 712us/step - loss: 0.5573 - Accuracy: 0.7449\n",
      "Epoch 70/150\n",
      "36/36 [==============================] - 0s 741us/step - loss: 0.5513 - Accuracy: 0.7581\n",
      "Epoch 71/150\n",
      "36/36 [==============================] - 0s 712us/step - loss: 0.5540 - Accuracy: 0.7459\n",
      "Epoch 72/150\n",
      "36/36 [==============================] - 0s 741us/step - loss: 0.5545 - Accuracy: 0.7470\n",
      "Epoch 73/150\n",
      "36/36 [==============================] - 0s 741us/step - loss: 0.5546 - Accuracy: 0.7479\n",
      "Epoch 74/150\n",
      "36/36 [==============================] - 0s 712us/step - loss: 0.5563 - Accuracy: 0.7461\n",
      "Epoch 75/150\n",
      "36/36 [==============================] - 0s 741us/step - loss: 0.5492 - Accuracy: 0.7513\n",
      "Epoch 76/150\n",
      "36/36 [==============================] - 0s 716us/step - loss: 0.5470 - Accuracy: 0.7599\n",
      "Epoch 77/150\n",
      "36/36 [==============================] - 0s 741us/step - loss: 0.5488 - Accuracy: 0.7527\n",
      "Epoch 78/150\n",
      "36/36 [==============================] - 0s 712us/step - loss: 0.5466 - Accuracy: 0.7630\n",
      "Epoch 79/150\n",
      "36/36 [==============================] - 0s 712us/step - loss: 0.5525 - Accuracy: 0.7490\n",
      "Epoch 80/150\n",
      "36/36 [==============================] - 0s 730us/step - loss: 0.5448 - Accuracy: 0.7643\n",
      "Epoch 81/150\n"
     ]
    },
    {
     "name": "stdout",
     "output_type": "stream",
     "text": [
      "36/36 [==============================] - 0s 741us/step - loss: 0.5436 - Accuracy: 0.7602\n",
      "Epoch 82/150\n",
      "36/36 [==============================] - 0s 741us/step - loss: 0.5369 - Accuracy: 0.7637\n",
      "Epoch 83/150\n",
      "36/36 [==============================] - 0s 712us/step - loss: 0.5427 - Accuracy: 0.7638\n",
      "Epoch 84/150\n",
      "36/36 [==============================] - 0s 741us/step - loss: 0.5427 - Accuracy: 0.7678\n",
      "Epoch 85/150\n",
      "36/36 [==============================] - 0s 712us/step - loss: 0.5395 - Accuracy: 0.7628\n",
      "Epoch 86/150\n",
      "36/36 [==============================] - 0s 712us/step - loss: 0.5353 - Accuracy: 0.7659\n",
      "Epoch 87/150\n",
      "36/36 [==============================] - 0s 727us/step - loss: 0.5322 - Accuracy: 0.7632\n",
      "Epoch 88/150\n",
      "36/36 [==============================] - 0s 712us/step - loss: 0.5333 - Accuracy: 0.7669\n",
      "Epoch 89/150\n",
      "36/36 [==============================] - 0s 741us/step - loss: 0.5372 - Accuracy: 0.7681\n",
      "Epoch 90/150\n",
      "36/36 [==============================] - 0s 741us/step - loss: 0.5358 - Accuracy: 0.7578\n",
      "Epoch 91/150\n",
      "36/36 [==============================] - 0s 727us/step - loss: 0.5297 - Accuracy: 0.7687\n",
      "Epoch 92/150\n",
      "36/36 [==============================] - 0s 741us/step - loss: 0.5323 - Accuracy: 0.7731\n",
      "Epoch 93/150\n",
      "36/36 [==============================] - 0s 712us/step - loss: 0.5355 - Accuracy: 0.7646\n",
      "Epoch 94/150\n",
      "36/36 [==============================] - 0s 712us/step - loss: 0.5261 - Accuracy: 0.7759\n",
      "Epoch 95/150\n",
      "36/36 [==============================] - 0s 712us/step - loss: 0.5227 - Accuracy: 0.7698\n",
      "Epoch 96/150\n",
      "36/36 [==============================] - 0s 712us/step - loss: 0.5285 - Accuracy: 0.7664\n",
      "Epoch 97/150\n",
      "36/36 [==============================] - 0s 712us/step - loss: 0.5259 - Accuracy: 0.7663\n",
      "Epoch 98/150\n",
      "36/36 [==============================] - 0s 712us/step - loss: 0.5267 - Accuracy: 0.7699\n",
      "Epoch 99/150\n",
      "36/36 [==============================] - 0s 712us/step - loss: 0.5291 - Accuracy: 0.7719\n",
      "Epoch 100/150\n",
      "36/36 [==============================] - 0s 741us/step - loss: 0.5199 - Accuracy: 0.7787\n",
      "Epoch 101/150\n",
      "36/36 [==============================] - 0s 712us/step - loss: 0.5280 - Accuracy: 0.7714\n",
      "Epoch 102/150\n",
      "36/36 [==============================] - 0s 741us/step - loss: 0.5244 - Accuracy: 0.7688\n",
      "Epoch 103/150\n",
      "36/36 [==============================] - 0s 712us/step - loss: 0.5257 - Accuracy: 0.7711\n",
      "Epoch 104/150\n",
      "36/36 [==============================] - 0s 741us/step - loss: 0.5248 - Accuracy: 0.7681\n",
      "Epoch 105/150\n",
      "36/36 [==============================] - 0s 712us/step - loss: 0.5212 - Accuracy: 0.7774\n",
      "Epoch 106/150\n",
      "36/36 [==============================] - 0s 741us/step - loss: 0.5276 - Accuracy: 0.7722\n",
      "Epoch 107/150\n",
      "36/36 [==============================] - 0s 712us/step - loss: 0.5241 - Accuracy: 0.7767\n",
      "Epoch 108/150\n",
      "36/36 [==============================] - 0s 712us/step - loss: 0.5184 - Accuracy: 0.7813\n",
      "Epoch 109/150\n",
      "36/36 [==============================] - 0s 712us/step - loss: 0.5167 - Accuracy: 0.7784\n",
      "Epoch 110/150\n",
      "36/36 [==============================] - 0s 826us/step - loss: 0.5221 - Accuracy: 0.7777\n",
      "Epoch 111/150\n",
      "36/36 [==============================] - 0s 712us/step - loss: 0.5198 - Accuracy: 0.7790\n",
      "Epoch 112/150\n",
      "36/36 [==============================] - 0s 712us/step - loss: 0.5206 - Accuracy: 0.7731\n",
      "Epoch 113/150\n",
      "36/36 [==============================] - 0s 741us/step - loss: 0.5206 - Accuracy: 0.7831\n",
      "Epoch 114/150\n",
      "36/36 [==============================] - 0s 712us/step - loss: 0.5206 - Accuracy: 0.7681\n",
      "Epoch 115/150\n",
      "36/36 [==============================] - 0s 741us/step - loss: 0.5237 - Accuracy: 0.7704\n",
      "Epoch 116/150\n",
      "36/36 [==============================] - 0s 712us/step - loss: 0.5170 - Accuracy: 0.7768\n",
      "Epoch 117/150\n",
      "36/36 [==============================] - 0s 712us/step - loss: 0.5172 - Accuracy: 0.7756\n",
      "Epoch 118/150\n",
      "36/36 [==============================] - 0s 741us/step - loss: 0.5198 - Accuracy: 0.7839\n",
      "Epoch 119/150\n",
      "36/36 [==============================] - 0s 712us/step - loss: 0.5184 - Accuracy: 0.7783\n",
      "Epoch 120/150\n",
      "36/36 [==============================] - 0s 741us/step - loss: 0.5132 - Accuracy: 0.7849\n",
      "Epoch 121/150\n",
      "36/36 [==============================] - 0s 741us/step - loss: 0.5181 - Accuracy: 0.7823\n",
      "Epoch 122/150\n",
      "36/36 [==============================] - 0s 712us/step - loss: 0.5212 - Accuracy: 0.7748\n",
      "Epoch 123/150\n",
      "36/36 [==============================] - 0s 712us/step - loss: 0.5144 - Accuracy: 0.7822\n",
      "Epoch 124/150\n",
      "36/36 [==============================] - 0s 755us/step - loss: 0.5161 - Accuracy: 0.7741\n",
      "Epoch 125/150\n",
      "36/36 [==============================] - 0s 712us/step - loss: 0.5188 - Accuracy: 0.7744\n",
      "Epoch 126/150\n",
      "36/36 [==============================] - 0s 741us/step - loss: 0.5134 - Accuracy: 0.7784\n",
      "Epoch 127/150\n",
      "36/36 [==============================] - 0s 712us/step - loss: 0.5129 - Accuracy: 0.7811\n",
      "Epoch 128/150\n",
      "36/36 [==============================] - 0s 712us/step - loss: 0.5202 - Accuracy: 0.7726\n",
      "Epoch 129/150\n",
      "36/36 [==============================] - 0s 741us/step - loss: 0.5078 - Accuracy: 0.7837\n",
      "Epoch 130/150\n",
      "36/36 [==============================] - 0s 741us/step - loss: 0.5147 - Accuracy: 0.7777\n",
      "Epoch 131/150\n",
      "36/36 [==============================] - 0s 712us/step - loss: 0.5148 - Accuracy: 0.7753\n",
      "Epoch 132/150\n",
      "36/36 [==============================] - 0s 712us/step - loss: 0.5205 - Accuracy: 0.7761\n",
      "Epoch 133/150\n",
      "36/36 [==============================] - 0s 712us/step - loss: 0.5094 - Accuracy: 0.7808\n",
      "Epoch 134/150\n",
      "36/36 [==============================] - 0s 712us/step - loss: 0.5147 - Accuracy: 0.7712\n",
      "Epoch 135/150\n",
      "36/36 [==============================] - 0s 712us/step - loss: 0.5123 - Accuracy: 0.7789\n",
      "Epoch 136/150\n",
      "36/36 [==============================] - 0s 712us/step - loss: 0.5101 - Accuracy: 0.7833\n",
      "Epoch 137/150\n",
      "36/36 [==============================] - 0s 712us/step - loss: 0.5088 - Accuracy: 0.7846\n",
      "Epoch 138/150\n",
      "36/36 [==============================] - 0s 769us/step - loss: 0.5097 - Accuracy: 0.7726\n",
      "Epoch 139/150\n",
      "36/36 [==============================] - 0s 712us/step - loss: 0.5077 - Accuracy: 0.7773\n",
      "Epoch 140/150\n",
      "36/36 [==============================] - 0s 712us/step - loss: 0.5126 - Accuracy: 0.7739\n",
      "Epoch 141/150\n",
      "36/36 [==============================] - 0s 741us/step - loss: 0.5051 - Accuracy: 0.7818\n",
      "Epoch 142/150\n",
      "36/36 [==============================] - 0s 712us/step - loss: 0.5102 - Accuracy: 0.7802\n",
      "Epoch 143/150\n",
      "36/36 [==============================] - 0s 727us/step - loss: 0.5106 - Accuracy: 0.7783\n",
      "Epoch 144/150\n",
      "36/36 [==============================] - 0s 712us/step - loss: 0.5126 - Accuracy: 0.7797\n",
      "Epoch 145/150\n",
      "36/36 [==============================] - 0s 712us/step - loss: 0.5092 - Accuracy: 0.7840\n",
      "Epoch 146/150\n",
      "36/36 [==============================] - 0s 727us/step - loss: 0.5121 - Accuracy: 0.7776\n",
      "Epoch 147/150\n",
      "36/36 [==============================] - 0s 741us/step - loss: 0.5094 - Accuracy: 0.7826\n",
      "Epoch 148/150\n",
      "36/36 [==============================] - 0s 712us/step - loss: 0.5092 - Accuracy: 0.7803\n",
      "Epoch 149/150\n",
      "36/36 [==============================] - 0s 741us/step - loss: 0.5087 - Accuracy: 0.7848\n",
      "Epoch 150/150\n",
      "36/36 [==============================] - 0s 727us/step - loss: 0.5117 - Accuracy: 0.7850\n"
     ]
    }
   ],
   "source": [
    "classifier = KerasClassifier(build_fn=build_classifier, epochs=150)\n",
    "parameters = {'batch_size': [128, 256],\n",
    "              'optimizer': [Adam, 'rmsprop', \"SGD\", \"adagrad\", \"adadelta\"]}\n",
    "\n",
    "grid_model = GridSearchCV(estimator=classifier,\n",
    "                          param_grid=parameters,\n",
    "                          scoring='accuracy',\n",
    "                          cv=5,\n",
    "                          n_jobs=-1,\n",
    "                          verbose=0).fit(X_train, y_train, class_weight=class_weights)"
   ]
  },
  {
   "cell_type": "code",
   "execution_count": 60,
   "metadata": {},
   "outputs": [
    {
     "data": {
      "text/plain": [
       "0.7854444444444445"
      ]
     },
     "execution_count": 60,
     "metadata": {},
     "output_type": "execute_result"
    }
   ],
   "source": [
    "grid_model.best_score_"
   ]
  },
  {
   "cell_type": "code",
   "execution_count": 61,
   "metadata": {},
   "outputs": [
    {
     "data": {
      "text/plain": [
       "{'batch_size': 256, 'optimizer': 'rmsprop'}"
      ]
     },
     "execution_count": 61,
     "metadata": {},
     "output_type": "execute_result"
    }
   ],
   "source": [
    "grid_model.best_params_"
   ]
  },
  {
   "cell_type": "code",
   "execution_count": 62,
   "metadata": {},
   "outputs": [
    {
     "name": "stdout",
     "output_type": "stream",
     "text": [
      "[[617 179]\n",
      " [ 53 151]]\n",
      "              precision    recall  f1-score   support\n",
      "\n",
      "           0       0.92      0.78      0.84       796\n",
      "           1       0.46      0.74      0.57       204\n",
      "\n",
      "    accuracy                           0.77      1000\n",
      "   macro avg       0.69      0.76      0.70      1000\n",
      "weighted avg       0.83      0.77      0.79      1000\n",
      "\n"
     ]
    }
   ],
   "source": [
    "y_test_pred = (grid_model.predict(X_test) > 0.5).astype(\"int32\")\n",
    "print(confusion_matrix(y_test, y_test_pred))\n",
    "print(classification_report(y_test, y_test_pred))"
   ]
  },
  {
   "cell_type": "markdown",
   "metadata": {},
   "source": [
    "### ROC (Receiver Operating Curve) and AUC (Area Under Curve) for grid_model"
   ]
  },
  {
   "cell_type": "code",
   "execution_count": 63,
   "metadata": {
    "cell_style": "split",
    "scrolled": true
   },
   "outputs": [
    {
     "data": {
      "image/png": "[encoded data removed]",
      "text/plain": [
       "<Figure size 864x432 with 1 Axes>"
      ]
     },
     "metadata": {},
     "output_type": "display_data"
    }
   ],
   "source": [
    "y_pred_proba = grid_model.predict(X_test)\n",
    "fpr, tpr, thresholds = roc_curve(y_test, y_pred_proba)\n",
    "plt.plot([0,1],[0,1],'k--')\n",
    "plt.plot(fpr,tpr, label='ANN')\n",
    "plt.xlabel('False Positive Rate')\n",
    "plt.ylabel('True Positive Rate')\n",
    "plt.title('ROC Curve for Keras Model')\n",
    "plt.show()"
   ]
  },
  {
   "cell_type": "code",
   "execution_count": 64,
   "metadata": {
    "cell_style": "split",
    "scrolled": true
   },
   "outputs": [
    {
     "data": {
      "text/plain": [
       "0.39169578134284017"
      ]
     },
     "execution_count": 64,
     "metadata": {},
     "output_type": "execute_result"
    }
   ],
   "source": [
    "average_precision_score(y_test, y_pred_proba)"
   ]
  },
  {
   "cell_type": "markdown",
   "metadata": {},
   "source": [
    "## Final Model and Model Deployment"
   ]
  },
  {
   "cell_type": "code",
   "execution_count": 65,
   "metadata": {},
   "outputs": [],
   "source": [
    "import pickle\n",
    "\n",
    "pickle.dump(scaler, open(\"scaler_churn\", 'wb'))"
   ]
  },
  {
   "cell_type": "code",
   "execution_count": 66,
   "metadata": {
    "scrolled": true
   },
   "outputs": [
    {
     "name": "stdout",
     "output_type": "stream",
     "text": [
      "Epoch 1/200\n",
      "71/71 [==============================] - 0s 2ms/step - loss: 0.7035 - Accuracy: 0.4731 - val_loss: 0.6444 - val_Accuracy: 0.7360\n",
      "Epoch 2/200\n",
      "71/71 [==============================] - 0s 741us/step - loss: 0.6826 - Accuracy: 0.5500 - val_loss: 0.6499 - val_Accuracy: 0.6990\n",
      "Epoch 3/200\n",
      "71/71 [==============================] - 0s 741us/step - loss: 0.6735 - Accuracy: 0.5818 - val_loss: 0.6609 - val_Accuracy: 0.6440\n",
      "Epoch 4/200\n",
      "71/71 [==============================] - 0s 755us/step - loss: 0.6650 - Accuracy: 0.5953 - val_loss: 0.6379 - val_Accuracy: 0.7040\n",
      "Epoch 5/200\n",
      "71/71 [==============================] - 0s 741us/step - loss: 0.6607 - Accuracy: 0.6400 - val_loss: 0.6354 - val_Accuracy: 0.6960\n",
      "Epoch 6/200\n",
      "71/71 [==============================] - 0s 755us/step - loss: 0.6547 - Accuracy: 0.6442 - val_loss: 0.6377 - val_Accuracy: 0.6880\n",
      "Epoch 7/200\n",
      "71/71 [==============================] - 0s 755us/step - loss: 0.6541 - Accuracy: 0.6632 - val_loss: 0.6338 - val_Accuracy: 0.6910\n",
      "Epoch 8/200\n",
      "71/71 [==============================] - 0s 755us/step - loss: 0.6425 - Accuracy: 0.6612 - val_loss: 0.6348 - val_Accuracy: 0.6830\n",
      "Epoch 9/200\n",
      "71/71 [==============================] - 0s 741us/step - loss: 0.6420 - Accuracy: 0.6656 - val_loss: 0.6174 - val_Accuracy: 0.7150\n",
      "Epoch 10/200\n",
      "71/71 [==============================] - 0s 755us/step - loss: 0.6338 - Accuracy: 0.6816 - val_loss: 0.6149 - val_Accuracy: 0.7090\n",
      "Epoch 11/200\n",
      "71/71 [==============================] - 0s 741us/step - loss: 0.6338 - Accuracy: 0.6923 - val_loss: 0.6228 - val_Accuracy: 0.7010\n",
      "Epoch 12/200\n",
      "71/71 [==============================] - 0s 758us/step - loss: 0.6311 - Accuracy: 0.6922 - val_loss: 0.6126 - val_Accuracy: 0.7250\n",
      "Epoch 13/200\n",
      "71/71 [==============================] - 0s 755us/step - loss: 0.6267 - Accuracy: 0.6989 - val_loss: 0.6042 - val_Accuracy: 0.7340\n",
      "Epoch 14/200\n",
      "71/71 [==============================] - 0s 755us/step - loss: 0.6231 - Accuracy: 0.7068 - val_loss: 0.6025 - val_Accuracy: 0.7340\n",
      "Epoch 15/200\n",
      "71/71 [==============================] - 0s 755us/step - loss: 0.6122 - Accuracy: 0.7071 - val_loss: 0.5988 - val_Accuracy: 0.7280\n",
      "Epoch 16/200\n",
      "71/71 [==============================] - 0s 769us/step - loss: 0.6118 - Accuracy: 0.7129 - val_loss: 0.5931 - val_Accuracy: 0.7360\n",
      "Epoch 17/200\n",
      "71/71 [==============================] - 0s 769us/step - loss: 0.6138 - Accuracy: 0.7150 - val_loss: 0.5963 - val_Accuracy: 0.7320\n",
      "Epoch 18/200\n",
      "71/71 [==============================] - 0s 755us/step - loss: 0.6064 - Accuracy: 0.7124 - val_loss: 0.5674 - val_Accuracy: 0.7640\n",
      "Epoch 19/200\n",
      "71/71 [==============================] - 0s 769us/step - loss: 0.6066 - Accuracy: 0.7211 - val_loss: 0.5786 - val_Accuracy: 0.7470\n",
      "Epoch 20/200\n",
      "71/71 [==============================] - 0s 755us/step - loss: 0.5973 - Accuracy: 0.7206 - val_loss: 0.5774 - val_Accuracy: 0.7390\n",
      "Epoch 21/200\n",
      "71/71 [==============================] - 0s 769us/step - loss: 0.6014 - Accuracy: 0.7169 - val_loss: 0.5605 - val_Accuracy: 0.7620\n",
      "Epoch 22/200\n",
      "71/71 [==============================] - 0s 755us/step - loss: 0.6002 - Accuracy: 0.7288 - val_loss: 0.5725 - val_Accuracy: 0.7440\n",
      "Epoch 23/200\n",
      "71/71 [==============================] - 0s 755us/step - loss: 0.5905 - Accuracy: 0.7258 - val_loss: 0.5594 - val_Accuracy: 0.7540\n",
      "Epoch 24/200\n",
      "71/71 [==============================] - 0s 741us/step - loss: 0.5893 - Accuracy: 0.7392 - val_loss: 0.5740 - val_Accuracy: 0.7400\n",
      "Epoch 25/200\n",
      "71/71 [==============================] - 0s 826us/step - loss: 0.5852 - Accuracy: 0.7314 - val_loss: 0.5501 - val_Accuracy: 0.7620\n",
      "Epoch 26/200\n",
      "71/71 [==============================] - 0s 769us/step - loss: 0.5833 - Accuracy: 0.7340 - val_loss: 0.5497 - val_Accuracy: 0.7590\n",
      "Epoch 27/200\n",
      "71/71 [==============================] - 0s 763us/step - loss: 0.5853 - Accuracy: 0.7377 - val_loss: 0.5462 - val_Accuracy: 0.7650\n",
      "Epoch 28/200\n",
      "71/71 [==============================] - 0s 769us/step - loss: 0.5762 - Accuracy: 0.7348 - val_loss: 0.5401 - val_Accuracy: 0.7710\n",
      "Epoch 29/200\n",
      "71/71 [==============================] - 0s 755us/step - loss: 0.5767 - Accuracy: 0.7458 - val_loss: 0.5572 - val_Accuracy: 0.7520\n",
      "Epoch 30/200\n",
      "71/71 [==============================] - 0s 755us/step - loss: 0.5680 - Accuracy: 0.7457 - val_loss: 0.5260 - val_Accuracy: 0.7800\n",
      "Epoch 31/200\n",
      "71/71 [==============================] - 0s 791us/step - loss: 0.5688 - Accuracy: 0.7423 - val_loss: 0.5313 - val_Accuracy: 0.7750\n",
      "Epoch 32/200\n",
      "71/71 [==============================] - 0s 755us/step - loss: 0.5617 - Accuracy: 0.7524 - val_loss: 0.5352 - val_Accuracy: 0.7670\n",
      "Epoch 33/200\n",
      "71/71 [==============================] - 0s 755us/step - loss: 0.5611 - Accuracy: 0.7533 - val_loss: 0.5349 - val_Accuracy: 0.7600\n",
      "Epoch 34/200\n",
      "71/71 [==============================] - 0s 769us/step - loss: 0.5552 - Accuracy: 0.7506 - val_loss: 0.5023 - val_Accuracy: 0.8010\n",
      "Epoch 35/200\n",
      "71/71 [==============================] - 0s 769us/step - loss: 0.5600 - Accuracy: 0.7534 - val_loss: 0.5338 - val_Accuracy: 0.7600\n",
      "Epoch 36/200\n",
      "71/71 [==============================] - 0s 755us/step - loss: 0.5479 - Accuracy: 0.7648 - val_loss: 0.5124 - val_Accuracy: 0.7840\n",
      "Epoch 37/200\n",
      "71/71 [==============================] - 0s 798us/step - loss: 0.5452 - Accuracy: 0.7616 - val_loss: 0.5193 - val_Accuracy: 0.7700\n",
      "Epoch 38/200\n",
      "71/71 [==============================] - 0s 755us/step - loss: 0.5479 - Accuracy: 0.7644 - val_loss: 0.5222 - val_Accuracy: 0.7620\n",
      "Epoch 39/200\n",
      "71/71 [==============================] - 0s 755us/step - loss: 0.5432 - Accuracy: 0.7641 - val_loss: 0.5163 - val_Accuracy: 0.7720\n",
      "Epoch 40/200\n",
      "71/71 [==============================] - 0s 741us/step - loss: 0.5438 - Accuracy: 0.7592 - val_loss: 0.4840 - val_Accuracy: 0.8020\n",
      "Epoch 41/200\n",
      "71/71 [==============================] - 0s 755us/step - loss: 0.5389 - Accuracy: 0.7726 - val_loss: 0.5166 - val_Accuracy: 0.7690\n",
      "Epoch 42/200\n",
      "71/71 [==============================] - 0s 769us/step - loss: 0.5375 - Accuracy: 0.7689 - val_loss: 0.5045 - val_Accuracy: 0.7760\n",
      "Epoch 43/200\n",
      "71/71 [==============================] - 0s 769us/step - loss: 0.5342 - Accuracy: 0.7688 - val_loss: 0.5134 - val_Accuracy: 0.7670\n",
      "Epoch 44/200\n",
      "71/71 [==============================] - 0s 769us/step - loss: 0.5445 - Accuracy: 0.7607 - val_loss: 0.5040 - val_Accuracy: 0.7780\n",
      "Epoch 45/200\n",
      "71/71 [==============================] - 0s 769us/step - loss: 0.5326 - Accuracy: 0.7719 - val_loss: 0.4940 - val_Accuracy: 0.7840\n",
      "Epoch 46/200\n",
      "71/71 [==============================] - 0s 769us/step - loss: 0.5382 - Accuracy: 0.7722 - val_loss: 0.5157 - val_Accuracy: 0.7640\n",
      "Epoch 47/200\n",
      "71/71 [==============================] - 0s 741us/step - loss: 0.5387 - Accuracy: 0.7724 - val_loss: 0.4966 - val_Accuracy: 0.7890\n",
      "Epoch 48/200\n",
      "71/71 [==============================] - 0s 755us/step - loss: 0.5309 - Accuracy: 0.7754 - val_loss: 0.4840 - val_Accuracy: 0.7910\n",
      "Epoch 49/200\n",
      "71/71 [==============================] - 0s 755us/step - loss: 0.5315 - Accuracy: 0.7768 - val_loss: 0.5038 - val_Accuracy: 0.7780\n",
      "Epoch 50/200\n",
      "71/71 [==============================] - 0s 769us/step - loss: 0.5351 - Accuracy: 0.7730 - val_loss: 0.5051 - val_Accuracy: 0.7700\n",
      "Epoch 51/200\n",
      "71/71 [==============================] - 0s 755us/step - loss: 0.5316 - Accuracy: 0.7769 - val_loss: 0.4821 - val_Accuracy: 0.7910\n",
      "Epoch 52/200\n",
      "71/71 [==============================] - 0s 755us/step - loss: 0.5290 - Accuracy: 0.7764 - val_loss: 0.5158 - val_Accuracy: 0.7610\n",
      "Epoch 53/200\n",
      "71/71 [==============================] - 0s 769us/step - loss: 0.5264 - Accuracy: 0.7753 - val_loss: 0.4734 - val_Accuracy: 0.8020\n",
      "Epoch 54/200\n",
      "71/71 [==============================] - 0s 809us/step - loss: 0.5224 - Accuracy: 0.7767 - val_loss: 0.4863 - val_Accuracy: 0.7870\n",
      "Epoch 55/200\n",
      "71/71 [==============================] - 0s 781us/step - loss: 0.5325 - Accuracy: 0.7693 - val_loss: 0.4756 - val_Accuracy: 0.7960\n",
      "Epoch 56/200\n",
      "71/71 [==============================] - 0s 778us/step - loss: 0.5314 - Accuracy: 0.7734 - val_loss: 0.4844 - val_Accuracy: 0.7950\n",
      "Epoch 57/200\n",
      "71/71 [==============================] - 0s 784us/step - loss: 0.5283 - Accuracy: 0.7814 - val_loss: 0.4700 - val_Accuracy: 0.7960\n"
     ]
    },
    {
     "name": "stdout",
     "output_type": "stream",
     "text": [
      "Epoch 58/200\n",
      "71/71 [==============================] - 0s 791us/step - loss: 0.5318 - Accuracy: 0.7780 - val_loss: 0.4803 - val_Accuracy: 0.7920\n",
      "Epoch 59/200\n",
      "71/71 [==============================] - 0s 769us/step - loss: 0.5308 - Accuracy: 0.7760 - val_loss: 0.4683 - val_Accuracy: 0.8020\n",
      "Epoch 60/200\n",
      "71/71 [==============================] - 0s 769us/step - loss: 0.5224 - Accuracy: 0.7818 - val_loss: 0.4901 - val_Accuracy: 0.7780\n",
      "Epoch 61/200\n",
      "71/71 [==============================] - 0s 784us/step - loss: 0.5285 - Accuracy: 0.7767 - val_loss: 0.4895 - val_Accuracy: 0.7870\n",
      "Epoch 62/200\n",
      "71/71 [==============================] - 0s 747us/step - loss: 0.5283 - Accuracy: 0.7787 - val_loss: 0.4895 - val_Accuracy: 0.7800\n",
      "Epoch 63/200\n",
      "71/71 [==============================] - 0s 741us/step - loss: 0.5225 - Accuracy: 0.7761 - val_loss: 0.4899 - val_Accuracy: 0.7780\n",
      "Epoch 64/200\n",
      "71/71 [==============================] - 0s 741us/step - loss: 0.5277 - Accuracy: 0.7766 - val_loss: 0.4870 - val_Accuracy: 0.7850\n",
      "Epoch 65/200\n",
      "71/71 [==============================] - 0s 755us/step - loss: 0.5280 - Accuracy: 0.7794 - val_loss: 0.5050 - val_Accuracy: 0.7790\n",
      "Epoch 66/200\n",
      "71/71 [==============================] - 0s 741us/step - loss: 0.5230 - Accuracy: 0.7747 - val_loss: 0.4741 - val_Accuracy: 0.7990\n",
      "Epoch 67/200\n",
      "71/71 [==============================] - 0s 741us/step - loss: 0.5161 - Accuracy: 0.7887 - val_loss: 0.4823 - val_Accuracy: 0.7930\n",
      "Epoch 68/200\n",
      "71/71 [==============================] - 0s 741us/step - loss: 0.5175 - Accuracy: 0.7820 - val_loss: 0.4714 - val_Accuracy: 0.7930\n",
      "Epoch 69/200\n",
      "71/71 [==============================] - 0s 755us/step - loss: 0.5157 - Accuracy: 0.7860 - val_loss: 0.4674 - val_Accuracy: 0.7950\n",
      "Epoch 70/200\n",
      "71/71 [==============================] - 0s 755us/step - loss: 0.5226 - Accuracy: 0.7787 - val_loss: 0.4778 - val_Accuracy: 0.7940\n",
      "Epoch 71/200\n",
      "71/71 [==============================] - 0s 741us/step - loss: 0.5196 - Accuracy: 0.7839 - val_loss: 0.4877 - val_Accuracy: 0.7830\n",
      "Epoch 72/200\n",
      "71/71 [==============================] - 0s 769us/step - loss: 0.5258 - Accuracy: 0.7802 - val_loss: 0.4881 - val_Accuracy: 0.7940\n",
      "Epoch 73/200\n",
      "71/71 [==============================] - 0s 769us/step - loss: 0.5190 - Accuracy: 0.7774 - val_loss: 0.4682 - val_Accuracy: 0.7960\n",
      "Epoch 74/200\n",
      "71/71 [==============================] - 0s 741us/step - loss: 0.5235 - Accuracy: 0.7801 - val_loss: 0.4648 - val_Accuracy: 0.7970\n",
      "Epoch 75/200\n",
      "71/71 [==============================] - 0s 755us/step - loss: 0.5201 - Accuracy: 0.7832 - val_loss: 0.4764 - val_Accuracy: 0.7910\n",
      "Epoch 76/200\n",
      "71/71 [==============================] - 0s 741us/step - loss: 0.5231 - Accuracy: 0.7792 - val_loss: 0.4673 - val_Accuracy: 0.7970\n",
      "Epoch 77/200\n",
      "71/71 [==============================] - 0s 755us/step - loss: 0.5172 - Accuracy: 0.7863 - val_loss: 0.4650 - val_Accuracy: 0.7960\n",
      "Epoch 78/200\n",
      "71/71 [==============================] - 0s 741us/step - loss: 0.5239 - Accuracy: 0.7910 - val_loss: 0.4763 - val_Accuracy: 0.7930\n",
      "Epoch 79/200\n",
      "71/71 [==============================] - 0s 741us/step - loss: 0.5211 - Accuracy: 0.7853 - val_loss: 0.4840 - val_Accuracy: 0.7840\n",
      "Epoch 80/200\n",
      "71/71 [==============================] - 0s 755us/step - loss: 0.5146 - Accuracy: 0.7864 - val_loss: 0.4607 - val_Accuracy: 0.8050\n",
      "Epoch 81/200\n",
      "71/71 [==============================] - 0s 769us/step - loss: 0.5238 - Accuracy: 0.7908 - val_loss: 0.5079 - val_Accuracy: 0.7690\n",
      "Epoch 82/200\n",
      "71/71 [==============================] - 0s 755us/step - loss: 0.5205 - Accuracy: 0.7786 - val_loss: 0.4670 - val_Accuracy: 0.7910\n",
      "Epoch 83/200\n",
      "71/71 [==============================] - 0s 769us/step - loss: 0.5201 - Accuracy: 0.7822 - val_loss: 0.4977 - val_Accuracy: 0.7770\n",
      "Epoch 84/200\n",
      "71/71 [==============================] - 0s 750us/step - loss: 0.5147 - Accuracy: 0.7838 - val_loss: 0.4825 - val_Accuracy: 0.7900\n",
      "Epoch 85/200\n",
      "71/71 [==============================] - 0s 755us/step - loss: 0.5143 - Accuracy: 0.7870 - val_loss: 0.4858 - val_Accuracy: 0.7840\n",
      "Epoch 86/200\n",
      "71/71 [==============================] - 0s 749us/step - loss: 0.5193 - Accuracy: 0.7801 - val_loss: 0.4788 - val_Accuracy: 0.7840\n",
      "Epoch 87/200\n",
      "71/71 [==============================] - 0s 755us/step - loss: 0.5205 - Accuracy: 0.7822 - val_loss: 0.4825 - val_Accuracy: 0.7880\n",
      "Epoch 88/200\n",
      "71/71 [==============================] - 0s 755us/step - loss: 0.5184 - Accuracy: 0.7819 - val_loss: 0.4819 - val_Accuracy: 0.7950\n",
      "Epoch 89/200\n",
      "71/71 [==============================] - 0s 741us/step - loss: 0.5268 - Accuracy: 0.7776 - val_loss: 0.4779 - val_Accuracy: 0.7920\n",
      "Epoch 90/200\n",
      "71/71 [==============================] - 0s 769us/step - loss: 0.5231 - Accuracy: 0.7852 - val_loss: 0.4712 - val_Accuracy: 0.7920\n",
      "Epoch 91/200\n",
      "71/71 [==============================] - 0s 755us/step - loss: 0.5237 - Accuracy: 0.7857 - val_loss: 0.4826 - val_Accuracy: 0.7820\n",
      "Epoch 92/200\n",
      "71/71 [==============================] - 0s 769us/step - loss: 0.5147 - Accuracy: 0.7782 - val_loss: 0.4846 - val_Accuracy: 0.7880\n",
      "Epoch 93/200\n",
      "71/71 [==============================] - 0s 755us/step - loss: 0.5242 - Accuracy: 0.7819 - val_loss: 0.4752 - val_Accuracy: 0.7920\n",
      "Epoch 94/200\n",
      "71/71 [==============================] - 0s 755us/step - loss: 0.5245 - Accuracy: 0.7813 - val_loss: 0.4818 - val_Accuracy: 0.7900\n",
      "Epoch 95/200\n",
      "71/71 [==============================] - 0s 755us/step - loss: 0.5197 - Accuracy: 0.7804 - val_loss: 0.4632 - val_Accuracy: 0.7930\n",
      "Epoch 96/200\n",
      "71/71 [==============================] - 0s 755us/step - loss: 0.5182 - Accuracy: 0.7849 - val_loss: 0.4827 - val_Accuracy: 0.7820\n",
      "Epoch 97/200\n",
      "71/71 [==============================] - 0s 755us/step - loss: 0.5182 - Accuracy: 0.7847 - val_loss: 0.4590 - val_Accuracy: 0.8070\n",
      "Epoch 98/200\n",
      "71/71 [==============================] - 0s 755us/step - loss: 0.5186 - Accuracy: 0.7859 - val_loss: 0.4713 - val_Accuracy: 0.7960\n",
      "Epoch 99/200\n",
      "71/71 [==============================] - 0s 755us/step - loss: 0.5133 - Accuracy: 0.7869 - val_loss: 0.4699 - val_Accuracy: 0.8010\n",
      "Epoch 100/200\n",
      "71/71 [==============================] - 0s 755us/step - loss: 0.5200 - Accuracy: 0.7907 - val_loss: 0.4933 - val_Accuracy: 0.7850\n",
      "Epoch 101/200\n",
      "71/71 [==============================] - 0s 741us/step - loss: 0.5180 - Accuracy: 0.7804 - val_loss: 0.4752 - val_Accuracy: 0.7890\n",
      "Epoch 102/200\n",
      "71/71 [==============================] - 0s 727us/step - loss: 0.5193 - Accuracy: 0.7863 - val_loss: 0.4762 - val_Accuracy: 0.7850\n",
      "Epoch 103/200\n",
      "71/71 [==============================] - 0s 741us/step - loss: 0.5110 - Accuracy: 0.7810 - val_loss: 0.4771 - val_Accuracy: 0.7890\n",
      "Epoch 104/200\n",
      "71/71 [==============================] - 0s 748us/step - loss: 0.5080 - Accuracy: 0.7862 - val_loss: 0.4852 - val_Accuracy: 0.7770\n",
      "Epoch 105/200\n",
      "71/71 [==============================] - 0s 741us/step - loss: 0.5160 - Accuracy: 0.7854 - val_loss: 0.4806 - val_Accuracy: 0.7940\n",
      "Epoch 106/200\n",
      "71/71 [==============================] - 0s 755us/step - loss: 0.5151 - Accuracy: 0.7859 - val_loss: 0.4764 - val_Accuracy: 0.7820\n",
      "Epoch 107/200\n",
      "71/71 [==============================] - 0s 755us/step - loss: 0.5166 - Accuracy: 0.7863 - val_loss: 0.4590 - val_Accuracy: 0.8000\n",
      "Epoch 108/200\n",
      "71/71 [==============================] - 0s 764us/step - loss: 0.5137 - Accuracy: 0.7847 - val_loss: 0.4790 - val_Accuracy: 0.7880\n",
      "Epoch 109/200\n",
      "71/71 [==============================] - 0s 769us/step - loss: 0.5177 - Accuracy: 0.7810 - val_loss: 0.4883 - val_Accuracy: 0.7830\n",
      "Epoch 110/200\n",
      "71/71 [==============================] - 0s 755us/step - loss: 0.5132 - Accuracy: 0.7853 - val_loss: 0.4693 - val_Accuracy: 0.7930\n",
      "Epoch 111/200\n",
      "71/71 [==============================] - 0s 755us/step - loss: 0.5176 - Accuracy: 0.7840 - val_loss: 0.4590 - val_Accuracy: 0.8010\n",
      "Epoch 112/200\n",
      "71/71 [==============================] - 0s 741us/step - loss: 0.5103 - Accuracy: 0.7861 - val_loss: 0.4656 - val_Accuracy: 0.8010\n",
      "Epoch 113/200\n",
      "71/71 [==============================] - 0s 741us/step - loss: 0.5243 - Accuracy: 0.7843 - val_loss: 0.4624 - val_Accuracy: 0.8050\n",
      "Epoch 114/200\n",
      "71/71 [==============================] - 0s 744us/step - loss: 0.5188 - Accuracy: 0.7873 - val_loss: 0.4644 - val_Accuracy: 0.7910\n"
     ]
    },
    {
     "name": "stdout",
     "output_type": "stream",
     "text": [
      "Epoch 115/200\n",
      "71/71 [==============================] - 0s 744us/step - loss: 0.5168 - Accuracy: 0.7879 - val_loss: 0.4789 - val_Accuracy: 0.7780\n",
      "Epoch 116/200\n",
      "71/71 [==============================] - 0s 741us/step - loss: 0.5129 - Accuracy: 0.7893 - val_loss: 0.4660 - val_Accuracy: 0.8000\n",
      "Epoch 117/200\n",
      "71/71 [==============================] - 0s 746us/step - loss: 0.5159 - Accuracy: 0.7883 - val_loss: 0.4803 - val_Accuracy: 0.7840\n",
      "Epoch 118/200\n",
      "71/71 [==============================] - 0s 741us/step - loss: 0.5238 - Accuracy: 0.7796 - val_loss: 0.4739 - val_Accuracy: 0.7910\n",
      "Epoch 119/200\n",
      "71/71 [==============================] - 0s 784us/step - loss: 0.5172 - Accuracy: 0.7883 - val_loss: 0.4786 - val_Accuracy: 0.7920\n",
      "Epoch 120/200\n",
      "71/71 [==============================] - 0s 741us/step - loss: 0.5091 - Accuracy: 0.7860 - val_loss: 0.4550 - val_Accuracy: 0.8050\n",
      "Epoch 121/200\n",
      "71/71 [==============================] - 0s 755us/step - loss: 0.5166 - Accuracy: 0.7908 - val_loss: 0.4820 - val_Accuracy: 0.7940\n",
      "Epoch 122/200\n",
      "71/71 [==============================] - 0s 755us/step - loss: 0.5154 - Accuracy: 0.7886 - val_loss: 0.4610 - val_Accuracy: 0.8070\n",
      "Epoch 123/200\n",
      "71/71 [==============================] - 0s 741us/step - loss: 0.5055 - Accuracy: 0.7993 - val_loss: 0.4712 - val_Accuracy: 0.8030\n",
      "Epoch 124/200\n",
      "71/71 [==============================] - 0s 755us/step - loss: 0.5167 - Accuracy: 0.7879 - val_loss: 0.4579 - val_Accuracy: 0.8000\n",
      "Epoch 125/200\n",
      "71/71 [==============================] - 0s 755us/step - loss: 0.5069 - Accuracy: 0.7948 - val_loss: 0.4668 - val_Accuracy: 0.7990\n",
      "Epoch 126/200\n",
      "71/71 [==============================] - 0s 769us/step - loss: 0.5160 - Accuracy: 0.7859 - val_loss: 0.4726 - val_Accuracy: 0.8020\n",
      "Epoch 127/200\n",
      "71/71 [==============================] - 0s 784us/step - loss: 0.5158 - Accuracy: 0.7960 - val_loss: 0.4807 - val_Accuracy: 0.7880\n",
      "Epoch 128/200\n",
      "71/71 [==============================] - 0s 741us/step - loss: 0.5157 - Accuracy: 0.7871 - val_loss: 0.4728 - val_Accuracy: 0.7940\n",
      "Epoch 129/200\n",
      "71/71 [==============================] - 0s 755us/step - loss: 0.5181 - Accuracy: 0.7928 - val_loss: 0.4970 - val_Accuracy: 0.7910\n",
      "Epoch 130/200\n",
      "71/71 [==============================] - 0s 755us/step - loss: 0.5080 - Accuracy: 0.7901 - val_loss: 0.4770 - val_Accuracy: 0.7950\n",
      "Epoch 131/200\n",
      "71/71 [==============================] - 0s 755us/step - loss: 0.5182 - Accuracy: 0.7924 - val_loss: 0.4794 - val_Accuracy: 0.8000\n",
      "Epoch 132/200\n",
      "71/71 [==============================] - 0s 755us/step - loss: 0.5193 - Accuracy: 0.7868 - val_loss: 0.4814 - val_Accuracy: 0.7930\n",
      "Epoch 133/200\n",
      "71/71 [==============================] - 0s 755us/step - loss: 0.5090 - Accuracy: 0.7898 - val_loss: 0.4558 - val_Accuracy: 0.8040\n",
      "Epoch 134/200\n",
      "71/71 [==============================] - 0s 741us/step - loss: 0.5146 - Accuracy: 0.7883 - val_loss: 0.4740 - val_Accuracy: 0.7940\n",
      "Epoch 135/200\n",
      "71/71 [==============================] - 0s 755us/step - loss: 0.5107 - Accuracy: 0.7871 - val_loss: 0.4670 - val_Accuracy: 0.8070\n",
      "Epoch 136/200\n",
      "71/71 [==============================] - 0s 727us/step - loss: 0.5109 - Accuracy: 0.7923 - val_loss: 0.4564 - val_Accuracy: 0.8070\n",
      "Epoch 137/200\n",
      "71/71 [==============================] - 0s 755us/step - loss: 0.5101 - Accuracy: 0.7889 - val_loss: 0.4812 - val_Accuracy: 0.7820\n",
      "Epoch 138/200\n",
      "71/71 [==============================] - 0s 728us/step - loss: 0.5158 - Accuracy: 0.7827 - val_loss: 0.4840 - val_Accuracy: 0.7870\n",
      "Epoch 139/200\n",
      "71/71 [==============================] - 0s 727us/step - loss: 0.5086 - Accuracy: 0.7872 - val_loss: 0.4636 - val_Accuracy: 0.7940\n",
      "Epoch 140/200\n",
      "71/71 [==============================] - 0s 741us/step - loss: 0.5108 - Accuracy: 0.7953 - val_loss: 0.4786 - val_Accuracy: 0.7900\n",
      "Epoch 141/200\n",
      "71/71 [==============================] - 0s 727us/step - loss: 0.5074 - Accuracy: 0.7932 - val_loss: 0.4680 - val_Accuracy: 0.8020\n",
      "Epoch 142/200\n",
      "71/71 [==============================] - 0s 729us/step - loss: 0.5103 - Accuracy: 0.7960 - val_loss: 0.4693 - val_Accuracy: 0.7970\n",
      "Epoch 143/200\n",
      "71/71 [==============================] - 0s 741us/step - loss: 0.5146 - Accuracy: 0.7869 - val_loss: 0.4706 - val_Accuracy: 0.7870\n",
      "Epoch 144/200\n",
      "71/71 [==============================] - 0s 741us/step - loss: 0.5125 - Accuracy: 0.7879 - val_loss: 0.4466 - val_Accuracy: 0.8100\n",
      "Epoch 145/200\n",
      "71/71 [==============================] - 0s 753us/step - loss: 0.5087 - Accuracy: 0.7881 - val_loss: 0.4645 - val_Accuracy: 0.7970\n",
      "Epoch 146/200\n",
      "71/71 [==============================] - 0s 749us/step - loss: 0.5116 - Accuracy: 0.7893 - val_loss: 0.4726 - val_Accuracy: 0.7960\n",
      "Epoch 147/200\n",
      "71/71 [==============================] - 0s 740us/step - loss: 0.5136 - Accuracy: 0.7933 - val_loss: 0.4705 - val_Accuracy: 0.7970\n",
      "Epoch 148/200\n",
      "71/71 [==============================] - 0s 755us/step - loss: 0.5139 - Accuracy: 0.7898 - val_loss: 0.4952 - val_Accuracy: 0.7810\n",
      "Epoch 149/200\n",
      "71/71 [==============================] - 0s 736us/step - loss: 0.5122 - Accuracy: 0.7849 - val_loss: 0.4750 - val_Accuracy: 0.7920\n",
      "Epoch 150/200\n",
      "71/71 [==============================] - 0s 755us/step - loss: 0.5122 - Accuracy: 0.7818 - val_loss: 0.4608 - val_Accuracy: 0.8080\n",
      "Epoch 151/200\n",
      "71/71 [==============================] - 0s 755us/step - loss: 0.5094 - Accuracy: 0.7900 - val_loss: 0.4834 - val_Accuracy: 0.7860\n",
      "Epoch 152/200\n",
      "71/71 [==============================] - 0s 755us/step - loss: 0.5176 - Accuracy: 0.7782 - val_loss: 0.4582 - val_Accuracy: 0.7960\n",
      "Epoch 153/200\n",
      "71/71 [==============================] - 0s 727us/step - loss: 0.5145 - Accuracy: 0.7812 - val_loss: 0.4731 - val_Accuracy: 0.7950\n",
      "Epoch 154/200\n",
      "71/71 [==============================] - 0s 755us/step - loss: 0.5082 - Accuracy: 0.7931 - val_loss: 0.4550 - val_Accuracy: 0.8000\n",
      "Epoch 155/200\n",
      "71/71 [==============================] - 0s 741us/step - loss: 0.5175 - Accuracy: 0.7772 - val_loss: 0.4685 - val_Accuracy: 0.7870\n",
      "Epoch 156/200\n",
      "71/71 [==============================] - 0s 755us/step - loss: 0.5102 - Accuracy: 0.7863 - val_loss: 0.4633 - val_Accuracy: 0.8060\n",
      "Epoch 157/200\n",
      "71/71 [==============================] - 0s 755us/step - loss: 0.5118 - Accuracy: 0.7942 - val_loss: 0.4696 - val_Accuracy: 0.7940\n",
      "Epoch 158/200\n",
      "71/71 [==============================] - 0s 769us/step - loss: 0.5121 - Accuracy: 0.7874 - val_loss: 0.4701 - val_Accuracy: 0.7900\n",
      "Epoch 159/200\n",
      "71/71 [==============================] - 0s 755us/step - loss: 0.5121 - Accuracy: 0.7908 - val_loss: 0.4690 - val_Accuracy: 0.7950\n",
      "Epoch 160/200\n",
      "71/71 [==============================] - 0s 741us/step - loss: 0.5050 - Accuracy: 0.7962 - val_loss: 0.4490 - val_Accuracy: 0.8130\n",
      "Epoch 161/200\n",
      "71/71 [==============================] - 0s 755us/step - loss: 0.5096 - Accuracy: 0.7960 - val_loss: 0.4640 - val_Accuracy: 0.8070\n",
      "Epoch 162/200\n",
      "71/71 [==============================] - 0s 755us/step - loss: 0.5139 - Accuracy: 0.7903 - val_loss: 0.4688 - val_Accuracy: 0.8030\n",
      "Epoch 163/200\n",
      "71/71 [==============================] - 0s 755us/step - loss: 0.5016 - Accuracy: 0.7990 - val_loss: 0.4542 - val_Accuracy: 0.8100\n",
      "Epoch 164/200\n",
      "71/71 [==============================] - 0s 741us/step - loss: 0.5130 - Accuracy: 0.7934 - val_loss: 0.4625 - val_Accuracy: 0.8060\n",
      "Epoch 165/200\n",
      "71/71 [==============================] - 0s 741us/step - loss: 0.5061 - Accuracy: 0.7892 - val_loss: 0.4745 - val_Accuracy: 0.7940\n",
      "Epoch 166/200\n",
      "71/71 [==============================] - 0s 741us/step - loss: 0.5131 - Accuracy: 0.7860 - val_loss: 0.4573 - val_Accuracy: 0.8030\n",
      "Epoch 167/200\n",
      "71/71 [==============================] - 0s 744us/step - loss: 0.5085 - Accuracy: 0.7889 - val_loss: 0.4795 - val_Accuracy: 0.7940\n",
      "Epoch 168/200\n",
      "71/71 [==============================] - 0s 741us/step - loss: 0.5057 - Accuracy: 0.7946 - val_loss: 0.4681 - val_Accuracy: 0.7970\n",
      "Epoch 169/200\n",
      "71/71 [==============================] - 0s 741us/step - loss: 0.5023 - Accuracy: 0.7940 - val_loss: 0.4770 - val_Accuracy: 0.7890\n",
      "Epoch 170/200\n",
      "71/71 [==============================] - 0s 741us/step - loss: 0.5062 - Accuracy: 0.7918 - val_loss: 0.4848 - val_Accuracy: 0.7890\n",
      "Epoch 171/200\n"
     ]
    },
    {
     "name": "stdout",
     "output_type": "stream",
     "text": [
      "71/71 [==============================] - 0s 751us/step - loss: 0.5156 - Accuracy: 0.7833 - val_loss: 0.4723 - val_Accuracy: 0.7930\n",
      "Epoch 172/200\n",
      "71/71 [==============================] - 0s 755us/step - loss: 0.5101 - Accuracy: 0.7922 - val_loss: 0.4661 - val_Accuracy: 0.8020\n",
      "Epoch 173/200\n",
      "71/71 [==============================] - 0s 737us/step - loss: 0.5090 - Accuracy: 0.7899 - val_loss: 0.4574 - val_Accuracy: 0.8020\n",
      "Epoch 174/200\n",
      "71/71 [==============================] - 0s 741us/step - loss: 0.5080 - Accuracy: 0.7898 - val_loss: 0.4651 - val_Accuracy: 0.8040\n",
      "Epoch 00174: early stopping\n"
     ]
    },
    {
     "data": {
      "text/plain": [
       "<keras.callbacks.History at 0x28ead779a90>"
      ]
     },
     "execution_count": 66,
     "metadata": {},
     "output_type": "execute_result"
    }
   ],
   "source": [
    "final_model = Sequential()\n",
    "\n",
    "\n",
    "final_model.add(Dense(30, activation=\"relu\"))\n",
    "final_model.add(Dropout(0.5))\n",
    "final_model.add(Dense(15, activation=\"relu\"))\n",
    "final_model.add(Dropout(0.5))\n",
    "final_model.add(Dense(1, activation=\"sigmoid\"))\n",
    "\n",
    "final_model.compile(optimizer=\"rmsprop\",\n",
    "                    loss=\"binary_crossentropy\",\n",
    "                    metrics=[\"Accuracy\"])\n",
    "\n",
    "final_model.fit(x=X_train,\n",
    "                y=y_train,\n",
    "                validation_data=(X_test, y_test),\n",
    "                callbacks=[early_stop],\n",
    "                batch_size=128,\n",
    "                epochs=200,\n",
    "                verbose=1,\n",
    "                class_weight=class_weights)"
   ]
  },
  {
   "cell_type": "code",
   "execution_count": 67,
   "metadata": {
    "cell_style": "split",
    "executionInfo": {
     "elapsed": 809,
     "status": "ok",
     "timestamp": 1610205470123,
     "user": {
      "displayName": "Richard C",
      "photoUrl": "",
      "userId": "08040814671867660929"
     },
     "user_tz": -180
    },
    "id": "vQIbjGQduQpQ",
    "scrolled": true
   },
   "outputs": [
    {
     "data": {
      "text/plain": [
       "<AxesSubplot:>"
      ]
     },
     "execution_count": 67,
     "metadata": {},
     "output_type": "execute_result"
    },
    {
     "data": {
      "image/png": "[encoded data removed]",
      "text/plain": [
       "<Figure size 864x432 with 1 Axes>"
      ]
     },
     "metadata": {},
     "output_type": "display_data"
    }
   ],
   "source": [
    "loss_df = pd.DataFrame(final_model.history.history)\n",
    "loss_df.plot()"
   ]
  },
  {
   "cell_type": "code",
   "execution_count": 68,
   "metadata": {},
   "outputs": [
    {
     "data": {
      "text/html": [
       "<div>\n",
       "<style scoped>\n",
       "    .dataframe tbody tr th:only-of-type {\n",
       "        vertical-align: middle;\n",
       "    }\n",
       "\n",
       "    .dataframe tbody tr th {\n",
       "        vertical-align: top;\n",
       "    }\n",
       "\n",
       "    .dataframe thead th {\n",
       "        text-align: right;\n",
       "    }\n",
       "</style>\n",
       "<table border=\"1\" class=\"dataframe\">\n",
       "  <thead>\n",
       "    <tr style=\"text-align: right;\">\n",
       "      <th></th>\n",
       "      <th>loss</th>\n",
       "      <th>Accuracy</th>\n",
       "      <th>val_loss</th>\n",
       "      <th>val_Accuracy</th>\n",
       "    </tr>\n",
       "  </thead>\n",
       "  <tbody>\n",
       "    <tr>\n",
       "      <th>0</th>\n",
       "      <td>0.704</td>\n",
       "      <td>0.473</td>\n",
       "      <td>0.644</td>\n",
       "      <td>0.736</td>\n",
       "    </tr>\n",
       "    <tr>\n",
       "      <th>1</th>\n",
       "      <td>0.683</td>\n",
       "      <td>0.550</td>\n",
       "      <td>0.650</td>\n",
       "      <td>0.699</td>\n",
       "    </tr>\n",
       "    <tr>\n",
       "      <th>2</th>\n",
       "      <td>0.673</td>\n",
       "      <td>0.582</td>\n",
       "      <td>0.661</td>\n",
       "      <td>0.644</td>\n",
       "    </tr>\n",
       "    <tr>\n",
       "      <th>3</th>\n",
       "      <td>0.665</td>\n",
       "      <td>0.595</td>\n",
       "      <td>0.638</td>\n",
       "      <td>0.704</td>\n",
       "    </tr>\n",
       "    <tr>\n",
       "      <th>4</th>\n",
       "      <td>0.661</td>\n",
       "      <td>0.640</td>\n",
       "      <td>0.635</td>\n",
       "      <td>0.696</td>\n",
       "    </tr>\n",
       "    <tr>\n",
       "      <th>...</th>\n",
       "      <td>...</td>\n",
       "      <td>...</td>\n",
       "      <td>...</td>\n",
       "      <td>...</td>\n",
       "    </tr>\n",
       "    <tr>\n",
       "      <th>169</th>\n",
       "      <td>0.506</td>\n",
       "      <td>0.792</td>\n",
       "      <td>0.485</td>\n",
       "      <td>0.789</td>\n",
       "    </tr>\n",
       "    <tr>\n",
       "      <th>170</th>\n",
       "      <td>0.516</td>\n",
       "      <td>0.783</td>\n",
       "      <td>0.472</td>\n",
       "      <td>0.793</td>\n",
       "    </tr>\n",
       "    <tr>\n",
       "      <th>171</th>\n",
       "      <td>0.510</td>\n",
       "      <td>0.792</td>\n",
       "      <td>0.466</td>\n",
       "      <td>0.802</td>\n",
       "    </tr>\n",
       "    <tr>\n",
       "      <th>172</th>\n",
       "      <td>0.509</td>\n",
       "      <td>0.790</td>\n",
       "      <td>0.457</td>\n",
       "      <td>0.802</td>\n",
       "    </tr>\n",
       "    <tr>\n",
       "      <th>173</th>\n",
       "      <td>0.508</td>\n",
       "      <td>0.790</td>\n",
       "      <td>0.465</td>\n",
       "      <td>0.804</td>\n",
       "    </tr>\n",
       "  </tbody>\n",
       "</table>\n",
       "<p>174 rows × 4 columns</p>\n",
       "</div>"
      ],
      "text/plain": [
       "     loss  Accuracy  val_loss  val_Accuracy\n",
       "0   0.704     0.473     0.644         0.736\n",
       "1   0.683     0.550     0.650         0.699\n",
       "2   0.673     0.582     0.661         0.644\n",
       "3   0.665     0.595     0.638         0.704\n",
       "4   0.661     0.640     0.635         0.696\n",
       "..    ...       ...       ...           ...\n",
       "169 0.506     0.792     0.485         0.789\n",
       "170 0.516     0.783     0.472         0.793\n",
       "171 0.510     0.792     0.466         0.802\n",
       "172 0.509     0.790     0.457         0.802\n",
       "173 0.508     0.790     0.465         0.804\n",
       "\n",
       "[174 rows x 4 columns]"
      ]
     },
     "execution_count": 68,
     "metadata": {},
     "output_type": "execute_result"
    }
   ],
   "source": [
    "loss_df"
   ]
  },
  {
   "cell_type": "code",
   "execution_count": 69,
   "metadata": {},
   "outputs": [
    {
     "data": {
      "text/html": [
       "<div>\n",
       "<style scoped>\n",
       "    .dataframe tbody tr th:only-of-type {\n",
       "        vertical-align: middle;\n",
       "    }\n",
       "\n",
       "    .dataframe tbody tr th {\n",
       "        vertical-align: top;\n",
       "    }\n",
       "\n",
       "    .dataframe thead th {\n",
       "        text-align: right;\n",
       "    }\n",
       "</style>\n",
       "<table border=\"1\" class=\"dataframe\">\n",
       "  <thead>\n",
       "    <tr style=\"text-align: right;\">\n",
       "      <th></th>\n",
       "      <th>loss</th>\n",
       "      <th>Accuracy</th>\n",
       "      <th>val_loss</th>\n",
       "      <th>val_Accuracy</th>\n",
       "    </tr>\n",
       "  </thead>\n",
       "  <tbody>\n",
       "    <tr>\n",
       "      <th>159</th>\n",
       "      <td>0.505</td>\n",
       "      <td>0.796</td>\n",
       "      <td>0.449</td>\n",
       "      <td>0.813</td>\n",
       "    </tr>\n",
       "    <tr>\n",
       "      <th>143</th>\n",
       "      <td>0.512</td>\n",
       "      <td>0.788</td>\n",
       "      <td>0.447</td>\n",
       "      <td>0.810</td>\n",
       "    </tr>\n",
       "    <tr>\n",
       "      <th>162</th>\n",
       "      <td>0.502</td>\n",
       "      <td>0.799</td>\n",
       "      <td>0.454</td>\n",
       "      <td>0.810</td>\n",
       "    </tr>\n",
       "    <tr>\n",
       "      <th>149</th>\n",
       "      <td>0.512</td>\n",
       "      <td>0.782</td>\n",
       "      <td>0.461</td>\n",
       "      <td>0.808</td>\n",
       "    </tr>\n",
       "    <tr>\n",
       "      <th>96</th>\n",
       "      <td>0.518</td>\n",
       "      <td>0.785</td>\n",
       "      <td>0.459</td>\n",
       "      <td>0.807</td>\n",
       "    </tr>\n",
       "    <tr>\n",
       "      <th>121</th>\n",
       "      <td>0.515</td>\n",
       "      <td>0.789</td>\n",
       "      <td>0.461</td>\n",
       "      <td>0.807</td>\n",
       "    </tr>\n",
       "    <tr>\n",
       "      <th>134</th>\n",
       "      <td>0.511</td>\n",
       "      <td>0.787</td>\n",
       "      <td>0.467</td>\n",
       "      <td>0.807</td>\n",
       "    </tr>\n",
       "    <tr>\n",
       "      <th>135</th>\n",
       "      <td>0.511</td>\n",
       "      <td>0.792</td>\n",
       "      <td>0.456</td>\n",
       "      <td>0.807</td>\n",
       "    </tr>\n",
       "    <tr>\n",
       "      <th>160</th>\n",
       "      <td>0.510</td>\n",
       "      <td>0.796</td>\n",
       "      <td>0.464</td>\n",
       "      <td>0.807</td>\n",
       "    </tr>\n",
       "    <tr>\n",
       "      <th>155</th>\n",
       "      <td>0.510</td>\n",
       "      <td>0.786</td>\n",
       "      <td>0.463</td>\n",
       "      <td>0.806</td>\n",
       "    </tr>\n",
       "  </tbody>\n",
       "</table>\n",
       "</div>"
      ],
      "text/plain": [
       "     loss  Accuracy  val_loss  val_Accuracy\n",
       "159 0.505     0.796     0.449         0.813\n",
       "143 0.512     0.788     0.447         0.810\n",
       "162 0.502     0.799     0.454         0.810\n",
       "149 0.512     0.782     0.461         0.808\n",
       "96  0.518     0.785     0.459         0.807\n",
       "121 0.515     0.789     0.461         0.807\n",
       "134 0.511     0.787     0.467         0.807\n",
       "135 0.511     0.792     0.456         0.807\n",
       "160 0.510     0.796     0.464         0.807\n",
       "155 0.510     0.786     0.463         0.806"
      ]
     },
     "execution_count": 69,
     "metadata": {},
     "output_type": "execute_result"
    }
   ],
   "source": [
    "loss_df.nlargest(10, \"val_Accuracy\")"
   ]
  },
  {
   "cell_type": "code",
   "execution_count": 70,
   "metadata": {
    "cell_style": "split",
    "scrolled": false
   },
   "outputs": [
    {
     "name": "stdout",
     "output_type": "stream",
     "text": [
      "[[653 143]\n",
      " [ 53 151]]\n",
      "              precision    recall  f1-score   support\n",
      "\n",
      "           0       0.92      0.82      0.87       796\n",
      "           1       0.51      0.74      0.61       204\n",
      "\n",
      "    accuracy                           0.80      1000\n",
      "   macro avg       0.72      0.78      0.74      1000\n",
      "weighted avg       0.84      0.80      0.82      1000\n",
      "\n"
     ]
    }
   ],
   "source": [
    "y_test_pred = (final_model.predict(X_test) > 0.5).astype(\"int32\")\n",
    "print(confusion_matrix(y_test, y_test_pred))\n",
    "print(classification_report(y_test, y_test_pred))"
   ]
  },
  {
   "cell_type": "code",
   "execution_count": null,
   "metadata": {},
   "outputs": [],
   "source": [
    "final_model.save('model_churn.h5')"
   ]
  },
  {
   "cell_type": "markdown",
   "metadata": {
    "heading_collapsed": true,
    "id": "Cq10ovAX6daY"
   },
   "source": [
    "### Prediction"
   ]
  },
  {
   "cell_type": "code",
   "execution_count": null,
   "metadata": {
    "hidden": true
   },
   "outputs": [],
   "source": [
    "single_customer = df.drop('Exited', axis=1).iloc[0]\n",
    "single_customer"
   ]
  },
  {
   "cell_type": "code",
   "execution_count": null,
   "metadata": {
    "hidden": true
   },
   "outputs": [],
   "source": [
    "single_customer = scaler.transform(single_customer.values.reshape(-1, 14))\n",
    "single_customer"
   ]
  },
  {
   "cell_type": "code",
   "execution_count": null,
   "metadata": {
    "hidden": true
   },
   "outputs": [],
   "source": [
    "(final_model.predict(single_customer) > 0.5).astype(\"int32\")"
   ]
  },
  {
   "cell_type": "code",
   "execution_count": null,
   "metadata": {
    "hidden": true
   },
   "outputs": [],
   "source": [
    "df[\"Exited\"].iloc[0]"
   ]
  },
  {
   "cell_type": "markdown",
   "metadata": {
    "hidden": true
   },
   "source": [
    "---\n",
    "---"
   ]
  },
  {
   "cell_type": "markdown",
   "metadata": {},
   "source": [
    "## Comparison with ML"
   ]
  },
  {
   "cell_type": "code",
   "execution_count": null,
   "metadata": {},
   "outputs": [],
   "source": [
    "from sklearn.pipeline import Pipeline\n",
    "from sklearn.ensemble import RandomForestClassifier\n",
    "from sklearn.svm import SVC\n",
    "from sklearn.linear_model import LogisticRegression"
   ]
  },
  {
   "cell_type": "code",
   "execution_count": null,
   "metadata": {},
   "outputs": [],
   "source": [
    "clf1 = RandomForestClassifier(random_state=42, class_weight=\"balanced\")\n",
    "clf2 = SVC(probability=True, random_state=42, class_weight=\"balanced\")\n",
    "clf3 = LogisticRegression(random_state=42, class_weight=\"balanced\")"
   ]
  },
  {
   "cell_type": "code",
   "execution_count": null,
   "metadata": {},
   "outputs": [],
   "source": []
  },
  {
   "cell_type": "code",
   "execution_count": null,
   "metadata": {
    "cell_style": "split"
   },
   "outputs": [],
   "source": [
    "# Initiaze the hyperparameters for each dictionary\n",
    "param1 = {}\n",
    "param1['classifier__n_estimators'] = [10, 50, 100, 250]\n",
    "param1['classifier__max_depth'] = [5, 10, 20]\n",
    "param1['classifier'] = [clf1]\n",
    "\n",
    "param2 = {}\n",
    "param2['classifier__C'] = [10**(-2+i) for i in range(5)]\n",
    "param2['classifier'] = [clf2]\n",
    "\n",
    "param3 = {}\n",
    "param3['classifier__C'] = [10**(-2+i) for i in range(5)]\n",
    "param3['classifier__penalty'] = ['l1', 'l2']\n",
    "param3['classifier'] = [clf3]"
   ]
  },
  {
   "cell_type": "code",
   "execution_count": null,
   "metadata": {
    "cell_style": "split"
   },
   "outputs": [],
   "source": [
    "pipeline = Pipeline([('classifier', clf1)])\n",
    "params = [param1, param2, param3]"
   ]
  },
  {
   "cell_type": "code",
   "execution_count": null,
   "metadata": {
    "cell_style": "center"
   },
   "outputs": [],
   "source": [
    "grid_model_rf = GridSearchCV(pipeline, params, cv=5, n_jobs=-1,\n",
    "                          scoring='accuracy').fit(X_train, y_train)"
   ]
  },
  {
   "cell_type": "code",
   "execution_count": null,
   "metadata": {
    "cell_style": "center"
   },
   "outputs": [],
   "source": [
    "grid_model_rf.best_params_"
   ]
  },
  {
   "cell_type": "code",
   "execution_count": null,
   "metadata": {
    "cell_style": "center"
   },
   "outputs": [],
   "source": [
    "grid_model_rf.best_score_"
   ]
  },
  {
   "cell_type": "code",
   "execution_count": null,
   "metadata": {
    "cell_style": "split"
   },
   "outputs": [],
   "source": [
    "y_pred_proba = grid_model_rf.predict(X_test)\n",
    "fpr, tpr, thresholds = roc_curve(y_test, y_pred_proba)\n",
    "plt.plot([0,1],[0,1],'k--')\n",
    "plt.plot(fpr,tpr, label='ANN')\n",
    "plt.xlabel('False Positive Rate')\n",
    "plt.ylabel('True Positive Rate')\n",
    "plt.title('ROC Curve for Keras Model')\n",
    "plt.show()"
   ]
  },
  {
   "cell_type": "code",
   "execution_count": null,
   "metadata": {
    "cell_style": "split"
   },
   "outputs": [],
   "source": [
    "average_precision_score(y_test, y_pred_proba)"
   ]
  },
  {
   "cell_type": "code",
   "execution_count": null,
   "metadata": {
    "cell_style": "split",
    "scrolled": true
   },
   "outputs": [],
   "source": [
    "y_test_pred = (grid_model_rf.predict(X_test) > 0.5).astype(\"int32\")\n",
    "print(confusion_matrix(y_test, y_test_pred))\n",
    "print(classification_report(y_test, y_test_pred))"
   ]
  },
  {
   "cell_type": "markdown",
   "metadata": {},
   "source": [
    "# SVC"
   ]
  },
  {
   "cell_type": "code",
   "execution_count": null,
   "metadata": {
    "cell_style": "split"
   },
   "outputs": [],
   "source": [
    "pipeline = Pipeline([('classifier', clf2)])\n",
    "params = [param1, param2, param3]"
   ]
  },
  {
   "cell_type": "code",
   "execution_count": null,
   "metadata": {
    "cell_style": "center"
   },
   "outputs": [],
   "source": [
    "grid_model_svc = GridSearchCV(pipeline, params, cv=5, n_jobs=-1,\n",
    "                          scoring='accuracy').fit(X_train, y_train)"
   ]
  },
  {
   "cell_type": "code",
   "execution_count": null,
   "metadata": {
    "cell_style": "center"
   },
   "outputs": [],
   "source": [
    "grid_model_svc.best_params_"
   ]
  },
  {
   "cell_type": "code",
   "execution_count": null,
   "metadata": {
    "cell_style": "center"
   },
   "outputs": [],
   "source": [
    "grid_model_svc.best_score_"
   ]
  },
  {
   "cell_type": "code",
   "execution_count": null,
   "metadata": {
    "cell_style": "split"
   },
   "outputs": [],
   "source": [
    "y_pred_proba = grid_model_svc.predict(X_test)\n",
    "fpr, tpr, thresholds = roc_curve(y_test, y_pred_proba)\n",
    "plt.plot([0,1],[0,1],'k--')\n",
    "plt.plot(fpr,tpr, label='ANN')\n",
    "plt.xlabel('False Positive Rate')\n",
    "plt.ylabel('True Positive Rate')\n",
    "plt.title('ROC Curve for Keras Model')\n",
    "plt.show()"
   ]
  },
  {
   "cell_type": "code",
   "execution_count": null,
   "metadata": {
    "cell_style": "split"
   },
   "outputs": [],
   "source": [
    "average_precision_score(y_test, y_pred_proba)"
   ]
  },
  {
   "cell_type": "code",
   "execution_count": null,
   "metadata": {
    "cell_style": "split",
    "scrolled": true
   },
   "outputs": [],
   "source": [
    "y_test_pred = (grid_model_svc.predict(X_test) > 0.5).astype(\"int32\")\n",
    "print(confusion_matrix(y_test, y_test_pred))\n",
    "print(classification_report(y_test, y_test_pred))"
   ]
  },
  {
   "cell_type": "markdown",
   "metadata": {},
   "source": [
    "# LR"
   ]
  },
  {
   "cell_type": "code",
   "execution_count": null,
   "metadata": {
    "cell_style": "split"
   },
   "outputs": [],
   "source": [
    "pipeline = Pipeline([('classifier', clf3)])\n",
    "params = [param1, param2, param3]"
   ]
  },
  {
   "cell_type": "code",
   "execution_count": null,
   "metadata": {
    "cell_style": "center"
   },
   "outputs": [],
   "source": [
    "grid_model_lr = GridSearchCV(pipeline, params, cv=5, n_jobs=-1,\n",
    "                          scoring='accuracy').fit(X_train, y_train)"
   ]
  },
  {
   "cell_type": "code",
   "execution_count": null,
   "metadata": {
    "cell_style": "center"
   },
   "outputs": [],
   "source": [
    "grid_model_lr.best_params_"
   ]
  },
  {
   "cell_type": "code",
   "execution_count": null,
   "metadata": {
    "cell_style": "center"
   },
   "outputs": [],
   "source": [
    "grid_model_lr.best_score_"
   ]
  },
  {
   "cell_type": "code",
   "execution_count": null,
   "metadata": {
    "cell_style": "split"
   },
   "outputs": [],
   "source": [
    "y_pred_proba = grid_model_lr.predict(X_test)\n",
    "fpr, tpr, thresholds = roc_curve(y_test, y_pred_proba)\n",
    "plt.plot([0,1],[0,1],'k--')\n",
    "plt.plot(fpr,tpr, label='ANN')\n",
    "plt.xlabel('False Positive Rate')\n",
    "plt.ylabel('True Positive Rate')\n",
    "plt.title('ROC Curve for Keras Model')\n",
    "plt.show()"
   ]
  },
  {
   "cell_type": "code",
   "execution_count": null,
   "metadata": {
    "cell_style": "split"
   },
   "outputs": [],
   "source": [
    "average_precision_score(y_test, y_pred_proba)"
   ]
  },
  {
   "cell_type": "code",
   "execution_count": null,
   "metadata": {
    "cell_style": "split",
    "scrolled": true
   },
   "outputs": [],
   "source": [
    "y_test_pred = (grid_model_lr.predict(X_test) > 0.5).astype(\"int32\")\n",
    "print(confusion_matrix(y_test, y_test_pred))\n",
    "print(classification_report(y_test, y_test_pred))"
   ]
  },
  {
   "cell_type": "markdown",
   "metadata": {},
   "source": [
    "---\n",
    "---"
   ]
  }
 ],
 "metadata": {
  "colab": {
   "authorship_tag": "ABX9TyPKBWWuNpSuP7DHsa+Zpo3l",
   "collapsed_sections": [],
   "name": "Untitled0.ipynb",
   "provenance": []
  },
  "hide_input": false,
  "interpreter": {
   "hash": "e4e90950cb561445fc7289d5187c528b28750a487d008a70b474c773afaf79b7"
  },
  "kernelspec": {
   "display_name": "Python 3",
   "language": "python",
   "name": "python3"
  },
  "language_info": {
   "codemirror_mode": {
    "name": "ipython",
    "version": 3
   },
   "file_extension": ".py",
   "mimetype": "text/x-python",
   "name": "python",
   "nbconvert_exporter": "python",
   "pygments_lexer": "ipython3",
   "version": "3.8.8"
  },
  "varInspector": {
   "cols": {
    "lenName": 16,
    "lenType": 16,
    "lenVar": 40
   },
   "kernels_config": {
    "python": {
     "delete_cmd_postfix": "",
     "delete_cmd_prefix": "del ",
     "library": "var_list.py",
     "varRefreshCmd": "print(var_dic_list())"
    },
    "r": {
     "delete_cmd_postfix": ") ",
     "delete_cmd_prefix": "rm(",
     "library": "var_list.r",
     "varRefreshCmd": "cat(var_dic_list()) "
    }
   },
   "types_to_exclude": [
    "module",
    "function",
    "builtin_function_or_method",
    "instance",
    "_Feature"
   ],
   "window_display": false
  }
 },
 "nbformat": 4,
 "nbformat_minor": 4
}
