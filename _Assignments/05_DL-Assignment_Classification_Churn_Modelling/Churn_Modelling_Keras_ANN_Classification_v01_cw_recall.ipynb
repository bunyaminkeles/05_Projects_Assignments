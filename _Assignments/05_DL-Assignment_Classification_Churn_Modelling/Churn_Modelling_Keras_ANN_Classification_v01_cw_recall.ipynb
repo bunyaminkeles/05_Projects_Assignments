{
 "cells": [
  {
   "cell_type": "markdown",
   "metadata": {},
   "source": [
    "# Keras Classification"
   ]
  },
  {
   "cell_type": "markdown",
   "metadata": {},
   "source": [
    "<span class=\"girk\">We have a dataset in which there are details of a bank's customers and the target variable is a binary variable reflecting the fact whether the customer left the bank (closed his account) or he continues to be a customer.</span>"
   ]
  },
  {
   "cell_type": "markdown",
   "metadata": {},
   "source": [
    "---\n",
    "---"
   ]
  },
  {
   "cell_type": "markdown",
   "metadata": {
    "cell_style": "center"
   },
   "source": [
    "## Import  libraries & data"
   ]
  },
  {
   "cell_type": "code",
   "execution_count": 1,
   "metadata": {
    "cell_style": "center",
    "executionInfo": {
     "elapsed": 991,
     "status": "ok",
     "timestamp": 1610201325502,
     "user": {
      "displayName": "Richard C",
      "photoUrl": "",
      "userId": "08040814671867660929"
     },
     "user_tz": -180
    },
    "id": "6VD4eWBQcze2"
   },
   "outputs": [],
   "source": [
    "import numpy as np\n",
    "import pandas as pd\n",
    "import seaborn as sns\n",
    "import matplotlib.pyplot as plt\n",
    "\n",
    "%matplotlib inline\n",
    "# %matplotlib notebook\n",
    "plt.rcParams[\"figure.figsize\"] = (12, 6)\n",
    "# plt.rcParams['figure.dpi'] = 100\n",
    "sns.set_style(\"whitegrid\")\n",
    "import warnings\n",
    "\n",
    "warnings.filterwarnings(\"ignore\")\n",
    "warnings.warn(\"this will not show\")\n",
    "pd.set_option('display.float_format', lambda x: '%.3f' % x)"
   ]
  },
  {
   "cell_type": "code",
   "execution_count": 2,
   "metadata": {
    "cell_style": "center",
    "executionInfo": {
     "elapsed": 829,
     "status": "ok",
     "timestamp": 1610204616389,
     "user": {
      "displayName": "Richard C",
      "photoUrl": "",
      "userId": "08040814671867660929"
     },
     "user_tz": -180
    },
    "id": "YzzxpfNaoFyZ"
   },
   "outputs": [],
   "source": [
    "from tensorflow.keras.models import Sequential\n",
    "from tensorflow.keras.layers import Dense, Activation, Dropout\n",
    "from tensorflow.keras.callbacks import EarlyStopping\n",
    "from tensorflow.keras.optimizers import Adam\n",
    "from sklearn.metrics import classification_report, confusion_matrix\n",
    "from sklearn.metrics import roc_auc_score, roc_curve, precision_recall_curve, average_precision_score\n",
    "from sklearn.model_selection import cross_val_score, cross_validate\n",
    "from sklearn.model_selection import GridSearchCV"
   ]
  },
  {
   "cell_type": "code",
   "execution_count": 3,
   "metadata": {},
   "outputs": [
    {
     "data": {
      "text/html": [
       "<div>\n",
       "<style scoped>\n",
       "    .dataframe tbody tr th:only-of-type {\n",
       "        vertical-align: middle;\n",
       "    }\n",
       "\n",
       "    .dataframe tbody tr th {\n",
       "        vertical-align: top;\n",
       "    }\n",
       "\n",
       "    .dataframe thead th {\n",
       "        text-align: right;\n",
       "    }\n",
       "</style>\n",
       "<table border=\"1\" class=\"dataframe\">\n",
       "  <thead>\n",
       "    <tr style=\"text-align: right;\">\n",
       "      <th></th>\n",
       "      <th>CustomerId</th>\n",
       "      <th>Surname</th>\n",
       "      <th>CreditScore</th>\n",
       "      <th>Geography</th>\n",
       "      <th>Gender</th>\n",
       "      <th>Age</th>\n",
       "      <th>Tenure</th>\n",
       "      <th>Balance</th>\n",
       "      <th>NumOfProducts</th>\n",
       "      <th>HasCrCard</th>\n",
       "      <th>IsActiveMember</th>\n",
       "      <th>EstimatedSalary</th>\n",
       "      <th>Exited</th>\n",
       "    </tr>\n",
       "    <tr>\n",
       "      <th>RowNumber</th>\n",
       "      <th></th>\n",
       "      <th></th>\n",
       "      <th></th>\n",
       "      <th></th>\n",
       "      <th></th>\n",
       "      <th></th>\n",
       "      <th></th>\n",
       "      <th></th>\n",
       "      <th></th>\n",
       "      <th></th>\n",
       "      <th></th>\n",
       "      <th></th>\n",
       "      <th></th>\n",
       "    </tr>\n",
       "  </thead>\n",
       "  <tbody>\n",
       "    <tr>\n",
       "      <th>1</th>\n",
       "      <td>15634602</td>\n",
       "      <td>Hargrave</td>\n",
       "      <td>619</td>\n",
       "      <td>France</td>\n",
       "      <td>Female</td>\n",
       "      <td>42</td>\n",
       "      <td>2</td>\n",
       "      <td>0.000</td>\n",
       "      <td>1</td>\n",
       "      <td>1</td>\n",
       "      <td>1</td>\n",
       "      <td>101348.880</td>\n",
       "      <td>1</td>\n",
       "    </tr>\n",
       "    <tr>\n",
       "      <th>2</th>\n",
       "      <td>15647311</td>\n",
       "      <td>Hill</td>\n",
       "      <td>608</td>\n",
       "      <td>Spain</td>\n",
       "      <td>Female</td>\n",
       "      <td>41</td>\n",
       "      <td>1</td>\n",
       "      <td>83807.860</td>\n",
       "      <td>1</td>\n",
       "      <td>0</td>\n",
       "      <td>1</td>\n",
       "      <td>112542.580</td>\n",
       "      <td>0</td>\n",
       "    </tr>\n",
       "    <tr>\n",
       "      <th>3</th>\n",
       "      <td>15619304</td>\n",
       "      <td>Onio</td>\n",
       "      <td>502</td>\n",
       "      <td>France</td>\n",
       "      <td>Female</td>\n",
       "      <td>42</td>\n",
       "      <td>8</td>\n",
       "      <td>159660.800</td>\n",
       "      <td>3</td>\n",
       "      <td>1</td>\n",
       "      <td>0</td>\n",
       "      <td>113931.570</td>\n",
       "      <td>1</td>\n",
       "    </tr>\n",
       "    <tr>\n",
       "      <th>4</th>\n",
       "      <td>15701354</td>\n",
       "      <td>Boni</td>\n",
       "      <td>699</td>\n",
       "      <td>France</td>\n",
       "      <td>Female</td>\n",
       "      <td>39</td>\n",
       "      <td>1</td>\n",
       "      <td>0.000</td>\n",
       "      <td>2</td>\n",
       "      <td>0</td>\n",
       "      <td>0</td>\n",
       "      <td>93826.630</td>\n",
       "      <td>0</td>\n",
       "    </tr>\n",
       "    <tr>\n",
       "      <th>5</th>\n",
       "      <td>15737888</td>\n",
       "      <td>Mitchell</td>\n",
       "      <td>850</td>\n",
       "      <td>Spain</td>\n",
       "      <td>Female</td>\n",
       "      <td>43</td>\n",
       "      <td>2</td>\n",
       "      <td>125510.820</td>\n",
       "      <td>1</td>\n",
       "      <td>1</td>\n",
       "      <td>1</td>\n",
       "      <td>79084.100</td>\n",
       "      <td>0</td>\n",
       "    </tr>\n",
       "  </tbody>\n",
       "</table>\n",
       "</div>"
      ],
      "text/plain": [
       "           CustomerId   Surname  CreditScore Geography  Gender  Age  Tenure  \\\n",
       "RowNumber                                                                     \n",
       "1            15634602  Hargrave          619    France  Female   42       2   \n",
       "2            15647311      Hill          608     Spain  Female   41       1   \n",
       "3            15619304      Onio          502    France  Female   42       8   \n",
       "4            15701354      Boni          699    France  Female   39       1   \n",
       "5            15737888  Mitchell          850     Spain  Female   43       2   \n",
       "\n",
       "             Balance  NumOfProducts  HasCrCard  IsActiveMember  \\\n",
       "RowNumber                                                        \n",
       "1              0.000              1          1               1   \n",
       "2          83807.860              1          0               1   \n",
       "3         159660.800              3          1               0   \n",
       "4              0.000              2          0               0   \n",
       "5         125510.820              1          1               1   \n",
       "\n",
       "           EstimatedSalary  Exited  \n",
       "RowNumber                           \n",
       "1               101348.880       1  \n",
       "2               112542.580       0  \n",
       "3               113931.570       1  \n",
       "4                93826.630       0  \n",
       "5                79084.100       0  "
      ]
     },
     "execution_count": 3,
     "metadata": {},
     "output_type": "execute_result"
    }
   ],
   "source": [
    "df = pd.read_csv(\"Churn_Modelling.csv\", index_col='RowNumber')\n",
    "df.head()"
   ]
  },
  {
   "cell_type": "markdown",
   "metadata": {},
   "source": [
    "## Exploratory Data Analysis and Visualization"
   ]
  },
  {
   "cell_type": "code",
   "execution_count": 4,
   "metadata": {},
   "outputs": [],
   "source": [
    "# !pip install pandasgui"
   ]
  },
  {
   "cell_type": "code",
   "execution_count": 5,
   "metadata": {},
   "outputs": [],
   "source": [
    "# from pandasgui import show\n",
    "\n",
    "# gui = show(df)"
   ]
  },
  {
   "cell_type": "code",
   "execution_count": 6,
   "metadata": {
    "cell_style": "split",
    "colab": {
     "base_uri": "https://localhost:8080/"
    },
    "executionInfo": {
     "elapsed": 854,
     "status": "ok",
     "timestamp": 1610201704635,
     "user": {
      "displayName": "Richard C",
      "photoUrl": "",
      "userId": "08040814671867660929"
     },
     "user_tz": -180
    },
    "id": "9ROCQa9wf2uE",
    "outputId": "40e94921-6a7c-48c6-8c09-2623b6b60fa3",
    "scrolled": false
   },
   "outputs": [
    {
     "name": "stdout",
     "output_type": "stream",
     "text": [
      "<class 'pandas.core.frame.DataFrame'>\n",
      "Int64Index: 10000 entries, 1 to 10000\n",
      "Data columns (total 13 columns):\n",
      " #   Column           Non-Null Count  Dtype  \n",
      "---  ------           --------------  -----  \n",
      " 0   CustomerId       10000 non-null  int64  \n",
      " 1   Surname          10000 non-null  object \n",
      " 2   CreditScore      10000 non-null  int64  \n",
      " 3   Geography        10000 non-null  object \n",
      " 4   Gender           10000 non-null  object \n",
      " 5   Age              10000 non-null  int64  \n",
      " 6   Tenure           10000 non-null  int64  \n",
      " 7   Balance          10000 non-null  float64\n",
      " 8   NumOfProducts    10000 non-null  int64  \n",
      " 9   HasCrCard        10000 non-null  int64  \n",
      " 10  IsActiveMember   10000 non-null  int64  \n",
      " 11  EstimatedSalary  10000 non-null  float64\n",
      " 12  Exited           10000 non-null  int64  \n",
      "dtypes: float64(2), int64(8), object(3)\n",
      "memory usage: 1.1+ MB\n"
     ]
    }
   ],
   "source": [
    "df.info()"
   ]
  },
  {
   "cell_type": "code",
   "execution_count": 7,
   "metadata": {
    "cell_style": "split",
    "colab": {
     "base_uri": "https://localhost:8080/"
    },
    "executionInfo": {
     "elapsed": 798,
     "status": "ok",
     "timestamp": 1610201657421,
     "user": {
      "displayName": "Richard C",
      "photoUrl": "",
      "userId": "08040814671867660929"
     },
     "user_tz": -180
    },
    "id": "vPyMUnVWfM0o",
    "outputId": "7a294ad3-49d9-4cea-b6a2-9824e2c0ba4a"
   },
   "outputs": [
    {
     "data": {
      "text/plain": [
       "(10000, 13)"
      ]
     },
     "execution_count": 7,
     "metadata": {},
     "output_type": "execute_result"
    }
   ],
   "source": [
    "df.shape"
   ]
  },
  {
   "cell_type": "code",
   "execution_count": 8,
   "metadata": {
    "cell_style": "split"
   },
   "outputs": [
    {
     "data": {
      "text/plain": [
       "False"
      ]
     },
     "execution_count": 8,
     "metadata": {},
     "output_type": "execute_result"
    }
   ],
   "source": [
    "df.isnull().sum().any()"
   ]
  },
  {
   "cell_type": "code",
   "execution_count": 9,
   "metadata": {
    "cell_style": "split",
    "scrolled": true
   },
   "outputs": [
    {
     "data": {
      "text/plain": [
       "0"
      ]
     },
     "execution_count": 9,
     "metadata": {},
     "output_type": "execute_result"
    }
   ],
   "source": [
    "df.duplicated().sum()"
   ]
  },
  {
   "cell_type": "code",
   "execution_count": 10,
   "metadata": {
    "cell_style": "center",
    "colab": {
     "base_uri": "https://localhost:8080/",
     "height": 1000
    },
    "executionInfo": {
     "elapsed": 967,
     "status": "ok",
     "timestamp": 1610201729941,
     "user": {
      "displayName": "Richard C",
      "photoUrl": "",
      "userId": "08040814671867660929"
     },
     "user_tz": -180
    },
    "id": "mdUkgZD-gCUx",
    "outputId": "cd4f6662-e8c3-4a6f-93d5-26fed83d8a82",
    "scrolled": false
   },
   "outputs": [
    {
     "data": {
      "text/html": [
       "<div>\n",
       "<style scoped>\n",
       "    .dataframe tbody tr th:only-of-type {\n",
       "        vertical-align: middle;\n",
       "    }\n",
       "\n",
       "    .dataframe tbody tr th {\n",
       "        vertical-align: top;\n",
       "    }\n",
       "\n",
       "    .dataframe thead th {\n",
       "        text-align: right;\n",
       "    }\n",
       "</style>\n",
       "<table border=\"1\" class=\"dataframe\">\n",
       "  <thead>\n",
       "    <tr style=\"text-align: right;\">\n",
       "      <th></th>\n",
       "      <th>count</th>\n",
       "      <th>mean</th>\n",
       "      <th>std</th>\n",
       "      <th>min</th>\n",
       "      <th>25%</th>\n",
       "      <th>50%</th>\n",
       "      <th>75%</th>\n",
       "      <th>max</th>\n",
       "    </tr>\n",
       "  </thead>\n",
       "  <tbody>\n",
       "    <tr>\n",
       "      <th>CustomerId</th>\n",
       "      <td>10000.000</td>\n",
       "      <td>15690940.569</td>\n",
       "      <td>71936.186</td>\n",
       "      <td>15565701.000</td>\n",
       "      <td>15628528.250</td>\n",
       "      <td>15690738.000</td>\n",
       "      <td>15753233.750</td>\n",
       "      <td>15815690.000</td>\n",
       "    </tr>\n",
       "    <tr>\n",
       "      <th>CreditScore</th>\n",
       "      <td>10000.000</td>\n",
       "      <td>650.529</td>\n",
       "      <td>96.653</td>\n",
       "      <td>350.000</td>\n",
       "      <td>584.000</td>\n",
       "      <td>652.000</td>\n",
       "      <td>718.000</td>\n",
       "      <td>850.000</td>\n",
       "    </tr>\n",
       "    <tr>\n",
       "      <th>Age</th>\n",
       "      <td>10000.000</td>\n",
       "      <td>38.922</td>\n",
       "      <td>10.488</td>\n",
       "      <td>18.000</td>\n",
       "      <td>32.000</td>\n",
       "      <td>37.000</td>\n",
       "      <td>44.000</td>\n",
       "      <td>92.000</td>\n",
       "    </tr>\n",
       "    <tr>\n",
       "      <th>Tenure</th>\n",
       "      <td>10000.000</td>\n",
       "      <td>5.013</td>\n",
       "      <td>2.892</td>\n",
       "      <td>0.000</td>\n",
       "      <td>3.000</td>\n",
       "      <td>5.000</td>\n",
       "      <td>7.000</td>\n",
       "      <td>10.000</td>\n",
       "    </tr>\n",
       "    <tr>\n",
       "      <th>Balance</th>\n",
       "      <td>10000.000</td>\n",
       "      <td>76485.889</td>\n",
       "      <td>62397.405</td>\n",
       "      <td>0.000</td>\n",
       "      <td>0.000</td>\n",
       "      <td>97198.540</td>\n",
       "      <td>127644.240</td>\n",
       "      <td>250898.090</td>\n",
       "    </tr>\n",
       "    <tr>\n",
       "      <th>NumOfProducts</th>\n",
       "      <td>10000.000</td>\n",
       "      <td>1.530</td>\n",
       "      <td>0.582</td>\n",
       "      <td>1.000</td>\n",
       "      <td>1.000</td>\n",
       "      <td>1.000</td>\n",
       "      <td>2.000</td>\n",
       "      <td>4.000</td>\n",
       "    </tr>\n",
       "    <tr>\n",
       "      <th>HasCrCard</th>\n",
       "      <td>10000.000</td>\n",
       "      <td>0.706</td>\n",
       "      <td>0.456</td>\n",
       "      <td>0.000</td>\n",
       "      <td>0.000</td>\n",
       "      <td>1.000</td>\n",
       "      <td>1.000</td>\n",
       "      <td>1.000</td>\n",
       "    </tr>\n",
       "    <tr>\n",
       "      <th>IsActiveMember</th>\n",
       "      <td>10000.000</td>\n",
       "      <td>0.515</td>\n",
       "      <td>0.500</td>\n",
       "      <td>0.000</td>\n",
       "      <td>0.000</td>\n",
       "      <td>1.000</td>\n",
       "      <td>1.000</td>\n",
       "      <td>1.000</td>\n",
       "    </tr>\n",
       "    <tr>\n",
       "      <th>EstimatedSalary</th>\n",
       "      <td>10000.000</td>\n",
       "      <td>100090.240</td>\n",
       "      <td>57510.493</td>\n",
       "      <td>11.580</td>\n",
       "      <td>51002.110</td>\n",
       "      <td>100193.915</td>\n",
       "      <td>149388.247</td>\n",
       "      <td>199992.480</td>\n",
       "    </tr>\n",
       "    <tr>\n",
       "      <th>Exited</th>\n",
       "      <td>10000.000</td>\n",
       "      <td>0.204</td>\n",
       "      <td>0.403</td>\n",
       "      <td>0.000</td>\n",
       "      <td>0.000</td>\n",
       "      <td>0.000</td>\n",
       "      <td>0.000</td>\n",
       "      <td>1.000</td>\n",
       "    </tr>\n",
       "  </tbody>\n",
       "</table>\n",
       "</div>"
      ],
      "text/plain": [
       "                    count         mean       std          min          25%  \\\n",
       "CustomerId      10000.000 15690940.569 71936.186 15565701.000 15628528.250   \n",
       "CreditScore     10000.000      650.529    96.653      350.000      584.000   \n",
       "Age             10000.000       38.922    10.488       18.000       32.000   \n",
       "Tenure          10000.000        5.013     2.892        0.000        3.000   \n",
       "Balance         10000.000    76485.889 62397.405        0.000        0.000   \n",
       "NumOfProducts   10000.000        1.530     0.582        1.000        1.000   \n",
       "HasCrCard       10000.000        0.706     0.456        0.000        0.000   \n",
       "IsActiveMember  10000.000        0.515     0.500        0.000        0.000   \n",
       "EstimatedSalary 10000.000   100090.240 57510.493       11.580    51002.110   \n",
       "Exited          10000.000        0.204     0.403        0.000        0.000   \n",
       "\n",
       "                         50%          75%          max  \n",
       "CustomerId      15690738.000 15753233.750 15815690.000  \n",
       "CreditScore          652.000      718.000      850.000  \n",
       "Age                   37.000       44.000       92.000  \n",
       "Tenure                 5.000        7.000       10.000  \n",
       "Balance            97198.540   127644.240   250898.090  \n",
       "NumOfProducts          1.000        2.000        4.000  \n",
       "HasCrCard              1.000        1.000        1.000  \n",
       "IsActiveMember         1.000        1.000        1.000  \n",
       "EstimatedSalary   100193.915   149388.247   199992.480  \n",
       "Exited                 0.000        0.000        1.000  "
      ]
     },
     "execution_count": 10,
     "metadata": {},
     "output_type": "execute_result"
    }
   ],
   "source": [
    "df.describe().T\n",
    "\n"
   ]
  },
  {
   "cell_type": "code",
   "execution_count": 11,
   "metadata": {},
   "outputs": [
    {
     "data": {
      "text/plain": [
       "<AxesSubplot:>"
      ]
     },
     "execution_count": 11,
     "metadata": {},
     "output_type": "execute_result"
    },
    {
     "data": {
      "image/png": "[encoded data removed]",
      "text/plain": [
       "<Figure size 864x432 with 1 Axes>"
      ]
     },
     "metadata": {},
     "output_type": "display_data"
    }
   ],
   "source": [
    "df.Balance.plot(kind=\"box\")"
   ]
  },
  {
   "cell_type": "code",
   "execution_count": 12,
   "metadata": {},
   "outputs": [],
   "source": [
    "df.drop(['CustomerId', 'Surname'], axis=1, inplace=True)"
   ]
  },
  {
   "cell_type": "code",
   "execution_count": 13,
   "metadata": {
    "cell_style": "split",
    "colab": {
     "base_uri": "https://localhost:8080/",
     "height": 297
    },
    "executionInfo": {
     "elapsed": 1052,
     "status": "ok",
     "timestamp": 1610201940310,
     "user": {
      "displayName": "Richard C",
      "photoUrl": "",
      "userId": "08040814671867660929"
     },
     "user_tz": -180
    },
    "id": "_7vHUi5Hgldj",
    "outputId": "0018aaa8-d479-40c3-f973-161c63e7a77b"
   },
   "outputs": [
    {
     "name": "stdout",
     "output_type": "stream",
     "text": [
      "0    7963\n",
      "1    2037\n",
      "Name: Exited, dtype: int64\n"
     ]
    },
    {
     "data": {
      "image/png": "[encoded data removed]",
      "text/plain": [
       "<Figure size 864x432 with 1 Axes>"
      ]
     },
     "metadata": {},
     "output_type": "display_data"
    }
   ],
   "source": [
    "print(df.Exited.value_counts())\n",
    "sns.countplot(df[\"Exited\"]);"
   ]
  },
  {
   "cell_type": "code",
   "execution_count": 14,
   "metadata": {
    "cell_style": "split",
    "scrolled": true
   },
   "outputs": [
    {
     "data": {
      "image/png": "[encoded data removed]",
      "text/plain": [
       "<Figure size 1080x864 with 9 Axes>"
      ]
     },
     "metadata": {},
     "output_type": "display_data"
    }
   ],
   "source": [
    "df.hist(figsize=(15, 12), bins=15);\n"
   ]
  },
  {
   "cell_type": "code",
   "execution_count": 15,
   "metadata": {
    "scrolled": true
   },
   "outputs": [
    {
     "data": {
      "image/png": "[encoded data removed]",
      "text/plain": [
       "<Figure size 1152x864 with 4 Axes>"
      ]
     },
     "metadata": {},
     "output_type": "display_data"
    }
   ],
   "source": [
    "cat_list = [\"Gender\", \"HasCrCard\", \"IsActiveMember\", \"Geography\"]\n",
    "index = 0\n",
    "plt.figure(figsize=(16, 12))\n",
    "for i in cat_list:\n",
    "    index += 1\n",
    "    plt.subplot(2, 2, index)\n",
    "    sns.countplot(data=df, x=i, hue=\"Exited\")"
   ]
  },
  {
   "cell_type": "code",
   "execution_count": 16,
   "metadata": {
    "cell_style": "split"
   },
   "outputs": [
    {
     "data": {
      "text/plain": [
       "Age  Exited\n",
       "18   0         20\n",
       "     1          2\n",
       "19   0         26\n",
       "     1          1\n",
       "20   0         38\n",
       "               ..\n",
       "84   0          1\n",
       "     1          1\n",
       "85   0          1\n",
       "88   0          1\n",
       "92   0          2\n",
       "Name: Exited, Length: 128, dtype: int64"
      ]
     },
     "execution_count": 16,
     "metadata": {},
     "output_type": "execute_result"
    }
   ],
   "source": [
    "df.groupby(\"Age\")[\"Exited\"].value_counts()\n"
   ]
  },
  {
   "cell_type": "code",
   "execution_count": 17,
   "metadata": {
    "cell_style": "split"
   },
   "outputs": [
    {
     "data": {
      "image/png": "[encoded data removed]",
      "text/plain": [
       "<Figure size 1440x504 with 1 Axes>"
      ]
     },
     "metadata": {},
     "output_type": "display_data"
    }
   ],
   "source": [
    "plt.figure(figsize=(20, 7))\n",
    "sns.countplot(df.Age, hue=df.Exited);"
   ]
  },
  {
   "cell_type": "code",
   "execution_count": 18,
   "metadata": {},
   "outputs": [
    {
     "data": {
      "text/plain": [
       "count   10000.000\n",
       "mean      650.529\n",
       "std        96.653\n",
       "min       350.000\n",
       "25%       584.000\n",
       "50%       652.000\n",
       "75%       718.000\n",
       "max       850.000\n",
       "Name: CreditScore, dtype: float64"
      ]
     },
     "execution_count": 18,
     "metadata": {},
     "output_type": "execute_result"
    }
   ],
   "source": [
    "df.CreditScore.describe()"
   ]
  },
  {
   "cell_type": "code",
   "execution_count": 19,
   "metadata": {},
   "outputs": [],
   "source": [
    "def credit_transformer(x, y):\n",
    "    if x < 584 and y == 0:\n",
    "        return 0\n",
    "    if x < 584 and y == 1:\n",
    "        return 1\n",
    "    if 584 < x < 718 and y == 0:\n",
    "        return 2\n",
    "    if 584 < x < 718 and y == 1:\n",
    "        return 3\n",
    "    else:\n",
    "        return 4"
   ]
  },
  {
   "cell_type": "code",
   "execution_count": 20,
   "metadata": {
    "scrolled": true
   },
   "outputs": [
    {
     "data": {
      "text/plain": [
       "[3, 2, 1, 2, 4, 3, 4, 1, 0, 3]"
      ]
     },
     "execution_count": 20,
     "metadata": {},
     "output_type": "execute_result"
    }
   ],
   "source": [
    "customer_value = [\n",
    "    credit_transformer(x, y) for x, y in zip(df.CreditScore, df.HasCrCard)\n",
    "]\n",
    "customer_value[:10]"
   ]
  },
  {
   "cell_type": "code",
   "execution_count": 21,
   "metadata": {},
   "outputs": [
    {
     "data": {
      "text/plain": [
       "{0, 1, 2, 3, 4}"
      ]
     },
     "execution_count": 21,
     "metadata": {},
     "output_type": "execute_result"
    }
   ],
   "source": [
    "set(customer_value)"
   ]
  },
  {
   "cell_type": "code",
   "execution_count": 22,
   "metadata": {},
   "outputs": [
    {
     "data": {
      "text/html": [
       "<div>\n",
       "<style scoped>\n",
       "    .dataframe tbody tr th:only-of-type {\n",
       "        vertical-align: middle;\n",
       "    }\n",
       "\n",
       "    .dataframe tbody tr th {\n",
       "        vertical-align: top;\n",
       "    }\n",
       "\n",
       "    .dataframe thead th {\n",
       "        text-align: right;\n",
       "    }\n",
       "</style>\n",
       "<table border=\"1\" class=\"dataframe\">\n",
       "  <thead>\n",
       "    <tr style=\"text-align: right;\">\n",
       "      <th></th>\n",
       "      <th>CreditScore</th>\n",
       "      <th>Geography</th>\n",
       "      <th>Gender</th>\n",
       "      <th>Age</th>\n",
       "      <th>Tenure</th>\n",
       "      <th>Balance</th>\n",
       "      <th>NumOfProducts</th>\n",
       "      <th>HasCrCard</th>\n",
       "      <th>IsActiveMember</th>\n",
       "      <th>EstimatedSalary</th>\n",
       "      <th>Exited</th>\n",
       "    </tr>\n",
       "    <tr>\n",
       "      <th>RowNumber</th>\n",
       "      <th></th>\n",
       "      <th></th>\n",
       "      <th></th>\n",
       "      <th></th>\n",
       "      <th></th>\n",
       "      <th></th>\n",
       "      <th></th>\n",
       "      <th></th>\n",
       "      <th></th>\n",
       "      <th></th>\n",
       "      <th></th>\n",
       "    </tr>\n",
       "  </thead>\n",
       "  <tbody>\n",
       "    <tr>\n",
       "      <th>1</th>\n",
       "      <td>619</td>\n",
       "      <td>France</td>\n",
       "      <td>Female</td>\n",
       "      <td>42</td>\n",
       "      <td>2</td>\n",
       "      <td>0.000</td>\n",
       "      <td>1</td>\n",
       "      <td>1</td>\n",
       "      <td>1</td>\n",
       "      <td>101348.880</td>\n",
       "      <td>1</td>\n",
       "    </tr>\n",
       "    <tr>\n",
       "      <th>2</th>\n",
       "      <td>608</td>\n",
       "      <td>Spain</td>\n",
       "      <td>Female</td>\n",
       "      <td>41</td>\n",
       "      <td>1</td>\n",
       "      <td>83807.860</td>\n",
       "      <td>1</td>\n",
       "      <td>0</td>\n",
       "      <td>1</td>\n",
       "      <td>112542.580</td>\n",
       "      <td>0</td>\n",
       "    </tr>\n",
       "    <tr>\n",
       "      <th>3</th>\n",
       "      <td>502</td>\n",
       "      <td>France</td>\n",
       "      <td>Female</td>\n",
       "      <td>42</td>\n",
       "      <td>8</td>\n",
       "      <td>159660.800</td>\n",
       "      <td>3</td>\n",
       "      <td>1</td>\n",
       "      <td>0</td>\n",
       "      <td>113931.570</td>\n",
       "      <td>1</td>\n",
       "    </tr>\n",
       "    <tr>\n",
       "      <th>4</th>\n",
       "      <td>699</td>\n",
       "      <td>France</td>\n",
       "      <td>Female</td>\n",
       "      <td>39</td>\n",
       "      <td>1</td>\n",
       "      <td>0.000</td>\n",
       "      <td>2</td>\n",
       "      <td>0</td>\n",
       "      <td>0</td>\n",
       "      <td>93826.630</td>\n",
       "      <td>0</td>\n",
       "    </tr>\n",
       "    <tr>\n",
       "      <th>5</th>\n",
       "      <td>850</td>\n",
       "      <td>Spain</td>\n",
       "      <td>Female</td>\n",
       "      <td>43</td>\n",
       "      <td>2</td>\n",
       "      <td>125510.820</td>\n",
       "      <td>1</td>\n",
       "      <td>1</td>\n",
       "      <td>1</td>\n",
       "      <td>79084.100</td>\n",
       "      <td>0</td>\n",
       "    </tr>\n",
       "    <tr>\n",
       "      <th>...</th>\n",
       "      <td>...</td>\n",
       "      <td>...</td>\n",
       "      <td>...</td>\n",
       "      <td>...</td>\n",
       "      <td>...</td>\n",
       "      <td>...</td>\n",
       "      <td>...</td>\n",
       "      <td>...</td>\n",
       "      <td>...</td>\n",
       "      <td>...</td>\n",
       "      <td>...</td>\n",
       "    </tr>\n",
       "    <tr>\n",
       "      <th>9996</th>\n",
       "      <td>771</td>\n",
       "      <td>France</td>\n",
       "      <td>Male</td>\n",
       "      <td>39</td>\n",
       "      <td>5</td>\n",
       "      <td>0.000</td>\n",
       "      <td>2</td>\n",
       "      <td>1</td>\n",
       "      <td>0</td>\n",
       "      <td>96270.640</td>\n",
       "      <td>0</td>\n",
       "    </tr>\n",
       "    <tr>\n",
       "      <th>9997</th>\n",
       "      <td>516</td>\n",
       "      <td>France</td>\n",
       "      <td>Male</td>\n",
       "      <td>35</td>\n",
       "      <td>10</td>\n",
       "      <td>57369.610</td>\n",
       "      <td>1</td>\n",
       "      <td>1</td>\n",
       "      <td>1</td>\n",
       "      <td>101699.770</td>\n",
       "      <td>0</td>\n",
       "    </tr>\n",
       "    <tr>\n",
       "      <th>9998</th>\n",
       "      <td>709</td>\n",
       "      <td>France</td>\n",
       "      <td>Female</td>\n",
       "      <td>36</td>\n",
       "      <td>7</td>\n",
       "      <td>0.000</td>\n",
       "      <td>1</td>\n",
       "      <td>0</td>\n",
       "      <td>1</td>\n",
       "      <td>42085.580</td>\n",
       "      <td>1</td>\n",
       "    </tr>\n",
       "    <tr>\n",
       "      <th>9999</th>\n",
       "      <td>772</td>\n",
       "      <td>Germany</td>\n",
       "      <td>Male</td>\n",
       "      <td>42</td>\n",
       "      <td>3</td>\n",
       "      <td>75075.310</td>\n",
       "      <td>2</td>\n",
       "      <td>1</td>\n",
       "      <td>0</td>\n",
       "      <td>92888.520</td>\n",
       "      <td>1</td>\n",
       "    </tr>\n",
       "    <tr>\n",
       "      <th>10000</th>\n",
       "      <td>792</td>\n",
       "      <td>France</td>\n",
       "      <td>Female</td>\n",
       "      <td>28</td>\n",
       "      <td>4</td>\n",
       "      <td>130142.790</td>\n",
       "      <td>1</td>\n",
       "      <td>1</td>\n",
       "      <td>0</td>\n",
       "      <td>38190.780</td>\n",
       "      <td>0</td>\n",
       "    </tr>\n",
       "  </tbody>\n",
       "</table>\n",
       "<p>10000 rows × 11 columns</p>\n",
       "</div>"
      ],
      "text/plain": [
       "           CreditScore Geography  Gender  Age  Tenure    Balance  \\\n",
       "RowNumber                                                          \n",
       "1                  619    France  Female   42       2      0.000   \n",
       "2                  608     Spain  Female   41       1  83807.860   \n",
       "3                  502    France  Female   42       8 159660.800   \n",
       "4                  699    France  Female   39       1      0.000   \n",
       "5                  850     Spain  Female   43       2 125510.820   \n",
       "...                ...       ...     ...  ...     ...        ...   \n",
       "9996               771    France    Male   39       5      0.000   \n",
       "9997               516    France    Male   35      10  57369.610   \n",
       "9998               709    France  Female   36       7      0.000   \n",
       "9999               772   Germany    Male   42       3  75075.310   \n",
       "10000              792    France  Female   28       4 130142.790   \n",
       "\n",
       "           NumOfProducts  HasCrCard  IsActiveMember  EstimatedSalary  Exited  \n",
       "RowNumber                                                                     \n",
       "1                      1          1               1       101348.880       1  \n",
       "2                      1          0               1       112542.580       0  \n",
       "3                      3          1               0       113931.570       1  \n",
       "4                      2          0               0        93826.630       0  \n",
       "5                      1          1               1        79084.100       0  \n",
       "...                  ...        ...             ...              ...     ...  \n",
       "9996                   2          1               0        96270.640       0  \n",
       "9997                   1          1               1       101699.770       0  \n",
       "9998                   1          0               1        42085.580       1  \n",
       "9999                   2          1               0        92888.520       1  \n",
       "10000                  1          1               0        38190.780       0  \n",
       "\n",
       "[10000 rows x 11 columns]"
      ]
     },
     "execution_count": 22,
     "metadata": {},
     "output_type": "execute_result"
    }
   ],
   "source": [
    "df"
   ]
  },
  {
   "cell_type": "code",
   "execution_count": 23,
   "metadata": {},
   "outputs": [],
   "source": [
    "df.insert(10, \"customer_value\", customer_value)"
   ]
  },
  {
   "cell_type": "code",
   "execution_count": 24,
   "metadata": {},
   "outputs": [
    {
     "data": {
      "text/plain": [
       "RowNumber\n",
       "1        3\n",
       "2        2\n",
       "3        1\n",
       "4        2\n",
       "5        4\n",
       "        ..\n",
       "9996     4\n",
       "9997     1\n",
       "9998     2\n",
       "9999     4\n",
       "10000    4\n",
       "Name: customer_value, Length: 10000, dtype: int64"
      ]
     },
     "execution_count": 24,
     "metadata": {},
     "output_type": "execute_result"
    }
   ],
   "source": [
    "df.customer_value"
   ]
  },
  {
   "cell_type": "markdown",
   "metadata": {},
   "source": [
    "from sklearn.preprocessing import OrdinalEncoder\n",
    "\n",
    "encoder = OrdinalEncoder()\n",
    "\n",
    "result = encoder.fit_transform(df.customer_value.values.reshape(-1, 1))\n",
    "print(result)\n"
   ]
  },
  {
   "cell_type": "markdown",
   "metadata": {},
   "source": [
    "df.customer_value = result\n",
    "df.customer_value"
   ]
  },
  {
   "cell_type": "code",
   "execution_count": 25,
   "metadata": {},
   "outputs": [
    {
     "data": {
      "text/html": [
       "<div>\n",
       "<style scoped>\n",
       "    .dataframe tbody tr th:only-of-type {\n",
       "        vertical-align: middle;\n",
       "    }\n",
       "\n",
       "    .dataframe tbody tr th {\n",
       "        vertical-align: top;\n",
       "    }\n",
       "\n",
       "    .dataframe thead th {\n",
       "        text-align: right;\n",
       "    }\n",
       "</style>\n",
       "<table border=\"1\" class=\"dataframe\">\n",
       "  <thead>\n",
       "    <tr style=\"text-align: right;\">\n",
       "      <th></th>\n",
       "      <th>CreditScore</th>\n",
       "      <th>Geography</th>\n",
       "      <th>Gender</th>\n",
       "      <th>Age</th>\n",
       "      <th>Tenure</th>\n",
       "      <th>Balance</th>\n",
       "      <th>NumOfProducts</th>\n",
       "      <th>HasCrCard</th>\n",
       "      <th>IsActiveMember</th>\n",
       "      <th>EstimatedSalary</th>\n",
       "      <th>customer_value</th>\n",
       "      <th>Exited</th>\n",
       "    </tr>\n",
       "    <tr>\n",
       "      <th>RowNumber</th>\n",
       "      <th></th>\n",
       "      <th></th>\n",
       "      <th></th>\n",
       "      <th></th>\n",
       "      <th></th>\n",
       "      <th></th>\n",
       "      <th></th>\n",
       "      <th></th>\n",
       "      <th></th>\n",
       "      <th></th>\n",
       "      <th></th>\n",
       "      <th></th>\n",
       "    </tr>\n",
       "  </thead>\n",
       "  <tbody>\n",
       "    <tr>\n",
       "      <th>1</th>\n",
       "      <td>619</td>\n",
       "      <td>France</td>\n",
       "      <td>Female</td>\n",
       "      <td>42</td>\n",
       "      <td>2</td>\n",
       "      <td>0.000</td>\n",
       "      <td>1</td>\n",
       "      <td>1</td>\n",
       "      <td>1</td>\n",
       "      <td>101348.880</td>\n",
       "      <td>3</td>\n",
       "      <td>1</td>\n",
       "    </tr>\n",
       "    <tr>\n",
       "      <th>2</th>\n",
       "      <td>608</td>\n",
       "      <td>Spain</td>\n",
       "      <td>Female</td>\n",
       "      <td>41</td>\n",
       "      <td>1</td>\n",
       "      <td>83807.860</td>\n",
       "      <td>1</td>\n",
       "      <td>0</td>\n",
       "      <td>1</td>\n",
       "      <td>112542.580</td>\n",
       "      <td>2</td>\n",
       "      <td>0</td>\n",
       "    </tr>\n",
       "    <tr>\n",
       "      <th>3</th>\n",
       "      <td>502</td>\n",
       "      <td>France</td>\n",
       "      <td>Female</td>\n",
       "      <td>42</td>\n",
       "      <td>8</td>\n",
       "      <td>159660.800</td>\n",
       "      <td>3</td>\n",
       "      <td>1</td>\n",
       "      <td>0</td>\n",
       "      <td>113931.570</td>\n",
       "      <td>1</td>\n",
       "      <td>1</td>\n",
       "    </tr>\n",
       "    <tr>\n",
       "      <th>4</th>\n",
       "      <td>699</td>\n",
       "      <td>France</td>\n",
       "      <td>Female</td>\n",
       "      <td>39</td>\n",
       "      <td>1</td>\n",
       "      <td>0.000</td>\n",
       "      <td>2</td>\n",
       "      <td>0</td>\n",
       "      <td>0</td>\n",
       "      <td>93826.630</td>\n",
       "      <td>2</td>\n",
       "      <td>0</td>\n",
       "    </tr>\n",
       "    <tr>\n",
       "      <th>5</th>\n",
       "      <td>850</td>\n",
       "      <td>Spain</td>\n",
       "      <td>Female</td>\n",
       "      <td>43</td>\n",
       "      <td>2</td>\n",
       "      <td>125510.820</td>\n",
       "      <td>1</td>\n",
       "      <td>1</td>\n",
       "      <td>1</td>\n",
       "      <td>79084.100</td>\n",
       "      <td>4</td>\n",
       "      <td>0</td>\n",
       "    </tr>\n",
       "    <tr>\n",
       "      <th>...</th>\n",
       "      <td>...</td>\n",
       "      <td>...</td>\n",
       "      <td>...</td>\n",
       "      <td>...</td>\n",
       "      <td>...</td>\n",
       "      <td>...</td>\n",
       "      <td>...</td>\n",
       "      <td>...</td>\n",
       "      <td>...</td>\n",
       "      <td>...</td>\n",
       "      <td>...</td>\n",
       "      <td>...</td>\n",
       "    </tr>\n",
       "    <tr>\n",
       "      <th>9996</th>\n",
       "      <td>771</td>\n",
       "      <td>France</td>\n",
       "      <td>Male</td>\n",
       "      <td>39</td>\n",
       "      <td>5</td>\n",
       "      <td>0.000</td>\n",
       "      <td>2</td>\n",
       "      <td>1</td>\n",
       "      <td>0</td>\n",
       "      <td>96270.640</td>\n",
       "      <td>4</td>\n",
       "      <td>0</td>\n",
       "    </tr>\n",
       "    <tr>\n",
       "      <th>9997</th>\n",
       "      <td>516</td>\n",
       "      <td>France</td>\n",
       "      <td>Male</td>\n",
       "      <td>35</td>\n",
       "      <td>10</td>\n",
       "      <td>57369.610</td>\n",
       "      <td>1</td>\n",
       "      <td>1</td>\n",
       "      <td>1</td>\n",
       "      <td>101699.770</td>\n",
       "      <td>1</td>\n",
       "      <td>0</td>\n",
       "    </tr>\n",
       "    <tr>\n",
       "      <th>9998</th>\n",
       "      <td>709</td>\n",
       "      <td>France</td>\n",
       "      <td>Female</td>\n",
       "      <td>36</td>\n",
       "      <td>7</td>\n",
       "      <td>0.000</td>\n",
       "      <td>1</td>\n",
       "      <td>0</td>\n",
       "      <td>1</td>\n",
       "      <td>42085.580</td>\n",
       "      <td>2</td>\n",
       "      <td>1</td>\n",
       "    </tr>\n",
       "    <tr>\n",
       "      <th>9999</th>\n",
       "      <td>772</td>\n",
       "      <td>Germany</td>\n",
       "      <td>Male</td>\n",
       "      <td>42</td>\n",
       "      <td>3</td>\n",
       "      <td>75075.310</td>\n",
       "      <td>2</td>\n",
       "      <td>1</td>\n",
       "      <td>0</td>\n",
       "      <td>92888.520</td>\n",
       "      <td>4</td>\n",
       "      <td>1</td>\n",
       "    </tr>\n",
       "    <tr>\n",
       "      <th>10000</th>\n",
       "      <td>792</td>\n",
       "      <td>France</td>\n",
       "      <td>Female</td>\n",
       "      <td>28</td>\n",
       "      <td>4</td>\n",
       "      <td>130142.790</td>\n",
       "      <td>1</td>\n",
       "      <td>1</td>\n",
       "      <td>0</td>\n",
       "      <td>38190.780</td>\n",
       "      <td>4</td>\n",
       "      <td>0</td>\n",
       "    </tr>\n",
       "  </tbody>\n",
       "</table>\n",
       "<p>10000 rows × 12 columns</p>\n",
       "</div>"
      ],
      "text/plain": [
       "           CreditScore Geography  Gender  Age  Tenure    Balance  \\\n",
       "RowNumber                                                          \n",
       "1                  619    France  Female   42       2      0.000   \n",
       "2                  608     Spain  Female   41       1  83807.860   \n",
       "3                  502    France  Female   42       8 159660.800   \n",
       "4                  699    France  Female   39       1      0.000   \n",
       "5                  850     Spain  Female   43       2 125510.820   \n",
       "...                ...       ...     ...  ...     ...        ...   \n",
       "9996               771    France    Male   39       5      0.000   \n",
       "9997               516    France    Male   35      10  57369.610   \n",
       "9998               709    France  Female   36       7      0.000   \n",
       "9999               772   Germany    Male   42       3  75075.310   \n",
       "10000              792    France  Female   28       4 130142.790   \n",
       "\n",
       "           NumOfProducts  HasCrCard  IsActiveMember  EstimatedSalary  \\\n",
       "RowNumber                                                              \n",
       "1                      1          1               1       101348.880   \n",
       "2                      1          0               1       112542.580   \n",
       "3                      3          1               0       113931.570   \n",
       "4                      2          0               0        93826.630   \n",
       "5                      1          1               1        79084.100   \n",
       "...                  ...        ...             ...              ...   \n",
       "9996                   2          1               0        96270.640   \n",
       "9997                   1          1               1       101699.770   \n",
       "9998                   1          0               1        42085.580   \n",
       "9999                   2          1               0        92888.520   \n",
       "10000                  1          1               0        38190.780   \n",
       "\n",
       "           customer_value  Exited  \n",
       "RowNumber                          \n",
       "1                       3       1  \n",
       "2                       2       0  \n",
       "3                       1       1  \n",
       "4                       2       0  \n",
       "5                       4       0  \n",
       "...                   ...     ...  \n",
       "9996                    4       0  \n",
       "9997                    1       0  \n",
       "9998                    2       1  \n",
       "9999                    4       1  \n",
       "10000                   4       0  \n",
       "\n",
       "[10000 rows x 12 columns]"
      ]
     },
     "execution_count": 25,
     "metadata": {},
     "output_type": "execute_result"
    }
   ],
   "source": [
    "df"
   ]
  },
  {
   "cell_type": "code",
   "execution_count": 26,
   "metadata": {
    "cell_style": "split",
    "colab": {
     "base_uri": "https://localhost:8080/",
     "height": 981
    },
    "executionInfo": {
     "elapsed": 5978,
     "status": "ok",
     "timestamp": 1610202268770,
     "user": {
      "displayName": "Richard C",
      "photoUrl": "",
      "userId": "08040814671867660929"
     },
     "user_tz": -180
    },
    "id": "fNDK3HprhSU3",
    "outputId": "98fe8eba-dc36-4cc7-96ad-ff61182d12a2"
   },
   "outputs": [
    {
     "data": {
      "text/plain": [
       "<AxesSubplot:>"
      ]
     },
     "execution_count": 26,
     "metadata": {},
     "output_type": "execute_result"
    },
    {
     "data": {
      "image/png": "[encoded data removed]",
      "text/plain": [
       "<Figure size 1152x864 with 2 Axes>"
      ]
     },
     "metadata": {},
     "output_type": "display_data"
    }
   ],
   "source": [
    "plt.figure(figsize=(16, 12))\n",
    "sns.heatmap(df.corr(), annot=True, cmap='viridis')"
   ]
  },
  {
   "cell_type": "code",
   "execution_count": 27,
   "metadata": {
    "cell_style": "split",
    "colab": {
     "base_uri": "https://localhost:8080/",
     "height": 391
    },
    "executionInfo": {
     "elapsed": 1405,
     "status": "ok",
     "timestamp": 1610203065835,
     "user": {
      "displayName": "Richard C",
      "photoUrl": "",
      "userId": "08040814671867660929"
     },
     "user_tz": -180
    },
    "id": "IasR3c8ajeC0",
    "outputId": "4742bedb-e6bc-4967-f1cd-c36f7610f33e"
   },
   "outputs": [
    {
     "data": {
      "image/png": "[encoded data removed]",
      "text/plain": [
       "<Figure size 864x432 with 1 Axes>"
      ]
     },
     "metadata": {},
     "output_type": "display_data"
    }
   ],
   "source": [
    "df.corr()['Exited'][:-1].sort_values().plot.barh();"
   ]
  },
  {
   "cell_type": "code",
   "execution_count": null,
   "metadata": {},
   "outputs": [],
   "source": []
  },
  {
   "cell_type": "code",
   "execution_count": 28,
   "metadata": {},
   "outputs": [
    {
     "data": {
      "text/html": [
       "<div>\n",
       "<style scoped>\n",
       "    .dataframe tbody tr th:only-of-type {\n",
       "        vertical-align: middle;\n",
       "    }\n",
       "\n",
       "    .dataframe tbody tr th {\n",
       "        vertical-align: top;\n",
       "    }\n",
       "\n",
       "    .dataframe thead th {\n",
       "        text-align: right;\n",
       "    }\n",
       "</style>\n",
       "<table border=\"1\" class=\"dataframe\">\n",
       "  <thead>\n",
       "    <tr style=\"text-align: right;\">\n",
       "      <th></th>\n",
       "      <th>CreditScore</th>\n",
       "      <th>Age</th>\n",
       "      <th>Tenure</th>\n",
       "      <th>Balance</th>\n",
       "      <th>NumOfProducts</th>\n",
       "      <th>HasCrCard</th>\n",
       "      <th>IsActiveMember</th>\n",
       "      <th>EstimatedSalary</th>\n",
       "      <th>customer_value</th>\n",
       "      <th>Exited</th>\n",
       "      <th>Geography_France</th>\n",
       "      <th>Geography_Germany</th>\n",
       "      <th>Geography_Spain</th>\n",
       "      <th>Gender_Female</th>\n",
       "      <th>Gender_Male</th>\n",
       "    </tr>\n",
       "    <tr>\n",
       "      <th>RowNumber</th>\n",
       "      <th></th>\n",
       "      <th></th>\n",
       "      <th></th>\n",
       "      <th></th>\n",
       "      <th></th>\n",
       "      <th></th>\n",
       "      <th></th>\n",
       "      <th></th>\n",
       "      <th></th>\n",
       "      <th></th>\n",
       "      <th></th>\n",
       "      <th></th>\n",
       "      <th></th>\n",
       "      <th></th>\n",
       "      <th></th>\n",
       "    </tr>\n",
       "  </thead>\n",
       "  <tbody>\n",
       "    <tr>\n",
       "      <th>1</th>\n",
       "      <td>619</td>\n",
       "      <td>42</td>\n",
       "      <td>2</td>\n",
       "      <td>0.000</td>\n",
       "      <td>1</td>\n",
       "      <td>1</td>\n",
       "      <td>1</td>\n",
       "      <td>101348.880</td>\n",
       "      <td>3</td>\n",
       "      <td>1</td>\n",
       "      <td>1</td>\n",
       "      <td>0</td>\n",
       "      <td>0</td>\n",
       "      <td>1</td>\n",
       "      <td>0</td>\n",
       "    </tr>\n",
       "    <tr>\n",
       "      <th>2</th>\n",
       "      <td>608</td>\n",
       "      <td>41</td>\n",
       "      <td>1</td>\n",
       "      <td>83807.860</td>\n",
       "      <td>1</td>\n",
       "      <td>0</td>\n",
       "      <td>1</td>\n",
       "      <td>112542.580</td>\n",
       "      <td>2</td>\n",
       "      <td>0</td>\n",
       "      <td>0</td>\n",
       "      <td>0</td>\n",
       "      <td>1</td>\n",
       "      <td>1</td>\n",
       "      <td>0</td>\n",
       "    </tr>\n",
       "    <tr>\n",
       "      <th>3</th>\n",
       "      <td>502</td>\n",
       "      <td>42</td>\n",
       "      <td>8</td>\n",
       "      <td>159660.800</td>\n",
       "      <td>3</td>\n",
       "      <td>1</td>\n",
       "      <td>0</td>\n",
       "      <td>113931.570</td>\n",
       "      <td>1</td>\n",
       "      <td>1</td>\n",
       "      <td>1</td>\n",
       "      <td>0</td>\n",
       "      <td>0</td>\n",
       "      <td>1</td>\n",
       "      <td>0</td>\n",
       "    </tr>\n",
       "    <tr>\n",
       "      <th>4</th>\n",
       "      <td>699</td>\n",
       "      <td>39</td>\n",
       "      <td>1</td>\n",
       "      <td>0.000</td>\n",
       "      <td>2</td>\n",
       "      <td>0</td>\n",
       "      <td>0</td>\n",
       "      <td>93826.630</td>\n",
       "      <td>2</td>\n",
       "      <td>0</td>\n",
       "      <td>1</td>\n",
       "      <td>0</td>\n",
       "      <td>0</td>\n",
       "      <td>1</td>\n",
       "      <td>0</td>\n",
       "    </tr>\n",
       "    <tr>\n",
       "      <th>5</th>\n",
       "      <td>850</td>\n",
       "      <td>43</td>\n",
       "      <td>2</td>\n",
       "      <td>125510.820</td>\n",
       "      <td>1</td>\n",
       "      <td>1</td>\n",
       "      <td>1</td>\n",
       "      <td>79084.100</td>\n",
       "      <td>4</td>\n",
       "      <td>0</td>\n",
       "      <td>0</td>\n",
       "      <td>0</td>\n",
       "      <td>1</td>\n",
       "      <td>1</td>\n",
       "      <td>0</td>\n",
       "    </tr>\n",
       "  </tbody>\n",
       "</table>\n",
       "</div>"
      ],
      "text/plain": [
       "           CreditScore  Age  Tenure    Balance  NumOfProducts  HasCrCard  \\\n",
       "RowNumber                                                                  \n",
       "1                  619   42       2      0.000              1          1   \n",
       "2                  608   41       1  83807.860              1          0   \n",
       "3                  502   42       8 159660.800              3          1   \n",
       "4                  699   39       1      0.000              2          0   \n",
       "5                  850   43       2 125510.820              1          1   \n",
       "\n",
       "           IsActiveMember  EstimatedSalary  customer_value  Exited  \\\n",
       "RowNumber                                                            \n",
       "1                       1       101348.880               3       1   \n",
       "2                       1       112542.580               2       0   \n",
       "3                       0       113931.570               1       1   \n",
       "4                       0        93826.630               2       0   \n",
       "5                       1        79084.100               4       0   \n",
       "\n",
       "           Geography_France  Geography_Germany  Geography_Spain  \\\n",
       "RowNumber                                                         \n",
       "1                         1                  0                0   \n",
       "2                         0                  0                1   \n",
       "3                         1                  0                0   \n",
       "4                         1                  0                0   \n",
       "5                         0                  0                1   \n",
       "\n",
       "           Gender_Female  Gender_Male  \n",
       "RowNumber                              \n",
       "1                      1            0  \n",
       "2                      1            0  \n",
       "3                      1            0  \n",
       "4                      1            0  \n",
       "5                      1            0  "
      ]
     },
     "execution_count": 28,
     "metadata": {},
     "output_type": "execute_result"
    }
   ],
   "source": [
    "df = pd.get_dummies(df)\n",
    "df.head()"
   ]
  },
  {
   "cell_type": "markdown",
   "metadata": {},
   "source": [
    "## Preprocessing of Data"
   ]
  },
  {
   "cell_type": "code",
   "execution_count": 29,
   "metadata": {
    "executionInfo": {
     "elapsed": 764,
     "status": "ok",
     "timestamp": 1610203310512,
     "user": {
      "displayName": "Richard C",
      "photoUrl": "",
      "userId": "08040814671867660929"
     },
     "user_tz": -180
    },
    "id": "DjY-ZSPWka7D"
   },
   "outputs": [],
   "source": [
    "from sklearn.model_selection import train_test_split\n",
    "from sklearn.preprocessing import MinMaxScaler"
   ]
  },
  {
   "cell_type": "code",
   "execution_count": 30,
   "metadata": {
    "cell_style": "center",
    "executionInfo": {
     "elapsed": 1126,
     "status": "ok",
     "timestamp": 1610203246314,
     "user": {
      "displayName": "Richard C",
      "photoUrl": "",
      "userId": "08040814671867660929"
     },
     "user_tz": -180
    },
    "id": "kjyTH753lq7M"
   },
   "outputs": [],
   "source": [
    "X = df.drop('Exited', axis=1)\n",
    "y = df['Exited'].values\n",
    "\n",
    "X_train, X_test, y_train, y_test = train_test_split(X,\n",
    "                                                    y,\n",
    "                                                    stratify=y,\n",
    "                                                    test_size=0.1,\n",
    "                                                    random_state=42)\n"
   ]
  },
  {
   "cell_type": "code",
   "execution_count": 31,
   "metadata": {
    "cell_style": "split"
   },
   "outputs": [],
   "source": [
    "scaler = MinMaxScaler()\n"
   ]
  },
  {
   "cell_type": "code",
   "execution_count": 32,
   "metadata": {
    "cell_style": "split",
    "executionInfo": {
     "elapsed": 696,
     "status": "ok",
     "timestamp": 1610203508023,
     "user": {
      "displayName": "Richard C",
      "photoUrl": "",
      "userId": "08040814671867660929"
     },
     "user_tz": -180
    },
    "id": "Fgy3D9SBmWcq"
   },
   "outputs": [],
   "source": [
    "X_train = scaler.fit_transform(X_train)\n",
    "X_test = scaler.transform(X_test)"
   ]
  },
  {
   "cell_type": "markdown",
   "metadata": {
    "id": "Ha9hDt_AoGaE"
   },
   "source": [
    "## Modelling & Model Performance"
   ]
  },
  {
   "cell_type": "markdown",
   "metadata": {},
   "source": [
    "<span class=\"mark\">How many hidden layers should I use? : http://www.faqs.org/faqs/ai-faq/neural-nets/part3/section-9.html (mirror: http://francky.me/aifaq/FAQ-comp.ai.neural-net.pdf)\n",
    "How many hidden units should I use? : http://www.faqs.org/faqs/ai-faq/neural-nets/part3/section-10.html (mirror: http://francky.me/aifaq/FAQ-comp.ai.neural-net.pdf)\n",
    "What is genetic algorithm? : https://www.researchgate.net/post/What_is_genetic_algorithm1\n",
    "Genetic algorithm + neural networks: http://francky.me/doc/mrf2011-HEC-ISIR-ENS_en.pdf (chapter 2.2)</span>"
   ]
  },
  {
   "cell_type": "markdown",
   "metadata": {},
   "source": [
    "### without class_weigth"
   ]
  },
  {
   "cell_type": "code",
   "execution_count": 33,
   "metadata": {
    "cell_style": "split"
   },
   "outputs": [],
   "source": [
    "model = Sequential()\n",
    "\n",
    "model.add(Dense(30, activation=\"relu\"))\n",
    "model.add(Dropout(0.5))\n",
    "model.add(Dense(15, activation=\"relu\"))\n",
    "model.add(Dropout(0.5))\n",
    "model.add(Dense(1, activation=\"sigmoid\"))\n",
    "\n",
    "opt = Adam(lr=0.001)\n",
    "model.compile(optimizer=opt, \n",
    "              loss=\"binary_crossentropy\",\n",
    "              metrics=[\"Recall\"])"
   ]
  },
  {
   "cell_type": "markdown",
   "metadata": {
    "cell_style": "split"
   },
   "source": [
    "<span class=\"burk\">The patience is often set somewhere between 10 and 100 (10 or 20 is more common), but it really depends on your dataset and network.</span>"
   ]
  },
  {
   "cell_type": "code",
   "execution_count": 34,
   "metadata": {
    "cell_style": "split"
   },
   "outputs": [],
   "source": [
    "early_stop = EarlyStopping(monitor=\"val_loss\",\n",
    "                           mode=\"auto\",\n",
    "                           verbose=1,\n",
    "                           patience=30)"
   ]
  },
  {
   "cell_type": "code",
   "execution_count": 35,
   "metadata": {
    "cell_style": "center",
    "scrolled": true
   },
   "outputs": [
    {
     "name": "stdout",
     "output_type": "stream",
     "text": [
      "Epoch 1/500\n",
      "64/64 [==============================] - 3s 17ms/step - loss: 0.8839 - recall: 0.7022 - val_loss: 0.6101 - val_recall: 0.0110\n",
      "Epoch 2/500\n",
      "64/64 [==============================] - 0s 6ms/step - loss: 0.6168 - recall: 0.1768 - val_loss: 0.5250 - val_recall: 0.0000e+00\n",
      "Epoch 3/500\n",
      "64/64 [==============================] - 0s 6ms/step - loss: 0.5777 - recall: 0.0793 - val_loss: 0.5059 - val_recall: 0.0000e+00\n",
      "Epoch 4/500\n",
      "64/64 [==============================] - 0s 6ms/step - loss: 0.5566 - recall: 0.0345 - val_loss: 0.4949 - val_recall: 0.0000e+00\n",
      "Epoch 5/500\n",
      "64/64 [==============================] - 0s 6ms/step - loss: 0.5466 - recall: 0.0242 - val_loss: 0.4873 - val_recall: 0.0000e+00\n",
      "Epoch 6/500\n",
      "64/64 [==============================] - 0s 6ms/step - loss: 0.5378 - recall: 0.0200 - val_loss: 0.4813 - val_recall: 0.0000e+00\n",
      "Epoch 7/500\n",
      "64/64 [==============================] - 0s 7ms/step - loss: 0.5273 - recall: 0.0182 - val_loss: 0.4748 - val_recall: 0.0000e+00\n",
      "Epoch 8/500\n",
      "64/64 [==============================] - 0s 7ms/step - loss: 0.5155 - recall: 0.0151 - val_loss: 0.4698 - val_recall: 0.0000e+00\n",
      "Epoch 9/500\n",
      "64/64 [==============================] - 0s 6ms/step - loss: 0.5204 - recall: 0.0061 - val_loss: 0.4708 - val_recall: 0.0000e+00\n",
      "Epoch 10/500\n",
      "64/64 [==============================] - 0s 6ms/step - loss: 0.5087 - recall: 0.0115 - val_loss: 0.4633 - val_recall: 0.0000e+00\n",
      "Epoch 11/500\n",
      "64/64 [==============================] - ETA: 0s - loss: 0.5088 - recall: 0.00 - 0s 6ms/step - loss: 0.5076 - recall: 0.0091 - val_loss: 0.4609 - val_recall: 0.0000e+00\n",
      "Epoch 12/500\n",
      "64/64 [==============================] - 0s 6ms/step - loss: 0.5029 - recall: 0.0115 - val_loss: 0.4594 - val_recall: 0.0000e+00\n",
      "Epoch 13/500\n",
      "64/64 [==============================] - 0s 6ms/step - loss: 0.5030 - recall: 0.0091 - val_loss: 0.4560 - val_recall: 0.0000e+00\n",
      "Epoch 14/500\n",
      "64/64 [==============================] - 0s 7ms/step - loss: 0.4958 - recall: 0.0061 - val_loss: 0.4540 - val_recall: 0.0000e+00\n",
      "Epoch 15/500\n",
      "64/64 [==============================] - 0s 6ms/step - loss: 0.4947 - recall: 0.0054 - val_loss: 0.4532 - val_recall: 0.0000e+00\n",
      "Epoch 16/500\n",
      "64/64 [==============================] - 0s 6ms/step - loss: 0.4971 - recall: 0.0073 - val_loss: 0.4557 - val_recall: 0.0000e+00\n",
      "Epoch 17/500\n",
      "64/64 [==============================] - 0s 6ms/step - loss: 0.4937 - recall: 0.0079 - val_loss: 0.4505 - val_recall: 0.0000e+00\n",
      "Epoch 18/500\n",
      "64/64 [==============================] - 0s 6ms/step - loss: 0.4900 - recall: 0.0176 - val_loss: 0.4494 - val_recall: 0.0000e+00\n",
      "Epoch 19/500\n",
      "64/64 [==============================] - 0s 6ms/step - loss: 0.4852 - recall: 0.0297 - val_loss: 0.4435 - val_recall: 0.0000e+00\n",
      "Epoch 20/500\n",
      "64/64 [==============================] - 0s 6ms/step - loss: 0.4827 - recall: 0.0272 - val_loss: 0.4454 - val_recall: 0.0000e+00\n",
      "Epoch 21/500\n",
      "64/64 [==============================] - 0s 6ms/step - loss: 0.4821 - recall: 0.0327 - val_loss: 0.4405 - val_recall: 0.0000e+00\n",
      "Epoch 22/500\n",
      "64/64 [==============================] - 0s 6ms/step - loss: 0.4766 - recall: 0.0478 - val_loss: 0.4398 - val_recall: 0.0000e+00\n",
      "Epoch 23/500\n",
      "64/64 [==============================] - 0s 7ms/step - loss: 0.4799 - recall: 0.0454 - val_loss: 0.4396 - val_recall: 0.0000e+00\n",
      "Epoch 24/500\n",
      "64/64 [==============================] - 0s 6ms/step - loss: 0.4745 - recall: 0.0551 - val_loss: 0.4370 - val_recall: 0.0000e+00\n",
      "Epoch 25/500\n",
      "64/64 [==============================] - 0s 6ms/step - loss: 0.4708 - recall: 0.0636 - val_loss: 0.4358 - val_recall: 0.0000e+00\n",
      "Epoch 26/500\n",
      "64/64 [==============================] - 0s 6ms/step - loss: 0.4716 - recall: 0.0539 - val_loss: 0.4312 - val_recall: 0.0055\n",
      "Epoch 27/500\n",
      "64/64 [==============================] - 0s 6ms/step - loss: 0.4679 - recall: 0.0720 - val_loss: 0.4278 - val_recall: 0.0166\n",
      "Epoch 28/500\n",
      "64/64 [==============================] - 0s 6ms/step - loss: 0.4691 - recall: 0.0896 - val_loss: 0.4266 - val_recall: 0.0276\n",
      "Epoch 29/500\n",
      "64/64 [==============================] - 0s 6ms/step - loss: 0.4638 - recall: 0.0860 - val_loss: 0.4212 - val_recall: 0.0442\n",
      "Epoch 30/500\n",
      "64/64 [==============================] - 0s 6ms/step - loss: 0.4591 - recall: 0.0884 - val_loss: 0.4151 - val_recall: 0.0718\n",
      "Epoch 31/500\n",
      "64/64 [==============================] - 0s 6ms/step - loss: 0.4605 - recall: 0.1168 - val_loss: 0.4156 - val_recall: 0.0829\n",
      "Epoch 32/500\n",
      "64/64 [==============================] - 0s 6ms/step - loss: 0.4559 - recall: 0.1247 - val_loss: 0.4105 - val_recall: 0.1105\n",
      "Epoch 33/500\n",
      "64/64 [==============================] - 0s 6ms/step - loss: 0.4520 - recall: 0.1283 - val_loss: 0.4062 - val_recall: 0.1271\n",
      "Epoch 34/500\n",
      "64/64 [==============================] - 0s 6ms/step - loss: 0.4504 - recall: 0.1429 - val_loss: 0.4037 - val_recall: 0.0884\n",
      "Epoch 35/500\n",
      "64/64 [==============================] - 0s 7ms/step - loss: 0.4457 - recall: 0.1459 - val_loss: 0.3980 - val_recall: 0.1657\n",
      "Epoch 36/500\n",
      "64/64 [==============================] - 0s 6ms/step - loss: 0.4413 - recall: 0.1501 - val_loss: 0.3922 - val_recall: 0.2320\n",
      "Epoch 37/500\n",
      "64/64 [==============================] - 0s 6ms/step - loss: 0.4437 - recall: 0.1701 - val_loss: 0.3907 - val_recall: 0.2044\n",
      "Epoch 38/500\n",
      "64/64 [==============================] - 0s 6ms/step - loss: 0.4372 - recall: 0.2070 - val_loss: 0.3869 - val_recall: 0.2320\n",
      "Epoch 39/500\n",
      "64/64 [==============================] - 0s 6ms/step - loss: 0.4355 - recall: 0.1877 - val_loss: 0.3829 - val_recall: 0.2597\n",
      "Epoch 40/500\n",
      "64/64 [==============================] - 0s 7ms/step - loss: 0.4386 - recall: 0.2028 - val_loss: 0.3782 - val_recall: 0.2928\n",
      "Epoch 41/500\n",
      "64/64 [==============================] - 0s 6ms/step - loss: 0.4331 - recall: 0.2167 - val_loss: 0.3795 - val_recall: 0.2818\n",
      "Epoch 42/500\n",
      "64/64 [==============================] - 0s 6ms/step - loss: 0.4258 - recall: 0.2191 - val_loss: 0.3701 - val_recall: 0.3370\n",
      "Epoch 43/500\n",
      "64/64 [==============================] - 0s 6ms/step - loss: 0.4268 - recall: 0.2355 - val_loss: 0.3651 - val_recall: 0.3481\n",
      "Epoch 44/500\n",
      "64/64 [==============================] - 0s 6ms/step - loss: 0.4237 - recall: 0.2488 - val_loss: 0.3651 - val_recall: 0.3481\n",
      "Epoch 45/500\n",
      "64/64 [==============================] - 0s 6ms/step - loss: 0.4237 - recall: 0.2288 - val_loss: 0.3581 - val_recall: 0.3481\n",
      "Epoch 46/500\n",
      "64/64 [==============================] - 0s 6ms/step - loss: 0.4221 - recall: 0.2500 - val_loss: 0.3536 - val_recall: 0.3923\n",
      "Epoch 47/500\n",
      "64/64 [==============================] - 0s 6ms/step - loss: 0.4178 - recall: 0.2881 - val_loss: 0.3556 - val_recall: 0.3702\n",
      "Epoch 48/500\n",
      "64/64 [==============================] - 0s 6ms/step - loss: 0.4172 - recall: 0.2536 - val_loss: 0.3519 - val_recall: 0.4199\n",
      "Epoch 49/500\n",
      "64/64 [==============================] - 0s 6ms/step - loss: 0.4124 - recall: 0.2561 - val_loss: 0.3450 - val_recall: 0.4475\n",
      "Epoch 50/500\n",
      "64/64 [==============================] - 0s 6ms/step - loss: 0.4143 - recall: 0.2706 - val_loss: 0.3498 - val_recall: 0.3923\n",
      "Epoch 51/500\n",
      "64/64 [==============================] - 0s 7ms/step - loss: 0.4118 - recall: 0.2591 - val_loss: 0.3432 - val_recall: 0.4420\n",
      "Epoch 52/500\n",
      "64/64 [==============================] - 0s 6ms/step - loss: 0.4104 - recall: 0.2869 - val_loss: 0.3414 - val_recall: 0.4475\n",
      "Epoch 53/500\n",
      "64/64 [==============================] - 0s 6ms/step - loss: 0.4078 - recall: 0.2954 - val_loss: 0.3394 - val_recall: 0.4365\n",
      "Epoch 54/500\n",
      "64/64 [==============================] - 0s 6ms/step - loss: 0.4128 - recall: 0.2839 - val_loss: 0.3432 - val_recall: 0.4144\n",
      "Epoch 55/500\n",
      "64/64 [==============================] - 0s 6ms/step - loss: 0.4103 - recall: 0.2536 - val_loss: 0.3390 - val_recall: 0.4199\n",
      "Epoch 56/500\n",
      "64/64 [==============================] - 0s 7ms/step - loss: 0.4107 - recall: 0.2748 - val_loss: 0.3397 - val_recall: 0.4144\n",
      "Epoch 57/500\n",
      "64/64 [==============================] - 0s 5ms/step - loss: 0.4039 - recall: 0.3008 - val_loss: 0.3381 - val_recall: 0.4088\n",
      "Epoch 58/500\n",
      "64/64 [==============================] - 0s 6ms/step - loss: 0.4049 - recall: 0.2875 - val_loss: 0.3355 - val_recall: 0.4309\n",
      "Epoch 59/500\n"
     ]
    },
    {
     "name": "stdout",
     "output_type": "stream",
     "text": [
      "64/64 [==============================] - 0s 6ms/step - loss: 0.3999 - recall: 0.2912 - val_loss: 0.3292 - val_recall: 0.4420\n",
      "Epoch 60/500\n",
      "64/64 [==============================] - 0s 6ms/step - loss: 0.4036 - recall: 0.2857 - val_loss: 0.3350 - val_recall: 0.4365\n",
      "Epoch 61/500\n",
      "64/64 [==============================] - 0s 6ms/step - loss: 0.3987 - recall: 0.3015 - val_loss: 0.3308 - val_recall: 0.4475\n",
      "Epoch 62/500\n",
      "64/64 [==============================] - 0s 7ms/step - loss: 0.4028 - recall: 0.2972 - val_loss: 0.3318 - val_recall: 0.4254\n",
      "Epoch 63/500\n",
      "64/64 [==============================] - 0s 7ms/step - loss: 0.4054 - recall: 0.2833 - val_loss: 0.3314 - val_recall: 0.4254\n",
      "Epoch 64/500\n",
      "64/64 [==============================] - 0s 6ms/step - loss: 0.4011 - recall: 0.2936 - val_loss: 0.3293 - val_recall: 0.4420\n",
      "Epoch 65/500\n",
      "64/64 [==============================] - 0s 6ms/step - loss: 0.3980 - recall: 0.3063 - val_loss: 0.3294 - val_recall: 0.4420\n",
      "Epoch 66/500\n",
      "64/64 [==============================] - 0s 6ms/step - loss: 0.3972 - recall: 0.2978 - val_loss: 0.3300 - val_recall: 0.4254\n",
      "Epoch 67/500\n",
      "64/64 [==============================] - 0s 6ms/step - loss: 0.3970 - recall: 0.3057 - val_loss: 0.3263 - val_recall: 0.4365\n",
      "Epoch 68/500\n",
      "64/64 [==============================] - ETA: 0s - loss: 0.3936 - recall: 0.31 - 0s 6ms/step - loss: 0.3945 - recall: 0.3117 - val_loss: 0.3268 - val_recall: 0.4530\n",
      "Epoch 69/500\n",
      "64/64 [==============================] - 0s 6ms/step - loss: 0.4002 - recall: 0.2918 - val_loss: 0.3275 - val_recall: 0.4254\n",
      "Epoch 70/500\n",
      "64/64 [==============================] - 0s 6ms/step - loss: 0.3999 - recall: 0.2930 - val_loss: 0.3295 - val_recall: 0.4254\n",
      "Epoch 71/500\n",
      "64/64 [==============================] - 0s 6ms/step - loss: 0.4015 - recall: 0.2875 - val_loss: 0.3287 - val_recall: 0.4420\n",
      "Epoch 72/500\n",
      "64/64 [==============================] - 0s 6ms/step - loss: 0.4001 - recall: 0.2827 - val_loss: 0.3251 - val_recall: 0.4420\n",
      "Epoch 73/500\n",
      "64/64 [==============================] - 0s 6ms/step - loss: 0.3954 - recall: 0.3051 - val_loss: 0.3236 - val_recall: 0.4641\n",
      "Epoch 74/500\n",
      "64/64 [==============================] - 0s 6ms/step - loss: 0.3959 - recall: 0.3069 - val_loss: 0.3216 - val_recall: 0.4751\n",
      "Epoch 75/500\n",
      "64/64 [==============================] - 0s 6ms/step - loss: 0.3991 - recall: 0.2978 - val_loss: 0.3286 - val_recall: 0.4309\n",
      "Epoch 76/500\n",
      "64/64 [==============================] - 0s 6ms/step - loss: 0.3975 - recall: 0.2863 - val_loss: 0.3233 - val_recall: 0.4530\n",
      "Epoch 77/500\n",
      "64/64 [==============================] - 0s 7ms/step - loss: 0.3965 - recall: 0.3051 - val_loss: 0.3244 - val_recall: 0.4586\n",
      "Epoch 78/500\n",
      "64/64 [==============================] - 0s 6ms/step - loss: 0.3973 - recall: 0.2978 - val_loss: 0.3245 - val_recall: 0.4641\n",
      "Epoch 79/500\n",
      "64/64 [==============================] - 0s 6ms/step - loss: 0.3909 - recall: 0.3154 - val_loss: 0.3229 - val_recall: 0.4696\n",
      "Epoch 80/500\n",
      "64/64 [==============================] - 0s 6ms/step - loss: 0.3906 - recall: 0.3069 - val_loss: 0.3237 - val_recall: 0.4420\n",
      "Epoch 81/500\n",
      "64/64 [==============================] - 0s 6ms/step - loss: 0.3966 - recall: 0.3069 - val_loss: 0.3235 - val_recall: 0.4420\n",
      "Epoch 82/500\n",
      "64/64 [==============================] - 0s 6ms/step - loss: 0.3933 - recall: 0.3081 - val_loss: 0.3227 - val_recall: 0.4365\n",
      "Epoch 83/500\n",
      "64/64 [==============================] - 0s 6ms/step - loss: 0.3946 - recall: 0.3111 - val_loss: 0.3242 - val_recall: 0.4254\n",
      "Epoch 84/500\n",
      "64/64 [==============================] - 0s 6ms/step - loss: 0.3948 - recall: 0.2924 - val_loss: 0.3215 - val_recall: 0.4309\n",
      "Epoch 85/500\n",
      "64/64 [==============================] - 0s 6ms/step - loss: 0.3894 - recall: 0.3075 - val_loss: 0.3187 - val_recall: 0.4586\n",
      "Epoch 86/500\n",
      "64/64 [==============================] - 0s 6ms/step - loss: 0.3954 - recall: 0.2942 - val_loss: 0.3218 - val_recall: 0.4365\n",
      "Epoch 87/500\n",
      "64/64 [==============================] - 0s 6ms/step - loss: 0.3981 - recall: 0.2984 - val_loss: 0.3199 - val_recall: 0.4420\n",
      "Epoch 88/500\n",
      "64/64 [==============================] - 0s 6ms/step - loss: 0.3903 - recall: 0.3136 - val_loss: 0.3224 - val_recall: 0.4254\n",
      "Epoch 89/500\n",
      "64/64 [==============================] - 0s 6ms/step - loss: 0.3927 - recall: 0.3075 - val_loss: 0.3192 - val_recall: 0.4420\n",
      "Epoch 90/500\n",
      "64/64 [==============================] - 0s 6ms/step - loss: 0.3954 - recall: 0.2900 - val_loss: 0.3196 - val_recall: 0.4586\n",
      "Epoch 91/500\n",
      "64/64 [==============================] - 0s 6ms/step - loss: 0.3909 - recall: 0.3130 - val_loss: 0.3167 - val_recall: 0.4475\n",
      "Epoch 92/500\n",
      "64/64 [==============================] - 0s 6ms/step - loss: 0.3885 - recall: 0.3305 - val_loss: 0.3208 - val_recall: 0.4309\n",
      "Epoch 93/500\n",
      "64/64 [==============================] - 0s 6ms/step - loss: 0.3858 - recall: 0.3263 - val_loss: 0.3160 - val_recall: 0.4475\n",
      "Epoch 94/500\n",
      "64/64 [==============================] - 0s 6ms/step - loss: 0.3930 - recall: 0.3130 - val_loss: 0.3207 - val_recall: 0.4199\n",
      "Epoch 95/500\n",
      "64/64 [==============================] - 0s 6ms/step - loss: 0.3896 - recall: 0.3142 - val_loss: 0.3211 - val_recall: 0.4309\n",
      "Epoch 96/500\n",
      "64/64 [==============================] - 0s 6ms/step - loss: 0.3874 - recall: 0.3087 - val_loss: 0.3217 - val_recall: 0.4365\n",
      "Epoch 97/500\n",
      "64/64 [==============================] - 0s 6ms/step - loss: 0.3840 - recall: 0.3251 - val_loss: 0.3179 - val_recall: 0.4420\n",
      "Epoch 98/500\n",
      "64/64 [==============================] - 0s 7ms/step - loss: 0.3937 - recall: 0.3008 - val_loss: 0.3199 - val_recall: 0.4309\n",
      "Epoch 99/500\n",
      "64/64 [==============================] - 0s 6ms/step - loss: 0.3910 - recall: 0.3178 - val_loss: 0.3185 - val_recall: 0.4641\n",
      "Epoch 100/500\n",
      "64/64 [==============================] - 0s 7ms/step - loss: 0.3882 - recall: 0.3154 - val_loss: 0.3192 - val_recall: 0.4641\n",
      "Epoch 101/500\n",
      "64/64 [==============================] - 0s 7ms/step - loss: 0.3840 - recall: 0.3087 - val_loss: 0.3158 - val_recall: 0.4586\n",
      "Epoch 102/500\n",
      "64/64 [==============================] - 0s 6ms/step - loss: 0.3893 - recall: 0.3196 - val_loss: 0.3169 - val_recall: 0.4530\n",
      "Epoch 103/500\n",
      "64/64 [==============================] - 0s 7ms/step - loss: 0.3914 - recall: 0.3117 - val_loss: 0.3188 - val_recall: 0.4365\n",
      "Epoch 104/500\n",
      "64/64 [==============================] - 0s 6ms/step - loss: 0.3922 - recall: 0.3069 - val_loss: 0.3155 - val_recall: 0.4807\n",
      "Epoch 105/500\n",
      "64/64 [==============================] - 0s 6ms/step - loss: 0.3936 - recall: 0.3099 - val_loss: 0.3167 - val_recall: 0.4641\n",
      "Epoch 106/500\n",
      "64/64 [==============================] - 0s 6ms/step - loss: 0.3880 - recall: 0.3214 - val_loss: 0.3226 - val_recall: 0.4309\n",
      "Epoch 107/500\n",
      "64/64 [==============================] - 0s 6ms/step - loss: 0.3872 - recall: 0.3202 - val_loss: 0.3159 - val_recall: 0.4641\n",
      "Epoch 108/500\n",
      "64/64 [==============================] - 0s 7ms/step - loss: 0.3866 - recall: 0.3299 - val_loss: 0.3161 - val_recall: 0.4751\n",
      "Epoch 109/500\n",
      "64/64 [==============================] - 0s 6ms/step - loss: 0.3899 - recall: 0.3093 - val_loss: 0.3184 - val_recall: 0.4751\n",
      "Epoch 110/500\n",
      "64/64 [==============================] - 0s 6ms/step - loss: 0.3867 - recall: 0.3136 - val_loss: 0.3156 - val_recall: 0.4586\n",
      "Epoch 111/500\n",
      "64/64 [==============================] - 0s 6ms/step - loss: 0.3946 - recall: 0.3057 - val_loss: 0.3215 - val_recall: 0.4309\n",
      "Epoch 112/500\n",
      "64/64 [==============================] - 0s 6ms/step - loss: 0.3842 - recall: 0.3323 - val_loss: 0.3146 - val_recall: 0.4530\n",
      "Epoch 113/500\n",
      "64/64 [==============================] - 0s 6ms/step - loss: 0.3811 - recall: 0.3208 - val_loss: 0.3134 - val_recall: 0.4696\n",
      "Epoch 114/500\n",
      "64/64 [==============================] - 0s 6ms/step - loss: 0.3927 - recall: 0.3087 - val_loss: 0.3183 - val_recall: 0.4530\n",
      "Epoch 115/500\n",
      "64/64 [==============================] - 0s 6ms/step - loss: 0.3947 - recall: 0.3039 - val_loss: 0.3184 - val_recall: 0.4254\n",
      "Epoch 116/500\n",
      "64/64 [==============================] - 0s 6ms/step - loss: 0.3897 - recall: 0.3063 - val_loss: 0.3173 - val_recall: 0.4751\n",
      "Epoch 117/500\n",
      "64/64 [==============================] - 0s 6ms/step - loss: 0.3888 - recall: 0.3160 - val_loss: 0.3201 - val_recall: 0.4475\n",
      "Epoch 118/500\n"
     ]
    },
    {
     "name": "stdout",
     "output_type": "stream",
     "text": [
      "64/64 [==============================] - 0s 7ms/step - loss: 0.3940 - recall: 0.2960 - val_loss: 0.3185 - val_recall: 0.4365\n",
      "Epoch 119/500\n",
      "64/64 [==============================] - 0s 7ms/step - loss: 0.3895 - recall: 0.3039 - val_loss: 0.3181 - val_recall: 0.4475\n",
      "Epoch 120/500\n",
      "64/64 [==============================] - 0s 6ms/step - loss: 0.3889 - recall: 0.3214 - val_loss: 0.3188 - val_recall: 0.4530\n",
      "Epoch 121/500\n",
      "64/64 [==============================] - 0s 6ms/step - loss: 0.3951 - recall: 0.3075 - val_loss: 0.3175 - val_recall: 0.4586\n",
      "Epoch 122/500\n",
      "64/64 [==============================] - 0s 6ms/step - loss: 0.3914 - recall: 0.3105 - val_loss: 0.3200 - val_recall: 0.4254\n",
      "Epoch 123/500\n",
      "64/64 [==============================] - 0s 6ms/step - loss: 0.3926 - recall: 0.3075 - val_loss: 0.3197 - val_recall: 0.4420\n",
      "Epoch 124/500\n",
      "64/64 [==============================] - 0s 6ms/step - loss: 0.3890 - recall: 0.3111 - val_loss: 0.3154 - val_recall: 0.4309\n",
      "Epoch 125/500\n",
      "64/64 [==============================] - 0s 6ms/step - loss: 0.3836 - recall: 0.3335 - val_loss: 0.3172 - val_recall: 0.4199\n",
      "Epoch 126/500\n",
      "64/64 [==============================] - 0s 6ms/step - loss: 0.3841 - recall: 0.3396 - val_loss: 0.3165 - val_recall: 0.4696\n",
      "Epoch 127/500\n",
      "64/64 [==============================] - 0s 6ms/step - loss: 0.3857 - recall: 0.3081 - val_loss: 0.3161 - val_recall: 0.4309\n",
      "Epoch 128/500\n",
      "64/64 [==============================] - 0s 6ms/step - loss: 0.3869 - recall: 0.3099 - val_loss: 0.3161 - val_recall: 0.4641\n",
      "Epoch 129/500\n",
      "64/64 [==============================] - 0s 6ms/step - loss: 0.3875 - recall: 0.3196 - val_loss: 0.3183 - val_recall: 0.4586\n",
      "Epoch 130/500\n",
      "64/64 [==============================] - 0s 6ms/step - loss: 0.3822 - recall: 0.3299 - val_loss: 0.3143 - val_recall: 0.4586\n",
      "Epoch 131/500\n",
      "64/64 [==============================] - 0s 6ms/step - loss: 0.3920 - recall: 0.3069 - val_loss: 0.3159 - val_recall: 0.4530\n",
      "Epoch 132/500\n",
      "64/64 [==============================] - 0s 6ms/step - loss: 0.3969 - recall: 0.3015 - val_loss: 0.3181 - val_recall: 0.4475\n",
      "Epoch 133/500\n",
      "64/64 [==============================] - 0s 6ms/step - loss: 0.3843 - recall: 0.3305 - val_loss: 0.3163 - val_recall: 0.4530\n",
      "Epoch 134/500\n",
      "64/64 [==============================] - 0s 6ms/step - loss: 0.3779 - recall: 0.3535 - val_loss: 0.3151 - val_recall: 0.4420\n",
      "Epoch 135/500\n",
      "64/64 [==============================] - 0s 6ms/step - loss: 0.3817 - recall: 0.3390 - val_loss: 0.3167 - val_recall: 0.4420\n",
      "Epoch 136/500\n",
      "64/64 [==============================] - 0s 6ms/step - loss: 0.3828 - recall: 0.3111 - val_loss: 0.3152 - val_recall: 0.4641\n",
      "Epoch 137/500\n",
      "64/64 [==============================] - 0s 6ms/step - loss: 0.3853 - recall: 0.3232 - val_loss: 0.3155 - val_recall: 0.4420\n",
      "Epoch 138/500\n",
      "64/64 [==============================] - 0s 6ms/step - loss: 0.3830 - recall: 0.3281 - val_loss: 0.3140 - val_recall: 0.4751\n",
      "Epoch 139/500\n",
      "64/64 [==============================] - 0s 6ms/step - loss: 0.3826 - recall: 0.3245 - val_loss: 0.3124 - val_recall: 0.4641\n",
      "Epoch 140/500\n",
      "64/64 [==============================] - 0s 7ms/step - loss: 0.3913 - recall: 0.3087 - val_loss: 0.3141 - val_recall: 0.4530\n",
      "Epoch 141/500\n",
      "64/64 [==============================] - 0s 6ms/step - loss: 0.3844 - recall: 0.3202 - val_loss: 0.3154 - val_recall: 0.4586\n",
      "Epoch 142/500\n",
      "64/64 [==============================] - 0s 6ms/step - loss: 0.3814 - recall: 0.3275 - val_loss: 0.3127 - val_recall: 0.4641\n",
      "Epoch 143/500\n",
      "64/64 [==============================] - 0s 6ms/step - loss: 0.3849 - recall: 0.3172 - val_loss: 0.3114 - val_recall: 0.4917\n",
      "Epoch 144/500\n",
      "64/64 [==============================] - 0s 6ms/step - loss: 0.3816 - recall: 0.3354 - val_loss: 0.3171 - val_recall: 0.4420\n",
      "Epoch 145/500\n",
      "64/64 [==============================] - 0s 6ms/step - loss: 0.3839 - recall: 0.3287 - val_loss: 0.3142 - val_recall: 0.4641\n",
      "Epoch 146/500\n",
      "64/64 [==============================] - 0s 6ms/step - loss: 0.3872 - recall: 0.3184 - val_loss: 0.3134 - val_recall: 0.4586\n",
      "Epoch 147/500\n",
      "64/64 [==============================] - 0s 6ms/step - loss: 0.3861 - recall: 0.3226 - val_loss: 0.3115 - val_recall: 0.4807\n",
      "Epoch 148/500\n",
      "64/64 [==============================] - 0s 6ms/step - loss: 0.3831 - recall: 0.3293 - val_loss: 0.3128 - val_recall: 0.4641\n",
      "Epoch 149/500\n",
      "64/64 [==============================] - 0s 6ms/step - loss: 0.3886 - recall: 0.3317 - val_loss: 0.3159 - val_recall: 0.4530\n",
      "Epoch 150/500\n",
      "64/64 [==============================] - 0s 6ms/step - loss: 0.3878 - recall: 0.3293 - val_loss: 0.3135 - val_recall: 0.4641\n",
      "Epoch 151/500\n",
      "64/64 [==============================] - 0s 6ms/step - loss: 0.3860 - recall: 0.3378 - val_loss: 0.3154 - val_recall: 0.4475\n",
      "Epoch 152/500\n",
      "64/64 [==============================] - 0s 7ms/step - loss: 0.3875 - recall: 0.3111 - val_loss: 0.3135 - val_recall: 0.4475\n",
      "Epoch 153/500\n",
      "64/64 [==============================] - 0s 6ms/step - loss: 0.3867 - recall: 0.3105 - val_loss: 0.3142 - val_recall: 0.4530\n",
      "Epoch 154/500\n",
      "64/64 [==============================] - 0s 6ms/step - loss: 0.3875 - recall: 0.3196 - val_loss: 0.3135 - val_recall: 0.4641\n",
      "Epoch 155/500\n",
      "64/64 [==============================] - 0s 7ms/step - loss: 0.3881 - recall: 0.2960 - val_loss: 0.3133 - val_recall: 0.4641\n",
      "Epoch 156/500\n",
      "64/64 [==============================] - 0s 6ms/step - loss: 0.3885 - recall: 0.3287 - val_loss: 0.3134 - val_recall: 0.4475\n",
      "Epoch 157/500\n",
      "64/64 [==============================] - 0s 6ms/step - loss: 0.3872 - recall: 0.3123 - val_loss: 0.3136 - val_recall: 0.4917\n",
      "Epoch 158/500\n",
      "64/64 [==============================] - 0s 6ms/step - loss: 0.3861 - recall: 0.3226 - val_loss: 0.3132 - val_recall: 0.4751\n",
      "Epoch 159/500\n",
      "64/64 [==============================] - 0s 6ms/step - loss: 0.3832 - recall: 0.3317 - val_loss: 0.3121 - val_recall: 0.4641\n",
      "Epoch 160/500\n",
      "64/64 [==============================] - 0s 6ms/step - loss: 0.3849 - recall: 0.3335 - val_loss: 0.3112 - val_recall: 0.4696\n",
      "Epoch 161/500\n",
      "64/64 [==============================] - 0s 6ms/step - loss: 0.3854 - recall: 0.3323 - val_loss: 0.3151 - val_recall: 0.4751\n",
      "Epoch 162/500\n",
      "64/64 [==============================] - 0s 6ms/step - loss: 0.3891 - recall: 0.3287 - val_loss: 0.3128 - val_recall: 0.4641\n",
      "Epoch 163/500\n",
      "64/64 [==============================] - 0s 6ms/step - loss: 0.3839 - recall: 0.3238 - val_loss: 0.3143 - val_recall: 0.4530\n",
      "Epoch 164/500\n",
      "64/64 [==============================] - 0s 6ms/step - loss: 0.3872 - recall: 0.3130 - val_loss: 0.3130 - val_recall: 0.4696\n",
      "Epoch 165/500\n",
      "64/64 [==============================] - 0s 6ms/step - loss: 0.3797 - recall: 0.3535 - val_loss: 0.3137 - val_recall: 0.4475\n",
      "Epoch 166/500\n",
      "64/64 [==============================] - 0s 6ms/step - loss: 0.3879 - recall: 0.3087 - val_loss: 0.3136 - val_recall: 0.4917\n",
      "Epoch 167/500\n",
      "64/64 [==============================] - 0s 6ms/step - loss: 0.3898 - recall: 0.3323 - val_loss: 0.3132 - val_recall: 0.4475\n",
      "Epoch 168/500\n",
      "64/64 [==============================] - 0s 6ms/step - loss: 0.3844 - recall: 0.3287 - val_loss: 0.3089 - val_recall: 0.4751\n",
      "Epoch 169/500\n",
      "64/64 [==============================] - 0s 6ms/step - loss: 0.3809 - recall: 0.3305 - val_loss: 0.3114 - val_recall: 0.4751\n",
      "Epoch 170/500\n",
      "64/64 [==============================] - 0s 6ms/step - loss: 0.3858 - recall: 0.3075 - val_loss: 0.3117 - val_recall: 0.4917\n",
      "Epoch 171/500\n",
      "64/64 [==============================] - 0s 6ms/step - loss: 0.3859 - recall: 0.3456 - val_loss: 0.3105 - val_recall: 0.4917\n",
      "Epoch 172/500\n",
      "64/64 [==============================] - 0s 6ms/step - loss: 0.3898 - recall: 0.3117 - val_loss: 0.3153 - val_recall: 0.4586\n",
      "Epoch 173/500\n",
      "64/64 [==============================] - 0s 6ms/step - loss: 0.3846 - recall: 0.3323 - val_loss: 0.3134 - val_recall: 0.4586\n",
      "Epoch 174/500\n",
      "64/64 [==============================] - 0s 6ms/step - loss: 0.3834 - recall: 0.3408 - val_loss: 0.3100 - val_recall: 0.4917\n",
      "Epoch 175/500\n",
      "64/64 [==============================] - 0s 7ms/step - loss: 0.3799 - recall: 0.3499 - val_loss: 0.3079 - val_recall: 0.4807\n",
      "Epoch 176/500\n",
      "64/64 [==============================] - 0s 7ms/step - loss: 0.3824 - recall: 0.3311 - val_loss: 0.3097 - val_recall: 0.4972\n",
      "Epoch 177/500\n"
     ]
    },
    {
     "name": "stdout",
     "output_type": "stream",
     "text": [
      "64/64 [==============================] - 0s 6ms/step - loss: 0.3817 - recall: 0.3384 - val_loss: 0.3109 - val_recall: 0.4696\n",
      "Epoch 178/500\n",
      "64/64 [==============================] - 0s 6ms/step - loss: 0.3809 - recall: 0.3275 - val_loss: 0.3087 - val_recall: 0.4807\n",
      "Epoch 179/500\n",
      "64/64 [==============================] - 0s 6ms/step - loss: 0.3814 - recall: 0.3378 - val_loss: 0.3103 - val_recall: 0.4972\n",
      "Epoch 180/500\n",
      "64/64 [==============================] - 0s 6ms/step - loss: 0.3810 - recall: 0.3517 - val_loss: 0.3120 - val_recall: 0.4751\n",
      "Epoch 181/500\n",
      "64/64 [==============================] - 0s 7ms/step - loss: 0.3828 - recall: 0.3378 - val_loss: 0.3118 - val_recall: 0.4365\n",
      "Epoch 182/500\n",
      "64/64 [==============================] - 0s 6ms/step - loss: 0.3855 - recall: 0.3287 - val_loss: 0.3077 - val_recall: 0.5138\n",
      "Epoch 183/500\n",
      "64/64 [==============================] - 0s 6ms/step - loss: 0.3830 - recall: 0.3523 - val_loss: 0.3077 - val_recall: 0.5028\n",
      "Epoch 184/500\n",
      "64/64 [==============================] - 0s 6ms/step - loss: 0.3820 - recall: 0.3390 - val_loss: 0.3147 - val_recall: 0.4530\n",
      "Epoch 185/500\n",
      "64/64 [==============================] - 0s 6ms/step - loss: 0.3790 - recall: 0.3366 - val_loss: 0.3083 - val_recall: 0.5028\n",
      "Epoch 186/500\n",
      "64/64 [==============================] - 0s 6ms/step - loss: 0.3825 - recall: 0.3426 - val_loss: 0.3112 - val_recall: 0.4751\n",
      "Epoch 187/500\n",
      "64/64 [==============================] - 0s 6ms/step - loss: 0.3883 - recall: 0.3269 - val_loss: 0.3104 - val_recall: 0.4862\n",
      "Epoch 188/500\n",
      "64/64 [==============================] - 0s 6ms/step - loss: 0.3875 - recall: 0.3293 - val_loss: 0.3149 - val_recall: 0.4530\n",
      "Epoch 189/500\n",
      "64/64 [==============================] - 0s 7ms/step - loss: 0.3811 - recall: 0.3214 - val_loss: 0.3098 - val_recall: 0.4641\n",
      "Epoch 190/500\n",
      "64/64 [==============================] - 0s 6ms/step - loss: 0.3801 - recall: 0.3378 - val_loss: 0.3094 - val_recall: 0.4917\n",
      "Epoch 191/500\n",
      "64/64 [==============================] - 0s 6ms/step - loss: 0.3816 - recall: 0.3517 - val_loss: 0.3103 - val_recall: 0.4751\n",
      "Epoch 192/500\n",
      "64/64 [==============================] - 0s 6ms/step - loss: 0.3799 - recall: 0.3299 - val_loss: 0.3076 - val_recall: 0.4972\n",
      "Epoch 193/500\n",
      "64/64 [==============================] - 0s 6ms/step - loss: 0.3784 - recall: 0.3269 - val_loss: 0.3076 - val_recall: 0.4972\n",
      "Epoch 194/500\n",
      "64/64 [==============================] - 0s 6ms/step - loss: 0.3860 - recall: 0.3281 - val_loss: 0.3096 - val_recall: 0.4696\n",
      "Epoch 195/500\n",
      "64/64 [==============================] - 0s 6ms/step - loss: 0.3809 - recall: 0.3378 - val_loss: 0.3084 - val_recall: 0.4641\n",
      "Epoch 196/500\n",
      "64/64 [==============================] - 0s 6ms/step - loss: 0.3837 - recall: 0.3396 - val_loss: 0.3103 - val_recall: 0.4586\n",
      "Epoch 197/500\n",
      "64/64 [==============================] - 0s 6ms/step - loss: 0.3882 - recall: 0.3269 - val_loss: 0.3130 - val_recall: 0.4862\n",
      "Epoch 198/500\n",
      "64/64 [==============================] - 0s 6ms/step - loss: 0.3809 - recall: 0.3481 - val_loss: 0.3112 - val_recall: 0.4751\n",
      "Epoch 199/500\n",
      "64/64 [==============================] - 0s 6ms/step - loss: 0.3801 - recall: 0.3426 - val_loss: 0.3087 - val_recall: 0.4641\n",
      "Epoch 200/500\n",
      "64/64 [==============================] - 0s 6ms/step - loss: 0.3847 - recall: 0.3372 - val_loss: 0.3088 - val_recall: 0.4751\n",
      "Epoch 201/500\n",
      "64/64 [==============================] - 0s 6ms/step - loss: 0.3771 - recall: 0.3354 - val_loss: 0.3085 - val_recall: 0.4917\n",
      "Epoch 202/500\n",
      "64/64 [==============================] - 0s 6ms/step - loss: 0.3826 - recall: 0.3293 - val_loss: 0.3085 - val_recall: 0.4972\n",
      "Epoch 203/500\n",
      "64/64 [==============================] - 0s 7ms/step - loss: 0.3850 - recall: 0.3372 - val_loss: 0.3104 - val_recall: 0.4475\n",
      "Epoch 204/500\n",
      "64/64 [==============================] - 0s 6ms/step - loss: 0.3804 - recall: 0.3432 - val_loss: 0.3123 - val_recall: 0.4696\n",
      "Epoch 205/500\n",
      "64/64 [==============================] - 0s 6ms/step - loss: 0.3818 - recall: 0.3408 - val_loss: 0.3077 - val_recall: 0.4917\n",
      "Epoch 206/500\n",
      "64/64 [==============================] - 0s 6ms/step - loss: 0.3809 - recall: 0.3438 - val_loss: 0.3100 - val_recall: 0.5028\n",
      "Epoch 207/500\n",
      "64/64 [==============================] - 0s 6ms/step - loss: 0.3806 - recall: 0.3517 - val_loss: 0.3060 - val_recall: 0.4862\n",
      "Epoch 208/500\n",
      "64/64 [==============================] - 0s 6ms/step - loss: 0.3870 - recall: 0.3420 - val_loss: 0.3120 - val_recall: 0.4586\n",
      "Epoch 209/500\n",
      "64/64 [==============================] - 0s 7ms/step - loss: 0.3841 - recall: 0.3408 - val_loss: 0.3097 - val_recall: 0.4641\n",
      "Epoch 210/500\n",
      "64/64 [==============================] - 0s 6ms/step - loss: 0.3848 - recall: 0.3553 - val_loss: 0.3128 - val_recall: 0.4586\n",
      "Epoch 211/500\n",
      "64/64 [==============================] - 0s 6ms/step - loss: 0.3804 - recall: 0.3462 - val_loss: 0.3076 - val_recall: 0.5138\n",
      "Epoch 212/500\n",
      "64/64 [==============================] - 0s 6ms/step - loss: 0.3863 - recall: 0.3462 - val_loss: 0.3116 - val_recall: 0.4641\n",
      "Epoch 213/500\n",
      "64/64 [==============================] - 0s 6ms/step - loss: 0.3842 - recall: 0.3311 - val_loss: 0.3088 - val_recall: 0.4807\n",
      "Epoch 214/500\n",
      "64/64 [==============================] - 0s 6ms/step - loss: 0.3792 - recall: 0.3414 - val_loss: 0.3091 - val_recall: 0.4751\n",
      "Epoch 215/500\n",
      "64/64 [==============================] - 0s 6ms/step - loss: 0.3839 - recall: 0.3396 - val_loss: 0.3078 - val_recall: 0.4807\n",
      "Epoch 216/500\n",
      "64/64 [==============================] - 0s 7ms/step - loss: 0.3863 - recall: 0.3263 - val_loss: 0.3134 - val_recall: 0.4696\n",
      "Epoch 217/500\n",
      "64/64 [==============================] - 0s 6ms/step - loss: 0.3840 - recall: 0.3487 - val_loss: 0.3117 - val_recall: 0.4641\n",
      "Epoch 218/500\n",
      "64/64 [==============================] - 0s 6ms/step - loss: 0.3841 - recall: 0.3287 - val_loss: 0.3093 - val_recall: 0.4696\n",
      "Epoch 219/500\n",
      "64/64 [==============================] - 0s 6ms/step - loss: 0.3865 - recall: 0.3378 - val_loss: 0.3117 - val_recall: 0.5028\n",
      "Epoch 220/500\n",
      "64/64 [==============================] - 0s 6ms/step - loss: 0.3815 - recall: 0.3426 - val_loss: 0.3053 - val_recall: 0.5249\n",
      "Epoch 221/500\n",
      "64/64 [==============================] - 0s 6ms/step - loss: 0.3814 - recall: 0.3432 - val_loss: 0.3066 - val_recall: 0.5028\n",
      "Epoch 222/500\n",
      "64/64 [==============================] - 0s 6ms/step - loss: 0.3808 - recall: 0.3444 - val_loss: 0.3081 - val_recall: 0.5249\n",
      "Epoch 223/500\n",
      "64/64 [==============================] - 0s 6ms/step - loss: 0.3871 - recall: 0.3245 - val_loss: 0.3085 - val_recall: 0.4641\n",
      "Epoch 224/500\n",
      "64/64 [==============================] - 0s 7ms/step - loss: 0.3886 - recall: 0.3287 - val_loss: 0.3154 - val_recall: 0.4586\n",
      "Epoch 225/500\n",
      "64/64 [==============================] - 0s 6ms/step - loss: 0.3812 - recall: 0.3384 - val_loss: 0.3077 - val_recall: 0.4696\n",
      "Epoch 226/500\n",
      "64/64 [==============================] - 0s 6ms/step - loss: 0.3858 - recall: 0.3414 - val_loss: 0.3116 - val_recall: 0.4807\n",
      "Epoch 227/500\n",
      "64/64 [==============================] - 0s 6ms/step - loss: 0.3773 - recall: 0.3553 - val_loss: 0.3106 - val_recall: 0.4972\n",
      "Epoch 228/500\n",
      "64/64 [==============================] - 0s 6ms/step - loss: 0.3870 - recall: 0.3269 - val_loss: 0.3103 - val_recall: 0.4420\n",
      "Epoch 229/500\n",
      "64/64 [==============================] - 0s 6ms/step - loss: 0.3773 - recall: 0.3414 - val_loss: 0.3045 - val_recall: 0.4972\n",
      "Epoch 230/500\n",
      "64/64 [==============================] - 0s 6ms/step - loss: 0.3814 - recall: 0.3475 - val_loss: 0.3126 - val_recall: 0.4917\n",
      "Epoch 231/500\n",
      "64/64 [==============================] - 0s 6ms/step - loss: 0.3843 - recall: 0.3323 - val_loss: 0.3091 - val_recall: 0.4807\n",
      "Epoch 232/500\n",
      "64/64 [==============================] - 0s 7ms/step - loss: 0.3836 - recall: 0.3299 - val_loss: 0.3097 - val_recall: 0.4807\n",
      "Epoch 233/500\n",
      "64/64 [==============================] - 0s 6ms/step - loss: 0.3812 - recall: 0.3354 - val_loss: 0.3091 - val_recall: 0.5138\n",
      "Epoch 234/500\n",
      "64/64 [==============================] - 0s 6ms/step - loss: 0.3797 - recall: 0.3626 - val_loss: 0.3095 - val_recall: 0.4972\n",
      "Epoch 235/500\n",
      "64/64 [==============================] - 0s 6ms/step - loss: 0.3796 - recall: 0.3354 - val_loss: 0.3098 - val_recall: 0.4917\n",
      "Epoch 236/500\n"
     ]
    },
    {
     "name": "stdout",
     "output_type": "stream",
     "text": [
      "64/64 [==============================] - 0s 6ms/step - loss: 0.3831 - recall: 0.3305 - val_loss: 0.3104 - val_recall: 0.4862\n",
      "Epoch 237/500\n",
      "64/64 [==============================] - 0s 6ms/step - loss: 0.3823 - recall: 0.3257 - val_loss: 0.3101 - val_recall: 0.4530\n",
      "Epoch 238/500\n",
      "64/64 [==============================] - 0s 6ms/step - loss: 0.3823 - recall: 0.3287 - val_loss: 0.3115 - val_recall: 0.4862\n",
      "Epoch 239/500\n",
      "64/64 [==============================] - 0s 6ms/step - loss: 0.3796 - recall: 0.3438 - val_loss: 0.3113 - val_recall: 0.4862\n",
      "Epoch 240/500\n",
      "64/64 [==============================] - 0s 6ms/step - loss: 0.3845 - recall: 0.3323 - val_loss: 0.3089 - val_recall: 0.4917\n",
      "Epoch 241/500\n",
      "64/64 [==============================] - 0s 6ms/step - loss: 0.3785 - recall: 0.3584 - val_loss: 0.3092 - val_recall: 0.4475\n",
      "Epoch 242/500\n",
      "64/64 [==============================] - 0s 6ms/step - loss: 0.3805 - recall: 0.3487 - val_loss: 0.3117 - val_recall: 0.4696\n",
      "Epoch 243/500\n",
      "64/64 [==============================] - 0s 6ms/step - loss: 0.3739 - recall: 0.3517 - val_loss: 0.3062 - val_recall: 0.5138\n",
      "Epoch 244/500\n",
      "64/64 [==============================] - 0s 6ms/step - loss: 0.3741 - recall: 0.3481 - val_loss: 0.3047 - val_recall: 0.5193\n",
      "Epoch 245/500\n",
      "64/64 [==============================] - 0s 7ms/step - loss: 0.3788 - recall: 0.3481 - val_loss: 0.3088 - val_recall: 0.5138\n",
      "Epoch 246/500\n",
      "64/64 [==============================] - 0s 6ms/step - loss: 0.3761 - recall: 0.3396 - val_loss: 0.3056 - val_recall: 0.5028\n",
      "Epoch 247/500\n",
      "64/64 [==============================] - 0s 6ms/step - loss: 0.3806 - recall: 0.3547 - val_loss: 0.3113 - val_recall: 0.4751\n",
      "Epoch 248/500\n",
      "64/64 [==============================] - 0s 6ms/step - loss: 0.3761 - recall: 0.3541 - val_loss: 0.3079 - val_recall: 0.4972\n",
      "Epoch 249/500\n",
      "64/64 [==============================] - 0s 6ms/step - loss: 0.3830 - recall: 0.3541 - val_loss: 0.3078 - val_recall: 0.4586\n",
      "Epoch 250/500\n",
      "64/64 [==============================] - 0s 6ms/step - loss: 0.3816 - recall: 0.3378 - val_loss: 0.3106 - val_recall: 0.4586\n",
      "Epoch 251/500\n",
      "64/64 [==============================] - 0s 6ms/step - loss: 0.3806 - recall: 0.3456 - val_loss: 0.3129 - val_recall: 0.4475\n",
      "Epoch 252/500\n",
      "64/64 [==============================] - 0s 6ms/step - loss: 0.3781 - recall: 0.3475 - val_loss: 0.3082 - val_recall: 0.4641\n",
      "Epoch 253/500\n",
      "64/64 [==============================] - 0s 6ms/step - loss: 0.3776 - recall: 0.3481 - val_loss: 0.3050 - val_recall: 0.4972\n",
      "Epoch 254/500\n",
      "64/64 [==============================] - 0s 6ms/step - loss: 0.3750 - recall: 0.3565 - val_loss: 0.3062 - val_recall: 0.5028\n",
      "Epoch 255/500\n",
      "64/64 [==============================] - 0s 6ms/step - loss: 0.3802 - recall: 0.3523 - val_loss: 0.3105 - val_recall: 0.4641\n",
      "Epoch 256/500\n",
      "64/64 [==============================] - 0s 6ms/step - loss: 0.3737 - recall: 0.3529 - val_loss: 0.3077 - val_recall: 0.4917\n",
      "Epoch 257/500\n",
      "64/64 [==============================] - 0s 6ms/step - loss: 0.3778 - recall: 0.3493 - val_loss: 0.3051 - val_recall: 0.5083\n",
      "Epoch 258/500\n",
      "64/64 [==============================] - 0s 6ms/step - loss: 0.3799 - recall: 0.3462 - val_loss: 0.3109 - val_recall: 0.4751\n",
      "Epoch 259/500\n",
      "64/64 [==============================] - 0s 6ms/step - loss: 0.3816 - recall: 0.3475 - val_loss: 0.3091 - val_recall: 0.4586\n",
      "Epoch 00259: early stopping\n"
     ]
    },
    {
     "data": {
      "text/plain": [
       "<keras.callbacks.History at 0x2a56f9231c8>"
      ]
     },
     "execution_count": 35,
     "metadata": {},
     "output_type": "execute_result"
    }
   ],
   "source": [
    "model.fit(x=X_train,\n",
    "          y=y_train,\n",
    "          validation_split=.1,\n",
    "          batch_size=128,\n",
    "          epochs=500,\n",
    "          verbose=1,\n",
    "          callbacks=[early_stop])"
   ]
  },
  {
   "cell_type": "code",
   "execution_count": 36,
   "metadata": {
    "cell_style": "center",
    "scrolled": true
   },
   "outputs": [
    {
     "name": "stdout",
     "output_type": "stream",
     "text": [
      "Model: \"sequential\"\n",
      "_________________________________________________________________\n",
      "Layer (type)                 Output Shape              Param #   \n",
      "=================================================================\n",
      "dense (Dense)                (None, 30)                450       \n",
      "_________________________________________________________________\n",
      "dropout (Dropout)            (None, 30)                0         \n",
      "_________________________________________________________________\n",
      "dense_1 (Dense)              (None, 15)                465       \n",
      "_________________________________________________________________\n",
      "dropout_1 (Dropout)          (None, 15)                0         \n",
      "_________________________________________________________________\n",
      "dense_2 (Dense)              (None, 1)                 16        \n",
      "=================================================================\n",
      "Total params: 931\n",
      "Trainable params: 931\n",
      "Non-trainable params: 0\n",
      "_________________________________________________________________\n"
     ]
    }
   ],
   "source": [
    "model.summary()"
   ]
  },
  {
   "cell_type": "code",
   "execution_count": 37,
   "metadata": {
    "cell_style": "split",
    "executionInfo": {
     "elapsed": 809,
     "status": "ok",
     "timestamp": 1610205470123,
     "user": {
      "displayName": "Richard C",
      "photoUrl": "",
      "userId": "08040814671867660929"
     },
     "user_tz": -180
    },
    "id": "vQIbjGQduQpQ"
   },
   "outputs": [
    {
     "data": {
      "text/plain": [
       "<AxesSubplot:>"
      ]
     },
     "execution_count": 37,
     "metadata": {},
     "output_type": "execute_result"
    },
    {
     "data": {
      "image/png": "[encoded data removed]",
      "text/plain": [
       "<Figure size 864x432 with 1 Axes>"
      ]
     },
     "metadata": {},
     "output_type": "display_data"
    }
   ],
   "source": [
    "loss_df = pd.DataFrame(model.history.history)\n",
    "loss_df.plot()"
   ]
  },
  {
   "cell_type": "code",
   "execution_count": 38,
   "metadata": {},
   "outputs": [
    {
     "data": {
      "text/html": [
       "<div>\n",
       "<style scoped>\n",
       "    .dataframe tbody tr th:only-of-type {\n",
       "        vertical-align: middle;\n",
       "    }\n",
       "\n",
       "    .dataframe tbody tr th {\n",
       "        vertical-align: top;\n",
       "    }\n",
       "\n",
       "    .dataframe thead th {\n",
       "        text-align: right;\n",
       "    }\n",
       "</style>\n",
       "<table border=\"1\" class=\"dataframe\">\n",
       "  <thead>\n",
       "    <tr style=\"text-align: right;\">\n",
       "      <th></th>\n",
       "      <th>loss</th>\n",
       "      <th>recall</th>\n",
       "      <th>val_loss</th>\n",
       "      <th>val_recall</th>\n",
       "    </tr>\n",
       "  </thead>\n",
       "  <tbody>\n",
       "    <tr>\n",
       "      <th>219</th>\n",
       "      <td>0.381</td>\n",
       "      <td>0.343</td>\n",
       "      <td>0.305</td>\n",
       "      <td>0.525</td>\n",
       "    </tr>\n",
       "    <tr>\n",
       "      <th>221</th>\n",
       "      <td>0.381</td>\n",
       "      <td>0.344</td>\n",
       "      <td>0.308</td>\n",
       "      <td>0.525</td>\n",
       "    </tr>\n",
       "    <tr>\n",
       "      <th>243</th>\n",
       "      <td>0.374</td>\n",
       "      <td>0.348</td>\n",
       "      <td>0.305</td>\n",
       "      <td>0.519</td>\n",
       "    </tr>\n",
       "    <tr>\n",
       "      <th>181</th>\n",
       "      <td>0.386</td>\n",
       "      <td>0.329</td>\n",
       "      <td>0.308</td>\n",
       "      <td>0.514</td>\n",
       "    </tr>\n",
       "    <tr>\n",
       "      <th>210</th>\n",
       "      <td>0.380</td>\n",
       "      <td>0.346</td>\n",
       "      <td>0.308</td>\n",
       "      <td>0.514</td>\n",
       "    </tr>\n",
       "    <tr>\n",
       "      <th>232</th>\n",
       "      <td>0.381</td>\n",
       "      <td>0.335</td>\n",
       "      <td>0.309</td>\n",
       "      <td>0.514</td>\n",
       "    </tr>\n",
       "    <tr>\n",
       "      <th>242</th>\n",
       "      <td>0.374</td>\n",
       "      <td>0.352</td>\n",
       "      <td>0.306</td>\n",
       "      <td>0.514</td>\n",
       "    </tr>\n",
       "    <tr>\n",
       "      <th>244</th>\n",
       "      <td>0.379</td>\n",
       "      <td>0.348</td>\n",
       "      <td>0.309</td>\n",
       "      <td>0.514</td>\n",
       "    </tr>\n",
       "    <tr>\n",
       "      <th>256</th>\n",
       "      <td>0.378</td>\n",
       "      <td>0.349</td>\n",
       "      <td>0.305</td>\n",
       "      <td>0.508</td>\n",
       "    </tr>\n",
       "    <tr>\n",
       "      <th>182</th>\n",
       "      <td>0.383</td>\n",
       "      <td>0.352</td>\n",
       "      <td>0.308</td>\n",
       "      <td>0.503</td>\n",
       "    </tr>\n",
       "  </tbody>\n",
       "</table>\n",
       "</div>"
      ],
      "text/plain": [
       "     loss  recall  val_loss  val_recall\n",
       "219 0.381   0.343     0.305       0.525\n",
       "221 0.381   0.344     0.308       0.525\n",
       "243 0.374   0.348     0.305       0.519\n",
       "181 0.386   0.329     0.308       0.514\n",
       "210 0.380   0.346     0.308       0.514\n",
       "232 0.381   0.335     0.309       0.514\n",
       "242 0.374   0.352     0.306       0.514\n",
       "244 0.379   0.348     0.309       0.514\n",
       "256 0.378   0.349     0.305       0.508\n",
       "182 0.383   0.352     0.308       0.503"
      ]
     },
     "execution_count": 38,
     "metadata": {},
     "output_type": "execute_result"
    }
   ],
   "source": [
    "loss_df.nlargest(10, \"val_recall\")"
   ]
  },
  {
   "cell_type": "code",
   "execution_count": 39,
   "metadata": {},
   "outputs": [
    {
     "data": {
      "text/html": [
       "<div>\n",
       "<style scoped>\n",
       "    .dataframe tbody tr th:only-of-type {\n",
       "        vertical-align: middle;\n",
       "    }\n",
       "\n",
       "    .dataframe tbody tr th {\n",
       "        vertical-align: top;\n",
       "    }\n",
       "\n",
       "    .dataframe thead th {\n",
       "        text-align: right;\n",
       "    }\n",
       "</style>\n",
       "<table border=\"1\" class=\"dataframe\">\n",
       "  <thead>\n",
       "    <tr style=\"text-align: right;\">\n",
       "      <th></th>\n",
       "      <th>loss</th>\n",
       "      <th>recall</th>\n",
       "      <th>val_loss</th>\n",
       "      <th>val_recall</th>\n",
       "    </tr>\n",
       "  </thead>\n",
       "  <tbody>\n",
       "    <tr>\n",
       "      <th>0</th>\n",
       "      <td>0.884</td>\n",
       "      <td>0.702</td>\n",
       "      <td>0.610</td>\n",
       "      <td>0.011</td>\n",
       "    </tr>\n",
       "    <tr>\n",
       "      <th>1</th>\n",
       "      <td>0.617</td>\n",
       "      <td>0.177</td>\n",
       "      <td>0.525</td>\n",
       "      <td>0.000</td>\n",
       "    </tr>\n",
       "    <tr>\n",
       "      <th>2</th>\n",
       "      <td>0.578</td>\n",
       "      <td>0.079</td>\n",
       "      <td>0.506</td>\n",
       "      <td>0.000</td>\n",
       "    </tr>\n",
       "    <tr>\n",
       "      <th>3</th>\n",
       "      <td>0.557</td>\n",
       "      <td>0.035</td>\n",
       "      <td>0.495</td>\n",
       "      <td>0.000</td>\n",
       "    </tr>\n",
       "    <tr>\n",
       "      <th>4</th>\n",
       "      <td>0.547</td>\n",
       "      <td>0.024</td>\n",
       "      <td>0.487</td>\n",
       "      <td>0.000</td>\n",
       "    </tr>\n",
       "    <tr>\n",
       "      <th>...</th>\n",
       "      <td>...</td>\n",
       "      <td>...</td>\n",
       "      <td>...</td>\n",
       "      <td>...</td>\n",
       "    </tr>\n",
       "    <tr>\n",
       "      <th>254</th>\n",
       "      <td>0.380</td>\n",
       "      <td>0.352</td>\n",
       "      <td>0.311</td>\n",
       "      <td>0.464</td>\n",
       "    </tr>\n",
       "    <tr>\n",
       "      <th>255</th>\n",
       "      <td>0.374</td>\n",
       "      <td>0.353</td>\n",
       "      <td>0.308</td>\n",
       "      <td>0.492</td>\n",
       "    </tr>\n",
       "    <tr>\n",
       "      <th>256</th>\n",
       "      <td>0.378</td>\n",
       "      <td>0.349</td>\n",
       "      <td>0.305</td>\n",
       "      <td>0.508</td>\n",
       "    </tr>\n",
       "    <tr>\n",
       "      <th>257</th>\n",
       "      <td>0.380</td>\n",
       "      <td>0.346</td>\n",
       "      <td>0.311</td>\n",
       "      <td>0.475</td>\n",
       "    </tr>\n",
       "    <tr>\n",
       "      <th>258</th>\n",
       "      <td>0.382</td>\n",
       "      <td>0.347</td>\n",
       "      <td>0.309</td>\n",
       "      <td>0.459</td>\n",
       "    </tr>\n",
       "  </tbody>\n",
       "</table>\n",
       "<p>259 rows × 4 columns</p>\n",
       "</div>"
      ],
      "text/plain": [
       "     loss  recall  val_loss  val_recall\n",
       "0   0.884   0.702     0.610       0.011\n",
       "1   0.617   0.177     0.525       0.000\n",
       "2   0.578   0.079     0.506       0.000\n",
       "3   0.557   0.035     0.495       0.000\n",
       "4   0.547   0.024     0.487       0.000\n",
       "..    ...     ...       ...         ...\n",
       "254 0.380   0.352     0.311       0.464\n",
       "255 0.374   0.353     0.308       0.492\n",
       "256 0.378   0.349     0.305       0.508\n",
       "257 0.380   0.346     0.311       0.475\n",
       "258 0.382   0.347     0.309       0.459\n",
       "\n",
       "[259 rows x 4 columns]"
      ]
     },
     "execution_count": 39,
     "metadata": {},
     "output_type": "execute_result"
    }
   ],
   "source": [
    "loss_df"
   ]
  },
  {
   "cell_type": "code",
   "execution_count": 42,
   "metadata": {
    "cell_style": "split",
    "scrolled": true,
    "tags": []
   },
   "outputs": [
    {
     "name": "stdout",
     "output_type": "stream",
     "text": [
      "[[781  15]\n",
      " [130  74]]\n",
      "              precision    recall  f1-score   support\n",
      "\n",
      "           0       0.86      0.98      0.92       796\n",
      "           1       0.83      0.36      0.51       204\n",
      "\n",
      "    accuracy                           0.85      1000\n",
      "   macro avg       0.84      0.67      0.71      1000\n",
      "weighted avg       0.85      0.85      0.83      1000\n",
      "\n"
     ]
    }
   ],
   "source": [
    "y_test_pred = (model.predict(X_test) > 0.5).astype(\"int32\")\n",
    "print(confusion_matrix(y_test, y_test_pred))\n",
    "print(classification_report(y_test, y_test_pred))"
   ]
  },
  {
   "cell_type": "markdown",
   "metadata": {
    "tags": []
   },
   "source": [
    "### ROC (Receiver Operating Curve) and AUC (Area Under Curve) for model"
   ]
  },
  {
   "cell_type": "code",
   "execution_count": 43,
   "metadata": {
    "cell_style": "split"
   },
   "outputs": [
    {
     "data": {
      "image/png": "[encoded data removed]",
      "text/plain": [
       "<Figure size 864x432 with 1 Axes>"
      ]
     },
     "metadata": {},
     "output_type": "display_data"
    }
   ],
   "source": [
    "y_pred_proba = model.predict(X_test)\n",
    "fpr, tpr, thresholds = roc_curve(y_test, y_pred_proba)\n",
    "plt.plot([0,1],[0,1],'k--')\n",
    "plt.plot(fpr,tpr, label='ANN')\n",
    "plt.xlabel('False Positive Rate')\n",
    "plt.ylabel('True Positive Rate')\n",
    "plt.title('ROC Curve for Keras Model')\n",
    "plt.show()"
   ]
  },
  {
   "cell_type": "code",
   "execution_count": 44,
   "metadata": {
    "cell_style": "split",
    "scrolled": true
   },
   "outputs": [
    {
     "data": {
      "text/plain": [
       "0.684255053352643"
      ]
     },
     "execution_count": 44,
     "metadata": {},
     "output_type": "execute_result"
    }
   ],
   "source": [
    "average_precision_score(y_test, y_pred_proba)"
   ]
  },
  {
   "cell_type": "markdown",
   "metadata": {},
   "source": [
    "### with class_weigth"
   ]
  },
  {
   "cell_type": "code",
   "execution_count": 45,
   "metadata": {
    "cell_style": "split"
   },
   "outputs": [],
   "source": [
    "model_weighted = Sequential()\n",
    "\n",
    "model_weighted.add(Dense(30, activation=\"relu\"))\n",
    "model_weighted.add(Dropout(0.5))\n",
    "model_weighted.add(Dense(15, activation=\"relu\"))\n",
    "model_weighted.add(Dropout(0.5))\n",
    "model_weighted.add(Dense(1, activation=\"sigmoid\"))\n",
    "\n",
    "opt = Adam(lr=0.001)\n",
    "model_weighted.compile(optimizer=opt, \n",
    "                       loss=\"binary_crossentropy\",\n",
    "                       metrics=[\"Recall\"])"
   ]
  },
  {
   "cell_type": "code",
   "execution_count": 46,
   "metadata": {
    "cell_style": "split"
   },
   "outputs": [],
   "source": [
    "early_stop = EarlyStopping(monitor=\"val_loss\",\n",
    "                           mode=\"auto\",\n",
    "                           verbose=1,\n",
    "                           patience=30)"
   ]
  },
  {
   "cell_type": "code",
   "execution_count": 47,
   "metadata": {},
   "outputs": [
    {
     "data": {
      "text/plain": [
       "{0: 0.6278777731268314, 1: 2.454991816693944}"
      ]
     },
     "execution_count": 47,
     "metadata": {},
     "output_type": "execute_result"
    }
   ],
   "source": [
    "from sklearn.utils import class_weight\n",
    "\n",
    "class_weights = class_weight.compute_class_weight('balanced',\n",
    "                                                   classes=np.unique(y_train),\n",
    "                                                   y=y_train)\n",
    "\n",
    "class_weights = {0: class_weights[0], 1: class_weights[1]}\n",
    "class_weights"
   ]
  },
  {
   "cell_type": "code",
   "execution_count": 48,
   "metadata": {
    "scrolled": true
   },
   "outputs": [
    {
     "name": "stdout",
     "output_type": "stream",
     "text": [
      "Epoch 1/200\n",
      "64/64 [==============================] - 4s 20ms/step - loss: 0.7406 - recall: 0.3015 - val_loss: 0.6761 - val_recall: 0.6188\n",
      "Epoch 2/200\n",
      "64/64 [==============================] - 0s 7ms/step - loss: 0.6870 - recall: 0.4818 - val_loss: 0.6693 - val_recall: 0.6022\n",
      "Epoch 3/200\n",
      "64/64 [==============================] - 0s 7ms/step - loss: 0.6836 - recall: 0.5236 - val_loss: 0.6666 - val_recall: 0.6243\n",
      "Epoch 4/200\n",
      "64/64 [==============================] - 0s 6ms/step - loss: 0.6748 - recall: 0.5738 - val_loss: 0.6615 - val_recall: 0.6575\n",
      "Epoch 5/200\n",
      "64/64 [==============================] - 0s 6ms/step - loss: 0.6730 - recall: 0.6174 - val_loss: 0.6585 - val_recall: 0.6740\n",
      "Epoch 6/200\n",
      "64/64 [==============================] - 0s 6ms/step - loss: 0.6661 - recall: 0.6138 - val_loss: 0.6666 - val_recall: 0.7514\n",
      "Epoch 7/200\n",
      "64/64 [==============================] - 0s 6ms/step - loss: 0.6612 - recall: 0.6489 - val_loss: 0.6495 - val_recall: 0.7238\n",
      "Epoch 8/200\n",
      "64/64 [==============================] - 0s 6ms/step - loss: 0.6591 - recall: 0.6507 - val_loss: 0.6323 - val_recall: 0.6796\n",
      "Epoch 9/200\n",
      "64/64 [==============================] - 0s 6ms/step - loss: 0.6552 - recall: 0.6326 - val_loss: 0.6345 - val_recall: 0.7072\n",
      "Epoch 10/200\n",
      "64/64 [==============================] - 0s 6ms/step - loss: 0.6529 - recall: 0.6792 - val_loss: 0.6452 - val_recall: 0.7569\n",
      "Epoch 11/200\n",
      "64/64 [==============================] - 0s 6ms/step - loss: 0.6488 - recall: 0.6634 - val_loss: 0.6432 - val_recall: 0.7680\n",
      "Epoch 12/200\n",
      "64/64 [==============================] - 0s 6ms/step - loss: 0.6405 - recall: 0.6937 - val_loss: 0.6038 - val_recall: 0.7293\n",
      "Epoch 13/200\n",
      "64/64 [==============================] - 0s 5ms/step - loss: 0.6494 - recall: 0.6762 - val_loss: 0.6290 - val_recall: 0.7624\n",
      "Epoch 14/200\n",
      "64/64 [==============================] - 0s 6ms/step - loss: 0.6371 - recall: 0.6955 - val_loss: 0.6200 - val_recall: 0.7624\n",
      "Epoch 15/200\n",
      "64/64 [==============================] - 0s 6ms/step - loss: 0.6369 - recall: 0.6864 - val_loss: 0.6123 - val_recall: 0.7680\n",
      "Epoch 16/200\n",
      "64/64 [==============================] - 0s 6ms/step - loss: 0.6329 - recall: 0.6792 - val_loss: 0.6320 - val_recall: 0.7790\n",
      "Epoch 17/200\n",
      "64/64 [==============================] - 0s 6ms/step - loss: 0.6275 - recall: 0.6858 - val_loss: 0.5934 - val_recall: 0.7293\n",
      "Epoch 18/200\n",
      "64/64 [==============================] - 0s 5ms/step - loss: 0.6229 - recall: 0.6834 - val_loss: 0.6018 - val_recall: 0.7680\n",
      "Epoch 19/200\n",
      "64/64 [==============================] - 0s 6ms/step - loss: 0.6222 - recall: 0.6858 - val_loss: 0.6081 - val_recall: 0.7790\n",
      "Epoch 20/200\n",
      "64/64 [==============================] - 0s 5ms/step - loss: 0.6176 - recall: 0.6828 - val_loss: 0.6078 - val_recall: 0.7735\n",
      "Epoch 21/200\n",
      "64/64 [==============================] - 0s 6ms/step - loss: 0.6179 - recall: 0.6907 - val_loss: 0.5833 - val_recall: 0.7624\n",
      "Epoch 22/200\n",
      "64/64 [==============================] - 0s 6ms/step - loss: 0.6156 - recall: 0.7034 - val_loss: 0.5679 - val_recall: 0.7403\n",
      "Epoch 23/200\n",
      "64/64 [==============================] - 0s 6ms/step - loss: 0.6154 - recall: 0.6889 - val_loss: 0.5785 - val_recall: 0.7459\n",
      "Epoch 24/200\n",
      "64/64 [==============================] - 0s 6ms/step - loss: 0.6069 - recall: 0.6937 - val_loss: 0.5743 - val_recall: 0.7735\n",
      "Epoch 25/200\n",
      "64/64 [==============================] - 0s 6ms/step - loss: 0.6047 - recall: 0.7082 - val_loss: 0.5739 - val_recall: 0.7845\n",
      "Epoch 26/200\n",
      "64/64 [==============================] - 0s 6ms/step - loss: 0.6062 - recall: 0.6913 - val_loss: 0.5693 - val_recall: 0.7514\n",
      "Epoch 27/200\n",
      "64/64 [==============================] - 0s 6ms/step - loss: 0.6063 - recall: 0.7010 - val_loss: 0.5541 - val_recall: 0.7624\n",
      "Epoch 28/200\n",
      "64/64 [==============================] - 0s 5ms/step - loss: 0.5961 - recall: 0.6961 - val_loss: 0.5872 - val_recall: 0.8122\n",
      "Epoch 29/200\n",
      "64/64 [==============================] - 0s 5ms/step - loss: 0.5990 - recall: 0.7113 - val_loss: 0.5537 - val_recall: 0.7680\n",
      "Epoch 30/200\n",
      "64/64 [==============================] - 0s 5ms/step - loss: 0.5997 - recall: 0.7070 - val_loss: 0.5621 - val_recall: 0.7956\n",
      "Epoch 31/200\n",
      "64/64 [==============================] - 0s 4ms/step - loss: 0.5892 - recall: 0.7088 - val_loss: 0.5307 - val_recall: 0.7569\n",
      "Epoch 32/200\n",
      "64/64 [==============================] - 0s 5ms/step - loss: 0.5880 - recall: 0.6925 - val_loss: 0.5573 - val_recall: 0.7956\n",
      "Epoch 33/200\n",
      "64/64 [==============================] - 0s 5ms/step - loss: 0.5942 - recall: 0.7094 - val_loss: 0.5483 - val_recall: 0.7901\n",
      "Epoch 34/200\n",
      "64/64 [==============================] - 0s 5ms/step - loss: 0.5857 - recall: 0.7191 - val_loss: 0.5303 - val_recall: 0.7845\n",
      "Epoch 35/200\n",
      "64/64 [==============================] - 0s 5ms/step - loss: 0.5916 - recall: 0.6925 - val_loss: 0.5578 - val_recall: 0.8122\n",
      "Epoch 36/200\n",
      "64/64 [==============================] - 0s 5ms/step - loss: 0.5812 - recall: 0.7185 - val_loss: 0.5214 - val_recall: 0.7956\n",
      "Epoch 37/200\n",
      "64/64 [==============================] - 0s 5ms/step - loss: 0.5818 - recall: 0.7088 - val_loss: 0.5318 - val_recall: 0.7956\n",
      "Epoch 38/200\n",
      "64/64 [==============================] - 0s 5ms/step - loss: 0.5742 - recall: 0.7088 - val_loss: 0.5145 - val_recall: 0.7845\n",
      "Epoch 39/200\n",
      "64/64 [==============================] - 0s 5ms/step - loss: 0.5795 - recall: 0.7125 - val_loss: 0.5294 - val_recall: 0.8122\n",
      "Epoch 40/200\n",
      "64/64 [==============================] - 0s 5ms/step - loss: 0.5757 - recall: 0.7100 - val_loss: 0.5135 - val_recall: 0.8011\n",
      "Epoch 41/200\n",
      "64/64 [==============================] - 0s 5ms/step - loss: 0.5788 - recall: 0.7149 - val_loss: 0.5266 - val_recall: 0.8011\n",
      "Epoch 42/200\n",
      "64/64 [==============================] - 0s 5ms/step - loss: 0.5675 - recall: 0.7264 - val_loss: 0.5146 - val_recall: 0.8011\n",
      "Epoch 43/200\n",
      "64/64 [==============================] - 0s 5ms/step - loss: 0.5756 - recall: 0.7331 - val_loss: 0.5167 - val_recall: 0.8066\n",
      "Epoch 44/200\n",
      "64/64 [==============================] - 0s 5ms/step - loss: 0.5702 - recall: 0.7040 - val_loss: 0.5214 - val_recall: 0.8011\n",
      "Epoch 45/200\n",
      "64/64 [==============================] - 0s 5ms/step - loss: 0.5652 - recall: 0.7276 - val_loss: 0.5131 - val_recall: 0.8011\n",
      "Epoch 46/200\n",
      "64/64 [==============================] - 0s 5ms/step - loss: 0.5614 - recall: 0.7337 - val_loss: 0.5067 - val_recall: 0.7956\n",
      "Epoch 47/200\n",
      "64/64 [==============================] - 0s 5ms/step - loss: 0.5703 - recall: 0.7143 - val_loss: 0.5154 - val_recall: 0.8011\n",
      "Epoch 48/200\n",
      "64/64 [==============================] - 0s 5ms/step - loss: 0.5567 - recall: 0.7222 - val_loss: 0.5038 - val_recall: 0.8011\n",
      "Epoch 49/200\n",
      "64/64 [==============================] - 0s 5ms/step - loss: 0.5634 - recall: 0.7215 - val_loss: 0.4974 - val_recall: 0.8011\n",
      "Epoch 50/200\n",
      "64/64 [==============================] - 0s 5ms/step - loss: 0.5567 - recall: 0.7119 - val_loss: 0.5048 - val_recall: 0.7956\n",
      "Epoch 51/200\n",
      "64/64 [==============================] - 0s 5ms/step - loss: 0.5534 - recall: 0.7028 - val_loss: 0.4951 - val_recall: 0.8066\n",
      "Epoch 52/200\n",
      "64/64 [==============================] - 0s 5ms/step - loss: 0.5576 - recall: 0.7161 - val_loss: 0.5017 - val_recall: 0.8122\n",
      "Epoch 53/200\n",
      "64/64 [==============================] - 0s 5ms/step - loss: 0.5553 - recall: 0.7167 - val_loss: 0.4814 - val_recall: 0.8066\n",
      "Epoch 54/200\n",
      "64/64 [==============================] - 0s 5ms/step - loss: 0.5456 - recall: 0.7137 - val_loss: 0.4914 - val_recall: 0.8177\n",
      "Epoch 55/200\n",
      "64/64 [==============================] - 0s 5ms/step - loss: 0.5569 - recall: 0.7185 - val_loss: 0.4930 - val_recall: 0.8177\n",
      "Epoch 56/200\n",
      "64/64 [==============================] - 0s 5ms/step - loss: 0.5516 - recall: 0.7300 - val_loss: 0.4917 - val_recall: 0.8177\n",
      "Epoch 57/200\n",
      "64/64 [==============================] - 0s 5ms/step - loss: 0.5381 - recall: 0.7300 - val_loss: 0.4850 - val_recall: 0.8177\n",
      "Epoch 58/200\n",
      "64/64 [==============================] - 0s 5ms/step - loss: 0.5478 - recall: 0.7234 - val_loss: 0.4864 - val_recall: 0.8177\n",
      "Epoch 59/200\n",
      "64/64 [==============================] - 0s 5ms/step - loss: 0.5335 - recall: 0.7276 - val_loss: 0.4709 - val_recall: 0.8177\n",
      "Epoch 60/200\n"
     ]
    },
    {
     "name": "stdout",
     "output_type": "stream",
     "text": [
      "64/64 [==============================] - 0s 5ms/step - loss: 0.5413 - recall: 0.7203 - val_loss: 0.4853 - val_recall: 0.8232\n",
      "Epoch 61/200\n",
      "64/64 [==============================] - 0s 5ms/step - loss: 0.5370 - recall: 0.7300 - val_loss: 0.4696 - val_recall: 0.8177\n",
      "Epoch 62/200\n",
      "64/64 [==============================] - 0s 5ms/step - loss: 0.5362 - recall: 0.7203 - val_loss: 0.5002 - val_recall: 0.8398\n",
      "Epoch 63/200\n",
      "64/64 [==============================] - 0s 5ms/step - loss: 0.5347 - recall: 0.7452 - val_loss: 0.4550 - val_recall: 0.8066\n",
      "Epoch 64/200\n",
      "64/64 [==============================] - 0s 5ms/step - loss: 0.5337 - recall: 0.7246 - val_loss: 0.4623 - val_recall: 0.8066\n",
      "Epoch 65/200\n",
      "64/64 [==============================] - 0s 5ms/step - loss: 0.5358 - recall: 0.7318 - val_loss: 0.4666 - val_recall: 0.8232\n",
      "Epoch 66/200\n",
      "64/64 [==============================] - 0s 6ms/step - loss: 0.5356 - recall: 0.7300 - val_loss: 0.4830 - val_recall: 0.8343\n",
      "Epoch 67/200\n",
      "64/64 [==============================] - 0s 5ms/step - loss: 0.5390 - recall: 0.7385 - val_loss: 0.4550 - val_recall: 0.8011\n",
      "Epoch 68/200\n",
      "64/64 [==============================] - 0s 5ms/step - loss: 0.5359 - recall: 0.7421 - val_loss: 0.4816 - val_recall: 0.8398\n",
      "Epoch 69/200\n",
      "64/64 [==============================] - 0s 5ms/step - loss: 0.5332 - recall: 0.7361 - val_loss: 0.4349 - val_recall: 0.7845\n",
      "Epoch 70/200\n",
      "64/64 [==============================] - 0s 5ms/step - loss: 0.5344 - recall: 0.7530 - val_loss: 0.4479 - val_recall: 0.8011\n",
      "Epoch 71/200\n",
      "64/64 [==============================] - 0s 5ms/step - loss: 0.5269 - recall: 0.7288 - val_loss: 0.4730 - val_recall: 0.8453\n",
      "Epoch 72/200\n",
      "64/64 [==============================] - 0s 5ms/step - loss: 0.5274 - recall: 0.7500 - val_loss: 0.4472 - val_recall: 0.8177\n",
      "Epoch 73/200\n",
      "64/64 [==============================] - 0s 5ms/step - loss: 0.5241 - recall: 0.7542 - val_loss: 0.4259 - val_recall: 0.7845\n",
      "Epoch 74/200\n",
      "64/64 [==============================] - 0s 5ms/step - loss: 0.5320 - recall: 0.7415 - val_loss: 0.4745 - val_recall: 0.8343\n",
      "Epoch 75/200\n",
      "64/64 [==============================] - 0s 5ms/step - loss: 0.5225 - recall: 0.7385 - val_loss: 0.4735 - val_recall: 0.8453\n",
      "Epoch 76/200\n",
      "64/64 [==============================] - 0s 5ms/step - loss: 0.5273 - recall: 0.7585 - val_loss: 0.4491 - val_recall: 0.8177\n",
      "Epoch 77/200\n",
      "64/64 [==============================] - 0s 5ms/step - loss: 0.5319 - recall: 0.7367 - val_loss: 0.4288 - val_recall: 0.7956\n",
      "Epoch 78/200\n",
      "64/64 [==============================] - 0s 5ms/step - loss: 0.5265 - recall: 0.7264 - val_loss: 0.4737 - val_recall: 0.8508\n",
      "Epoch 79/200\n",
      "64/64 [==============================] - 0s 5ms/step - loss: 0.5257 - recall: 0.7433 - val_loss: 0.4710 - val_recall: 0.8287\n",
      "Epoch 80/200\n",
      "64/64 [==============================] - 0s 5ms/step - loss: 0.5236 - recall: 0.7470 - val_loss: 0.4521 - val_recall: 0.8287\n",
      "Epoch 81/200\n",
      "64/64 [==============================] - 0s 5ms/step - loss: 0.5217 - recall: 0.7349 - val_loss: 0.4615 - val_recall: 0.8398\n",
      "Epoch 82/200\n",
      "64/64 [==============================] - 0s 5ms/step - loss: 0.5172 - recall: 0.7349 - val_loss: 0.4484 - val_recall: 0.8232\n",
      "Epoch 83/200\n",
      "64/64 [==============================] - 0s 5ms/step - loss: 0.5231 - recall: 0.7324 - val_loss: 0.4503 - val_recall: 0.8343\n",
      "Epoch 84/200\n",
      "64/64 [==============================] - 0s 5ms/step - loss: 0.5229 - recall: 0.7506 - val_loss: 0.4366 - val_recall: 0.8066\n",
      "Epoch 85/200\n",
      "64/64 [==============================] - 0s 5ms/step - loss: 0.5254 - recall: 0.7494 - val_loss: 0.4788 - val_recall: 0.8398\n",
      "Epoch 86/200\n",
      "64/64 [==============================] - 0s 5ms/step - loss: 0.5261 - recall: 0.7470 - val_loss: 0.4702 - val_recall: 0.8398\n",
      "Epoch 87/200\n",
      "64/64 [==============================] - 0s 5ms/step - loss: 0.5199 - recall: 0.7349 - val_loss: 0.4612 - val_recall: 0.8343\n",
      "Epoch 88/200\n",
      "64/64 [==============================] - 0s 5ms/step - loss: 0.5166 - recall: 0.7427 - val_loss: 0.4596 - val_recall: 0.8453\n",
      "Epoch 89/200\n",
      "64/64 [==============================] - 0s 5ms/step - loss: 0.5245 - recall: 0.7579 - val_loss: 0.4376 - val_recall: 0.8232\n",
      "Epoch 90/200\n",
      "64/64 [==============================] - 0s 5ms/step - loss: 0.5244 - recall: 0.7433 - val_loss: 0.4448 - val_recall: 0.8232\n",
      "Epoch 91/200\n",
      "64/64 [==============================] - 0s 5ms/step - loss: 0.5200 - recall: 0.7548 - val_loss: 0.4546 - val_recall: 0.8343\n",
      "Epoch 92/200\n",
      "64/64 [==============================] - 0s 5ms/step - loss: 0.5221 - recall: 0.7385 - val_loss: 0.4465 - val_recall: 0.8343\n",
      "Epoch 93/200\n",
      "64/64 [==============================] - 0s 5ms/step - loss: 0.5293 - recall: 0.7433 - val_loss: 0.4495 - val_recall: 0.8287\n",
      "Epoch 94/200\n",
      "64/64 [==============================] - 0s 5ms/step - loss: 0.5141 - recall: 0.7439 - val_loss: 0.4654 - val_recall: 0.8398\n",
      "Epoch 95/200\n",
      "64/64 [==============================] - 0s 5ms/step - loss: 0.5243 - recall: 0.7488 - val_loss: 0.4454 - val_recall: 0.8343\n",
      "Epoch 96/200\n",
      "64/64 [==============================] - 0s 5ms/step - loss: 0.5172 - recall: 0.7482 - val_loss: 0.4534 - val_recall: 0.8287\n",
      "Epoch 97/200\n",
      "64/64 [==============================] - 0s 5ms/step - loss: 0.5211 - recall: 0.7306 - val_loss: 0.4636 - val_recall: 0.8508\n",
      "Epoch 98/200\n",
      "64/64 [==============================] - 0s 5ms/step - loss: 0.5184 - recall: 0.7361 - val_loss: 0.4547 - val_recall: 0.8343\n",
      "Epoch 99/200\n",
      "64/64 [==============================] - 0s 5ms/step - loss: 0.5145 - recall: 0.7585 - val_loss: 0.4553 - val_recall: 0.8343\n",
      "Epoch 100/200\n",
      "64/64 [==============================] - 0s 6ms/step - loss: 0.5163 - recall: 0.7651 - val_loss: 0.4319 - val_recall: 0.8122\n",
      "Epoch 101/200\n",
      "64/64 [==============================] - 0s 5ms/step - loss: 0.5129 - recall: 0.7506 - val_loss: 0.4396 - val_recall: 0.8232\n",
      "Epoch 102/200\n",
      "64/64 [==============================] - 0s 5ms/step - loss: 0.5279 - recall: 0.7421 - val_loss: 0.4517 - val_recall: 0.8177\n",
      "Epoch 103/200\n",
      "64/64 [==============================] - 0s 5ms/step - loss: 0.5188 - recall: 0.7512 - val_loss: 0.4539 - val_recall: 0.8343\n",
      "Epoch 00103: early stopping\n"
     ]
    },
    {
     "data": {
      "text/plain": [
       "<keras.callbacks.History at 0x2a5734e6f88>"
      ]
     },
     "execution_count": 48,
     "metadata": {},
     "output_type": "execute_result"
    }
   ],
   "source": [
    "model_weighted.fit(x=X_train,\n",
    "                   y=y_train,\n",
    "                   validation_split=.1,\n",
    "                   batch_size=128,\n",
    "                   epochs=200,\n",
    "                   verbose=1,\n",
    "                   callbacks=[early_stop],\n",
    "                   class_weight=class_weights)"
   ]
  },
  {
   "cell_type": "code",
   "execution_count": 49,
   "metadata": {
    "cell_style": "split",
    "executionInfo": {
     "elapsed": 809,
     "status": "ok",
     "timestamp": 1610205470123,
     "user": {
      "displayName": "Richard C",
      "photoUrl": "",
      "userId": "08040814671867660929"
     },
     "user_tz": -180
    },
    "id": "vQIbjGQduQpQ",
    "scrolled": true
   },
   "outputs": [
    {
     "data": {
      "text/plain": [
       "<AxesSubplot:>"
      ]
     },
     "execution_count": 49,
     "metadata": {},
     "output_type": "execute_result"
    },
    {
     "data": {
      "image/png": "[encoded data removed]",
      "text/plain": [
       "<Figure size 864x432 with 1 Axes>"
      ]
     },
     "metadata": {},
     "output_type": "display_data"
    }
   ],
   "source": [
    "loss_df = pd.DataFrame(model_weighted.history.history)\n",
    "loss_df.plot()"
   ]
  },
  {
   "cell_type": "code",
   "execution_count": 50,
   "metadata": {},
   "outputs": [
    {
     "data": {
      "text/html": [
       "<div>\n",
       "<style scoped>\n",
       "    .dataframe tbody tr th:only-of-type {\n",
       "        vertical-align: middle;\n",
       "    }\n",
       "\n",
       "    .dataframe tbody tr th {\n",
       "        vertical-align: top;\n",
       "    }\n",
       "\n",
       "    .dataframe thead th {\n",
       "        text-align: right;\n",
       "    }\n",
       "</style>\n",
       "<table border=\"1\" class=\"dataframe\">\n",
       "  <thead>\n",
       "    <tr style=\"text-align: right;\">\n",
       "      <th></th>\n",
       "      <th>loss</th>\n",
       "      <th>recall</th>\n",
       "      <th>val_loss</th>\n",
       "      <th>val_recall</th>\n",
       "    </tr>\n",
       "  </thead>\n",
       "  <tbody>\n",
       "    <tr>\n",
       "      <th>77</th>\n",
       "      <td>0.527</td>\n",
       "      <td>0.726</td>\n",
       "      <td>0.474</td>\n",
       "      <td>0.851</td>\n",
       "    </tr>\n",
       "    <tr>\n",
       "      <th>96</th>\n",
       "      <td>0.521</td>\n",
       "      <td>0.731</td>\n",
       "      <td>0.464</td>\n",
       "      <td>0.851</td>\n",
       "    </tr>\n",
       "    <tr>\n",
       "      <th>70</th>\n",
       "      <td>0.527</td>\n",
       "      <td>0.729</td>\n",
       "      <td>0.473</td>\n",
       "      <td>0.845</td>\n",
       "    </tr>\n",
       "    <tr>\n",
       "      <th>74</th>\n",
       "      <td>0.522</td>\n",
       "      <td>0.738</td>\n",
       "      <td>0.474</td>\n",
       "      <td>0.845</td>\n",
       "    </tr>\n",
       "    <tr>\n",
       "      <th>87</th>\n",
       "      <td>0.517</td>\n",
       "      <td>0.743</td>\n",
       "      <td>0.460</td>\n",
       "      <td>0.845</td>\n",
       "    </tr>\n",
       "    <tr>\n",
       "      <th>61</th>\n",
       "      <td>0.536</td>\n",
       "      <td>0.720</td>\n",
       "      <td>0.500</td>\n",
       "      <td>0.840</td>\n",
       "    </tr>\n",
       "    <tr>\n",
       "      <th>67</th>\n",
       "      <td>0.536</td>\n",
       "      <td>0.742</td>\n",
       "      <td>0.482</td>\n",
       "      <td>0.840</td>\n",
       "    </tr>\n",
       "    <tr>\n",
       "      <th>80</th>\n",
       "      <td>0.522</td>\n",
       "      <td>0.735</td>\n",
       "      <td>0.461</td>\n",
       "      <td>0.840</td>\n",
       "    </tr>\n",
       "    <tr>\n",
       "      <th>84</th>\n",
       "      <td>0.525</td>\n",
       "      <td>0.749</td>\n",
       "      <td>0.479</td>\n",
       "      <td>0.840</td>\n",
       "    </tr>\n",
       "    <tr>\n",
       "      <th>85</th>\n",
       "      <td>0.526</td>\n",
       "      <td>0.747</td>\n",
       "      <td>0.470</td>\n",
       "      <td>0.840</td>\n",
       "    </tr>\n",
       "  </tbody>\n",
       "</table>\n",
       "</div>"
      ],
      "text/plain": [
       "    loss  recall  val_loss  val_recall\n",
       "77 0.527   0.726     0.474       0.851\n",
       "96 0.521   0.731     0.464       0.851\n",
       "70 0.527   0.729     0.473       0.845\n",
       "74 0.522   0.738     0.474       0.845\n",
       "87 0.517   0.743     0.460       0.845\n",
       "61 0.536   0.720     0.500       0.840\n",
       "67 0.536   0.742     0.482       0.840\n",
       "80 0.522   0.735     0.461       0.840\n",
       "84 0.525   0.749     0.479       0.840\n",
       "85 0.526   0.747     0.470       0.840"
      ]
     },
     "execution_count": 50,
     "metadata": {},
     "output_type": "execute_result"
    }
   ],
   "source": [
    "loss_df.nlargest(10, \"val_recall\")"
   ]
  },
  {
   "cell_type": "code",
   "execution_count": 51,
   "metadata": {},
   "outputs": [
    {
     "data": {
      "text/html": [
       "<div>\n",
       "<style scoped>\n",
       "    .dataframe tbody tr th:only-of-type {\n",
       "        vertical-align: middle;\n",
       "    }\n",
       "\n",
       "    .dataframe tbody tr th {\n",
       "        vertical-align: top;\n",
       "    }\n",
       "\n",
       "    .dataframe thead th {\n",
       "        text-align: right;\n",
       "    }\n",
       "</style>\n",
       "<table border=\"1\" class=\"dataframe\">\n",
       "  <thead>\n",
       "    <tr style=\"text-align: right;\">\n",
       "      <th></th>\n",
       "      <th>loss</th>\n",
       "      <th>recall</th>\n",
       "      <th>val_loss</th>\n",
       "      <th>val_recall</th>\n",
       "    </tr>\n",
       "  </thead>\n",
       "  <tbody>\n",
       "    <tr>\n",
       "      <th>0</th>\n",
       "      <td>0.741</td>\n",
       "      <td>0.301</td>\n",
       "      <td>0.676</td>\n",
       "      <td>0.619</td>\n",
       "    </tr>\n",
       "    <tr>\n",
       "      <th>1</th>\n",
       "      <td>0.687</td>\n",
       "      <td>0.482</td>\n",
       "      <td>0.669</td>\n",
       "      <td>0.602</td>\n",
       "    </tr>\n",
       "    <tr>\n",
       "      <th>2</th>\n",
       "      <td>0.684</td>\n",
       "      <td>0.524</td>\n",
       "      <td>0.667</td>\n",
       "      <td>0.624</td>\n",
       "    </tr>\n",
       "    <tr>\n",
       "      <th>3</th>\n",
       "      <td>0.675</td>\n",
       "      <td>0.574</td>\n",
       "      <td>0.661</td>\n",
       "      <td>0.657</td>\n",
       "    </tr>\n",
       "    <tr>\n",
       "      <th>4</th>\n",
       "      <td>0.673</td>\n",
       "      <td>0.617</td>\n",
       "      <td>0.658</td>\n",
       "      <td>0.674</td>\n",
       "    </tr>\n",
       "    <tr>\n",
       "      <th>...</th>\n",
       "      <td>...</td>\n",
       "      <td>...</td>\n",
       "      <td>...</td>\n",
       "      <td>...</td>\n",
       "    </tr>\n",
       "    <tr>\n",
       "      <th>98</th>\n",
       "      <td>0.514</td>\n",
       "      <td>0.758</td>\n",
       "      <td>0.455</td>\n",
       "      <td>0.834</td>\n",
       "    </tr>\n",
       "    <tr>\n",
       "      <th>99</th>\n",
       "      <td>0.516</td>\n",
       "      <td>0.765</td>\n",
       "      <td>0.432</td>\n",
       "      <td>0.812</td>\n",
       "    </tr>\n",
       "    <tr>\n",
       "      <th>100</th>\n",
       "      <td>0.513</td>\n",
       "      <td>0.751</td>\n",
       "      <td>0.440</td>\n",
       "      <td>0.823</td>\n",
       "    </tr>\n",
       "    <tr>\n",
       "      <th>101</th>\n",
       "      <td>0.528</td>\n",
       "      <td>0.742</td>\n",
       "      <td>0.452</td>\n",
       "      <td>0.818</td>\n",
       "    </tr>\n",
       "    <tr>\n",
       "      <th>102</th>\n",
       "      <td>0.519</td>\n",
       "      <td>0.751</td>\n",
       "      <td>0.454</td>\n",
       "      <td>0.834</td>\n",
       "    </tr>\n",
       "  </tbody>\n",
       "</table>\n",
       "<p>103 rows × 4 columns</p>\n",
       "</div>"
      ],
      "text/plain": [
       "     loss  recall  val_loss  val_recall\n",
       "0   0.741   0.301     0.676       0.619\n",
       "1   0.687   0.482     0.669       0.602\n",
       "2   0.684   0.524     0.667       0.624\n",
       "3   0.675   0.574     0.661       0.657\n",
       "4   0.673   0.617     0.658       0.674\n",
       "..    ...     ...       ...         ...\n",
       "98  0.514   0.758     0.455       0.834\n",
       "99  0.516   0.765     0.432       0.812\n",
       "100 0.513   0.751     0.440       0.823\n",
       "101 0.528   0.742     0.452       0.818\n",
       "102 0.519   0.751     0.454       0.834\n",
       "\n",
       "[103 rows x 4 columns]"
      ]
     },
     "execution_count": 51,
     "metadata": {},
     "output_type": "execute_result"
    }
   ],
   "source": [
    "loss_df "
   ]
  },
  {
   "cell_type": "code",
   "execution_count": 52,
   "metadata": {
    "cell_style": "split"
   },
   "outputs": [
    {
     "name": "stdout",
     "output_type": "stream",
     "text": [
      "[[602 194]\n",
      " [ 47 157]]\n",
      "              precision    recall  f1-score   support\n",
      "\n",
      "           0       0.93      0.76      0.83       796\n",
      "           1       0.45      0.77      0.57       204\n",
      "\n",
      "    accuracy                           0.76      1000\n",
      "   macro avg       0.69      0.76      0.70      1000\n",
      "weighted avg       0.83      0.76      0.78      1000\n",
      "\n"
     ]
    }
   ],
   "source": [
    "y_test_pred = (model_weighted.predict(X_test) > 0.5).astype(\"int32\")\n",
    "print(confusion_matrix(y_test, y_test_pred))\n",
    "print(classification_report(y_test, y_test_pred))"
   ]
  },
  {
   "cell_type": "markdown",
   "metadata": {},
   "source": [
    "### ROC (Receiver Operating Curve) and AUC (Area Under Curve) for model"
   ]
  },
  {
   "cell_type": "code",
   "execution_count": 53,
   "metadata": {
    "cell_style": "split",
    "scrolled": true
   },
   "outputs": [
    {
     "data": {
      "image/png": "[encoded data removed]",
      "text/plain": [
       "<Figure size 864x432 with 1 Axes>"
      ]
     },
     "metadata": {},
     "output_type": "display_data"
    }
   ],
   "source": [
    "y_pred_proba = model_weighted.predict(X_test)\n",
    "fpr, tpr, thresholds = roc_curve(y_test, y_pred_proba)\n",
    "plt.plot([0,1],[0,1],'k--')\n",
    "plt.plot(fpr,tpr, label='ANN')\n",
    "plt.xlabel('False Positive Rate')\n",
    "plt.ylabel('True Positive Rate')\n",
    "plt.title('ROC Curve for Keras Model')\n",
    "plt.show()"
   ]
  },
  {
   "cell_type": "code",
   "execution_count": 54,
   "metadata": {
    "cell_style": "split"
   },
   "outputs": [
    {
     "data": {
      "text/plain": [
       "0.666752195562292"
      ]
     },
     "execution_count": 54,
     "metadata": {},
     "output_type": "execute_result"
    }
   ],
   "source": [
    "average_precision_score(y_test, y_pred_proba)"
   ]
  },
  {
   "cell_type": "markdown",
   "metadata": {},
   "source": [
    "## GridSearchCV"
   ]
  },
  {
   "cell_type": "code",
   "execution_count": 55,
   "metadata": {},
   "outputs": [],
   "source": [
    "from tensorflow.keras.wrappers.scikit_learn import KerasClassifier"
   ]
  },
  {
   "cell_type": "code",
   "execution_count": 56,
   "metadata": {},
   "outputs": [],
   "source": [
    "def build_classifier(optimizer):\n",
    "    \n",
    "    classifier = Sequential()\n",
    "    classifier.add(Dense(30, activation=\"relu\"))\n",
    "    classifier.add(Dropout(0.5))\n",
    "    classifier.add(Dense(15, activation=\"relu\"))\n",
    "    classifier.add(Dropout(0.5))\n",
    "    classifier.add(Dense(1, activation=\"sigmoid\"))\n",
    "    \n",
    "    classifier.compile(optimizer=optimizer,\n",
    "                       loss='binary_crossentropy',\n",
    "                       metrics=['Recall'])\n",
    "    return classifier"
   ]
  },
  {
   "cell_type": "code",
   "execution_count": 57,
   "metadata": {},
   "outputs": [
    {
     "data": {
      "text/plain": [
       "{0: 0.6278777731268314, 1: 2.454991816693944}"
      ]
     },
     "execution_count": 57,
     "metadata": {},
     "output_type": "execute_result"
    }
   ],
   "source": [
    "class_weights"
   ]
  },
  {
   "cell_type": "code",
   "execution_count": 58,
   "metadata": {
    "scrolled": true
   },
   "outputs": [
    {
     "name": "stdout",
     "output_type": "stream",
     "text": [
      "Epoch 1/150\n",
      "36/36 [==============================] - 3s 10ms/step - loss: 0.7387 - recall: 0.4544\n",
      "Epoch 2/150\n",
      "36/36 [==============================] - 0s 6ms/step - loss: 0.7053 - recall: 0.4201\n",
      "Epoch 3/150\n",
      "36/36 [==============================] - 0s 6ms/step - loss: 0.6911 - recall: 0.4768\n",
      "Epoch 4/150\n",
      "36/36 [==============================] - 0s 7ms/step - loss: 0.6802 - recall: 0.5161\n",
      "Epoch 5/150\n",
      "36/36 [==============================] - 0s 6ms/step - loss: 0.6779 - recall: 0.5477\n",
      "Epoch 6/150\n",
      "36/36 [==============================] - 0s 6ms/step - loss: 0.6686 - recall: 0.6094\n",
      "Epoch 7/150\n",
      "36/36 [==============================] - 0s 5ms/step - loss: 0.6694 - recall: 0.5930\n",
      "Epoch 8/150\n",
      "36/36 [==============================] - 0s 5ms/step - loss: 0.6626 - recall: 0.6159\n",
      "Epoch 9/150\n",
      "36/36 [==============================] - 0s 5ms/step - loss: 0.6624 - recall: 0.6154\n",
      "Epoch 10/150\n",
      "36/36 [==============================] - 0s 5ms/step - loss: 0.6593 - recall: 0.6438\n",
      "Epoch 11/150\n",
      "36/36 [==============================] - 0s 5ms/step - loss: 0.6491 - recall: 0.6476\n",
      "Epoch 12/150\n",
      "36/36 [==============================] - 0s 5ms/step - loss: 0.6495 - recall: 0.6416\n",
      "Epoch 13/150\n",
      "36/36 [==============================] - 0s 5ms/step - loss: 0.6459 - recall: 0.6328\n",
      "Epoch 14/150\n",
      "36/36 [==============================] - 0s 5ms/step - loss: 0.6426 - recall: 0.6361: 0s - loss: 0.6400 - recall: \n",
      "Epoch 15/150\n",
      "36/36 [==============================] - 0s 5ms/step - loss: 0.6417 - recall: 0.6301\n",
      "Epoch 16/150\n",
      "36/36 [==============================] - 0s 5ms/step - loss: 0.6368 - recall: 0.6541\n",
      "Epoch 17/150\n",
      "36/36 [==============================] - 0s 5ms/step - loss: 0.6345 - recall: 0.6519\n",
      "Epoch 18/150\n",
      "36/36 [==============================] - 0s 5ms/step - loss: 0.6387 - recall: 0.6601\n",
      "Epoch 19/150\n",
      "36/36 [==============================] - 0s 5ms/step - loss: 0.6283 - recall: 0.6732\n",
      "Epoch 20/150\n",
      "36/36 [==============================] - 0s 5ms/step - loss: 0.6283 - recall: 0.6661\n",
      "Epoch 21/150\n",
      "36/36 [==============================] - 0s 5ms/step - loss: 0.6287 - recall: 0.6601\n",
      "Epoch 22/150\n",
      "36/36 [==============================] - 0s 5ms/step - loss: 0.6241 - recall: 0.6596\n",
      "Epoch 23/150\n",
      "36/36 [==============================] - 0s 5ms/step - loss: 0.6139 - recall: 0.6858\n",
      "Epoch 24/150\n",
      "36/36 [==============================] - 0s 5ms/step - loss: 0.6126 - recall: 0.6574\n",
      "Epoch 25/150\n",
      "36/36 [==============================] - 0s 5ms/step - loss: 0.6153 - recall: 0.6743\n",
      "Epoch 26/150\n",
      "36/36 [==============================] - 0s 5ms/step - loss: 0.6143 - recall: 0.6770\n",
      "Epoch 27/150\n",
      "36/36 [==============================] - 0s 4ms/step - loss: 0.6097 - recall: 0.6705\n",
      "Epoch 28/150\n",
      "36/36 [==============================] - 0s 5ms/step - loss: 0.6036 - recall: 0.6694\n",
      "Epoch 29/150\n",
      "36/36 [==============================] - 0s 5ms/step - loss: 0.6030 - recall: 0.6798\n",
      "Epoch 30/150\n",
      "36/36 [==============================] - 0s 5ms/step - loss: 0.6062 - recall: 0.6836\n",
      "Epoch 31/150\n",
      "36/36 [==============================] - 0s 6ms/step - loss: 0.5976 - recall: 0.6672\n",
      "Epoch 32/150\n",
      "36/36 [==============================] - 0s 6ms/step - loss: 0.5980 - recall: 0.6858\n",
      "Epoch 33/150\n",
      "36/36 [==============================] - 0s 5ms/step - loss: 0.5968 - recall: 0.6869\n",
      "Epoch 34/150\n",
      "36/36 [==============================] - 0s 5ms/step - loss: 0.5974 - recall: 0.6819\n",
      "Epoch 35/150\n",
      "36/36 [==============================] - 0s 6ms/step - loss: 0.5938 - recall: 0.6885\n",
      "Epoch 36/150\n",
      "36/36 [==============================] - 0s 6ms/step - loss: 0.5861 - recall: 0.6912\n",
      "Epoch 37/150\n",
      "36/36 [==============================] - 0s 5ms/step - loss: 0.5902 - recall: 0.6961\n",
      "Epoch 38/150\n",
      "36/36 [==============================] - 0s 6ms/step - loss: 0.5927 - recall: 0.6727\n",
      "Epoch 39/150\n",
      "36/36 [==============================] - 0s 6ms/step - loss: 0.5821 - recall: 0.6907\n",
      "Epoch 40/150\n",
      "36/36 [==============================] - 0s 6ms/step - loss: 0.5835 - recall: 0.6836\n",
      "Epoch 41/150\n",
      "36/36 [==============================] - 0s 6ms/step - loss: 0.5800 - recall: 0.6803\n",
      "Epoch 42/150\n",
      "36/36 [==============================] - 0s 7ms/step - loss: 0.5829 - recall: 0.6847\n",
      "Epoch 43/150\n",
      "36/36 [==============================] - 0s 6ms/step - loss: 0.5798 - recall: 0.7114\n",
      "Epoch 44/150\n",
      "36/36 [==============================] - 0s 5ms/step - loss: 0.5769 - recall: 0.7207\n",
      "Epoch 45/150\n",
      "36/36 [==============================] - 0s 6ms/step - loss: 0.5796 - recall: 0.6863\n",
      "Epoch 46/150\n",
      "36/36 [==============================] - 0s 6ms/step - loss: 0.5766 - recall: 0.6874\n",
      "Epoch 47/150\n",
      "36/36 [==============================] - 0s 6ms/step - loss: 0.5721 - recall: 0.6890\n",
      "Epoch 48/150\n",
      "36/36 [==============================] - 0s 7ms/step - loss: 0.5746 - recall: 0.6759\n",
      "Epoch 49/150\n",
      "36/36 [==============================] - 0s 6ms/step - loss: 0.5752 - recall: 0.6923\n",
      "Epoch 50/150\n",
      "36/36 [==============================] - 0s 7ms/step - loss: 0.5735 - recall: 0.6918\n",
      "Epoch 51/150\n",
      "36/36 [==============================] - 0s 6ms/step - loss: 0.5691 - recall: 0.6950\n",
      "Epoch 52/150\n",
      "36/36 [==============================] - 0s 6ms/step - loss: 0.5666 - recall: 0.7021\n",
      "Epoch 53/150\n",
      "36/36 [==============================] - 0s 7ms/step - loss: 0.5654 - recall: 0.6912\n",
      "Epoch 54/150\n",
      "36/36 [==============================] - 0s 6ms/step - loss: 0.5613 - recall: 0.6967\n",
      "Epoch 55/150\n",
      "36/36 [==============================] - 0s 5ms/step - loss: 0.5644 - recall: 0.7065\n",
      "Epoch 56/150\n",
      "36/36 [==============================] - 0s 6ms/step - loss: 0.5553 - recall: 0.6994\n",
      "Epoch 57/150\n",
      "36/36 [==============================] - 0s 6ms/step - loss: 0.5682 - recall: 0.6688\n",
      "Epoch 58/150\n",
      "36/36 [==============================] - 0s 6ms/step - loss: 0.5631 - recall: 0.6994\n",
      "Epoch 59/150\n",
      "36/36 [==============================] - 0s 6ms/step - loss: 0.5588 - recall: 0.6956\n",
      "Epoch 60/150\n",
      "36/36 [==============================] - 0s 6ms/step - loss: 0.5588 - recall: 0.7021\n",
      "Epoch 61/150\n",
      "36/36 [==============================] - 0s 5ms/step - loss: 0.5544 - recall: 0.6912\n",
      "Epoch 62/150\n",
      "36/36 [==============================] - 0s 6ms/step - loss: 0.5536 - recall: 0.6956\n",
      "Epoch 63/150\n",
      "36/36 [==============================] - 0s 6ms/step - loss: 0.5551 - recall: 0.6885\n",
      "Epoch 64/150\n",
      "36/36 [==============================] - 0s 6ms/step - loss: 0.5491 - recall: 0.6989\n",
      "Epoch 65/150\n",
      "36/36 [==============================] - 0s 6ms/step - loss: 0.5579 - recall: 0.6983\n",
      "Epoch 66/150\n",
      "36/36 [==============================] - 0s 6ms/step - loss: 0.5449 - recall: 0.7049\n",
      "Epoch 67/150\n",
      "36/36 [==============================] - 0s 6ms/step - loss: 0.5501 - recall: 0.7021\n",
      "Epoch 68/150\n",
      "36/36 [==============================] - 0s 6ms/step - loss: 0.5540 - recall: 0.6885\n",
      "Epoch 69/150\n",
      "36/36 [==============================] - 0s 6ms/step - loss: 0.5490 - recall: 0.6798\n",
      "Epoch 70/150\n",
      "36/36 [==============================] - 0s 7ms/step - loss: 0.5476 - recall: 0.6912\n",
      "Epoch 71/150\n",
      "36/36 [==============================] - 0s 6ms/step - loss: 0.5494 - recall: 0.6885\n",
      "Epoch 72/150\n",
      "36/36 [==============================] - 0s 6ms/step - loss: 0.5489 - recall: 0.6918\n",
      "Epoch 73/150\n",
      "36/36 [==============================] - 0s 6ms/step - loss: 0.5386 - recall: 0.7087\n",
      "Epoch 74/150\n",
      "36/36 [==============================] - 0s 6ms/step - loss: 0.5501 - recall: 0.6994\n",
      "Epoch 75/150\n",
      "36/36 [==============================] - 0s 6ms/step - loss: 0.5422 - recall: 0.6934\n",
      "Epoch 76/150\n",
      "36/36 [==============================] - 0s 7ms/step - loss: 0.5370 - recall: 0.7092\n",
      "Epoch 77/150\n",
      "36/36 [==============================] - 0s 6ms/step - loss: 0.5438 - recall: 0.6961\n",
      "Epoch 78/150\n",
      "36/36 [==============================] - 0s 6ms/step - loss: 0.5422 - recall: 0.6999\n",
      "Epoch 79/150\n",
      "36/36 [==============================] - 0s 7ms/step - loss: 0.5415 - recall: 0.7016\n",
      "Epoch 80/150\n",
      "36/36 [==============================] - 0s 6ms/step - loss: 0.5334 - recall: 0.7081\n",
      "Epoch 81/150\n",
      "36/36 [==============================] - 0s 6ms/step - loss: 0.5338 - recall: 0.7185\n",
      "Epoch 82/150\n",
      "36/36 [==============================] - 0s 6ms/step - loss: 0.5347 - recall: 0.7005\n",
      "Epoch 83/150\n",
      "36/36 [==============================] - 0s 6ms/step - loss: 0.5349 - recall: 0.6939\n",
      "Epoch 84/150\n"
     ]
    },
    {
     "name": "stdout",
     "output_type": "stream",
     "text": [
      "36/36 [==============================] - 0s 7ms/step - loss: 0.5342 - recall: 0.7190\n",
      "Epoch 85/150\n",
      "36/36 [==============================] - 0s 8ms/step - loss: 0.5329 - recall: 0.7021\n",
      "Epoch 86/150\n",
      "36/36 [==============================] - 0s 6ms/step - loss: 0.5326 - recall: 0.7147\n",
      "Epoch 87/150\n",
      "36/36 [==============================] - 0s 6ms/step - loss: 0.5330 - recall: 0.7010\n",
      "Epoch 88/150\n",
      "36/36 [==============================] - 0s 5ms/step - loss: 0.5344 - recall: 0.7043\n",
      "Epoch 89/150\n",
      "36/36 [==============================] - 0s 6ms/step - loss: 0.5220 - recall: 0.7349\n",
      "Epoch 90/150\n",
      "36/36 [==============================] - 0s 6ms/step - loss: 0.5255 - recall: 0.7027\n",
      "Epoch 91/150\n",
      "36/36 [==============================] - 0s 7ms/step - loss: 0.5313 - recall: 0.7021\n",
      "Epoch 92/150\n",
      "36/36 [==============================] - 0s 6ms/step - loss: 0.5341 - recall: 0.7038\n",
      "Epoch 93/150\n",
      "36/36 [==============================] - 0s 6ms/step - loss: 0.5249 - recall: 0.7218\n",
      "Epoch 94/150\n",
      "36/36 [==============================] - 0s 6ms/step - loss: 0.5300 - recall: 0.7158\n",
      "Epoch 95/150\n",
      "36/36 [==============================] - 0s 6ms/step - loss: 0.5306 - recall: 0.7223\n",
      "Epoch 96/150\n",
      "36/36 [==============================] - 0s 5ms/step - loss: 0.5258 - recall: 0.7256\n",
      "Epoch 97/150\n",
      "36/36 [==============================] - 0s 5ms/step - loss: 0.5269 - recall: 0.6923\n",
      "Epoch 98/150\n",
      "36/36 [==============================] - 0s 6ms/step - loss: 0.5275 - recall: 0.7114\n",
      "Epoch 99/150\n",
      "36/36 [==============================] - 0s 6ms/step - loss: 0.5222 - recall: 0.7261\n",
      "Epoch 100/150\n",
      "36/36 [==============================] - 0s 7ms/step - loss: 0.5245 - recall: 0.7223\n",
      "Epoch 101/150\n",
      "36/36 [==============================] - 0s 7ms/step - loss: 0.5227 - recall: 0.7272\n",
      "Epoch 102/150\n",
      "36/36 [==============================] - 0s 5ms/step - loss: 0.5186 - recall: 0.7272\n",
      "Epoch 103/150\n",
      "36/36 [==============================] - 0s 5ms/step - loss: 0.5267 - recall: 0.7065\n",
      "Epoch 104/150\n",
      "36/36 [==============================] - 0s 6ms/step - loss: 0.5225 - recall: 0.7223\n",
      "Epoch 105/150\n",
      "36/36 [==============================] - 0s 6ms/step - loss: 0.5244 - recall: 0.7185\n",
      "Epoch 106/150\n",
      "36/36 [==============================] - 0s 6ms/step - loss: 0.5219 - recall: 0.7054\n",
      "Epoch 107/150\n",
      "36/36 [==============================] - 0s 6ms/step - loss: 0.5283 - recall: 0.7125\n",
      "Epoch 108/150\n",
      "36/36 [==============================] - 0s 6ms/step - loss: 0.5269 - recall: 0.7174\n",
      "Epoch 109/150\n",
      "36/36 [==============================] - 0s 6ms/step - loss: 0.5151 - recall: 0.7179\n",
      "Epoch 110/150\n",
      "36/36 [==============================] - 0s 7ms/step - loss: 0.5189 - recall: 0.7207\n",
      "Epoch 111/150\n",
      "36/36 [==============================] - 0s 7ms/step - loss: 0.5182 - recall: 0.7239\n",
      "Epoch 112/150\n",
      "36/36 [==============================] - 0s 6ms/step - loss: 0.5154 - recall: 0.7289\n",
      "Epoch 113/150\n",
      "36/36 [==============================] - 0s 5ms/step - loss: 0.5348 - recall: 0.7103\n",
      "Epoch 114/150\n",
      "36/36 [==============================] - 0s 5ms/step - loss: 0.5298 - recall: 0.7016\n",
      "Epoch 115/150\n",
      "36/36 [==============================] - 0s 5ms/step - loss: 0.5230 - recall: 0.7234\n",
      "Epoch 116/150\n",
      "36/36 [==============================] - 0s 5ms/step - loss: 0.5203 - recall: 0.7207\n",
      "Epoch 117/150\n",
      "36/36 [==============================] - 0s 5ms/step - loss: 0.5243 - recall: 0.7338\n",
      "Epoch 118/150\n",
      "36/36 [==============================] - 0s 5ms/step - loss: 0.5187 - recall: 0.7278\n",
      "Epoch 119/150\n",
      "36/36 [==============================] - 0s 5ms/step - loss: 0.5217 - recall: 0.7278\n",
      "Epoch 120/150\n",
      "36/36 [==============================] - 0s 5ms/step - loss: 0.5117 - recall: 0.7294\n",
      "Epoch 121/150\n",
      "36/36 [==============================] - 0s 5ms/step - loss: 0.5197 - recall: 0.7239\n",
      "Epoch 122/150\n",
      "36/36 [==============================] - 0s 5ms/step - loss: 0.5253 - recall: 0.7343\n",
      "Epoch 123/150\n",
      "36/36 [==============================] - 0s 5ms/step - loss: 0.5185 - recall: 0.7441\n",
      "Epoch 124/150\n",
      "36/36 [==============================] - 0s 5ms/step - loss: 0.5239 - recall: 0.7250\n",
      "Epoch 125/150\n",
      "36/36 [==============================] - 0s 6ms/step - loss: 0.5148 - recall: 0.7376\n",
      "Epoch 126/150\n",
      "36/36 [==============================] - 0s 5ms/step - loss: 0.5097 - recall: 0.7381\n",
      "Epoch 127/150\n",
      "36/36 [==============================] - 0s 6ms/step - loss: 0.5256 - recall: 0.7332\n",
      "Epoch 128/150\n",
      "36/36 [==============================] - 0s 5ms/step - loss: 0.5238 - recall: 0.7152\n",
      "Epoch 129/150\n",
      "36/36 [==============================] - 0s 5ms/step - loss: 0.5188 - recall: 0.7294\n",
      "Epoch 130/150\n",
      "36/36 [==============================] - 0s 5ms/step - loss: 0.5247 - recall: 0.7349\n",
      "Epoch 131/150\n",
      "36/36 [==============================] - 0s 6ms/step - loss: 0.5213 - recall: 0.7261\n",
      "Epoch 132/150\n",
      "36/36 [==============================] - 0s 6ms/step - loss: 0.5253 - recall: 0.7316\n",
      "Epoch 133/150\n",
      "36/36 [==============================] - 0s 6ms/step - loss: 0.5202 - recall: 0.7409\n",
      "Epoch 134/150\n",
      "36/36 [==============================] - 0s 6ms/step - loss: 0.5173 - recall: 0.7185\n",
      "Epoch 135/150\n",
      "36/36 [==============================] - 0s 6ms/step - loss: 0.5178 - recall: 0.7250\n",
      "Epoch 136/150\n",
      "36/36 [==============================] - 0s 5ms/step - loss: 0.5096 - recall: 0.7398\n",
      "Epoch 137/150\n",
      "36/36 [==============================] - 0s 5ms/step - loss: 0.5184 - recall: 0.7310\n",
      "Epoch 138/150\n",
      "36/36 [==============================] - 0s 6ms/step - loss: 0.5156 - recall: 0.7283\n",
      "Epoch 139/150\n",
      "36/36 [==============================] - 0s 5ms/step - loss: 0.5148 - recall: 0.7365\n",
      "Epoch 140/150\n",
      "36/36 [==============================] - 0s 6ms/step - loss: 0.5152 - recall: 0.7447\n",
      "Epoch 141/150\n",
      "36/36 [==============================] - 0s 6ms/step - loss: 0.5148 - recall: 0.7310\n",
      "Epoch 142/150\n",
      "36/36 [==============================] - 0s 6ms/step - loss: 0.5250 - recall: 0.7496\n",
      "Epoch 143/150\n",
      "36/36 [==============================] - 0s 5ms/step - loss: 0.5236 - recall: 0.7201\n",
      "Epoch 144/150\n",
      "36/36 [==============================] - 0s 6ms/step - loss: 0.5160 - recall: 0.7250\n",
      "Epoch 145/150\n",
      "36/36 [==============================] - 0s 5ms/step - loss: 0.5150 - recall: 0.7409\n",
      "Epoch 146/150\n",
      "36/36 [==============================] - 0s 5ms/step - loss: 0.5152 - recall: 0.7239\n",
      "Epoch 147/150\n",
      "36/36 [==============================] - 0s 5ms/step - loss: 0.5161 - recall: 0.7267\n",
      "Epoch 148/150\n",
      "36/36 [==============================] - 0s 6ms/step - loss: 0.5200 - recall: 0.7414\n",
      "Epoch 149/150\n",
      "36/36 [==============================] - 0s 5ms/step - loss: 0.5204 - recall: 0.7256\n",
      "Epoch 150/150\n",
      "36/36 [==============================] - 0s 6ms/step - loss: 0.5147 - recall: 0.7300\n"
     ]
    }
   ],
   "source": [
    "classifier = KerasClassifier(build_fn=build_classifier, epochs=150)\n",
    "parameters = {'batch_size': [128, 256],\n",
    "              'optimizer': [Adam, 'rmsprop', \"SGD\", \"adagrad\", \"adadelta\"]}\n",
    "\n",
    "grid_model = GridSearchCV(estimator=classifier,\n",
    "                          param_grid=parameters,\n",
    "                          scoring='recall',\n",
    "                          cv=5,\n",
    "                          n_jobs=-1,\n",
    "                          verbose=0).fit(X_train, y_train, class_weight=class_weights)"
   ]
  },
  {
   "cell_type": "code",
   "execution_count": 59,
   "metadata": {},
   "outputs": [
    {
     "data": {
      "text/plain": [
       "0.7213540467569709"
      ]
     },
     "execution_count": 59,
     "metadata": {},
     "output_type": "execute_result"
    }
   ],
   "source": [
    "grid_model.best_score_"
   ]
  },
  {
   "cell_type": "code",
   "execution_count": 60,
   "metadata": {},
   "outputs": [
    {
     "data": {
      "text/plain": [
       "{'batch_size': 256, 'optimizer': 'rmsprop'}"
      ]
     },
     "execution_count": 60,
     "metadata": {},
     "output_type": "execute_result"
    }
   ],
   "source": [
    "grid_model.best_params_"
   ]
  },
  {
   "cell_type": "code",
   "execution_count": 61,
   "metadata": {},
   "outputs": [
    {
     "name": "stdout",
     "output_type": "stream",
     "text": [
      "[[595 201]\n",
      " [ 42 162]]\n",
      "              precision    recall  f1-score   support\n",
      "\n",
      "           0       0.93      0.75      0.83       796\n",
      "           1       0.45      0.79      0.57       204\n",
      "\n",
      "    accuracy                           0.76      1000\n",
      "   macro avg       0.69      0.77      0.70      1000\n",
      "weighted avg       0.83      0.76      0.78      1000\n",
      "\n"
     ]
    }
   ],
   "source": [
    "y_test_pred = (grid_model.predict(X_test) > 0.5).astype(\"int32\")\n",
    "print(confusion_matrix(y_test, y_test_pred))\n",
    "print(classification_report(y_test, y_test_pred))"
   ]
  },
  {
   "cell_type": "markdown",
   "metadata": {},
   "source": [
    "### ROC (Receiver Operating Curve) and AUC (Area Under Curve) for grid_model"
   ]
  },
  {
   "cell_type": "code",
   "execution_count": 62,
   "metadata": {
    "cell_style": "split",
    "scrolled": true
   },
   "outputs": [
    {
     "data": {
      "image/png": "[encoded data removed]",
      "text/plain": [
       "<Figure size 864x432 with 1 Axes>"
      ]
     },
     "metadata": {},
     "output_type": "display_data"
    }
   ],
   "source": [
    "y_pred_proba = grid_model.predict(X_test)\n",
    "fpr, tpr, thresholds = roc_curve(y_test, y_pred_proba)\n",
    "plt.plot([0,1],[0,1],'k--')\n",
    "plt.plot(fpr,tpr, label='ANN')\n",
    "plt.xlabel('False Positive Rate')\n",
    "plt.ylabel('True Positive Rate')\n",
    "plt.title('ROC Curve for Keras Model')\n",
    "plt.show()"
   ]
  },
  {
   "cell_type": "code",
   "execution_count": 63,
   "metadata": {
    "cell_style": "split",
    "scrolled": true
   },
   "outputs": [
    {
     "data": {
      "text/plain": [
       "0.39639961108410304"
      ]
     },
     "execution_count": 63,
     "metadata": {},
     "output_type": "execute_result"
    }
   ],
   "source": [
    "average_precision_score(y_test, y_pred_proba)"
   ]
  },
  {
   "cell_type": "markdown",
   "metadata": {},
   "source": [
    "## Final Model and Model Deployment"
   ]
  },
  {
   "cell_type": "code",
   "execution_count": 64,
   "metadata": {},
   "outputs": [],
   "source": [
    "import pickle\n",
    "\n",
    "pickle.dump(scaler, open(\"scaler_churn\", 'wb'))"
   ]
  },
  {
   "cell_type": "code",
   "execution_count": 65,
   "metadata": {
    "scrolled": true
   },
   "outputs": [
    {
     "name": "stdout",
     "output_type": "stream",
     "text": [
      "Epoch 1/200\n",
      "71/71 [==============================] - 4s 20ms/step - loss: 0.6983 - recall: 0.5947 - val_loss: 0.6844 - val_recall: 0.5686\n",
      "Epoch 2/200\n",
      "71/71 [==============================] - 1s 7ms/step - loss: 0.6881 - recall: 0.5210 - val_loss: 0.6658 - val_recall: 0.4020\n",
      "Epoch 3/200\n",
      "71/71 [==============================] - 0s 6ms/step - loss: 0.6801 - recall: 0.5123 - val_loss: 0.6667 - val_recall: 0.5196\n",
      "Epoch 4/200\n",
      "71/71 [==============================] - 0s 5ms/step - loss: 0.6745 - recall: 0.5652 - val_loss: 0.6562 - val_recall: 0.5147\n",
      "Epoch 5/200\n",
      "71/71 [==============================] - 0s 5ms/step - loss: 0.6614 - recall: 0.5892 - val_loss: 0.6438 - val_recall: 0.5343\n",
      "Epoch 6/200\n",
      "71/71 [==============================] - 0s 5ms/step - loss: 0.6617 - recall: 0.5908 - val_loss: 0.6258 - val_recall: 0.5000\n",
      "Epoch 7/200\n",
      "71/71 [==============================] - 0s 5ms/step - loss: 0.6556 - recall: 0.6176 - val_loss: 0.6316 - val_recall: 0.5392\n",
      "Epoch 8/200\n",
      "71/71 [==============================] - 0s 5ms/step - loss: 0.6492 - recall: 0.6203 - val_loss: 0.6411 - val_recall: 0.5931\n",
      "Epoch 9/200\n",
      "71/71 [==============================] - 0s 6ms/step - loss: 0.6452 - recall: 0.6099 - val_loss: 0.6251 - val_recall: 0.5735\n",
      "Epoch 10/200\n",
      "71/71 [==============================] - 0s 6ms/step - loss: 0.6397 - recall: 0.6247 - val_loss: 0.6167 - val_recall: 0.5637\n",
      "Epoch 11/200\n",
      "71/71 [==============================] - 0s 6ms/step - loss: 0.6441 - recall: 0.6307 - val_loss: 0.6147 - val_recall: 0.5735\n",
      "Epoch 12/200\n",
      "71/71 [==============================] - 0s 6ms/step - loss: 0.6366 - recall: 0.6399 - val_loss: 0.6018 - val_recall: 0.5637\n",
      "Epoch 13/200\n",
      "71/71 [==============================] - 0s 6ms/step - loss: 0.6313 - recall: 0.6296 - val_loss: 0.6112 - val_recall: 0.5833\n",
      "Epoch 14/200\n",
      "71/71 [==============================] - 0s 6ms/step - loss: 0.6313 - recall: 0.6416 - val_loss: 0.6220 - val_recall: 0.6176\n",
      "Epoch 15/200\n",
      "71/71 [==============================] - 0s 6ms/step - loss: 0.6287 - recall: 0.6574 - val_loss: 0.6004 - val_recall: 0.5833\n",
      "Epoch 16/200\n",
      "71/71 [==============================] - 0s 6ms/step - loss: 0.6222 - recall: 0.6492 - val_loss: 0.6030 - val_recall: 0.6127\n",
      "Epoch 17/200\n",
      "71/71 [==============================] - 0s 6ms/step - loss: 0.6256 - recall: 0.6399 - val_loss: 0.5927 - val_recall: 0.5980\n",
      "Epoch 18/200\n",
      "71/71 [==============================] - 0s 6ms/step - loss: 0.6157 - recall: 0.6585 - val_loss: 0.5889 - val_recall: 0.6029\n",
      "Epoch 19/200\n",
      "71/71 [==============================] - 0s 6ms/step - loss: 0.6117 - recall: 0.6443 - val_loss: 0.5709 - val_recall: 0.5833\n",
      "Epoch 20/200\n",
      "71/71 [==============================] - 0s 6ms/step - loss: 0.6130 - recall: 0.6508 - val_loss: 0.5989 - val_recall: 0.6667\n",
      "Epoch 21/200\n",
      "71/71 [==============================] - 0s 6ms/step - loss: 0.6099 - recall: 0.6514 - val_loss: 0.5785 - val_recall: 0.6275\n",
      "Epoch 22/200\n",
      "71/71 [==============================] - 0s 6ms/step - loss: 0.6029 - recall: 0.6607 - val_loss: 0.5840 - val_recall: 0.6422\n",
      "Epoch 23/200\n",
      "71/71 [==============================] - 0s 6ms/step - loss: 0.6086 - recall: 0.6470 - val_loss: 0.5888 - val_recall: 0.6716\n",
      "Epoch 24/200\n",
      "71/71 [==============================] - 0s 6ms/step - loss: 0.6067 - recall: 0.6552 - val_loss: 0.5807 - val_recall: 0.6618\n",
      "Epoch 25/200\n",
      "71/71 [==============================] - 0s 6ms/step - loss: 0.5998 - recall: 0.6596 - val_loss: 0.5670 - val_recall: 0.6373\n",
      "Epoch 26/200\n",
      "71/71 [==============================] - 0s 7ms/step - loss: 0.5915 - recall: 0.6667 - val_loss: 0.5677 - val_recall: 0.6520\n",
      "Epoch 27/200\n",
      "71/71 [==============================] - 0s 6ms/step - loss: 0.5894 - recall: 0.6563 - val_loss: 0.5540 - val_recall: 0.6176\n",
      "Epoch 28/200\n",
      "71/71 [==============================] - 0s 6ms/step - loss: 0.5874 - recall: 0.6607 - val_loss: 0.5677 - val_recall: 0.6618\n",
      "Epoch 29/200\n",
      "71/71 [==============================] - 0s 6ms/step - loss: 0.5895 - recall: 0.6705 - val_loss: 0.5641 - val_recall: 0.6618\n",
      "Epoch 30/200\n",
      "71/71 [==============================] - 0s 6ms/step - loss: 0.5827 - recall: 0.6732 - val_loss: 0.5540 - val_recall: 0.6373\n",
      "Epoch 31/200\n",
      "71/71 [==============================] - 0s 6ms/step - loss: 0.5795 - recall: 0.6607 - val_loss: 0.5605 - val_recall: 0.6618\n",
      "Epoch 32/200\n",
      "71/71 [==============================] - 0s 6ms/step - loss: 0.5823 - recall: 0.6727 - val_loss: 0.5616 - val_recall: 0.6863\n",
      "Epoch 33/200\n",
      "71/71 [==============================] - 0s 6ms/step - loss: 0.5788 - recall: 0.6765 - val_loss: 0.5558 - val_recall: 0.6471\n",
      "Epoch 34/200\n",
      "71/71 [==============================] - 1s 7ms/step - loss: 0.5820 - recall: 0.6667 - val_loss: 0.5672 - val_recall: 0.6912\n",
      "Epoch 35/200\n",
      "71/71 [==============================] - 0s 7ms/step - loss: 0.5757 - recall: 0.6568 - val_loss: 0.5637 - val_recall: 0.6912\n",
      "Epoch 36/200\n",
      "71/71 [==============================] - 0s 7ms/step - loss: 0.5730 - recall: 0.6710 - val_loss: 0.5601 - val_recall: 0.6765\n",
      "Epoch 37/200\n",
      "71/71 [==============================] - 1s 7ms/step - loss: 0.5648 - recall: 0.6825 - val_loss: 0.5670 - val_recall: 0.6961\n",
      "Epoch 38/200\n",
      "71/71 [==============================] - 1s 7ms/step - loss: 0.5719 - recall: 0.6743 - val_loss: 0.5701 - val_recall: 0.6863\n",
      "Epoch 39/200\n",
      "71/71 [==============================] - 0s 7ms/step - loss: 0.5671 - recall: 0.6672 - val_loss: 0.5476 - val_recall: 0.6814\n",
      "Epoch 40/200\n",
      "71/71 [==============================] - 1s 8ms/step - loss: 0.5668 - recall: 0.6590 - val_loss: 0.5556 - val_recall: 0.6716\n",
      "Epoch 41/200\n",
      "71/71 [==============================] - 1s 8ms/step - loss: 0.5689 - recall: 0.6721 - val_loss: 0.5541 - val_recall: 0.6961\n",
      "Epoch 42/200\n",
      "71/71 [==============================] - 0s 6ms/step - loss: 0.5597 - recall: 0.6803 - val_loss: 0.5455 - val_recall: 0.6863\n",
      "Epoch 43/200\n",
      "71/71 [==============================] - 0s 6ms/step - loss: 0.5589 - recall: 0.6618 - val_loss: 0.5432 - val_recall: 0.6961\n",
      "Epoch 44/200\n",
      "71/71 [==============================] - 0s 6ms/step - loss: 0.5622 - recall: 0.6748 - val_loss: 0.5223 - val_recall: 0.6667\n",
      "Epoch 45/200\n",
      "71/71 [==============================] - 1s 7ms/step - loss: 0.5582 - recall: 0.6721 - val_loss: 0.5286 - val_recall: 0.6814\n",
      "Epoch 46/200\n",
      "71/71 [==============================] - 0s 6ms/step - loss: 0.5586 - recall: 0.6694 - val_loss: 0.5256 - val_recall: 0.6618\n",
      "Epoch 47/200\n",
      "71/71 [==============================] - 0s 6ms/step - loss: 0.5539 - recall: 0.6748 - val_loss: 0.5392 - val_recall: 0.7059\n",
      "Epoch 48/200\n",
      "71/71 [==============================] - 0s 6ms/step - loss: 0.5596 - recall: 0.6765 - val_loss: 0.5250 - val_recall: 0.6667\n",
      "Epoch 49/200\n",
      "71/71 [==============================] - 0s 6ms/step - loss: 0.5560 - recall: 0.6710 - val_loss: 0.5210 - val_recall: 0.6863\n",
      "Epoch 50/200\n",
      "71/71 [==============================] - 0s 5ms/step - loss: 0.5536 - recall: 0.6743 - val_loss: 0.5437 - val_recall: 0.7206\n",
      "Epoch 51/200\n",
      "71/71 [==============================] - 0s 5ms/step - loss: 0.5502 - recall: 0.6770 - val_loss: 0.5322 - val_recall: 0.7059\n",
      "Epoch 52/200\n",
      "71/71 [==============================] - 0s 7ms/step - loss: 0.5506 - recall: 0.6776 - val_loss: 0.5195 - val_recall: 0.6863\n",
      "Epoch 53/200\n",
      "71/71 [==============================] - 0s 5ms/step - loss: 0.5433 - recall: 0.6814 - val_loss: 0.5275 - val_recall: 0.7108\n",
      "Epoch 54/200\n",
      "71/71 [==============================] - 0s 5ms/step - loss: 0.5528 - recall: 0.6841 - val_loss: 0.5159 - val_recall: 0.6961\n",
      "Epoch 55/200\n",
      "71/71 [==============================] - 0s 5ms/step - loss: 0.5449 - recall: 0.6765 - val_loss: 0.5213 - val_recall: 0.6961\n",
      "Epoch 56/200\n",
      "71/71 [==============================] - 0s 5ms/step - loss: 0.5515 - recall: 0.6694 - val_loss: 0.5152 - val_recall: 0.6912\n",
      "Epoch 57/200\n",
      "71/71 [==============================] - 0s 7ms/step - loss: 0.5463 - recall: 0.6661 - val_loss: 0.5241 - val_recall: 0.7206\n",
      "Epoch 58/200\n",
      "71/71 [==============================] - 0s 5ms/step - loss: 0.5433 - recall: 0.6798 - val_loss: 0.5226 - val_recall: 0.7010\n",
      "Epoch 59/200\n",
      "71/71 [==============================] - 0s 7ms/step - loss: 0.5452 - recall: 0.6792 - val_loss: 0.5127 - val_recall: 0.6961\n",
      "Epoch 60/200\n"
     ]
    },
    {
     "name": "stdout",
     "output_type": "stream",
     "text": [
      "71/71 [==============================] - 0s 6ms/step - loss: 0.5461 - recall: 0.6732 - val_loss: 0.5097 - val_recall: 0.6912\n",
      "Epoch 61/200\n",
      "71/71 [==============================] - 0s 5ms/step - loss: 0.5425 - recall: 0.6618 - val_loss: 0.5072 - val_recall: 0.6961\n",
      "Epoch 62/200\n",
      "71/71 [==============================] - 0s 6ms/step - loss: 0.5422 - recall: 0.6792 - val_loss: 0.4956 - val_recall: 0.6618\n",
      "Epoch 63/200\n",
      "71/71 [==============================] - 0s 5ms/step - loss: 0.5384 - recall: 0.6705 - val_loss: 0.5083 - val_recall: 0.6912\n",
      "Epoch 64/200\n",
      "71/71 [==============================] - 0s 6ms/step - loss: 0.5450 - recall: 0.6699 - val_loss: 0.5015 - val_recall: 0.6765\n",
      "Epoch 65/200\n",
      "71/71 [==============================] - 0s 5ms/step - loss: 0.5466 - recall: 0.6607 - val_loss: 0.5267 - val_recall: 0.7157\n",
      "Epoch 66/200\n",
      "71/71 [==============================] - 0s 5ms/step - loss: 0.5352 - recall: 0.6918 - val_loss: 0.4919 - val_recall: 0.6667\n",
      "Epoch 67/200\n",
      "71/71 [==============================] - 0s 5ms/step - loss: 0.5429 - recall: 0.6705 - val_loss: 0.5026 - val_recall: 0.6912\n",
      "Epoch 68/200\n",
      "71/71 [==============================] - 0s 5ms/step - loss: 0.5397 - recall: 0.6710 - val_loss: 0.4981 - val_recall: 0.6569\n",
      "Epoch 69/200\n",
      "71/71 [==============================] - 0s 4ms/step - loss: 0.5432 - recall: 0.6699 - val_loss: 0.5058 - val_recall: 0.6912\n",
      "Epoch 70/200\n",
      "71/71 [==============================] - 0s 4ms/step - loss: 0.5390 - recall: 0.6672 - val_loss: 0.5203 - val_recall: 0.7206\n",
      "Epoch 71/200\n",
      "71/71 [==============================] - 0s 5ms/step - loss: 0.5339 - recall: 0.6809 - val_loss: 0.5017 - val_recall: 0.6618\n",
      "Epoch 72/200\n",
      "71/71 [==============================] - 0s 6ms/step - loss: 0.5402 - recall: 0.6792 - val_loss: 0.5158 - val_recall: 0.7059\n",
      "Epoch 73/200\n",
      "71/71 [==============================] - 0s 6ms/step - loss: 0.5397 - recall: 0.6787 - val_loss: 0.5045 - val_recall: 0.6912\n",
      "Epoch 74/200\n",
      "71/71 [==============================] - 0s 7ms/step - loss: 0.5417 - recall: 0.6738 - val_loss: 0.4997 - val_recall: 0.6765\n",
      "Epoch 75/200\n",
      "71/71 [==============================] - 0s 6ms/step - loss: 0.5394 - recall: 0.6748 - val_loss: 0.4942 - val_recall: 0.6765\n",
      "Epoch 76/200\n",
      "71/71 [==============================] - 0s 6ms/step - loss: 0.5326 - recall: 0.6579 - val_loss: 0.4945 - val_recall: 0.6618\n",
      "Epoch 77/200\n",
      "71/71 [==============================] - 0s 7ms/step - loss: 0.5377 - recall: 0.6705 - val_loss: 0.4925 - val_recall: 0.6520\n",
      "Epoch 78/200\n",
      "71/71 [==============================] - 0s 6ms/step - loss: 0.5389 - recall: 0.6694 - val_loss: 0.5110 - val_recall: 0.6814\n",
      "Epoch 79/200\n",
      "71/71 [==============================] - 0s 6ms/step - loss: 0.5299 - recall: 0.6628 - val_loss: 0.5149 - val_recall: 0.6961\n",
      "Epoch 80/200\n",
      "71/71 [==============================] - 0s 7ms/step - loss: 0.5355 - recall: 0.6716 - val_loss: 0.5008 - val_recall: 0.6667\n",
      "Epoch 81/200\n",
      "71/71 [==============================] - 0s 7ms/step - loss: 0.5322 - recall: 0.6710 - val_loss: 0.5283 - val_recall: 0.7206\n",
      "Epoch 82/200\n",
      "71/71 [==============================] - 0s 6ms/step - loss: 0.5363 - recall: 0.6699 - val_loss: 0.4898 - val_recall: 0.6422\n",
      "Epoch 83/200\n",
      "71/71 [==============================] - 0s 7ms/step - loss: 0.5366 - recall: 0.6530 - val_loss: 0.4936 - val_recall: 0.6667\n",
      "Epoch 84/200\n",
      "71/71 [==============================] - 1s 7ms/step - loss: 0.5326 - recall: 0.6618 - val_loss: 0.5182 - val_recall: 0.6961\n",
      "Epoch 85/200\n",
      "71/71 [==============================] - 0s 6ms/step - loss: 0.5283 - recall: 0.6885 - val_loss: 0.4871 - val_recall: 0.6716\n",
      "Epoch 86/200\n",
      "71/71 [==============================] - 0s 6ms/step - loss: 0.5369 - recall: 0.6754 - val_loss: 0.4934 - val_recall: 0.6814\n",
      "Epoch 87/200\n",
      "71/71 [==============================] - 0s 6ms/step - loss: 0.5384 - recall: 0.6694 - val_loss: 0.4936 - val_recall: 0.6814\n",
      "Epoch 88/200\n",
      "71/71 [==============================] - 0s 6ms/step - loss: 0.5293 - recall: 0.6798 - val_loss: 0.5074 - val_recall: 0.6961\n",
      "Epoch 89/200\n",
      "71/71 [==============================] - 0s 6ms/step - loss: 0.5289 - recall: 0.6830 - val_loss: 0.5084 - val_recall: 0.6961\n",
      "Epoch 90/200\n",
      "71/71 [==============================] - 0s 6ms/step - loss: 0.5265 - recall: 0.6748 - val_loss: 0.4853 - val_recall: 0.6618\n",
      "Epoch 91/200\n",
      "71/71 [==============================] - 0s 6ms/step - loss: 0.5332 - recall: 0.6705 - val_loss: 0.5020 - val_recall: 0.6863\n",
      "Epoch 92/200\n",
      "71/71 [==============================] - 0s 6ms/step - loss: 0.5310 - recall: 0.6863 - val_loss: 0.5104 - val_recall: 0.7059\n",
      "Epoch 93/200\n",
      "71/71 [==============================] - 0s 6ms/step - loss: 0.5343 - recall: 0.6809 - val_loss: 0.4955 - val_recall: 0.6814\n",
      "Epoch 94/200\n",
      "71/71 [==============================] - 1s 7ms/step - loss: 0.5345 - recall: 0.6732 - val_loss: 0.5125 - val_recall: 0.7108\n",
      "Epoch 95/200\n",
      "71/71 [==============================] - 1s 7ms/step - loss: 0.5369 - recall: 0.6727 - val_loss: 0.5028 - val_recall: 0.6814\n",
      "Epoch 96/200\n",
      "71/71 [==============================] - 0s 6ms/step - loss: 0.5341 - recall: 0.6721 - val_loss: 0.4883 - val_recall: 0.6618\n",
      "Epoch 97/200\n",
      "71/71 [==============================] - 0s 6ms/step - loss: 0.5248 - recall: 0.6770 - val_loss: 0.4791 - val_recall: 0.6422\n",
      "Epoch 98/200\n",
      "71/71 [==============================] - 0s 6ms/step - loss: 0.5333 - recall: 0.6639 - val_loss: 0.5179 - val_recall: 0.7010\n",
      "Epoch 99/200\n",
      "71/71 [==============================] - 0s 6ms/step - loss: 0.5271 - recall: 0.6863 - val_loss: 0.5006 - val_recall: 0.6863\n",
      "Epoch 100/200\n",
      "71/71 [==============================] - 0s 6ms/step - loss: 0.5417 - recall: 0.6748 - val_loss: 0.4910 - val_recall: 0.6814\n",
      "Epoch 101/200\n",
      "71/71 [==============================] - 0s 6ms/step - loss: 0.5344 - recall: 0.6765 - val_loss: 0.4835 - val_recall: 0.6667\n",
      "Epoch 102/200\n",
      "71/71 [==============================] - 0s 6ms/step - loss: 0.5316 - recall: 0.6656 - val_loss: 0.4895 - val_recall: 0.6716\n",
      "Epoch 103/200\n",
      "71/71 [==============================] - 0s 6ms/step - loss: 0.5278 - recall: 0.6787 - val_loss: 0.4861 - val_recall: 0.6814\n",
      "Epoch 104/200\n",
      "71/71 [==============================] - 0s 6ms/step - loss: 0.5285 - recall: 0.6885 - val_loss: 0.4743 - val_recall: 0.6569\n",
      "Epoch 105/200\n",
      "71/71 [==============================] - 0s 6ms/step - loss: 0.5318 - recall: 0.6628 - val_loss: 0.5002 - val_recall: 0.6912\n",
      "Epoch 106/200\n",
      "71/71 [==============================] - 0s 6ms/step - loss: 0.5279 - recall: 0.6678 - val_loss: 0.4916 - val_recall: 0.6814\n",
      "Epoch 107/200\n",
      "71/71 [==============================] - 0s 6ms/step - loss: 0.5294 - recall: 0.6776 - val_loss: 0.4886 - val_recall: 0.6814\n",
      "Epoch 108/200\n",
      "71/71 [==============================] - 0s 6ms/step - loss: 0.5258 - recall: 0.6623 - val_loss: 0.4819 - val_recall: 0.6569\n",
      "Epoch 109/200\n",
      "71/71 [==============================] - 1s 7ms/step - loss: 0.5293 - recall: 0.6759 - val_loss: 0.5012 - val_recall: 0.6912\n",
      "Epoch 110/200\n",
      "71/71 [==============================] - 0s 7ms/step - loss: 0.5289 - recall: 0.6710 - val_loss: 0.5172 - val_recall: 0.7108\n",
      "Epoch 111/200\n",
      "71/71 [==============================] - 0s 6ms/step - loss: 0.5324 - recall: 0.6672 - val_loss: 0.5068 - val_recall: 0.6912\n",
      "Epoch 112/200\n",
      "71/71 [==============================] - 0s 6ms/step - loss: 0.5234 - recall: 0.6869 - val_loss: 0.5041 - val_recall: 0.6863\n",
      "Epoch 113/200\n",
      "71/71 [==============================] - 0s 6ms/step - loss: 0.5373 - recall: 0.6645 - val_loss: 0.4984 - val_recall: 0.6814\n",
      "Epoch 114/200\n",
      "71/71 [==============================] - 0s 6ms/step - loss: 0.5271 - recall: 0.6672 - val_loss: 0.4945 - val_recall: 0.6961\n",
      "Epoch 115/200\n",
      "71/71 [==============================] - 0s 6ms/step - loss: 0.5342 - recall: 0.6705 - val_loss: 0.5084 - val_recall: 0.6961\n",
      "Epoch 116/200\n",
      "71/71 [==============================] - 0s 5ms/step - loss: 0.5305 - recall: 0.6721 - val_loss: 0.4780 - val_recall: 0.6569\n",
      "Epoch 117/200\n",
      "71/71 [==============================] - 0s 5ms/step - loss: 0.5273 - recall: 0.6765 - val_loss: 0.5007 - val_recall: 0.7010\n",
      "Epoch 118/200\n",
      "71/71 [==============================] - 0s 6ms/step - loss: 0.5280 - recall: 0.6874 - val_loss: 0.4968 - val_recall: 0.7010\n",
      "Epoch 119/200\n"
     ]
    },
    {
     "name": "stdout",
     "output_type": "stream",
     "text": [
      "71/71 [==============================] - 0s 6ms/step - loss: 0.5250 - recall: 0.6732 - val_loss: 0.4966 - val_recall: 0.7010\n",
      "Epoch 120/200\n",
      "71/71 [==============================] - 0s 6ms/step - loss: 0.5286 - recall: 0.6787 - val_loss: 0.4950 - val_recall: 0.7108\n",
      "Epoch 121/200\n",
      "71/71 [==============================] - 0s 7ms/step - loss: 0.5330 - recall: 0.6759 - val_loss: 0.4840 - val_recall: 0.6716\n",
      "Epoch 122/200\n",
      "71/71 [==============================] - 0s 7ms/step - loss: 0.5287 - recall: 0.6781 - val_loss: 0.5068 - val_recall: 0.6961\n",
      "Epoch 123/200\n",
      "71/71 [==============================] - 1s 8ms/step - loss: 0.5287 - recall: 0.6732 - val_loss: 0.5064 - val_recall: 0.7255\n",
      "Epoch 124/200\n",
      "71/71 [==============================] - 0s 7ms/step - loss: 0.5260 - recall: 0.6852 - val_loss: 0.4936 - val_recall: 0.6863\n",
      "Epoch 125/200\n",
      "71/71 [==============================] - 1s 7ms/step - loss: 0.5258 - recall: 0.6814 - val_loss: 0.4814 - val_recall: 0.6667\n",
      "Epoch 126/200\n",
      "71/71 [==============================] - 1s 7ms/step - loss: 0.5200 - recall: 0.6803 - val_loss: 0.4991 - val_recall: 0.7059\n",
      "Epoch 127/200\n",
      "71/71 [==============================] - 1s 7ms/step - loss: 0.5239 - recall: 0.6934 - val_loss: 0.4871 - val_recall: 0.6961\n",
      "Epoch 128/200\n",
      "71/71 [==============================] - 1s 9ms/step - loss: 0.5271 - recall: 0.6890 - val_loss: 0.4922 - val_recall: 0.7059\n",
      "Epoch 129/200\n",
      "71/71 [==============================] - 0s 5ms/step - loss: 0.5219 - recall: 0.6918 - val_loss: 0.5089 - val_recall: 0.7157\n",
      "Epoch 130/200\n",
      "71/71 [==============================] - 0s 6ms/step - loss: 0.5223 - recall: 0.6978 - val_loss: 0.4714 - val_recall: 0.6618\n",
      "Epoch 131/200\n",
      "71/71 [==============================] - 0s 5ms/step - loss: 0.5245 - recall: 0.6852 - val_loss: 0.4898 - val_recall: 0.6765\n",
      "Epoch 132/200\n",
      "71/71 [==============================] - 0s 5ms/step - loss: 0.5216 - recall: 0.6819 - val_loss: 0.4870 - val_recall: 0.6765\n",
      "Epoch 133/200\n",
      "71/71 [==============================] - 0s 7ms/step - loss: 0.5248 - recall: 0.6759 - val_loss: 0.4803 - val_recall: 0.6667\n",
      "Epoch 134/200\n",
      "71/71 [==============================] - 0s 7ms/step - loss: 0.5277 - recall: 0.6836 - val_loss: 0.4810 - val_recall: 0.6716\n",
      "Epoch 135/200\n",
      "71/71 [==============================] - 1s 9ms/step - loss: 0.5194 - recall: 0.6852 - val_loss: 0.4859 - val_recall: 0.6863\n",
      "Epoch 136/200\n",
      "71/71 [==============================] - 0s 7ms/step - loss: 0.5289 - recall: 0.6950 - val_loss: 0.5005 - val_recall: 0.7157\n",
      "Epoch 137/200\n",
      "71/71 [==============================] - 0s 6ms/step - loss: 0.5207 - recall: 0.6929 - val_loss: 0.4754 - val_recall: 0.6912\n",
      "Epoch 138/200\n",
      "71/71 [==============================] - 0s 5ms/step - loss: 0.5212 - recall: 0.6836 - val_loss: 0.4685 - val_recall: 0.6765\n",
      "Epoch 139/200\n",
      "71/71 [==============================] - 0s 6ms/step - loss: 0.5220 - recall: 0.6863 - val_loss: 0.4846 - val_recall: 0.7059\n",
      "Epoch 140/200\n",
      "71/71 [==============================] - 0s 5ms/step - loss: 0.5173 - recall: 0.6748 - val_loss: 0.4813 - val_recall: 0.6961\n",
      "Epoch 141/200\n",
      "71/71 [==============================] - 1s 7ms/step - loss: 0.5228 - recall: 0.6743 - val_loss: 0.4869 - val_recall: 0.7059\n",
      "Epoch 142/200\n",
      "71/71 [==============================] - 0s 6ms/step - loss: 0.5188 - recall: 0.6836 - val_loss: 0.4878 - val_recall: 0.7059\n",
      "Epoch 143/200\n",
      "71/71 [==============================] - 0s 6ms/step - loss: 0.5202 - recall: 0.6863 - val_loss: 0.4611 - val_recall: 0.6667\n",
      "Epoch 144/200\n",
      "71/71 [==============================] - 0s 6ms/step - loss: 0.5221 - recall: 0.6879 - val_loss: 0.4879 - val_recall: 0.7059\n",
      "Epoch 145/200\n",
      "71/71 [==============================] - 1s 7ms/step - loss: 0.5185 - recall: 0.6836 - val_loss: 0.4680 - val_recall: 0.6814\n",
      "Epoch 146/200\n",
      "71/71 [==============================] - 0s 6ms/step - loss: 0.5239 - recall: 0.6972 - val_loss: 0.5093 - val_recall: 0.7157\n",
      "Epoch 147/200\n",
      "71/71 [==============================] - 0s 6ms/step - loss: 0.5187 - recall: 0.6874 - val_loss: 0.4691 - val_recall: 0.6716\n",
      "Epoch 148/200\n",
      "71/71 [==============================] - 0s 6ms/step - loss: 0.5261 - recall: 0.6896 - val_loss: 0.4945 - val_recall: 0.7157\n",
      "Epoch 149/200\n",
      "71/71 [==============================] - 0s 6ms/step - loss: 0.5207 - recall: 0.6809 - val_loss: 0.4900 - val_recall: 0.6863\n",
      "Epoch 150/200\n",
      "71/71 [==============================] - 0s 5ms/step - loss: 0.5261 - recall: 0.6803 - val_loss: 0.4588 - val_recall: 0.6667\n",
      "Epoch 151/200\n",
      "71/71 [==============================] - 0s 5ms/step - loss: 0.5188 - recall: 0.6841 - val_loss: 0.4792 - val_recall: 0.6863\n",
      "Epoch 152/200\n",
      "71/71 [==============================] - 0s 7ms/step - loss: 0.5159 - recall: 0.6863 - val_loss: 0.4697 - val_recall: 0.6716\n",
      "Epoch 153/200\n",
      "71/71 [==============================] - 0s 5ms/step - loss: 0.5100 - recall: 0.6847 - val_loss: 0.4854 - val_recall: 0.7206\n",
      "Epoch 154/200\n",
      "71/71 [==============================] - 0s 5ms/step - loss: 0.5165 - recall: 0.6869 - val_loss: 0.4738 - val_recall: 0.6863\n",
      "Epoch 155/200\n",
      "71/71 [==============================] - 0s 5ms/step - loss: 0.5173 - recall: 0.6978 - val_loss: 0.4852 - val_recall: 0.7255\n",
      "Epoch 156/200\n",
      "71/71 [==============================] - 0s 4ms/step - loss: 0.5164 - recall: 0.6967 - val_loss: 0.4807 - val_recall: 0.7010\n",
      "Epoch 157/200\n",
      "71/71 [==============================] - 0s 4ms/step - loss: 0.5197 - recall: 0.6907 - val_loss: 0.4789 - val_recall: 0.7010\n",
      "Epoch 158/200\n",
      "71/71 [==============================] - 0s 4ms/step - loss: 0.5103 - recall: 0.6999 - val_loss: 0.4591 - val_recall: 0.6814\n",
      "Epoch 159/200\n",
      "71/71 [==============================] - 0s 4ms/step - loss: 0.5162 - recall: 0.6989 - val_loss: 0.4676 - val_recall: 0.6814\n",
      "Epoch 160/200\n",
      "71/71 [==============================] - 0s 4ms/step - loss: 0.5128 - recall: 0.6939 - val_loss: 0.4681 - val_recall: 0.6765\n",
      "Epoch 161/200\n",
      "71/71 [==============================] - 0s 4ms/step - loss: 0.5144 - recall: 0.6999 - val_loss: 0.4749 - val_recall: 0.7010\n",
      "Epoch 162/200\n",
      "71/71 [==============================] - 0s 6ms/step - loss: 0.5144 - recall: 0.6792 - val_loss: 0.4677 - val_recall: 0.6863\n",
      "Epoch 163/200\n",
      "71/71 [==============================] - 0s 6ms/step - loss: 0.5184 - recall: 0.6901 - val_loss: 0.5002 - val_recall: 0.7255\n",
      "Epoch 164/200\n",
      "71/71 [==============================] - 0s 6ms/step - loss: 0.5164 - recall: 0.7032 - val_loss: 0.4682 - val_recall: 0.6863\n",
      "Epoch 165/200\n",
      "71/71 [==============================] - 1s 8ms/step - loss: 0.5127 - recall: 0.6901 - val_loss: 0.4693 - val_recall: 0.6863\n",
      "Epoch 166/200\n",
      "71/71 [==============================] - 0s 6ms/step - loss: 0.5165 - recall: 0.6759 - val_loss: 0.4720 - val_recall: 0.7010\n",
      "Epoch 167/200\n",
      "71/71 [==============================] - 0s 6ms/step - loss: 0.5176 - recall: 0.6890 - val_loss: 0.4817 - val_recall: 0.7157\n",
      "Epoch 168/200\n",
      "71/71 [==============================] - 0s 5ms/step - loss: 0.5210 - recall: 0.6978 - val_loss: 0.5126 - val_recall: 0.7402\n",
      "Epoch 169/200\n",
      "71/71 [==============================] - 0s 6ms/step - loss: 0.5178 - recall: 0.6907 - val_loss: 0.4785 - val_recall: 0.7108\n",
      "Epoch 170/200\n",
      "71/71 [==============================] - 0s 6ms/step - loss: 0.5161 - recall: 0.6770 - val_loss: 0.4745 - val_recall: 0.7010\n",
      "Epoch 171/200\n",
      "71/71 [==============================] - 0s 7ms/step - loss: 0.5206 - recall: 0.6901 - val_loss: 0.4900 - val_recall: 0.7206\n",
      "Epoch 172/200\n",
      "71/71 [==============================] - 0s 7ms/step - loss: 0.5182 - recall: 0.6939 - val_loss: 0.4829 - val_recall: 0.7108\n",
      "Epoch 173/200\n",
      "71/71 [==============================] - 0s 6ms/step - loss: 0.5180 - recall: 0.6923 - val_loss: 0.4784 - val_recall: 0.7010\n",
      "Epoch 174/200\n",
      "71/71 [==============================] - 0s 6ms/step - loss: 0.5141 - recall: 0.6901 - val_loss: 0.4663 - val_recall: 0.6912\n",
      "Epoch 175/200\n",
      "71/71 [==============================] - 0s 6ms/step - loss: 0.5126 - recall: 0.6929 - val_loss: 0.4696 - val_recall: 0.7108\n",
      "Epoch 176/200\n",
      "71/71 [==============================] - 0s 6ms/step - loss: 0.5205 - recall: 0.6841 - val_loss: 0.4891 - val_recall: 0.7108\n",
      "Epoch 177/200\n",
      "71/71 [==============================] - 0s 5ms/step - loss: 0.5143 - recall: 0.7114 - val_loss: 0.4664 - val_recall: 0.6765\n",
      "Epoch 178/200\n"
     ]
    },
    {
     "name": "stdout",
     "output_type": "stream",
     "text": [
      "71/71 [==============================] - 0s 5ms/step - loss: 0.5171 - recall: 0.6809 - val_loss: 0.4683 - val_recall: 0.6765\n",
      "Epoch 179/200\n",
      "71/71 [==============================] - 0s 5ms/step - loss: 0.5161 - recall: 0.6912 - val_loss: 0.4887 - val_recall: 0.7304\n",
      "Epoch 180/200\n",
      "71/71 [==============================] - 0s 5ms/step - loss: 0.5176 - recall: 0.6787 - val_loss: 0.4712 - val_recall: 0.6912\n",
      "Epoch 00180: early stopping\n"
     ]
    },
    {
     "data": {
      "text/plain": [
       "<keras.callbacks.History at 0x2a57327fcc8>"
      ]
     },
     "execution_count": 65,
     "metadata": {},
     "output_type": "execute_result"
    }
   ],
   "source": [
    "final_model = Sequential()\n",
    "\n",
    "\n",
    "final_model.add(Dense(30, activation=\"relu\"))\n",
    "final_model.add(Dropout(0.5))\n",
    "final_model.add(Dense(15, activation=\"relu\"))\n",
    "final_model.add(Dropout(0.5))\n",
    "final_model.add(Dense(1, activation=\"sigmoid\"))\n",
    "\n",
    "final_model.compile(optimizer=\"rmsprop\",\n",
    "                    loss=\"binary_crossentropy\",\n",
    "                    metrics=[\"Recall\"])\n",
    "\n",
    "final_model.fit(x=X_train,\n",
    "                y=y_train,\n",
    "                validation_data=(X_test, y_test),\n",
    "                callbacks=[early_stop],\n",
    "                batch_size=128,\n",
    "                epochs=200,\n",
    "                verbose=1,\n",
    "                class_weight=class_weights)"
   ]
  },
  {
   "cell_type": "code",
   "execution_count": 66,
   "metadata": {
    "cell_style": "split",
    "executionInfo": {
     "elapsed": 809,
     "status": "ok",
     "timestamp": 1610205470123,
     "user": {
      "displayName": "Richard C",
      "photoUrl": "",
      "userId": "08040814671867660929"
     },
     "user_tz": -180
    },
    "id": "vQIbjGQduQpQ",
    "scrolled": true
   },
   "outputs": [
    {
     "data": {
      "text/plain": [
       "<AxesSubplot:>"
      ]
     },
     "execution_count": 66,
     "metadata": {},
     "output_type": "execute_result"
    },
    {
     "data": {
      "image/png": "[encoded data removed]",
      "text/plain": [
       "<Figure size 864x432 with 1 Axes>"
      ]
     },
     "metadata": {},
     "output_type": "display_data"
    }
   ],
   "source": [
    "loss_df = pd.DataFrame(final_model.history.history)\n",
    "loss_df.plot()"
   ]
  },
  {
   "cell_type": "code",
   "execution_count": 67,
   "metadata": {},
   "outputs": [
    {
     "data": {
      "text/html": [
       "<div>\n",
       "<style scoped>\n",
       "    .dataframe tbody tr th:only-of-type {\n",
       "        vertical-align: middle;\n",
       "    }\n",
       "\n",
       "    .dataframe tbody tr th {\n",
       "        vertical-align: top;\n",
       "    }\n",
       "\n",
       "    .dataframe thead th {\n",
       "        text-align: right;\n",
       "    }\n",
       "</style>\n",
       "<table border=\"1\" class=\"dataframe\">\n",
       "  <thead>\n",
       "    <tr style=\"text-align: right;\">\n",
       "      <th></th>\n",
       "      <th>loss</th>\n",
       "      <th>recall</th>\n",
       "      <th>val_loss</th>\n",
       "      <th>val_recall</th>\n",
       "    </tr>\n",
       "  </thead>\n",
       "  <tbody>\n",
       "    <tr>\n",
       "      <th>0</th>\n",
       "      <td>0.698</td>\n",
       "      <td>0.595</td>\n",
       "      <td>0.684</td>\n",
       "      <td>0.569</td>\n",
       "    </tr>\n",
       "    <tr>\n",
       "      <th>1</th>\n",
       "      <td>0.688</td>\n",
       "      <td>0.521</td>\n",
       "      <td>0.666</td>\n",
       "      <td>0.402</td>\n",
       "    </tr>\n",
       "    <tr>\n",
       "      <th>2</th>\n",
       "      <td>0.680</td>\n",
       "      <td>0.512</td>\n",
       "      <td>0.667</td>\n",
       "      <td>0.520</td>\n",
       "    </tr>\n",
       "    <tr>\n",
       "      <th>3</th>\n",
       "      <td>0.674</td>\n",
       "      <td>0.565</td>\n",
       "      <td>0.656</td>\n",
       "      <td>0.515</td>\n",
       "    </tr>\n",
       "    <tr>\n",
       "      <th>4</th>\n",
       "      <td>0.661</td>\n",
       "      <td>0.589</td>\n",
       "      <td>0.644</td>\n",
       "      <td>0.534</td>\n",
       "    </tr>\n",
       "    <tr>\n",
       "      <th>...</th>\n",
       "      <td>...</td>\n",
       "      <td>...</td>\n",
       "      <td>...</td>\n",
       "      <td>...</td>\n",
       "    </tr>\n",
       "    <tr>\n",
       "      <th>175</th>\n",
       "      <td>0.521</td>\n",
       "      <td>0.684</td>\n",
       "      <td>0.489</td>\n",
       "      <td>0.711</td>\n",
       "    </tr>\n",
       "    <tr>\n",
       "      <th>176</th>\n",
       "      <td>0.514</td>\n",
       "      <td>0.711</td>\n",
       "      <td>0.466</td>\n",
       "      <td>0.676</td>\n",
       "    </tr>\n",
       "    <tr>\n",
       "      <th>177</th>\n",
       "      <td>0.517</td>\n",
       "      <td>0.681</td>\n",
       "      <td>0.468</td>\n",
       "      <td>0.676</td>\n",
       "    </tr>\n",
       "    <tr>\n",
       "      <th>178</th>\n",
       "      <td>0.516</td>\n",
       "      <td>0.691</td>\n",
       "      <td>0.489</td>\n",
       "      <td>0.730</td>\n",
       "    </tr>\n",
       "    <tr>\n",
       "      <th>179</th>\n",
       "      <td>0.518</td>\n",
       "      <td>0.679</td>\n",
       "      <td>0.471</td>\n",
       "      <td>0.691</td>\n",
       "    </tr>\n",
       "  </tbody>\n",
       "</table>\n",
       "<p>180 rows × 4 columns</p>\n",
       "</div>"
      ],
      "text/plain": [
       "     loss  recall  val_loss  val_recall\n",
       "0   0.698   0.595     0.684       0.569\n",
       "1   0.688   0.521     0.666       0.402\n",
       "2   0.680   0.512     0.667       0.520\n",
       "3   0.674   0.565     0.656       0.515\n",
       "4   0.661   0.589     0.644       0.534\n",
       "..    ...     ...       ...         ...\n",
       "175 0.521   0.684     0.489       0.711\n",
       "176 0.514   0.711     0.466       0.676\n",
       "177 0.517   0.681     0.468       0.676\n",
       "178 0.516   0.691     0.489       0.730\n",
       "179 0.518   0.679     0.471       0.691\n",
       "\n",
       "[180 rows x 4 columns]"
      ]
     },
     "execution_count": 67,
     "metadata": {},
     "output_type": "execute_result"
    }
   ],
   "source": [
    "loss_df"
   ]
  },
  {
   "cell_type": "code",
   "execution_count": 68,
   "metadata": {},
   "outputs": [
    {
     "data": {
      "text/html": [
       "<div>\n",
       "<style scoped>\n",
       "    .dataframe tbody tr th:only-of-type {\n",
       "        vertical-align: middle;\n",
       "    }\n",
       "\n",
       "    .dataframe tbody tr th {\n",
       "        vertical-align: top;\n",
       "    }\n",
       "\n",
       "    .dataframe thead th {\n",
       "        text-align: right;\n",
       "    }\n",
       "</style>\n",
       "<table border=\"1\" class=\"dataframe\">\n",
       "  <thead>\n",
       "    <tr style=\"text-align: right;\">\n",
       "      <th></th>\n",
       "      <th>loss</th>\n",
       "      <th>recall</th>\n",
       "      <th>val_loss</th>\n",
       "      <th>val_recall</th>\n",
       "    </tr>\n",
       "  </thead>\n",
       "  <tbody>\n",
       "    <tr>\n",
       "      <th>167</th>\n",
       "      <td>0.521</td>\n",
       "      <td>0.698</td>\n",
       "      <td>0.513</td>\n",
       "      <td>0.740</td>\n",
       "    </tr>\n",
       "    <tr>\n",
       "      <th>178</th>\n",
       "      <td>0.516</td>\n",
       "      <td>0.691</td>\n",
       "      <td>0.489</td>\n",
       "      <td>0.730</td>\n",
       "    </tr>\n",
       "    <tr>\n",
       "      <th>122</th>\n",
       "      <td>0.529</td>\n",
       "      <td>0.673</td>\n",
       "      <td>0.506</td>\n",
       "      <td>0.725</td>\n",
       "    </tr>\n",
       "    <tr>\n",
       "      <th>154</th>\n",
       "      <td>0.517</td>\n",
       "      <td>0.698</td>\n",
       "      <td>0.485</td>\n",
       "      <td>0.725</td>\n",
       "    </tr>\n",
       "    <tr>\n",
       "      <th>162</th>\n",
       "      <td>0.518</td>\n",
       "      <td>0.690</td>\n",
       "      <td>0.500</td>\n",
       "      <td>0.725</td>\n",
       "    </tr>\n",
       "    <tr>\n",
       "      <th>49</th>\n",
       "      <td>0.554</td>\n",
       "      <td>0.674</td>\n",
       "      <td>0.544</td>\n",
       "      <td>0.721</td>\n",
       "    </tr>\n",
       "    <tr>\n",
       "      <th>56</th>\n",
       "      <td>0.546</td>\n",
       "      <td>0.666</td>\n",
       "      <td>0.524</td>\n",
       "      <td>0.721</td>\n",
       "    </tr>\n",
       "    <tr>\n",
       "      <th>69</th>\n",
       "      <td>0.539</td>\n",
       "      <td>0.667</td>\n",
       "      <td>0.520</td>\n",
       "      <td>0.721</td>\n",
       "    </tr>\n",
       "    <tr>\n",
       "      <th>80</th>\n",
       "      <td>0.532</td>\n",
       "      <td>0.671</td>\n",
       "      <td>0.528</td>\n",
       "      <td>0.721</td>\n",
       "    </tr>\n",
       "    <tr>\n",
       "      <th>152</th>\n",
       "      <td>0.510</td>\n",
       "      <td>0.685</td>\n",
       "      <td>0.485</td>\n",
       "      <td>0.721</td>\n",
       "    </tr>\n",
       "  </tbody>\n",
       "</table>\n",
       "</div>"
      ],
      "text/plain": [
       "     loss  recall  val_loss  val_recall\n",
       "167 0.521   0.698     0.513       0.740\n",
       "178 0.516   0.691     0.489       0.730\n",
       "122 0.529   0.673     0.506       0.725\n",
       "154 0.517   0.698     0.485       0.725\n",
       "162 0.518   0.690     0.500       0.725\n",
       "49  0.554   0.674     0.544       0.721\n",
       "56  0.546   0.666     0.524       0.721\n",
       "69  0.539   0.667     0.520       0.721\n",
       "80  0.532   0.671     0.528       0.721\n",
       "152 0.510   0.685     0.485       0.721"
      ]
     },
     "execution_count": 68,
     "metadata": {},
     "output_type": "execute_result"
    }
   ],
   "source": [
    "loss_df.nlargest(10, \"val_recall\")"
   ]
  },
  {
   "cell_type": "code",
   "execution_count": 69,
   "metadata": {
    "cell_style": "split",
    "scrolled": false
   },
   "outputs": [
    {
     "name": "stdout",
     "output_type": "stream",
     "text": [
      "[[661 135]\n",
      " [ 63 141]]\n",
      "              precision    recall  f1-score   support\n",
      "\n",
      "           0       0.91      0.83      0.87       796\n",
      "           1       0.51      0.69      0.59       204\n",
      "\n",
      "    accuracy                           0.80      1000\n",
      "   macro avg       0.71      0.76      0.73      1000\n",
      "weighted avg       0.83      0.80      0.81      1000\n",
      "\n"
     ]
    }
   ],
   "source": [
    "y_test_pred = (final_model.predict(X_test) > 0.5).astype(\"int32\")\n",
    "print(confusion_matrix(y_test, y_test_pred))\n",
    "print(classification_report(y_test, y_test_pred))"
   ]
  },
  {
   "cell_type": "code",
   "execution_count": 70,
   "metadata": {},
   "outputs": [],
   "source": [
    "final_model.save('model_churn.h5')"
   ]
  },
  {
   "cell_type": "markdown",
   "metadata": {
    "heading_collapsed": true,
    "id": "Cq10ovAX6daY"
   },
   "source": [
    "### Prediction"
   ]
  },
  {
   "cell_type": "code",
   "execution_count": 71,
   "metadata": {
    "hidden": true
   },
   "outputs": [
    {
     "data": {
      "text/plain": [
       "CreditScore            619.000\n",
       "Age                     42.000\n",
       "Tenure                   2.000\n",
       "Balance                  0.000\n",
       "NumOfProducts            1.000\n",
       "HasCrCard                1.000\n",
       "IsActiveMember           1.000\n",
       "EstimatedSalary     101348.880\n",
       "customer_value           3.000\n",
       "Geography_France         1.000\n",
       "Geography_Germany        0.000\n",
       "Geography_Spain          0.000\n",
       "Gender_Female            1.000\n",
       "Gender_Male              0.000\n",
       "Name: 1, dtype: float64"
      ]
     },
     "execution_count": 71,
     "metadata": {},
     "output_type": "execute_result"
    }
   ],
   "source": [
    "single_customer = df.drop('Exited', axis=1).iloc[0]\n",
    "single_customer"
   ]
  },
  {
   "cell_type": "code",
   "execution_count": 72,
   "metadata": {
    "hidden": true
   },
   "outputs": [
    {
     "data": {
      "text/plain": [
       "array([[0.538     , 0.32432432, 0.2       , 0.        , 0.        ,\n",
       "        1.        , 1.        , 0.50673489, 0.75      , 1.        ,\n",
       "        0.        , 0.        , 1.        , 0.        ]])"
      ]
     },
     "execution_count": 72,
     "metadata": {},
     "output_type": "execute_result"
    }
   ],
   "source": [
    "single_customer = scaler.transform(single_customer.values.reshape(-1, 14))\n",
    "single_customer"
   ]
  },
  {
   "cell_type": "code",
   "execution_count": 73,
   "metadata": {
    "hidden": true
   },
   "outputs": [
    {
     "data": {
      "text/plain": [
       "array([[1]])"
      ]
     },
     "execution_count": 73,
     "metadata": {},
     "output_type": "execute_result"
    }
   ],
   "source": [
    "(final_model.predict(single_customer) > 0.5).astype(\"int32\")"
   ]
  },
  {
   "cell_type": "code",
   "execution_count": 74,
   "metadata": {
    "hidden": true
   },
   "outputs": [
    {
     "data": {
      "text/plain": [
       "1"
      ]
     },
     "execution_count": 74,
     "metadata": {},
     "output_type": "execute_result"
    }
   ],
   "source": [
    "df[\"Exited\"].iloc[0]"
   ]
  },
  {
   "cell_type": "markdown",
   "metadata": {
    "hidden": true
   },
   "source": [
    "---\n",
    "---"
   ]
  },
  {
   "cell_type": "markdown",
   "metadata": {},
   "source": [
    "## Comparison with ML"
   ]
  },
  {
   "cell_type": "code",
   "execution_count": 99,
   "metadata": {},
   "outputs": [],
   "source": [
    "from sklearn.pipeline import Pipeline\n",
    "from sklearn.ensemble import RandomForestClassifier\n",
    "from sklearn.svm import SVC\n",
    "from sklearn.linear_model import LogisticRegression"
   ]
  },
  {
   "cell_type": "code",
   "execution_count": 100,
   "metadata": {},
   "outputs": [],
   "source": [
    "clf1 = RandomForestClassifier(random_state=42, class_weight=\"balanced\")\n",
    "clf2 = SVC(probability=True, random_state=42, class_weight=\"balanced\")\n",
    "clf3 = LogisticRegression(random_state=42, class_weight=\"balanced\")"
   ]
  },
  {
   "cell_type": "code",
   "execution_count": null,
   "metadata": {},
   "outputs": [],
   "source": []
  },
  {
   "cell_type": "code",
   "execution_count": 101,
   "metadata": {
    "cell_style": "split"
   },
   "outputs": [],
   "source": [
    "# Initiaze the hyperparameters for each dictionary\n",
    "param1 = {}\n",
    "param1['classifier__n_estimators'] = [10, 50, 100, 250]\n",
    "param1['classifier__max_depth'] = [5, 10, 20]\n",
    "param1['classifier'] = [clf1]\n",
    "\n",
    "param2 = {}\n",
    "param2['classifier__C'] = [10**(-2+i) for i in range(5)]\n",
    "param2['classifier'] = [clf2]\n",
    "\n",
    "param3 = {}\n",
    "param3['classifier__C'] = [10**(-2+i) for i in range(5)]\n",
    "param3['classifier__penalty'] = ['l1', 'l2']\n",
    "param3['classifier'] = [clf3]"
   ]
  },
  {
   "cell_type": "code",
   "execution_count": 102,
   "metadata": {
    "cell_style": "split"
   },
   "outputs": [],
   "source": [
    "pipeline = Pipeline([('classifier', clf1)])\n",
    "params = [param1, param2, param3]"
   ]
  },
  {
   "cell_type": "code",
   "execution_count": 103,
   "metadata": {
    "cell_style": "center"
   },
   "outputs": [],
   "source": [
    "grid_model_rf = GridSearchCV(pipeline, params, cv=5, n_jobs=-1,\n",
    "                          scoring='recall').fit(X_train, y_train)"
   ]
  },
  {
   "cell_type": "code",
   "execution_count": 104,
   "metadata": {
    "cell_style": "center"
   },
   "outputs": [
    {
     "data": {
      "text/plain": [
       "{'classifier': RandomForestClassifier(class_weight='balanced', max_depth=5, n_estimators=250,\n",
       "                        random_state=42),\n",
       " 'classifier__max_depth': 5,\n",
       " 'classifier__n_estimators': 250}"
      ]
     },
     "execution_count": 104,
     "metadata": {},
     "output_type": "execute_result"
    }
   ],
   "source": [
    "grid_model_rf.best_params_"
   ]
  },
  {
   "cell_type": "code",
   "execution_count": 105,
   "metadata": {
    "cell_style": "center"
   },
   "outputs": [
    {
     "data": {
      "text/plain": [
       "0.719587260463662"
      ]
     },
     "execution_count": 105,
     "metadata": {},
     "output_type": "execute_result"
    }
   ],
   "source": [
    "grid_model_rf.best_score_"
   ]
  },
  {
   "cell_type": "code",
   "execution_count": 106,
   "metadata": {
    "cell_style": "split"
   },
   "outputs": [
    {
     "data": {
      "image/png": "[encoded data removed]",
      "text/plain": [
       "<Figure size 864x432 with 1 Axes>"
      ]
     },
     "metadata": {},
     "output_type": "display_data"
    }
   ],
   "source": [
    "y_pred_proba = grid_model_rf.predict(X_test)\n",
    "fpr, tpr, thresholds = roc_curve(y_test, y_pred_proba)\n",
    "plt.plot([0,1],[0,1],'k--')\n",
    "plt.plot(fpr,tpr, label='ANN')\n",
    "plt.xlabel('False Positive Rate')\n",
    "plt.ylabel('True Positive Rate')\n",
    "plt.title('ROC Curve for Keras Model')\n",
    "plt.show()"
   ]
  },
  {
   "cell_type": "code",
   "execution_count": 107,
   "metadata": {
    "cell_style": "split"
   },
   "outputs": [
    {
     "data": {
      "text/plain": [
       "0.42380997415043187"
      ]
     },
     "execution_count": 107,
     "metadata": {},
     "output_type": "execute_result"
    }
   ],
   "source": [
    "average_precision_score(y_test, y_pred_proba)"
   ]
  },
  {
   "cell_type": "code",
   "execution_count": 108,
   "metadata": {
    "cell_style": "split",
    "scrolled": true
   },
   "outputs": [
    {
     "name": "stdout",
     "output_type": "stream",
     "text": [
      "[[639 157]\n",
      " [ 50 154]]\n",
      "              precision    recall  f1-score   support\n",
      "\n",
      "           0       0.93      0.80      0.86       796\n",
      "           1       0.50      0.75      0.60       204\n",
      "\n",
      "    accuracy                           0.79      1000\n",
      "   macro avg       0.71      0.78      0.73      1000\n",
      "weighted avg       0.84      0.79      0.81      1000\n",
      "\n"
     ]
    }
   ],
   "source": [
    "y_test_pred = (grid_model_rf.predict(X_test) > 0.5).astype(\"int32\")\n",
    "print(confusion_matrix(y_test, y_test_pred))\n",
    "print(classification_report(y_test, y_test_pred))"
   ]
  },
  {
   "cell_type": "markdown",
   "metadata": {},
   "source": [
    "# SVC"
   ]
  },
  {
   "cell_type": "code",
   "execution_count": 109,
   "metadata": {
    "cell_style": "split"
   },
   "outputs": [],
   "source": [
    "pipeline = Pipeline([('classifier', clf2)])\n",
    "params = [param1, param2, param3]"
   ]
  },
  {
   "cell_type": "code",
   "execution_count": null,
   "metadata": {
    "cell_style": "center"
   },
   "outputs": [],
   "source": [
    "grid_model_svc = GridSearchCV(pipeline, params, cv=5, n_jobs=-1,\n",
    "                          scoring='recall').fit(X_train, y_train)"
   ]
  },
  {
   "cell_type": "code",
   "execution_count": null,
   "metadata": {
    "cell_style": "center"
   },
   "outputs": [],
   "source": [
    "grid_model_svc.best_params_"
   ]
  },
  {
   "cell_type": "code",
   "execution_count": null,
   "metadata": {
    "cell_style": "center"
   },
   "outputs": [],
   "source": [
    "grid_model_svc.best_score_"
   ]
  },
  {
   "cell_type": "code",
   "execution_count": null,
   "metadata": {
    "cell_style": "split"
   },
   "outputs": [],
   "source": [
    "y_pred_proba = grid_model_svc.predict(X_test)\n",
    "fpr, tpr, thresholds = roc_curve(y_test, y_pred_proba)\n",
    "plt.plot([0,1],[0,1],'k--')\n",
    "plt.plot(fpr,tpr, label='ANN')\n",
    "plt.xlabel('False Positive Rate')\n",
    "plt.ylabel('True Positive Rate')\n",
    "plt.title('ROC Curve for Keras Model')\n",
    "plt.show()"
   ]
  },
  {
   "cell_type": "code",
   "execution_count": null,
   "metadata": {
    "cell_style": "split"
   },
   "outputs": [],
   "source": [
    "average_precision_score(y_test, y_pred_proba)"
   ]
  },
  {
   "cell_type": "code",
   "execution_count": null,
   "metadata": {
    "cell_style": "split",
    "scrolled": true
   },
   "outputs": [],
   "source": [
    "y_test_pred = (grid_model_svc.predict(X_test) > 0.5).astype(\"int32\")\n",
    "print(confusion_matrix(y_test, y_test_pred))\n",
    "print(classification_report(y_test, y_test_pred))"
   ]
  },
  {
   "cell_type": "markdown",
   "metadata": {},
   "source": [
    "# LR"
   ]
  },
  {
   "cell_type": "code",
   "execution_count": null,
   "metadata": {
    "cell_style": "split"
   },
   "outputs": [],
   "source": [
    "pipeline = Pipeline([('classifier', clf3)])\n",
    "params = [param1, param2, param3]"
   ]
  },
  {
   "cell_type": "code",
   "execution_count": null,
   "metadata": {
    "cell_style": "center"
   },
   "outputs": [],
   "source": [
    "grid_model_lr = GridSearchCV(pipeline, params, cv=5, n_jobs=-1,\n",
    "                          scoring='recall').fit(X_train, y_train)"
   ]
  },
  {
   "cell_type": "code",
   "execution_count": null,
   "metadata": {
    "cell_style": "center"
   },
   "outputs": [],
   "source": [
    "grid_model_lr.best_params_"
   ]
  },
  {
   "cell_type": "code",
   "execution_count": null,
   "metadata": {
    "cell_style": "center"
   },
   "outputs": [],
   "source": [
    "grid_model_lr.best_score_"
   ]
  },
  {
   "cell_type": "code",
   "execution_count": null,
   "metadata": {
    "cell_style": "split"
   },
   "outputs": [],
   "source": [
    "y_pred_proba = grid_model_lr.predict(X_test)\n",
    "fpr, tpr, thresholds = roc_curve(y_test, y_pred_proba)\n",
    "plt.plot([0,1],[0,1],'k--')\n",
    "plt.plot(fpr,tpr, label='ANN')\n",
    "plt.xlabel('False Positive Rate')\n",
    "plt.ylabel('True Positive Rate')\n",
    "plt.title('ROC Curve for Keras Model')\n",
    "plt.show()"
   ]
  },
  {
   "cell_type": "code",
   "execution_count": null,
   "metadata": {
    "cell_style": "split"
   },
   "outputs": [],
   "source": [
    "average_precision_score(y_test, y_pred_proba)"
   ]
  },
  {
   "cell_type": "code",
   "execution_count": null,
   "metadata": {
    "cell_style": "split",
    "scrolled": true
   },
   "outputs": [],
   "source": [
    "y_test_pred = (grid_model_lr.predict(X_test) > 0.5).astype(\"int32\")\n",
    "print(confusion_matrix(y_test, y_test_pred))\n",
    "print(classification_report(y_test, y_test_pred))"
   ]
  },
  {
   "cell_type": "markdown",
   "metadata": {},
   "source": [
    "---\n",
    "---"
   ]
  }
 ],
 "metadata": {
  "colab": {
   "authorship_tag": "ABX9TyPKBWWuNpSuP7DHsa+Zpo3l",
   "collapsed_sections": [],
   "name": "Untitled0.ipynb",
   "provenance": []
  },
  "hide_input": false,
  "interpreter": {
   "hash": "e4e90950cb561445fc7289d5187c528b28750a487d008a70b474c773afaf79b7"
  },
  "kernelspec": {
   "display_name": "Python 3",
   "language": "python",
   "name": "python3"
  },
  "language_info": {
   "codemirror_mode": {
    "name": "ipython",
    "version": 3
   },
   "file_extension": ".py",
   "mimetype": "text/x-python",
   "name": "python",
   "nbconvert_exporter": "python",
   "pygments_lexer": "ipython3",
   "version": "3.7.10"
  },
  "varInspector": {
   "cols": {
    "lenName": 16,
    "lenType": 16,
    "lenVar": 40
   },
   "kernels_config": {
    "python": {
     "delete_cmd_postfix": "",
     "delete_cmd_prefix": "del ",
     "library": "var_list.py",
     "varRefreshCmd": "print(var_dic_list())"
    },
    "r": {
     "delete_cmd_postfix": ") ",
     "delete_cmd_prefix": "rm(",
     "library": "var_list.r",
     "varRefreshCmd": "cat(var_dic_list()) "
    }
   },
   "types_to_exclude": [
    "module",
    "function",
    "builtin_function_or_method",
    "instance",
    "_Feature"
   ],
   "window_display": false
  }
 },
 "nbformat": 4,
 "nbformat_minor": 4
}
