{
 "cells": [
  {
   "cell_type": "markdown",
   "metadata": {},
   "source": [
    "# Keras Classification"
   ]
  },
  {
   "cell_type": "markdown",
   "metadata": {},
   "source": [
    "<span class=\"girk\">We have a dataset in which there are details of a bank's customers and the target variable is a binary variable reflecting the fact whether the customer left the bank (closed his account) or he continues to be a customer.</span>"
   ]
  },
  {
   "cell_type": "markdown",
   "metadata": {},
   "source": [
    "---\n",
    "---"
   ]
  },
  {
   "cell_type": "markdown",
   "metadata": {
    "cell_style": "center"
   },
   "source": [
    "## Import  libraries & data"
   ]
  },
  {
   "cell_type": "code",
   "execution_count": 1,
   "metadata": {
    "cell_style": "center",
    "executionInfo": {
     "elapsed": 991,
     "status": "ok",
     "timestamp": 1610201325502,
     "user": {
      "displayName": "Richard C",
      "photoUrl": "",
      "userId": "08040814671867660929"
     },
     "user_tz": -180
    },
    "id": "6VD4eWBQcze2"
   },
   "outputs": [],
   "source": [
    "import numpy as np\n",
    "import pandas as pd\n",
    "import seaborn as sns\n",
    "import matplotlib.pyplot as plt\n",
    "\n",
    "%matplotlib inline\n",
    "# %matplotlib notebook\n",
    "plt.rcParams[\"figure.figsize\"] = (12, 6)\n",
    "# plt.rcParams['figure.dpi'] = 100\n",
    "sns.set_style(\"whitegrid\")\n",
    "import warnings\n",
    "\n",
    "warnings.filterwarnings(\"ignore\")\n",
    "warnings.warn(\"this will not show\")\n",
    "pd.set_option('display.float_format', lambda x: '%.3f' % x)"
   ]
  },
  {
   "cell_type": "code",
   "execution_count": 2,
   "metadata": {
    "cell_style": "center",
    "executionInfo": {
     "elapsed": 829,
     "status": "ok",
     "timestamp": 1610204616389,
     "user": {
      "displayName": "Richard C",
      "photoUrl": "",
      "userId": "08040814671867660929"
     },
     "user_tz": -180
    },
    "id": "YzzxpfNaoFyZ"
   },
   "outputs": [],
   "source": [
    "from tensorflow.keras.models import Sequential\n",
    "from tensorflow.keras.layers import Dense, Activation, Dropout\n",
    "from tensorflow.keras.callbacks import EarlyStopping\n",
    "from tensorflow.keras.optimizers import Adam\n",
    "from sklearn.metrics import classification_report, confusion_matrix\n",
    "from sklearn.metrics import roc_auc_score, roc_curve, precision_recall_curve, average_precision_score\n",
    "from sklearn.model_selection import cross_val_score, cross_validate\n",
    "from sklearn.model_selection import GridSearchCV"
   ]
  },
  {
   "cell_type": "code",
   "execution_count": 3,
   "metadata": {},
   "outputs": [
    {
     "data": {
      "text/html": [
       "<div>\n",
       "<style scoped>\n",
       "    .dataframe tbody tr th:only-of-type {\n",
       "        vertical-align: middle;\n",
       "    }\n",
       "\n",
       "    .dataframe tbody tr th {\n",
       "        vertical-align: top;\n",
       "    }\n",
       "\n",
       "    .dataframe thead th {\n",
       "        text-align: right;\n",
       "    }\n",
       "</style>\n",
       "<table border=\"1\" class=\"dataframe\">\n",
       "  <thead>\n",
       "    <tr style=\"text-align: right;\">\n",
       "      <th></th>\n",
       "      <th>CustomerId</th>\n",
       "      <th>Surname</th>\n",
       "      <th>CreditScore</th>\n",
       "      <th>Geography</th>\n",
       "      <th>Gender</th>\n",
       "      <th>Age</th>\n",
       "      <th>Tenure</th>\n",
       "      <th>Balance</th>\n",
       "      <th>NumOfProducts</th>\n",
       "      <th>HasCrCard</th>\n",
       "      <th>IsActiveMember</th>\n",
       "      <th>EstimatedSalary</th>\n",
       "      <th>Exited</th>\n",
       "    </tr>\n",
       "    <tr>\n",
       "      <th>RowNumber</th>\n",
       "      <th></th>\n",
       "      <th></th>\n",
       "      <th></th>\n",
       "      <th></th>\n",
       "      <th></th>\n",
       "      <th></th>\n",
       "      <th></th>\n",
       "      <th></th>\n",
       "      <th></th>\n",
       "      <th></th>\n",
       "      <th></th>\n",
       "      <th></th>\n",
       "      <th></th>\n",
       "    </tr>\n",
       "  </thead>\n",
       "  <tbody>\n",
       "    <tr>\n",
       "      <th>1</th>\n",
       "      <td>15634602</td>\n",
       "      <td>Hargrave</td>\n",
       "      <td>619</td>\n",
       "      <td>France</td>\n",
       "      <td>Female</td>\n",
       "      <td>42</td>\n",
       "      <td>2</td>\n",
       "      <td>0.000</td>\n",
       "      <td>1</td>\n",
       "      <td>1</td>\n",
       "      <td>1</td>\n",
       "      <td>101348.880</td>\n",
       "      <td>1</td>\n",
       "    </tr>\n",
       "    <tr>\n",
       "      <th>2</th>\n",
       "      <td>15647311</td>\n",
       "      <td>Hill</td>\n",
       "      <td>608</td>\n",
       "      <td>Spain</td>\n",
       "      <td>Female</td>\n",
       "      <td>41</td>\n",
       "      <td>1</td>\n",
       "      <td>83807.860</td>\n",
       "      <td>1</td>\n",
       "      <td>0</td>\n",
       "      <td>1</td>\n",
       "      <td>112542.580</td>\n",
       "      <td>0</td>\n",
       "    </tr>\n",
       "    <tr>\n",
       "      <th>3</th>\n",
       "      <td>15619304</td>\n",
       "      <td>Onio</td>\n",
       "      <td>502</td>\n",
       "      <td>France</td>\n",
       "      <td>Female</td>\n",
       "      <td>42</td>\n",
       "      <td>8</td>\n",
       "      <td>159660.800</td>\n",
       "      <td>3</td>\n",
       "      <td>1</td>\n",
       "      <td>0</td>\n",
       "      <td>113931.570</td>\n",
       "      <td>1</td>\n",
       "    </tr>\n",
       "    <tr>\n",
       "      <th>4</th>\n",
       "      <td>15701354</td>\n",
       "      <td>Boni</td>\n",
       "      <td>699</td>\n",
       "      <td>France</td>\n",
       "      <td>Female</td>\n",
       "      <td>39</td>\n",
       "      <td>1</td>\n",
       "      <td>0.000</td>\n",
       "      <td>2</td>\n",
       "      <td>0</td>\n",
       "      <td>0</td>\n",
       "      <td>93826.630</td>\n",
       "      <td>0</td>\n",
       "    </tr>\n",
       "    <tr>\n",
       "      <th>5</th>\n",
       "      <td>15737888</td>\n",
       "      <td>Mitchell</td>\n",
       "      <td>850</td>\n",
       "      <td>Spain</td>\n",
       "      <td>Female</td>\n",
       "      <td>43</td>\n",
       "      <td>2</td>\n",
       "      <td>125510.820</td>\n",
       "      <td>1</td>\n",
       "      <td>1</td>\n",
       "      <td>1</td>\n",
       "      <td>79084.100</td>\n",
       "      <td>0</td>\n",
       "    </tr>\n",
       "  </tbody>\n",
       "</table>\n",
       "</div>"
      ],
      "text/plain": [
       "           CustomerId   Surname  CreditScore Geography  Gender  Age  Tenure  \\\n",
       "RowNumber                                                                     \n",
       "1            15634602  Hargrave          619    France  Female   42       2   \n",
       "2            15647311      Hill          608     Spain  Female   41       1   \n",
       "3            15619304      Onio          502    France  Female   42       8   \n",
       "4            15701354      Boni          699    France  Female   39       1   \n",
       "5            15737888  Mitchell          850     Spain  Female   43       2   \n",
       "\n",
       "             Balance  NumOfProducts  HasCrCard  IsActiveMember  \\\n",
       "RowNumber                                                        \n",
       "1              0.000              1          1               1   \n",
       "2          83807.860              1          0               1   \n",
       "3         159660.800              3          1               0   \n",
       "4              0.000              2          0               0   \n",
       "5         125510.820              1          1               1   \n",
       "\n",
       "           EstimatedSalary  Exited  \n",
       "RowNumber                           \n",
       "1               101348.880       1  \n",
       "2               112542.580       0  \n",
       "3               113931.570       1  \n",
       "4                93826.630       0  \n",
       "5                79084.100       0  "
      ]
     },
     "execution_count": 3,
     "metadata": {},
     "output_type": "execute_result"
    }
   ],
   "source": [
    "df = pd.read_csv(\"Churn_Modelling.csv\", index_col='RowNumber')\n",
    "df.head()"
   ]
  },
  {
   "cell_type": "markdown",
   "metadata": {},
   "source": [
    "## Exploratory Data Analysis and Visualization"
   ]
  },
  {
   "cell_type": "code",
   "execution_count": 4,
   "metadata": {},
   "outputs": [],
   "source": [
    "# !pip install pandasgui"
   ]
  },
  {
   "cell_type": "code",
   "execution_count": 5,
   "metadata": {},
   "outputs": [],
   "source": [
    "# from pandasgui import show\n",
    "\n",
    "# gui = show(df)"
   ]
  },
  {
   "cell_type": "code",
   "execution_count": 6,
   "metadata": {
    "cell_style": "split",
    "colab": {
     "base_uri": "https://localhost:8080/"
    },
    "executionInfo": {
     "elapsed": 854,
     "status": "ok",
     "timestamp": 1610201704635,
     "user": {
      "displayName": "Richard C",
      "photoUrl": "",
      "userId": "08040814671867660929"
     },
     "user_tz": -180
    },
    "id": "9ROCQa9wf2uE",
    "outputId": "40e94921-6a7c-48c6-8c09-2623b6b60fa3",
    "scrolled": false
   },
   "outputs": [
    {
     "name": "stdout",
     "output_type": "stream",
     "text": [
      "<class 'pandas.core.frame.DataFrame'>\n",
      "Int64Index: 10000 entries, 1 to 10000\n",
      "Data columns (total 13 columns):\n",
      " #   Column           Non-Null Count  Dtype  \n",
      "---  ------           --------------  -----  \n",
      " 0   CustomerId       10000 non-null  int64  \n",
      " 1   Surname          10000 non-null  object \n",
      " 2   CreditScore      10000 non-null  int64  \n",
      " 3   Geography        10000 non-null  object \n",
      " 4   Gender           10000 non-null  object \n",
      " 5   Age              10000 non-null  int64  \n",
      " 6   Tenure           10000 non-null  int64  \n",
      " 7   Balance          10000 non-null  float64\n",
      " 8   NumOfProducts    10000 non-null  int64  \n",
      " 9   HasCrCard        10000 non-null  int64  \n",
      " 10  IsActiveMember   10000 non-null  int64  \n",
      " 11  EstimatedSalary  10000 non-null  float64\n",
      " 12  Exited           10000 non-null  int64  \n",
      "dtypes: float64(2), int64(8), object(3)\n",
      "memory usage: 1.1+ MB\n"
     ]
    }
   ],
   "source": [
    "df.info()"
   ]
  },
  {
   "cell_type": "code",
   "execution_count": 7,
   "metadata": {
    "cell_style": "split",
    "colab": {
     "base_uri": "https://localhost:8080/"
    },
    "executionInfo": {
     "elapsed": 798,
     "status": "ok",
     "timestamp": 1610201657421,
     "user": {
      "displayName": "Richard C",
      "photoUrl": "",
      "userId": "08040814671867660929"
     },
     "user_tz": -180
    },
    "id": "vPyMUnVWfM0o",
    "outputId": "7a294ad3-49d9-4cea-b6a2-9824e2c0ba4a"
   },
   "outputs": [
    {
     "data": {
      "text/plain": [
       "(10000, 13)"
      ]
     },
     "execution_count": 7,
     "metadata": {},
     "output_type": "execute_result"
    }
   ],
   "source": [
    "df.shape"
   ]
  },
  {
   "cell_type": "code",
   "execution_count": 8,
   "metadata": {
    "cell_style": "split"
   },
   "outputs": [
    {
     "data": {
      "text/plain": [
       "False"
      ]
     },
     "execution_count": 8,
     "metadata": {},
     "output_type": "execute_result"
    }
   ],
   "source": [
    "df.isnull().sum().any()"
   ]
  },
  {
   "cell_type": "code",
   "execution_count": 9,
   "metadata": {
    "cell_style": "split",
    "scrolled": true
   },
   "outputs": [
    {
     "data": {
      "text/plain": [
       "0"
      ]
     },
     "execution_count": 9,
     "metadata": {},
     "output_type": "execute_result"
    }
   ],
   "source": [
    "df.duplicated().sum()"
   ]
  },
  {
   "cell_type": "code",
   "execution_count": 10,
   "metadata": {
    "cell_style": "center",
    "colab": {
     "base_uri": "https://localhost:8080/",
     "height": 1000
    },
    "executionInfo": {
     "elapsed": 967,
     "status": "ok",
     "timestamp": 1610201729941,
     "user": {
      "displayName": "Richard C",
      "photoUrl": "",
      "userId": "08040814671867660929"
     },
     "user_tz": -180
    },
    "id": "mdUkgZD-gCUx",
    "outputId": "cd4f6662-e8c3-4a6f-93d5-26fed83d8a82",
    "scrolled": false
   },
   "outputs": [
    {
     "data": {
      "text/html": [
       "<div>\n",
       "<style scoped>\n",
       "    .dataframe tbody tr th:only-of-type {\n",
       "        vertical-align: middle;\n",
       "    }\n",
       "\n",
       "    .dataframe tbody tr th {\n",
       "        vertical-align: top;\n",
       "    }\n",
       "\n",
       "    .dataframe thead th {\n",
       "        text-align: right;\n",
       "    }\n",
       "</style>\n",
       "<table border=\"1\" class=\"dataframe\">\n",
       "  <thead>\n",
       "    <tr style=\"text-align: right;\">\n",
       "      <th></th>\n",
       "      <th>count</th>\n",
       "      <th>mean</th>\n",
       "      <th>std</th>\n",
       "      <th>min</th>\n",
       "      <th>25%</th>\n",
       "      <th>50%</th>\n",
       "      <th>75%</th>\n",
       "      <th>max</th>\n",
       "    </tr>\n",
       "  </thead>\n",
       "  <tbody>\n",
       "    <tr>\n",
       "      <th>CustomerId</th>\n",
       "      <td>10000.000</td>\n",
       "      <td>15690940.569</td>\n",
       "      <td>71936.186</td>\n",
       "      <td>15565701.000</td>\n",
       "      <td>15628528.250</td>\n",
       "      <td>15690738.000</td>\n",
       "      <td>15753233.750</td>\n",
       "      <td>15815690.000</td>\n",
       "    </tr>\n",
       "    <tr>\n",
       "      <th>CreditScore</th>\n",
       "      <td>10000.000</td>\n",
       "      <td>650.529</td>\n",
       "      <td>96.653</td>\n",
       "      <td>350.000</td>\n",
       "      <td>584.000</td>\n",
       "      <td>652.000</td>\n",
       "      <td>718.000</td>\n",
       "      <td>850.000</td>\n",
       "    </tr>\n",
       "    <tr>\n",
       "      <th>Age</th>\n",
       "      <td>10000.000</td>\n",
       "      <td>38.922</td>\n",
       "      <td>10.488</td>\n",
       "      <td>18.000</td>\n",
       "      <td>32.000</td>\n",
       "      <td>37.000</td>\n",
       "      <td>44.000</td>\n",
       "      <td>92.000</td>\n",
       "    </tr>\n",
       "    <tr>\n",
       "      <th>Tenure</th>\n",
       "      <td>10000.000</td>\n",
       "      <td>5.013</td>\n",
       "      <td>2.892</td>\n",
       "      <td>0.000</td>\n",
       "      <td>3.000</td>\n",
       "      <td>5.000</td>\n",
       "      <td>7.000</td>\n",
       "      <td>10.000</td>\n",
       "    </tr>\n",
       "    <tr>\n",
       "      <th>Balance</th>\n",
       "      <td>10000.000</td>\n",
       "      <td>76485.889</td>\n",
       "      <td>62397.405</td>\n",
       "      <td>0.000</td>\n",
       "      <td>0.000</td>\n",
       "      <td>97198.540</td>\n",
       "      <td>127644.240</td>\n",
       "      <td>250898.090</td>\n",
       "    </tr>\n",
       "    <tr>\n",
       "      <th>NumOfProducts</th>\n",
       "      <td>10000.000</td>\n",
       "      <td>1.530</td>\n",
       "      <td>0.582</td>\n",
       "      <td>1.000</td>\n",
       "      <td>1.000</td>\n",
       "      <td>1.000</td>\n",
       "      <td>2.000</td>\n",
       "      <td>4.000</td>\n",
       "    </tr>\n",
       "    <tr>\n",
       "      <th>HasCrCard</th>\n",
       "      <td>10000.000</td>\n",
       "      <td>0.706</td>\n",
       "      <td>0.456</td>\n",
       "      <td>0.000</td>\n",
       "      <td>0.000</td>\n",
       "      <td>1.000</td>\n",
       "      <td>1.000</td>\n",
       "      <td>1.000</td>\n",
       "    </tr>\n",
       "    <tr>\n",
       "      <th>IsActiveMember</th>\n",
       "      <td>10000.000</td>\n",
       "      <td>0.515</td>\n",
       "      <td>0.500</td>\n",
       "      <td>0.000</td>\n",
       "      <td>0.000</td>\n",
       "      <td>1.000</td>\n",
       "      <td>1.000</td>\n",
       "      <td>1.000</td>\n",
       "    </tr>\n",
       "    <tr>\n",
       "      <th>EstimatedSalary</th>\n",
       "      <td>10000.000</td>\n",
       "      <td>100090.240</td>\n",
       "      <td>57510.493</td>\n",
       "      <td>11.580</td>\n",
       "      <td>51002.110</td>\n",
       "      <td>100193.915</td>\n",
       "      <td>149388.247</td>\n",
       "      <td>199992.480</td>\n",
       "    </tr>\n",
       "    <tr>\n",
       "      <th>Exited</th>\n",
       "      <td>10000.000</td>\n",
       "      <td>0.204</td>\n",
       "      <td>0.403</td>\n",
       "      <td>0.000</td>\n",
       "      <td>0.000</td>\n",
       "      <td>0.000</td>\n",
       "      <td>0.000</td>\n",
       "      <td>1.000</td>\n",
       "    </tr>\n",
       "  </tbody>\n",
       "</table>\n",
       "</div>"
      ],
      "text/plain": [
       "                    count         mean       std          min          25%  \\\n",
       "CustomerId      10000.000 15690940.569 71936.186 15565701.000 15628528.250   \n",
       "CreditScore     10000.000      650.529    96.653      350.000      584.000   \n",
       "Age             10000.000       38.922    10.488       18.000       32.000   \n",
       "Tenure          10000.000        5.013     2.892        0.000        3.000   \n",
       "Balance         10000.000    76485.889 62397.405        0.000        0.000   \n",
       "NumOfProducts   10000.000        1.530     0.582        1.000        1.000   \n",
       "HasCrCard       10000.000        0.706     0.456        0.000        0.000   \n",
       "IsActiveMember  10000.000        0.515     0.500        0.000        0.000   \n",
       "EstimatedSalary 10000.000   100090.240 57510.493       11.580    51002.110   \n",
       "Exited          10000.000        0.204     0.403        0.000        0.000   \n",
       "\n",
       "                         50%          75%          max  \n",
       "CustomerId      15690738.000 15753233.750 15815690.000  \n",
       "CreditScore          652.000      718.000      850.000  \n",
       "Age                   37.000       44.000       92.000  \n",
       "Tenure                 5.000        7.000       10.000  \n",
       "Balance            97198.540   127644.240   250898.090  \n",
       "NumOfProducts          1.000        2.000        4.000  \n",
       "HasCrCard              1.000        1.000        1.000  \n",
       "IsActiveMember         1.000        1.000        1.000  \n",
       "EstimatedSalary   100193.915   149388.247   199992.480  \n",
       "Exited                 0.000        0.000        1.000  "
      ]
     },
     "execution_count": 10,
     "metadata": {},
     "output_type": "execute_result"
    }
   ],
   "source": [
    "df.describe().T\n",
    "\n"
   ]
  },
  {
   "cell_type": "code",
   "execution_count": 11,
   "metadata": {},
   "outputs": [
    {
     "data": {
      "text/plain": [
       "<AxesSubplot:>"
      ]
     },
     "execution_count": 11,
     "metadata": {},
     "output_type": "execute_result"
    },
    {
     "data": {
      "image/png": "[encoded data removed]",
      "text/plain": [
       "<Figure size 864x432 with 1 Axes>"
      ]
     },
     "metadata": {},
     "output_type": "display_data"
    }
   ],
   "source": [
    "df.Balance.plot(kind=\"box\")"
   ]
  },
  {
   "cell_type": "code",
   "execution_count": 12,
   "metadata": {},
   "outputs": [],
   "source": [
    "df.drop(['CustomerId', 'Surname'], axis=1, inplace=True)"
   ]
  },
  {
   "cell_type": "code",
   "execution_count": 13,
   "metadata": {
    "cell_style": "split",
    "colab": {
     "base_uri": "https://localhost:8080/",
     "height": 297
    },
    "executionInfo": {
     "elapsed": 1052,
     "status": "ok",
     "timestamp": 1610201940310,
     "user": {
      "displayName": "Richard C",
      "photoUrl": "",
      "userId": "08040814671867660929"
     },
     "user_tz": -180
    },
    "id": "_7vHUi5Hgldj",
    "outputId": "0018aaa8-d479-40c3-f973-161c63e7a77b"
   },
   "outputs": [
    {
     "name": "stdout",
     "output_type": "stream",
     "text": [
      "0    7963\n",
      "1    2037\n",
      "Name: Exited, dtype: int64\n"
     ]
    },
    {
     "data": {
      "image/png": "[encoded data removed]",
      "text/plain": [
       "<Figure size 864x432 with 1 Axes>"
      ]
     },
     "metadata": {},
     "output_type": "display_data"
    }
   ],
   "source": [
    "print(df.Exited.value_counts())\n",
    "sns.countplot(df[\"Exited\"]);"
   ]
  },
  {
   "cell_type": "code",
   "execution_count": 14,
   "metadata": {
    "cell_style": "split",
    "scrolled": true
   },
   "outputs": [
    {
     "data": {
      "image/png": "[encoded data removed]",
      "text/plain": [
       "<Figure size 1080x864 with 9 Axes>"
      ]
     },
     "metadata": {},
     "output_type": "display_data"
    }
   ],
   "source": [
    "df.hist(figsize=(15, 12), bins=15);\n"
   ]
  },
  {
   "cell_type": "code",
   "execution_count": 15,
   "metadata": {
    "scrolled": true
   },
   "outputs": [
    {
     "data": {
      "image/png": "[encoded data removed]",
      "text/plain": [
       "<Figure size 1152x864 with 4 Axes>"
      ]
     },
     "metadata": {},
     "output_type": "display_data"
    }
   ],
   "source": [
    "cat_list = [\"Gender\", \"HasCrCard\", \"IsActiveMember\", \"Geography\"]\n",
    "index = 0\n",
    "plt.figure(figsize=(16, 12))\n",
    "for i in cat_list:\n",
    "    index += 1\n",
    "    plt.subplot(2, 2, index)\n",
    "    sns.countplot(data=df, x=i, hue=\"Exited\")"
   ]
  },
  {
   "cell_type": "code",
   "execution_count": 16,
   "metadata": {
    "cell_style": "split"
   },
   "outputs": [
    {
     "data": {
      "text/plain": [
       "Age  Exited\n",
       "18   0         20\n",
       "     1          2\n",
       "19   0         26\n",
       "     1          1\n",
       "20   0         38\n",
       "               ..\n",
       "84   0          1\n",
       "     1          1\n",
       "85   0          1\n",
       "88   0          1\n",
       "92   0          2\n",
       "Name: Exited, Length: 128, dtype: int64"
      ]
     },
     "execution_count": 16,
     "metadata": {},
     "output_type": "execute_result"
    }
   ],
   "source": [
    "df.groupby(\"Age\")[\"Exited\"].value_counts()\n"
   ]
  },
  {
   "cell_type": "code",
   "execution_count": 17,
   "metadata": {
    "cell_style": "split"
   },
   "outputs": [
    {
     "data": {
      "image/png": "[encoded data removed]",
      "text/plain": [
       "<Figure size 1440x504 with 1 Axes>"
      ]
     },
     "metadata": {},
     "output_type": "display_data"
    }
   ],
   "source": [
    "plt.figure(figsize=(20, 7))\n",
    "sns.countplot(df.Age, hue=df.Exited);"
   ]
  },
  {
   "cell_type": "code",
   "execution_count": 18,
   "metadata": {},
   "outputs": [
    {
     "data": {
      "text/plain": [
       "count   10000.000\n",
       "mean      650.529\n",
       "std        96.653\n",
       "min       350.000\n",
       "25%       584.000\n",
       "50%       652.000\n",
       "75%       718.000\n",
       "max       850.000\n",
       "Name: CreditScore, dtype: float64"
      ]
     },
     "execution_count": 18,
     "metadata": {},
     "output_type": "execute_result"
    }
   ],
   "source": [
    "df.CreditScore.describe()"
   ]
  },
  {
   "cell_type": "code",
   "execution_count": 19,
   "metadata": {},
   "outputs": [],
   "source": [
    "def credit_transformer(x, y):\n",
    "    if x < 584 and y == 0:\n",
    "        return 0\n",
    "    if x < 584 and y == 1:\n",
    "        return 1\n",
    "    if 584 < x < 718 and y == 0:\n",
    "        return 2\n",
    "    if 584 < x < 718 and y == 1:\n",
    "        return 3\n",
    "    else:\n",
    "        return 4"
   ]
  },
  {
   "cell_type": "code",
   "execution_count": 20,
   "metadata": {
    "scrolled": true
   },
   "outputs": [
    {
     "data": {
      "text/plain": [
       "[3, 2, 1, 2, 4, 3, 4, 1, 0, 3]"
      ]
     },
     "execution_count": 20,
     "metadata": {},
     "output_type": "execute_result"
    }
   ],
   "source": [
    "customer_value = [\n",
    "    credit_transformer(x, y) for x, y in zip(df.CreditScore, df.HasCrCard)\n",
    "]\n",
    "customer_value[:10]"
   ]
  },
  {
   "cell_type": "code",
   "execution_count": 21,
   "metadata": {},
   "outputs": [
    {
     "data": {
      "text/plain": [
       "{0, 1, 2, 3, 4}"
      ]
     },
     "execution_count": 21,
     "metadata": {},
     "output_type": "execute_result"
    }
   ],
   "source": [
    "set(customer_value)"
   ]
  },
  {
   "cell_type": "code",
   "execution_count": 22,
   "metadata": {},
   "outputs": [
    {
     "data": {
      "text/html": [
       "<div>\n",
       "<style scoped>\n",
       "    .dataframe tbody tr th:only-of-type {\n",
       "        vertical-align: middle;\n",
       "    }\n",
       "\n",
       "    .dataframe tbody tr th {\n",
       "        vertical-align: top;\n",
       "    }\n",
       "\n",
       "    .dataframe thead th {\n",
       "        text-align: right;\n",
       "    }\n",
       "</style>\n",
       "<table border=\"1\" class=\"dataframe\">\n",
       "  <thead>\n",
       "    <tr style=\"text-align: right;\">\n",
       "      <th></th>\n",
       "      <th>CreditScore</th>\n",
       "      <th>Geography</th>\n",
       "      <th>Gender</th>\n",
       "      <th>Age</th>\n",
       "      <th>Tenure</th>\n",
       "      <th>Balance</th>\n",
       "      <th>NumOfProducts</th>\n",
       "      <th>HasCrCard</th>\n",
       "      <th>IsActiveMember</th>\n",
       "      <th>EstimatedSalary</th>\n",
       "      <th>Exited</th>\n",
       "    </tr>\n",
       "    <tr>\n",
       "      <th>RowNumber</th>\n",
       "      <th></th>\n",
       "      <th></th>\n",
       "      <th></th>\n",
       "      <th></th>\n",
       "      <th></th>\n",
       "      <th></th>\n",
       "      <th></th>\n",
       "      <th></th>\n",
       "      <th></th>\n",
       "      <th></th>\n",
       "      <th></th>\n",
       "    </tr>\n",
       "  </thead>\n",
       "  <tbody>\n",
       "    <tr>\n",
       "      <th>1</th>\n",
       "      <td>619</td>\n",
       "      <td>France</td>\n",
       "      <td>Female</td>\n",
       "      <td>42</td>\n",
       "      <td>2</td>\n",
       "      <td>0.000</td>\n",
       "      <td>1</td>\n",
       "      <td>1</td>\n",
       "      <td>1</td>\n",
       "      <td>101348.880</td>\n",
       "      <td>1</td>\n",
       "    </tr>\n",
       "    <tr>\n",
       "      <th>2</th>\n",
       "      <td>608</td>\n",
       "      <td>Spain</td>\n",
       "      <td>Female</td>\n",
       "      <td>41</td>\n",
       "      <td>1</td>\n",
       "      <td>83807.860</td>\n",
       "      <td>1</td>\n",
       "      <td>0</td>\n",
       "      <td>1</td>\n",
       "      <td>112542.580</td>\n",
       "      <td>0</td>\n",
       "    </tr>\n",
       "    <tr>\n",
       "      <th>3</th>\n",
       "      <td>502</td>\n",
       "      <td>France</td>\n",
       "      <td>Female</td>\n",
       "      <td>42</td>\n",
       "      <td>8</td>\n",
       "      <td>159660.800</td>\n",
       "      <td>3</td>\n",
       "      <td>1</td>\n",
       "      <td>0</td>\n",
       "      <td>113931.570</td>\n",
       "      <td>1</td>\n",
       "    </tr>\n",
       "    <tr>\n",
       "      <th>4</th>\n",
       "      <td>699</td>\n",
       "      <td>France</td>\n",
       "      <td>Female</td>\n",
       "      <td>39</td>\n",
       "      <td>1</td>\n",
       "      <td>0.000</td>\n",
       "      <td>2</td>\n",
       "      <td>0</td>\n",
       "      <td>0</td>\n",
       "      <td>93826.630</td>\n",
       "      <td>0</td>\n",
       "    </tr>\n",
       "    <tr>\n",
       "      <th>5</th>\n",
       "      <td>850</td>\n",
       "      <td>Spain</td>\n",
       "      <td>Female</td>\n",
       "      <td>43</td>\n",
       "      <td>2</td>\n",
       "      <td>125510.820</td>\n",
       "      <td>1</td>\n",
       "      <td>1</td>\n",
       "      <td>1</td>\n",
       "      <td>79084.100</td>\n",
       "      <td>0</td>\n",
       "    </tr>\n",
       "    <tr>\n",
       "      <th>...</th>\n",
       "      <td>...</td>\n",
       "      <td>...</td>\n",
       "      <td>...</td>\n",
       "      <td>...</td>\n",
       "      <td>...</td>\n",
       "      <td>...</td>\n",
       "      <td>...</td>\n",
       "      <td>...</td>\n",
       "      <td>...</td>\n",
       "      <td>...</td>\n",
       "      <td>...</td>\n",
       "    </tr>\n",
       "    <tr>\n",
       "      <th>9996</th>\n",
       "      <td>771</td>\n",
       "      <td>France</td>\n",
       "      <td>Male</td>\n",
       "      <td>39</td>\n",
       "      <td>5</td>\n",
       "      <td>0.000</td>\n",
       "      <td>2</td>\n",
       "      <td>1</td>\n",
       "      <td>0</td>\n",
       "      <td>96270.640</td>\n",
       "      <td>0</td>\n",
       "    </tr>\n",
       "    <tr>\n",
       "      <th>9997</th>\n",
       "      <td>516</td>\n",
       "      <td>France</td>\n",
       "      <td>Male</td>\n",
       "      <td>35</td>\n",
       "      <td>10</td>\n",
       "      <td>57369.610</td>\n",
       "      <td>1</td>\n",
       "      <td>1</td>\n",
       "      <td>1</td>\n",
       "      <td>101699.770</td>\n",
       "      <td>0</td>\n",
       "    </tr>\n",
       "    <tr>\n",
       "      <th>9998</th>\n",
       "      <td>709</td>\n",
       "      <td>France</td>\n",
       "      <td>Female</td>\n",
       "      <td>36</td>\n",
       "      <td>7</td>\n",
       "      <td>0.000</td>\n",
       "      <td>1</td>\n",
       "      <td>0</td>\n",
       "      <td>1</td>\n",
       "      <td>42085.580</td>\n",
       "      <td>1</td>\n",
       "    </tr>\n",
       "    <tr>\n",
       "      <th>9999</th>\n",
       "      <td>772</td>\n",
       "      <td>Germany</td>\n",
       "      <td>Male</td>\n",
       "      <td>42</td>\n",
       "      <td>3</td>\n",
       "      <td>75075.310</td>\n",
       "      <td>2</td>\n",
       "      <td>1</td>\n",
       "      <td>0</td>\n",
       "      <td>92888.520</td>\n",
       "      <td>1</td>\n",
       "    </tr>\n",
       "    <tr>\n",
       "      <th>10000</th>\n",
       "      <td>792</td>\n",
       "      <td>France</td>\n",
       "      <td>Female</td>\n",
       "      <td>28</td>\n",
       "      <td>4</td>\n",
       "      <td>130142.790</td>\n",
       "      <td>1</td>\n",
       "      <td>1</td>\n",
       "      <td>0</td>\n",
       "      <td>38190.780</td>\n",
       "      <td>0</td>\n",
       "    </tr>\n",
       "  </tbody>\n",
       "</table>\n",
       "<p>10000 rows × 11 columns</p>\n",
       "</div>"
      ],
      "text/plain": [
       "           CreditScore Geography  Gender  Age  Tenure    Balance  \\\n",
       "RowNumber                                                          \n",
       "1                  619    France  Female   42       2      0.000   \n",
       "2                  608     Spain  Female   41       1  83807.860   \n",
       "3                  502    France  Female   42       8 159660.800   \n",
       "4                  699    France  Female   39       1      0.000   \n",
       "5                  850     Spain  Female   43       2 125510.820   \n",
       "...                ...       ...     ...  ...     ...        ...   \n",
       "9996               771    France    Male   39       5      0.000   \n",
       "9997               516    France    Male   35      10  57369.610   \n",
       "9998               709    France  Female   36       7      0.000   \n",
       "9999               772   Germany    Male   42       3  75075.310   \n",
       "10000              792    France  Female   28       4 130142.790   \n",
       "\n",
       "           NumOfProducts  HasCrCard  IsActiveMember  EstimatedSalary  Exited  \n",
       "RowNumber                                                                     \n",
       "1                      1          1               1       101348.880       1  \n",
       "2                      1          0               1       112542.580       0  \n",
       "3                      3          1               0       113931.570       1  \n",
       "4                      2          0               0        93826.630       0  \n",
       "5                      1          1               1        79084.100       0  \n",
       "...                  ...        ...             ...              ...     ...  \n",
       "9996                   2          1               0        96270.640       0  \n",
       "9997                   1          1               1       101699.770       0  \n",
       "9998                   1          0               1        42085.580       1  \n",
       "9999                   2          1               0        92888.520       1  \n",
       "10000                  1          1               0        38190.780       0  \n",
       "\n",
       "[10000 rows x 11 columns]"
      ]
     },
     "execution_count": 22,
     "metadata": {},
     "output_type": "execute_result"
    }
   ],
   "source": [
    "df"
   ]
  },
  {
   "cell_type": "code",
   "execution_count": 23,
   "metadata": {},
   "outputs": [],
   "source": [
    "df.insert(10, \"customer_value\", customer_value)"
   ]
  },
  {
   "cell_type": "code",
   "execution_count": 24,
   "metadata": {},
   "outputs": [
    {
     "data": {
      "text/plain": [
       "RowNumber\n",
       "1        3\n",
       "2        2\n",
       "3        1\n",
       "4        2\n",
       "5        4\n",
       "        ..\n",
       "9996     4\n",
       "9997     1\n",
       "9998     2\n",
       "9999     4\n",
       "10000    4\n",
       "Name: customer_value, Length: 10000, dtype: int64"
      ]
     },
     "execution_count": 24,
     "metadata": {},
     "output_type": "execute_result"
    }
   ],
   "source": [
    "df.customer_value"
   ]
  },
  {
   "cell_type": "markdown",
   "metadata": {},
   "source": [
    "from sklearn.preprocessing import OrdinalEncoder\n",
    "\n",
    "encoder = OrdinalEncoder()\n",
    "\n",
    "result = encoder.fit_transform(df.customer_value.values.reshape(-1, 1))\n",
    "print(result)\n"
   ]
  },
  {
   "cell_type": "markdown",
   "metadata": {},
   "source": [
    "df.customer_value = result\n",
    "df.customer_value"
   ]
  },
  {
   "cell_type": "code",
   "execution_count": 25,
   "metadata": {},
   "outputs": [
    {
     "data": {
      "text/html": [
       "<div>\n",
       "<style scoped>\n",
       "    .dataframe tbody tr th:only-of-type {\n",
       "        vertical-align: middle;\n",
       "    }\n",
       "\n",
       "    .dataframe tbody tr th {\n",
       "        vertical-align: top;\n",
       "    }\n",
       "\n",
       "    .dataframe thead th {\n",
       "        text-align: right;\n",
       "    }\n",
       "</style>\n",
       "<table border=\"1\" class=\"dataframe\">\n",
       "  <thead>\n",
       "    <tr style=\"text-align: right;\">\n",
       "      <th></th>\n",
       "      <th>CreditScore</th>\n",
       "      <th>Geography</th>\n",
       "      <th>Gender</th>\n",
       "      <th>Age</th>\n",
       "      <th>Tenure</th>\n",
       "      <th>Balance</th>\n",
       "      <th>NumOfProducts</th>\n",
       "      <th>HasCrCard</th>\n",
       "      <th>IsActiveMember</th>\n",
       "      <th>EstimatedSalary</th>\n",
       "      <th>customer_value</th>\n",
       "      <th>Exited</th>\n",
       "    </tr>\n",
       "    <tr>\n",
       "      <th>RowNumber</th>\n",
       "      <th></th>\n",
       "      <th></th>\n",
       "      <th></th>\n",
       "      <th></th>\n",
       "      <th></th>\n",
       "      <th></th>\n",
       "      <th></th>\n",
       "      <th></th>\n",
       "      <th></th>\n",
       "      <th></th>\n",
       "      <th></th>\n",
       "      <th></th>\n",
       "    </tr>\n",
       "  </thead>\n",
       "  <tbody>\n",
       "    <tr>\n",
       "      <th>1</th>\n",
       "      <td>619</td>\n",
       "      <td>France</td>\n",
       "      <td>Female</td>\n",
       "      <td>42</td>\n",
       "      <td>2</td>\n",
       "      <td>0.000</td>\n",
       "      <td>1</td>\n",
       "      <td>1</td>\n",
       "      <td>1</td>\n",
       "      <td>101348.880</td>\n",
       "      <td>3</td>\n",
       "      <td>1</td>\n",
       "    </tr>\n",
       "    <tr>\n",
       "      <th>2</th>\n",
       "      <td>608</td>\n",
       "      <td>Spain</td>\n",
       "      <td>Female</td>\n",
       "      <td>41</td>\n",
       "      <td>1</td>\n",
       "      <td>83807.860</td>\n",
       "      <td>1</td>\n",
       "      <td>0</td>\n",
       "      <td>1</td>\n",
       "      <td>112542.580</td>\n",
       "      <td>2</td>\n",
       "      <td>0</td>\n",
       "    </tr>\n",
       "    <tr>\n",
       "      <th>3</th>\n",
       "      <td>502</td>\n",
       "      <td>France</td>\n",
       "      <td>Female</td>\n",
       "      <td>42</td>\n",
       "      <td>8</td>\n",
       "      <td>159660.800</td>\n",
       "      <td>3</td>\n",
       "      <td>1</td>\n",
       "      <td>0</td>\n",
       "      <td>113931.570</td>\n",
       "      <td>1</td>\n",
       "      <td>1</td>\n",
       "    </tr>\n",
       "    <tr>\n",
       "      <th>4</th>\n",
       "      <td>699</td>\n",
       "      <td>France</td>\n",
       "      <td>Female</td>\n",
       "      <td>39</td>\n",
       "      <td>1</td>\n",
       "      <td>0.000</td>\n",
       "      <td>2</td>\n",
       "      <td>0</td>\n",
       "      <td>0</td>\n",
       "      <td>93826.630</td>\n",
       "      <td>2</td>\n",
       "      <td>0</td>\n",
       "    </tr>\n",
       "    <tr>\n",
       "      <th>5</th>\n",
       "      <td>850</td>\n",
       "      <td>Spain</td>\n",
       "      <td>Female</td>\n",
       "      <td>43</td>\n",
       "      <td>2</td>\n",
       "      <td>125510.820</td>\n",
       "      <td>1</td>\n",
       "      <td>1</td>\n",
       "      <td>1</td>\n",
       "      <td>79084.100</td>\n",
       "      <td>4</td>\n",
       "      <td>0</td>\n",
       "    </tr>\n",
       "    <tr>\n",
       "      <th>...</th>\n",
       "      <td>...</td>\n",
       "      <td>...</td>\n",
       "      <td>...</td>\n",
       "      <td>...</td>\n",
       "      <td>...</td>\n",
       "      <td>...</td>\n",
       "      <td>...</td>\n",
       "      <td>...</td>\n",
       "      <td>...</td>\n",
       "      <td>...</td>\n",
       "      <td>...</td>\n",
       "      <td>...</td>\n",
       "    </tr>\n",
       "    <tr>\n",
       "      <th>9996</th>\n",
       "      <td>771</td>\n",
       "      <td>France</td>\n",
       "      <td>Male</td>\n",
       "      <td>39</td>\n",
       "      <td>5</td>\n",
       "      <td>0.000</td>\n",
       "      <td>2</td>\n",
       "      <td>1</td>\n",
       "      <td>0</td>\n",
       "      <td>96270.640</td>\n",
       "      <td>4</td>\n",
       "      <td>0</td>\n",
       "    </tr>\n",
       "    <tr>\n",
       "      <th>9997</th>\n",
       "      <td>516</td>\n",
       "      <td>France</td>\n",
       "      <td>Male</td>\n",
       "      <td>35</td>\n",
       "      <td>10</td>\n",
       "      <td>57369.610</td>\n",
       "      <td>1</td>\n",
       "      <td>1</td>\n",
       "      <td>1</td>\n",
       "      <td>101699.770</td>\n",
       "      <td>1</td>\n",
       "      <td>0</td>\n",
       "    </tr>\n",
       "    <tr>\n",
       "      <th>9998</th>\n",
       "      <td>709</td>\n",
       "      <td>France</td>\n",
       "      <td>Female</td>\n",
       "      <td>36</td>\n",
       "      <td>7</td>\n",
       "      <td>0.000</td>\n",
       "      <td>1</td>\n",
       "      <td>0</td>\n",
       "      <td>1</td>\n",
       "      <td>42085.580</td>\n",
       "      <td>2</td>\n",
       "      <td>1</td>\n",
       "    </tr>\n",
       "    <tr>\n",
       "      <th>9999</th>\n",
       "      <td>772</td>\n",
       "      <td>Germany</td>\n",
       "      <td>Male</td>\n",
       "      <td>42</td>\n",
       "      <td>3</td>\n",
       "      <td>75075.310</td>\n",
       "      <td>2</td>\n",
       "      <td>1</td>\n",
       "      <td>0</td>\n",
       "      <td>92888.520</td>\n",
       "      <td>4</td>\n",
       "      <td>1</td>\n",
       "    </tr>\n",
       "    <tr>\n",
       "      <th>10000</th>\n",
       "      <td>792</td>\n",
       "      <td>France</td>\n",
       "      <td>Female</td>\n",
       "      <td>28</td>\n",
       "      <td>4</td>\n",
       "      <td>130142.790</td>\n",
       "      <td>1</td>\n",
       "      <td>1</td>\n",
       "      <td>0</td>\n",
       "      <td>38190.780</td>\n",
       "      <td>4</td>\n",
       "      <td>0</td>\n",
       "    </tr>\n",
       "  </tbody>\n",
       "</table>\n",
       "<p>10000 rows × 12 columns</p>\n",
       "</div>"
      ],
      "text/plain": [
       "           CreditScore Geography  Gender  Age  Tenure    Balance  \\\n",
       "RowNumber                                                          \n",
       "1                  619    France  Female   42       2      0.000   \n",
       "2                  608     Spain  Female   41       1  83807.860   \n",
       "3                  502    France  Female   42       8 159660.800   \n",
       "4                  699    France  Female   39       1      0.000   \n",
       "5                  850     Spain  Female   43       2 125510.820   \n",
       "...                ...       ...     ...  ...     ...        ...   \n",
       "9996               771    France    Male   39       5      0.000   \n",
       "9997               516    France    Male   35      10  57369.610   \n",
       "9998               709    France  Female   36       7      0.000   \n",
       "9999               772   Germany    Male   42       3  75075.310   \n",
       "10000              792    France  Female   28       4 130142.790   \n",
       "\n",
       "           NumOfProducts  HasCrCard  IsActiveMember  EstimatedSalary  \\\n",
       "RowNumber                                                              \n",
       "1                      1          1               1       101348.880   \n",
       "2                      1          0               1       112542.580   \n",
       "3                      3          1               0       113931.570   \n",
       "4                      2          0               0        93826.630   \n",
       "5                      1          1               1        79084.100   \n",
       "...                  ...        ...             ...              ...   \n",
       "9996                   2          1               0        96270.640   \n",
       "9997                   1          1               1       101699.770   \n",
       "9998                   1          0               1        42085.580   \n",
       "9999                   2          1               0        92888.520   \n",
       "10000                  1          1               0        38190.780   \n",
       "\n",
       "           customer_value  Exited  \n",
       "RowNumber                          \n",
       "1                       3       1  \n",
       "2                       2       0  \n",
       "3                       1       1  \n",
       "4                       2       0  \n",
       "5                       4       0  \n",
       "...                   ...     ...  \n",
       "9996                    4       0  \n",
       "9997                    1       0  \n",
       "9998                    2       1  \n",
       "9999                    4       1  \n",
       "10000                   4       0  \n",
       "\n",
       "[10000 rows x 12 columns]"
      ]
     },
     "execution_count": 25,
     "metadata": {},
     "output_type": "execute_result"
    }
   ],
   "source": [
    "df"
   ]
  },
  {
   "cell_type": "code",
   "execution_count": 26,
   "metadata": {
    "cell_style": "split",
    "colab": {
     "base_uri": "https://localhost:8080/",
     "height": 981
    },
    "executionInfo": {
     "elapsed": 5978,
     "status": "ok",
     "timestamp": 1610202268770,
     "user": {
      "displayName": "Richard C",
      "photoUrl": "",
      "userId": "08040814671867660929"
     },
     "user_tz": -180
    },
    "id": "fNDK3HprhSU3",
    "outputId": "98fe8eba-dc36-4cc7-96ad-ff61182d12a2"
   },
   "outputs": [
    {
     "data": {
      "text/plain": [
       "<AxesSubplot:>"
      ]
     },
     "execution_count": 26,
     "metadata": {},
     "output_type": "execute_result"
    },
    {
     "data": {
      "image/png": "[encoded data removed]",
      "text/plain": [
       "<Figure size 1152x864 with 2 Axes>"
      ]
     },
     "metadata": {},
     "output_type": "display_data"
    }
   ],
   "source": [
    "plt.figure(figsize=(16, 12))\n",
    "sns.heatmap(df.corr(), annot=True, cmap='viridis')"
   ]
  },
  {
   "cell_type": "code",
   "execution_count": 27,
   "metadata": {
    "cell_style": "split",
    "colab": {
     "base_uri": "https://localhost:8080/",
     "height": 391
    },
    "executionInfo": {
     "elapsed": 1405,
     "status": "ok",
     "timestamp": 1610203065835,
     "user": {
      "displayName": "Richard C",
      "photoUrl": "",
      "userId": "08040814671867660929"
     },
     "user_tz": -180
    },
    "id": "IasR3c8ajeC0",
    "outputId": "4742bedb-e6bc-4967-f1cd-c36f7610f33e"
   },
   "outputs": [
    {
     "data": {
      "image/png": "[encoded data removed]",
      "text/plain": [
       "<Figure size 864x432 with 1 Axes>"
      ]
     },
     "metadata": {},
     "output_type": "display_data"
    }
   ],
   "source": [
    "df.corr()['Exited'][:-1].sort_values().plot.barh();"
   ]
  },
  {
   "cell_type": "code",
   "execution_count": null,
   "metadata": {},
   "outputs": [],
   "source": []
  },
  {
   "cell_type": "code",
   "execution_count": 28,
   "metadata": {},
   "outputs": [
    {
     "data": {
      "text/html": [
       "<div>\n",
       "<style scoped>\n",
       "    .dataframe tbody tr th:only-of-type {\n",
       "        vertical-align: middle;\n",
       "    }\n",
       "\n",
       "    .dataframe tbody tr th {\n",
       "        vertical-align: top;\n",
       "    }\n",
       "\n",
       "    .dataframe thead th {\n",
       "        text-align: right;\n",
       "    }\n",
       "</style>\n",
       "<table border=\"1\" class=\"dataframe\">\n",
       "  <thead>\n",
       "    <tr style=\"text-align: right;\">\n",
       "      <th></th>\n",
       "      <th>CreditScore</th>\n",
       "      <th>Age</th>\n",
       "      <th>Tenure</th>\n",
       "      <th>Balance</th>\n",
       "      <th>NumOfProducts</th>\n",
       "      <th>HasCrCard</th>\n",
       "      <th>IsActiveMember</th>\n",
       "      <th>EstimatedSalary</th>\n",
       "      <th>customer_value</th>\n",
       "      <th>Exited</th>\n",
       "      <th>Geography_France</th>\n",
       "      <th>Geography_Germany</th>\n",
       "      <th>Geography_Spain</th>\n",
       "      <th>Gender_Female</th>\n",
       "      <th>Gender_Male</th>\n",
       "    </tr>\n",
       "    <tr>\n",
       "      <th>RowNumber</th>\n",
       "      <th></th>\n",
       "      <th></th>\n",
       "      <th></th>\n",
       "      <th></th>\n",
       "      <th></th>\n",
       "      <th></th>\n",
       "      <th></th>\n",
       "      <th></th>\n",
       "      <th></th>\n",
       "      <th></th>\n",
       "      <th></th>\n",
       "      <th></th>\n",
       "      <th></th>\n",
       "      <th></th>\n",
       "      <th></th>\n",
       "    </tr>\n",
       "  </thead>\n",
       "  <tbody>\n",
       "    <tr>\n",
       "      <th>1</th>\n",
       "      <td>619</td>\n",
       "      <td>42</td>\n",
       "      <td>2</td>\n",
       "      <td>0.000</td>\n",
       "      <td>1</td>\n",
       "      <td>1</td>\n",
       "      <td>1</td>\n",
       "      <td>101348.880</td>\n",
       "      <td>3</td>\n",
       "      <td>1</td>\n",
       "      <td>1</td>\n",
       "      <td>0</td>\n",
       "      <td>0</td>\n",
       "      <td>1</td>\n",
       "      <td>0</td>\n",
       "    </tr>\n",
       "    <tr>\n",
       "      <th>2</th>\n",
       "      <td>608</td>\n",
       "      <td>41</td>\n",
       "      <td>1</td>\n",
       "      <td>83807.860</td>\n",
       "      <td>1</td>\n",
       "      <td>0</td>\n",
       "      <td>1</td>\n",
       "      <td>112542.580</td>\n",
       "      <td>2</td>\n",
       "      <td>0</td>\n",
       "      <td>0</td>\n",
       "      <td>0</td>\n",
       "      <td>1</td>\n",
       "      <td>1</td>\n",
       "      <td>0</td>\n",
       "    </tr>\n",
       "    <tr>\n",
       "      <th>3</th>\n",
       "      <td>502</td>\n",
       "      <td>42</td>\n",
       "      <td>8</td>\n",
       "      <td>159660.800</td>\n",
       "      <td>3</td>\n",
       "      <td>1</td>\n",
       "      <td>0</td>\n",
       "      <td>113931.570</td>\n",
       "      <td>1</td>\n",
       "      <td>1</td>\n",
       "      <td>1</td>\n",
       "      <td>0</td>\n",
       "      <td>0</td>\n",
       "      <td>1</td>\n",
       "      <td>0</td>\n",
       "    </tr>\n",
       "    <tr>\n",
       "      <th>4</th>\n",
       "      <td>699</td>\n",
       "      <td>39</td>\n",
       "      <td>1</td>\n",
       "      <td>0.000</td>\n",
       "      <td>2</td>\n",
       "      <td>0</td>\n",
       "      <td>0</td>\n",
       "      <td>93826.630</td>\n",
       "      <td>2</td>\n",
       "      <td>0</td>\n",
       "      <td>1</td>\n",
       "      <td>0</td>\n",
       "      <td>0</td>\n",
       "      <td>1</td>\n",
       "      <td>0</td>\n",
       "    </tr>\n",
       "    <tr>\n",
       "      <th>5</th>\n",
       "      <td>850</td>\n",
       "      <td>43</td>\n",
       "      <td>2</td>\n",
       "      <td>125510.820</td>\n",
       "      <td>1</td>\n",
       "      <td>1</td>\n",
       "      <td>1</td>\n",
       "      <td>79084.100</td>\n",
       "      <td>4</td>\n",
       "      <td>0</td>\n",
       "      <td>0</td>\n",
       "      <td>0</td>\n",
       "      <td>1</td>\n",
       "      <td>1</td>\n",
       "      <td>0</td>\n",
       "    </tr>\n",
       "  </tbody>\n",
       "</table>\n",
       "</div>"
      ],
      "text/plain": [
       "           CreditScore  Age  Tenure    Balance  NumOfProducts  HasCrCard  \\\n",
       "RowNumber                                                                  \n",
       "1                  619   42       2      0.000              1          1   \n",
       "2                  608   41       1  83807.860              1          0   \n",
       "3                  502   42       8 159660.800              3          1   \n",
       "4                  699   39       1      0.000              2          0   \n",
       "5                  850   43       2 125510.820              1          1   \n",
       "\n",
       "           IsActiveMember  EstimatedSalary  customer_value  Exited  \\\n",
       "RowNumber                                                            \n",
       "1                       1       101348.880               3       1   \n",
       "2                       1       112542.580               2       0   \n",
       "3                       0       113931.570               1       1   \n",
       "4                       0        93826.630               2       0   \n",
       "5                       1        79084.100               4       0   \n",
       "\n",
       "           Geography_France  Geography_Germany  Geography_Spain  \\\n",
       "RowNumber                                                         \n",
       "1                         1                  0                0   \n",
       "2                         0                  0                1   \n",
       "3                         1                  0                0   \n",
       "4                         1                  0                0   \n",
       "5                         0                  0                1   \n",
       "\n",
       "           Gender_Female  Gender_Male  \n",
       "RowNumber                              \n",
       "1                      1            0  \n",
       "2                      1            0  \n",
       "3                      1            0  \n",
       "4                      1            0  \n",
       "5                      1            0  "
      ]
     },
     "execution_count": 28,
     "metadata": {},
     "output_type": "execute_result"
    }
   ],
   "source": [
    "df = pd.get_dummies(df)\n",
    "df.head()"
   ]
  },
  {
   "cell_type": "markdown",
   "metadata": {},
   "source": [
    "## Preprocessing of Data"
   ]
  },
  {
   "cell_type": "code",
   "execution_count": 29,
   "metadata": {
    "executionInfo": {
     "elapsed": 764,
     "status": "ok",
     "timestamp": 1610203310512,
     "user": {
      "displayName": "Richard C",
      "photoUrl": "",
      "userId": "08040814671867660929"
     },
     "user_tz": -180
    },
    "id": "DjY-ZSPWka7D"
   },
   "outputs": [],
   "source": [
    "from sklearn.model_selection import train_test_split\n",
    "from sklearn.preprocessing import MinMaxScaler"
   ]
  },
  {
   "cell_type": "code",
   "execution_count": 30,
   "metadata": {
    "cell_style": "center",
    "executionInfo": {
     "elapsed": 1126,
     "status": "ok",
     "timestamp": 1610203246314,
     "user": {
      "displayName": "Richard C",
      "photoUrl": "",
      "userId": "08040814671867660929"
     },
     "user_tz": -180
    },
    "id": "kjyTH753lq7M"
   },
   "outputs": [],
   "source": [
    "X = df.drop('Exited', axis=1)\n",
    "y = df['Exited'].values\n",
    "\n",
    "X_train, X_test, y_train, y_test = train_test_split(X,\n",
    "                                                    y,\n",
    "                                                    stratify=y,\n",
    "                                                    test_size=0.1,\n",
    "                                                    random_state=42)\n"
   ]
  },
  {
   "cell_type": "code",
   "execution_count": 31,
   "metadata": {
    "cell_style": "split"
   },
   "outputs": [],
   "source": [
    "scaler = MinMaxScaler()\n"
   ]
  },
  {
   "cell_type": "code",
   "execution_count": 32,
   "metadata": {
    "cell_style": "split",
    "executionInfo": {
     "elapsed": 696,
     "status": "ok",
     "timestamp": 1610203508023,
     "user": {
      "displayName": "Richard C",
      "photoUrl": "",
      "userId": "08040814671867660929"
     },
     "user_tz": -180
    },
    "id": "Fgy3D9SBmWcq"
   },
   "outputs": [],
   "source": [
    "X_train = scaler.fit_transform(X_train)\n",
    "X_test = scaler.transform(X_test)"
   ]
  },
  {
   "cell_type": "markdown",
   "metadata": {
    "id": "Ha9hDt_AoGaE"
   },
   "source": [
    "## Modelling & Model Performance"
   ]
  },
  {
   "cell_type": "markdown",
   "metadata": {},
   "source": [
    "<span class=\"mark\">How many hidden layers should I use? : http://www.faqs.org/faqs/ai-faq/neural-nets/part3/section-9.html (mirror: http://francky.me/aifaq/FAQ-comp.ai.neural-net.pdf)\n",
    "How many hidden units should I use? : http://www.faqs.org/faqs/ai-faq/neural-nets/part3/section-10.html (mirror: http://francky.me/aifaq/FAQ-comp.ai.neural-net.pdf)\n",
    "What is genetic algorithm? : https://www.researchgate.net/post/What_is_genetic_algorithm1\n",
    "Genetic algorithm + neural networks: http://francky.me/doc/mrf2011-HEC-ISIR-ENS_en.pdf (chapter 2.2)</span>"
   ]
  },
  {
   "cell_type": "markdown",
   "metadata": {},
   "source": [
    "### without class_weigth"
   ]
  },
  {
   "cell_type": "code",
   "execution_count": 33,
   "metadata": {
    "cell_style": "split"
   },
   "outputs": [],
   "source": [
    "model = Sequential()\n",
    "\n",
    "model.add(Dense(30, activation=\"relu\"))\n",
    "model.add(Dropout(0.5))\n",
    "model.add(Dense(15, activation=\"relu\"))\n",
    "model.add(Dropout(0.5))\n",
    "model.add(Dense(1, activation=\"sigmoid\"))\n",
    "\n",
    "opt = Adam(lr=0.001)\n",
    "model.compile(optimizer=opt, \n",
    "              loss=\"binary_crossentropy\",\n",
    "              metrics=[\"Accuracy\"])"
   ]
  },
  {
   "cell_type": "markdown",
   "metadata": {
    "cell_style": "split"
   },
   "source": [
    "<span class=\"burk\">The patience is often set somewhere between 10 and 100 (10 or 20 is more common), but it really depends on your dataset and network.</span>"
   ]
  },
  {
   "cell_type": "code",
   "execution_count": 34,
   "metadata": {
    "cell_style": "split"
   },
   "outputs": [],
   "source": [
    "early_stop = EarlyStopping(monitor=\"val_loss\",\n",
    "                           mode=\"auto\",\n",
    "                           verbose=1,\n",
    "                           patience=30)"
   ]
  },
  {
   "cell_type": "code",
   "execution_count": 35,
   "metadata": {
    "cell_style": "center",
    "scrolled": true
   },
   "outputs": [
    {
     "name": "stdout",
     "output_type": "stream",
     "text": [
      "Epoch 1/500\n",
      "64/64 [==============================] - 0s 2ms/step - loss: 0.6092 - Accuracy: 0.6848 - val_loss: 0.4920 - val_Accuracy: 0.7989\n",
      "Epoch 2/500\n",
      "64/64 [==============================] - 0s 760us/step - loss: 0.5390 - Accuracy: 0.7822 - val_loss: 0.4776 - val_Accuracy: 0.7989\n",
      "Epoch 3/500\n",
      "64/64 [==============================] - 0s 776us/step - loss: 0.5244 - Accuracy: 0.7905 - val_loss: 0.4670 - val_Accuracy: 0.7989\n",
      "Epoch 4/500\n",
      "64/64 [==============================] - 0s 769us/step - loss: 0.5134 - Accuracy: 0.7935 - val_loss: 0.4616 - val_Accuracy: 0.7989\n",
      "Epoch 5/500\n",
      "64/64 [==============================] - 0s 792us/step - loss: 0.5066 - Accuracy: 0.7959 - val_loss: 0.4570 - val_Accuracy: 0.7989\n",
      "Epoch 6/500\n",
      "64/64 [==============================] - 0s 792us/step - loss: 0.5014 - Accuracy: 0.7951 - val_loss: 0.4549 - val_Accuracy: 0.7989\n",
      "Epoch 7/500\n",
      "64/64 [==============================] - 0s 776us/step - loss: 0.4893 - Accuracy: 0.7963 - val_loss: 0.4471 - val_Accuracy: 0.7989\n",
      "Epoch 8/500\n",
      "64/64 [==============================] - 0s 773us/step - loss: 0.4917 - Accuracy: 0.7962 - val_loss: 0.4444 - val_Accuracy: 0.7989\n",
      "Epoch 9/500\n",
      "64/64 [==============================] - 0s 776us/step - loss: 0.4814 - Accuracy: 0.7960 - val_loss: 0.4407 - val_Accuracy: 0.7989\n",
      "Epoch 10/500\n",
      "64/64 [==============================] - 0s 769us/step - loss: 0.4846 - Accuracy: 0.7962 - val_loss: 0.4401 - val_Accuracy: 0.7989\n",
      "Epoch 11/500\n",
      "64/64 [==============================] - 0s 792us/step - loss: 0.4834 - Accuracy: 0.7974 - val_loss: 0.4374 - val_Accuracy: 0.7989\n",
      "Epoch 12/500\n",
      "64/64 [==============================] - 0s 755us/step - loss: 0.4823 - Accuracy: 0.7963 - val_loss: 0.4392 - val_Accuracy: 0.7989\n",
      "Epoch 13/500\n",
      "64/64 [==============================] - 0s 776us/step - loss: 0.4724 - Accuracy: 0.7972 - val_loss: 0.4342 - val_Accuracy: 0.7989\n",
      "Epoch 14/500\n",
      "64/64 [==============================] - 0s 760us/step - loss: 0.4674 - Accuracy: 0.7973 - val_loss: 0.4300 - val_Accuracy: 0.7989\n",
      "Epoch 15/500\n",
      "64/64 [==============================] - 0s 760us/step - loss: 0.4713 - Accuracy: 0.7972 - val_loss: 0.4308 - val_Accuracy: 0.7989\n",
      "Epoch 16/500\n",
      "64/64 [==============================] - 0s 760us/step - loss: 0.4693 - Accuracy: 0.7969 - val_loss: 0.4267 - val_Accuracy: 0.7989\n",
      "Epoch 17/500\n",
      "64/64 [==============================] - 0s 760us/step - loss: 0.4647 - Accuracy: 0.7986 - val_loss: 0.4236 - val_Accuracy: 0.7989\n",
      "Epoch 18/500\n",
      "64/64 [==============================] - 0s 760us/step - loss: 0.4618 - Accuracy: 0.7999 - val_loss: 0.4202 - val_Accuracy: 0.7989\n",
      "Epoch 19/500\n",
      "64/64 [==============================] - 0s 760us/step - loss: 0.4575 - Accuracy: 0.7991 - val_loss: 0.4171 - val_Accuracy: 0.7989\n",
      "Epoch 20/500\n",
      "64/64 [==============================] - 0s 760us/step - loss: 0.4581 - Accuracy: 0.8006 - val_loss: 0.4128 - val_Accuracy: 0.8000\n",
      "Epoch 21/500\n",
      "64/64 [==============================] - 0s 787us/step - loss: 0.4533 - Accuracy: 0.8021 - val_loss: 0.4113 - val_Accuracy: 0.8089\n",
      "Epoch 22/500\n",
      "64/64 [==============================] - 0s 776us/step - loss: 0.4555 - Accuracy: 0.8025 - val_loss: 0.4093 - val_Accuracy: 0.8144\n",
      "Epoch 23/500\n",
      "64/64 [==============================] - 0s 776us/step - loss: 0.4489 - Accuracy: 0.8056 - val_loss: 0.4055 - val_Accuracy: 0.8244\n",
      "Epoch 24/500\n",
      "64/64 [==============================] - 0s 792us/step - loss: 0.4475 - Accuracy: 0.8046 - val_loss: 0.3989 - val_Accuracy: 0.8278\n",
      "Epoch 25/500\n",
      "64/64 [==============================] - 0s 760us/step - loss: 0.4459 - Accuracy: 0.8038 - val_loss: 0.3959 - val_Accuracy: 0.8256\n",
      "Epoch 26/500\n",
      "64/64 [==============================] - 0s 776us/step - loss: 0.4370 - Accuracy: 0.8038 - val_loss: 0.3895 - val_Accuracy: 0.8256\n",
      "Epoch 27/500\n",
      "64/64 [==============================] - 0s 744us/step - loss: 0.4375 - Accuracy: 0.8081 - val_loss: 0.3887 - val_Accuracy: 0.8300\n",
      "Epoch 28/500\n",
      "64/64 [==============================] - 0s 776us/step - loss: 0.4363 - Accuracy: 0.8119 - val_loss: 0.3826 - val_Accuracy: 0.8378\n",
      "Epoch 29/500\n",
      "64/64 [==============================] - 0s 744us/step - loss: 0.4345 - Accuracy: 0.8093 - val_loss: 0.3789 - val_Accuracy: 0.8444\n",
      "Epoch 30/500\n",
      "64/64 [==============================] - 0s 744us/step - loss: 0.4301 - Accuracy: 0.8115 - val_loss: 0.3741 - val_Accuracy: 0.8456\n",
      "Epoch 31/500\n",
      "64/64 [==============================] - 0s 744us/step - loss: 0.4242 - Accuracy: 0.8151 - val_loss: 0.3716 - val_Accuracy: 0.8544\n",
      "Epoch 32/500\n",
      "64/64 [==============================] - 0s 760us/step - loss: 0.4259 - Accuracy: 0.8180 - val_loss: 0.3658 - val_Accuracy: 0.8544\n",
      "Epoch 33/500\n",
      "64/64 [==============================] - 0s 760us/step - loss: 0.4251 - Accuracy: 0.8179 - val_loss: 0.3625 - val_Accuracy: 0.8567\n",
      "Epoch 34/500\n",
      "64/64 [==============================] - 0s 743us/step - loss: 0.4219 - Accuracy: 0.8178 - val_loss: 0.3592 - val_Accuracy: 0.8622\n",
      "Epoch 35/500\n",
      "64/64 [==============================] - 0s 776us/step - loss: 0.4135 - Accuracy: 0.8215 - val_loss: 0.3561 - val_Accuracy: 0.8622\n",
      "Epoch 36/500\n",
      "64/64 [==============================] - 0s 756us/step - loss: 0.4155 - Accuracy: 0.8236 - val_loss: 0.3539 - val_Accuracy: 0.8656\n",
      "Epoch 37/500\n",
      "64/64 [==============================] - 0s 776us/step - loss: 0.4128 - Accuracy: 0.8237 - val_loss: 0.3531 - val_Accuracy: 0.8667\n",
      "Epoch 38/500\n",
      "64/64 [==============================] - 0s 776us/step - loss: 0.4179 - Accuracy: 0.8253 - val_loss: 0.3513 - val_Accuracy: 0.8689\n",
      "Epoch 39/500\n",
      "64/64 [==============================] - 0s 776us/step - loss: 0.4069 - Accuracy: 0.8251 - val_loss: 0.3467 - val_Accuracy: 0.8744\n",
      "Epoch 40/500\n",
      "64/64 [==============================] - 0s 785us/step - loss: 0.4108 - Accuracy: 0.8243 - val_loss: 0.3462 - val_Accuracy: 0.8689\n",
      "Epoch 41/500\n",
      "64/64 [==============================] - 0s 776us/step - loss: 0.4049 - Accuracy: 0.8279 - val_loss: 0.3422 - val_Accuracy: 0.8644\n",
      "Epoch 42/500\n",
      "64/64 [==============================] - 0s 772us/step - loss: 0.4063 - Accuracy: 0.8232 - val_loss: 0.3382 - val_Accuracy: 0.8711\n",
      "Epoch 43/500\n",
      "64/64 [==============================] - 0s 760us/step - loss: 0.4076 - Accuracy: 0.8280 - val_loss: 0.3380 - val_Accuracy: 0.8744\n",
      "Epoch 44/500\n",
      "64/64 [==============================] - 0s 756us/step - loss: 0.4069 - Accuracy: 0.8285 - val_loss: 0.3387 - val_Accuracy: 0.8767\n",
      "Epoch 45/500\n",
      "64/64 [==============================] - 0s 760us/step - loss: 0.3997 - Accuracy: 0.8285 - val_loss: 0.3357 - val_Accuracy: 0.8756\n",
      "Epoch 46/500\n",
      "64/64 [==============================] - 0s 760us/step - loss: 0.4018 - Accuracy: 0.8280 - val_loss: 0.3342 - val_Accuracy: 0.8767\n",
      "Epoch 47/500\n",
      "64/64 [==============================] - 0s 760us/step - loss: 0.4039 - Accuracy: 0.8268 - val_loss: 0.3345 - val_Accuracy: 0.8744\n",
      "Epoch 48/500\n",
      "64/64 [==============================] - 0s 744us/step - loss: 0.4015 - Accuracy: 0.8290 - val_loss: 0.3324 - val_Accuracy: 0.8733\n",
      "Epoch 49/500\n",
      "64/64 [==============================] - 0s 760us/step - loss: 0.4046 - Accuracy: 0.8286 - val_loss: 0.3322 - val_Accuracy: 0.8722\n",
      "Epoch 50/500\n",
      "64/64 [==============================] - 0s 744us/step - loss: 0.3980 - Accuracy: 0.8326 - val_loss: 0.3312 - val_Accuracy: 0.8744\n",
      "Epoch 51/500\n",
      "64/64 [==============================] - 0s 760us/step - loss: 0.3994 - Accuracy: 0.8304 - val_loss: 0.3309 - val_Accuracy: 0.8756\n",
      "Epoch 52/500\n",
      "64/64 [==============================] - 0s 760us/step - loss: 0.4000 - Accuracy: 0.8305 - val_loss: 0.3293 - val_Accuracy: 0.8722\n",
      "Epoch 53/500\n",
      "64/64 [==============================] - 0s 744us/step - loss: 0.3981 - Accuracy: 0.8304 - val_loss: 0.3291 - val_Accuracy: 0.8711\n",
      "Epoch 54/500\n",
      "64/64 [==============================] - 0s 760us/step - loss: 0.3971 - Accuracy: 0.8333 - val_loss: 0.3277 - val_Accuracy: 0.8722\n",
      "Epoch 55/500\n",
      "64/64 [==============================] - 0s 744us/step - loss: 0.3997 - Accuracy: 0.8257 - val_loss: 0.3279 - val_Accuracy: 0.8722\n",
      "Epoch 56/500\n",
      "64/64 [==============================] - 0s 760us/step - loss: 0.3911 - Accuracy: 0.8359 - val_loss: 0.3261 - val_Accuracy: 0.8767\n",
      "Epoch 57/500\n",
      "64/64 [==============================] - 0s 792us/step - loss: 0.3983 - Accuracy: 0.8267 - val_loss: 0.3277 - val_Accuracy: 0.8767\n"
     ]
    },
    {
     "name": "stdout",
     "output_type": "stream",
     "text": [
      "Epoch 58/500\n",
      "64/64 [==============================] - 0s 776us/step - loss: 0.3920 - Accuracy: 0.8354 - val_loss: 0.3237 - val_Accuracy: 0.8789\n",
      "Epoch 59/500\n",
      "64/64 [==============================] - 0s 760us/step - loss: 0.3957 - Accuracy: 0.8332 - val_loss: 0.3231 - val_Accuracy: 0.8778\n",
      "Epoch 60/500\n",
      "64/64 [==============================] - 0s 760us/step - loss: 0.3899 - Accuracy: 0.8353 - val_loss: 0.3238 - val_Accuracy: 0.8756\n",
      "Epoch 61/500\n",
      "64/64 [==============================] - 0s 760us/step - loss: 0.3913 - Accuracy: 0.8375 - val_loss: 0.3222 - val_Accuracy: 0.8778\n",
      "Epoch 62/500\n",
      "64/64 [==============================] - 0s 776us/step - loss: 0.3949 - Accuracy: 0.8346 - val_loss: 0.3225 - val_Accuracy: 0.8722\n",
      "Epoch 63/500\n",
      "64/64 [==============================] - 0s 772us/step - loss: 0.3897 - Accuracy: 0.8342 - val_loss: 0.3207 - val_Accuracy: 0.8756\n",
      "Epoch 64/500\n",
      "64/64 [==============================] - 0s 760us/step - loss: 0.3901 - Accuracy: 0.8360 - val_loss: 0.3195 - val_Accuracy: 0.8767\n",
      "Epoch 65/500\n",
      "64/64 [==============================] - 0s 760us/step - loss: 0.3905 - Accuracy: 0.8338 - val_loss: 0.3206 - val_Accuracy: 0.8767\n",
      "Epoch 66/500\n",
      "64/64 [==============================] - 0s 758us/step - loss: 0.3922 - Accuracy: 0.8346 - val_loss: 0.3203 - val_Accuracy: 0.8767\n",
      "Epoch 67/500\n",
      "64/64 [==============================] - 0s 744us/step - loss: 0.3885 - Accuracy: 0.8362 - val_loss: 0.3208 - val_Accuracy: 0.8778\n",
      "Epoch 68/500\n",
      "64/64 [==============================] - 0s 760us/step - loss: 0.3919 - Accuracy: 0.8331 - val_loss: 0.3218 - val_Accuracy: 0.8767\n",
      "Epoch 69/500\n",
      "64/64 [==============================] - 0s 760us/step - loss: 0.3891 - Accuracy: 0.8344 - val_loss: 0.3191 - val_Accuracy: 0.8756\n",
      "Epoch 70/500\n",
      "64/64 [==============================] - 0s 760us/step - loss: 0.3926 - Accuracy: 0.8353 - val_loss: 0.3217 - val_Accuracy: 0.8722\n",
      "Epoch 71/500\n",
      "64/64 [==============================] - 0s 776us/step - loss: 0.3898 - Accuracy: 0.8388 - val_loss: 0.3185 - val_Accuracy: 0.8811\n",
      "Epoch 72/500\n",
      "64/64 [==============================] - 0s 776us/step - loss: 0.3883 - Accuracy: 0.8372 - val_loss: 0.3181 - val_Accuracy: 0.8767\n",
      "Epoch 73/500\n",
      "64/64 [==============================] - 0s 779us/step - loss: 0.3944 - Accuracy: 0.8358 - val_loss: 0.3170 - val_Accuracy: 0.8789\n",
      "Epoch 74/500\n",
      "64/64 [==============================] - 0s 760us/step - loss: 0.3910 - Accuracy: 0.8348 - val_loss: 0.3187 - val_Accuracy: 0.8778\n",
      "Epoch 75/500\n",
      "64/64 [==============================] - 0s 760us/step - loss: 0.3810 - Accuracy: 0.8385 - val_loss: 0.3122 - val_Accuracy: 0.8811\n",
      "Epoch 76/500\n",
      "64/64 [==============================] - 0s 760us/step - loss: 0.3851 - Accuracy: 0.8367 - val_loss: 0.3147 - val_Accuracy: 0.8778\n",
      "Epoch 77/500\n",
      "64/64 [==============================] - 0s 760us/step - loss: 0.3843 - Accuracy: 0.8381 - val_loss: 0.3122 - val_Accuracy: 0.8778\n",
      "Epoch 78/500\n",
      "64/64 [==============================] - 0s 744us/step - loss: 0.3843 - Accuracy: 0.8375 - val_loss: 0.3135 - val_Accuracy: 0.8800\n",
      "Epoch 79/500\n",
      "64/64 [==============================] - 0s 760us/step - loss: 0.3869 - Accuracy: 0.8383 - val_loss: 0.3119 - val_Accuracy: 0.8822\n",
      "Epoch 80/500\n",
      "64/64 [==============================] - 0s 744us/step - loss: 0.3861 - Accuracy: 0.8372 - val_loss: 0.3144 - val_Accuracy: 0.8778\n",
      "Epoch 81/500\n",
      "64/64 [==============================] - 0s 760us/step - loss: 0.3854 - Accuracy: 0.8393 - val_loss: 0.3136 - val_Accuracy: 0.8789\n",
      "Epoch 82/500\n",
      "64/64 [==============================] - 0s 753us/step - loss: 0.3871 - Accuracy: 0.8377 - val_loss: 0.3117 - val_Accuracy: 0.8811\n",
      "Epoch 83/500\n",
      "64/64 [==============================] - 0s 760us/step - loss: 0.3829 - Accuracy: 0.8400 - val_loss: 0.3099 - val_Accuracy: 0.8822\n",
      "Epoch 84/500\n",
      "64/64 [==============================] - 0s 744us/step - loss: 0.3841 - Accuracy: 0.8416 - val_loss: 0.3115 - val_Accuracy: 0.8811\n",
      "Epoch 85/500\n",
      "64/64 [==============================] - 0s 760us/step - loss: 0.3853 - Accuracy: 0.8388 - val_loss: 0.3114 - val_Accuracy: 0.8811\n",
      "Epoch 86/500\n",
      "64/64 [==============================] - 0s 776us/step - loss: 0.3865 - Accuracy: 0.8364 - val_loss: 0.3131 - val_Accuracy: 0.8778\n",
      "Epoch 87/500\n",
      "64/64 [==============================] - 0s 776us/step - loss: 0.3798 - Accuracy: 0.8412 - val_loss: 0.3118 - val_Accuracy: 0.8811\n",
      "Epoch 88/500\n",
      "64/64 [==============================] - 0s 760us/step - loss: 0.3848 - Accuracy: 0.8380 - val_loss: 0.3113 - val_Accuracy: 0.8822\n",
      "Epoch 89/500\n",
      "64/64 [==============================] - 0s 744us/step - loss: 0.3837 - Accuracy: 0.8396 - val_loss: 0.3097 - val_Accuracy: 0.8800\n",
      "Epoch 90/500\n",
      "64/64 [==============================] - 0s 776us/step - loss: 0.3802 - Accuracy: 0.8422 - val_loss: 0.3087 - val_Accuracy: 0.8844\n",
      "Epoch 91/500\n",
      "64/64 [==============================] - 0s 760us/step - loss: 0.3822 - Accuracy: 0.8396 - val_loss: 0.3092 - val_Accuracy: 0.8800\n",
      "Epoch 92/500\n",
      "64/64 [==============================] - 0s 744us/step - loss: 0.3857 - Accuracy: 0.8391 - val_loss: 0.3097 - val_Accuracy: 0.8822\n",
      "Epoch 93/500\n",
      "64/64 [==============================] - 0s 776us/step - loss: 0.3862 - Accuracy: 0.8401 - val_loss: 0.3110 - val_Accuracy: 0.8789\n",
      "Epoch 94/500\n",
      "64/64 [==============================] - 0s 760us/step - loss: 0.3864 - Accuracy: 0.8368 - val_loss: 0.3095 - val_Accuracy: 0.8833\n",
      "Epoch 95/500\n",
      "64/64 [==============================] - 0s 744us/step - loss: 0.3864 - Accuracy: 0.8404 - val_loss: 0.3084 - val_Accuracy: 0.8811\n",
      "Epoch 96/500\n",
      "64/64 [==============================] - 0s 760us/step - loss: 0.3832 - Accuracy: 0.8362 - val_loss: 0.3103 - val_Accuracy: 0.8833\n",
      "Epoch 97/500\n",
      "64/64 [==============================] - 0s 772us/step - loss: 0.3848 - Accuracy: 0.8391 - val_loss: 0.3111 - val_Accuracy: 0.8811\n",
      "Epoch 98/500\n",
      "64/64 [==============================] - 0s 760us/step - loss: 0.3803 - Accuracy: 0.8425 - val_loss: 0.3087 - val_Accuracy: 0.8800\n",
      "Epoch 99/500\n",
      "64/64 [==============================] - 0s 760us/step - loss: 0.3837 - Accuracy: 0.8378 - val_loss: 0.3093 - val_Accuracy: 0.8822\n",
      "Epoch 100/500\n",
      "64/64 [==============================] - 0s 760us/step - loss: 0.3780 - Accuracy: 0.8404 - val_loss: 0.3080 - val_Accuracy: 0.8789\n",
      "Epoch 101/500\n",
      "64/64 [==============================] - 0s 771us/step - loss: 0.3804 - Accuracy: 0.8442 - val_loss: 0.3068 - val_Accuracy: 0.8800\n",
      "Epoch 102/500\n",
      "64/64 [==============================] - 0s 760us/step - loss: 0.3772 - Accuracy: 0.8443 - val_loss: 0.3071 - val_Accuracy: 0.8822\n",
      "Epoch 103/500\n",
      "64/64 [==============================] - 0s 760us/step - loss: 0.3743 - Accuracy: 0.8446 - val_loss: 0.3056 - val_Accuracy: 0.8822\n",
      "Epoch 104/500\n",
      "64/64 [==============================] - 0s 760us/step - loss: 0.3833 - Accuracy: 0.8420 - val_loss: 0.3077 - val_Accuracy: 0.8822\n",
      "Epoch 105/500\n",
      "64/64 [==============================] - 0s 776us/step - loss: 0.3792 - Accuracy: 0.8426 - val_loss: 0.3074 - val_Accuracy: 0.8833\n",
      "Epoch 106/500\n",
      "64/64 [==============================] - 0s 776us/step - loss: 0.3852 - Accuracy: 0.8412 - val_loss: 0.3093 - val_Accuracy: 0.8844\n",
      "Epoch 107/500\n",
      "64/64 [==============================] - 0s 776us/step - loss: 0.3789 - Accuracy: 0.8426 - val_loss: 0.3060 - val_Accuracy: 0.8811\n",
      "Epoch 108/500\n",
      "64/64 [==============================] - 0s 760us/step - loss: 0.3795 - Accuracy: 0.8398 - val_loss: 0.3084 - val_Accuracy: 0.8822\n",
      "Epoch 109/500\n",
      "64/64 [==============================] - 0s 760us/step - loss: 0.3811 - Accuracy: 0.8411 - val_loss: 0.3074 - val_Accuracy: 0.8833\n",
      "Epoch 110/500\n",
      "64/64 [==============================] - 0s 760us/step - loss: 0.3765 - Accuracy: 0.8458 - val_loss: 0.3070 - val_Accuracy: 0.8811\n",
      "Epoch 111/500\n",
      "64/64 [==============================] - 0s 760us/step - loss: 0.3773 - Accuracy: 0.8412 - val_loss: 0.3062 - val_Accuracy: 0.8822\n",
      "Epoch 112/500\n",
      "64/64 [==============================] - 0s 792us/step - loss: 0.3769 - Accuracy: 0.8451 - val_loss: 0.3045 - val_Accuracy: 0.8822\n",
      "Epoch 113/500\n",
      "64/64 [==============================] - 0s 760us/step - loss: 0.3758 - Accuracy: 0.8410 - val_loss: 0.3060 - val_Accuracy: 0.8889\n",
      "Epoch 114/500\n",
      "64/64 [==============================] - 0s 776us/step - loss: 0.3788 - Accuracy: 0.8422 - val_loss: 0.3040 - val_Accuracy: 0.8844\n"
     ]
    },
    {
     "name": "stdout",
     "output_type": "stream",
     "text": [
      "Epoch 115/500\n",
      "64/64 [==============================] - 0s 776us/step - loss: 0.3756 - Accuracy: 0.8421 - val_loss: 0.3044 - val_Accuracy: 0.8833\n",
      "Epoch 116/500\n",
      "64/64 [==============================] - 0s 776us/step - loss: 0.3781 - Accuracy: 0.8438 - val_loss: 0.3051 - val_Accuracy: 0.8833\n",
      "Epoch 117/500\n",
      "64/64 [==============================] - 0s 776us/step - loss: 0.3771 - Accuracy: 0.8421 - val_loss: 0.3039 - val_Accuracy: 0.8833\n",
      "Epoch 118/500\n",
      "64/64 [==============================] - 0s 760us/step - loss: 0.3764 - Accuracy: 0.8435 - val_loss: 0.3038 - val_Accuracy: 0.8811\n",
      "Epoch 119/500\n",
      "64/64 [==============================] - 0s 760us/step - loss: 0.3764 - Accuracy: 0.8453 - val_loss: 0.3063 - val_Accuracy: 0.8833\n",
      "Epoch 120/500\n",
      "64/64 [==============================] - 0s 760us/step - loss: 0.3803 - Accuracy: 0.8383 - val_loss: 0.3031 - val_Accuracy: 0.8822\n",
      "Epoch 121/500\n",
      "64/64 [==============================] - 0s 776us/step - loss: 0.3769 - Accuracy: 0.8436 - val_loss: 0.3033 - val_Accuracy: 0.8856\n",
      "Epoch 122/500\n",
      "64/64 [==============================] - 0s 760us/step - loss: 0.3763 - Accuracy: 0.8470 - val_loss: 0.3038 - val_Accuracy: 0.8822\n",
      "Epoch 123/500\n",
      "64/64 [==============================] - 0s 760us/step - loss: 0.3742 - Accuracy: 0.8441 - val_loss: 0.3058 - val_Accuracy: 0.8822\n",
      "Epoch 124/500\n",
      "64/64 [==============================] - 0s 776us/step - loss: 0.3800 - Accuracy: 0.8400 - val_loss: 0.3057 - val_Accuracy: 0.8844\n",
      "Epoch 125/500\n",
      "64/64 [==============================] - 0s 773us/step - loss: 0.3713 - Accuracy: 0.8460 - val_loss: 0.3032 - val_Accuracy: 0.8833\n",
      "Epoch 126/500\n",
      "64/64 [==============================] - 0s 760us/step - loss: 0.3782 - Accuracy: 0.8448 - val_loss: 0.3035 - val_Accuracy: 0.8856\n",
      "Epoch 127/500\n",
      "64/64 [==============================] - 0s 760us/step - loss: 0.3793 - Accuracy: 0.8399 - val_loss: 0.3056 - val_Accuracy: 0.8833\n",
      "Epoch 128/500\n",
      "64/64 [==============================] - 0s 807us/step - loss: 0.3770 - Accuracy: 0.8432 - val_loss: 0.3048 - val_Accuracy: 0.8844\n",
      "Epoch 129/500\n",
      "64/64 [==============================] - 0s 760us/step - loss: 0.3757 - Accuracy: 0.8430 - val_loss: 0.3026 - val_Accuracy: 0.8811\n",
      "Epoch 130/500\n",
      "64/64 [==============================] - 0s 771us/step - loss: 0.3737 - Accuracy: 0.8451 - val_loss: 0.3023 - val_Accuracy: 0.8833\n",
      "Epoch 131/500\n",
      "64/64 [==============================] - 0s 773us/step - loss: 0.3730 - Accuracy: 0.8443 - val_loss: 0.3057 - val_Accuracy: 0.8822\n",
      "Epoch 132/500\n",
      "64/64 [==============================] - 0s 776us/step - loss: 0.3758 - Accuracy: 0.8409 - val_loss: 0.3061 - val_Accuracy: 0.8822\n",
      "Epoch 133/500\n",
      "64/64 [==============================] - 0s 755us/step - loss: 0.3756 - Accuracy: 0.8432 - val_loss: 0.3062 - val_Accuracy: 0.8844\n",
      "Epoch 134/500\n",
      "64/64 [==============================] - 0s 744us/step - loss: 0.3790 - Accuracy: 0.8416 - val_loss: 0.3043 - val_Accuracy: 0.8811\n",
      "Epoch 135/500\n",
      "64/64 [==============================] - 0s 760us/step - loss: 0.3736 - Accuracy: 0.8438 - val_loss: 0.3031 - val_Accuracy: 0.8811\n",
      "Epoch 136/500\n",
      "64/64 [==============================] - 0s 760us/step - loss: 0.3792 - Accuracy: 0.8419 - val_loss: 0.3085 - val_Accuracy: 0.8856\n",
      "Epoch 137/500\n",
      "64/64 [==============================] - 0s 760us/step - loss: 0.3793 - Accuracy: 0.8393 - val_loss: 0.3070 - val_Accuracy: 0.8844\n",
      "Epoch 138/500\n",
      "64/64 [==============================] - 0s 760us/step - loss: 0.3692 - Accuracy: 0.8441 - val_loss: 0.2999 - val_Accuracy: 0.8833\n",
      "Epoch 139/500\n",
      "64/64 [==============================] - 0s 776us/step - loss: 0.3715 - Accuracy: 0.8451 - val_loss: 0.3007 - val_Accuracy: 0.8856\n",
      "Epoch 140/500\n",
      "64/64 [==============================] - 0s 744us/step - loss: 0.3740 - Accuracy: 0.8454 - val_loss: 0.3001 - val_Accuracy: 0.8800\n",
      "Epoch 141/500\n",
      "64/64 [==============================] - 0s 760us/step - loss: 0.3778 - Accuracy: 0.8440 - val_loss: 0.3062 - val_Accuracy: 0.8856\n",
      "Epoch 142/500\n",
      "64/64 [==============================] - 0s 792us/step - loss: 0.3760 - Accuracy: 0.8440 - val_loss: 0.3051 - val_Accuracy: 0.8822\n",
      "Epoch 143/500\n",
      "64/64 [==============================] - 0s 760us/step - loss: 0.3784 - Accuracy: 0.8421 - val_loss: 0.3075 - val_Accuracy: 0.8833\n",
      "Epoch 144/500\n",
      "64/64 [==============================] - 0s 776us/step - loss: 0.3765 - Accuracy: 0.8423 - val_loss: 0.3052 - val_Accuracy: 0.8833\n",
      "Epoch 145/500\n",
      "64/64 [==============================] - 0s 760us/step - loss: 0.3747 - Accuracy: 0.8414 - val_loss: 0.3029 - val_Accuracy: 0.8800\n",
      "Epoch 146/500\n",
      "64/64 [==============================] - 0s 760us/step - loss: 0.3707 - Accuracy: 0.8459 - val_loss: 0.3017 - val_Accuracy: 0.8811\n",
      "Epoch 147/500\n",
      "64/64 [==============================] - 0s 792us/step - loss: 0.3740 - Accuracy: 0.8404 - val_loss: 0.3026 - val_Accuracy: 0.8856\n",
      "Epoch 148/500\n",
      "64/64 [==============================] - 0s 792us/step - loss: 0.3764 - Accuracy: 0.8426 - val_loss: 0.3032 - val_Accuracy: 0.8844\n",
      "Epoch 149/500\n",
      "64/64 [==============================] - 0s 776us/step - loss: 0.3757 - Accuracy: 0.8453 - val_loss: 0.3037 - val_Accuracy: 0.8811\n",
      "Epoch 150/500\n",
      "64/64 [==============================] - 0s 792us/step - loss: 0.3749 - Accuracy: 0.8435 - val_loss: 0.3043 - val_Accuracy: 0.8867\n",
      "Epoch 151/500\n",
      "64/64 [==============================] - 0s 776us/step - loss: 0.3727 - Accuracy: 0.8472 - val_loss: 0.3004 - val_Accuracy: 0.8844\n",
      "Epoch 152/500\n",
      "64/64 [==============================] - 0s 760us/step - loss: 0.3766 - Accuracy: 0.8412 - val_loss: 0.3015 - val_Accuracy: 0.8867\n",
      "Epoch 153/500\n",
      "64/64 [==============================] - 0s 782us/step - loss: 0.3672 - Accuracy: 0.8469 - val_loss: 0.3012 - val_Accuracy: 0.8856\n",
      "Epoch 154/500\n",
      "64/64 [==============================] - 0s 792us/step - loss: 0.3717 - Accuracy: 0.8428 - val_loss: 0.3000 - val_Accuracy: 0.8867\n",
      "Epoch 155/500\n",
      "64/64 [==============================] - 0s 792us/step - loss: 0.3738 - Accuracy: 0.8423 - val_loss: 0.3013 - val_Accuracy: 0.8856\n",
      "Epoch 156/500\n",
      "64/64 [==============================] - 0s 776us/step - loss: 0.3733 - Accuracy: 0.8421 - val_loss: 0.3002 - val_Accuracy: 0.8833\n",
      "Epoch 157/500\n",
      "64/64 [==============================] - 0s 788us/step - loss: 0.3730 - Accuracy: 0.8421 - val_loss: 0.3024 - val_Accuracy: 0.8856\n",
      "Epoch 158/500\n",
      "64/64 [==============================] - 0s 760us/step - loss: 0.3764 - Accuracy: 0.8411 - val_loss: 0.3013 - val_Accuracy: 0.8867\n",
      "Epoch 159/500\n",
      "64/64 [==============================] - 0s 776us/step - loss: 0.3779 - Accuracy: 0.8394 - val_loss: 0.3039 - val_Accuracy: 0.8811\n",
      "Epoch 160/500\n",
      "64/64 [==============================] - 0s 776us/step - loss: 0.3762 - Accuracy: 0.8425 - val_loss: 0.3028 - val_Accuracy: 0.8856\n",
      "Epoch 161/500\n",
      "64/64 [==============================] - 0s 760us/step - loss: 0.3735 - Accuracy: 0.8448 - val_loss: 0.3036 - val_Accuracy: 0.8856\n",
      "Epoch 162/500\n",
      "64/64 [==============================] - 0s 776us/step - loss: 0.3772 - Accuracy: 0.8417 - val_loss: 0.3015 - val_Accuracy: 0.8856\n",
      "Epoch 163/500\n",
      "64/64 [==============================] - 0s 760us/step - loss: 0.3740 - Accuracy: 0.8480 - val_loss: 0.3010 - val_Accuracy: 0.8856\n",
      "Epoch 164/500\n",
      "64/64 [==============================] - 0s 776us/step - loss: 0.3747 - Accuracy: 0.8433 - val_loss: 0.3003 - val_Accuracy: 0.8833\n",
      "Epoch 165/500\n",
      "64/64 [==============================] - 0s 776us/step - loss: 0.3777 - Accuracy: 0.8443 - val_loss: 0.3047 - val_Accuracy: 0.8811\n",
      "Epoch 166/500\n",
      "64/64 [==============================] - 0s 784us/step - loss: 0.3779 - Accuracy: 0.8433 - val_loss: 0.3024 - val_Accuracy: 0.8833\n",
      "Epoch 167/500\n",
      "64/64 [==============================] - 0s 776us/step - loss: 0.3687 - Accuracy: 0.8449 - val_loss: 0.2998 - val_Accuracy: 0.8900\n",
      "Epoch 168/500\n",
      "64/64 [==============================] - 0s 792us/step - loss: 0.3728 - Accuracy: 0.8459 - val_loss: 0.3029 - val_Accuracy: 0.8878\n",
      "Epoch 169/500\n",
      "64/64 [==============================] - 0s 760us/step - loss: 0.3701 - Accuracy: 0.8451 - val_loss: 0.3062 - val_Accuracy: 0.8833\n",
      "Epoch 170/500\n",
      "64/64 [==============================] - 0s 776us/step - loss: 0.3773 - Accuracy: 0.8446 - val_loss: 0.3011 - val_Accuracy: 0.8844\n",
      "Epoch 171/500\n"
     ]
    },
    {
     "name": "stdout",
     "output_type": "stream",
     "text": [
      "64/64 [==============================] - 0s 792us/step - loss: 0.3703 - Accuracy: 0.8453 - val_loss: 0.3007 - val_Accuracy: 0.8833\n",
      "Epoch 172/500\n",
      "64/64 [==============================] - 0s 776us/step - loss: 0.3720 - Accuracy: 0.8444 - val_loss: 0.3017 - val_Accuracy: 0.8856\n",
      "Epoch 173/500\n",
      "64/64 [==============================] - 0s 776us/step - loss: 0.3708 - Accuracy: 0.8457 - val_loss: 0.3010 - val_Accuracy: 0.8878\n",
      "Epoch 174/500\n",
      "64/64 [==============================] - 0s 776us/step - loss: 0.3744 - Accuracy: 0.8426 - val_loss: 0.3051 - val_Accuracy: 0.8822\n",
      "Epoch 175/500\n",
      "64/64 [==============================] - 0s 776us/step - loss: 0.3727 - Accuracy: 0.8441 - val_loss: 0.3015 - val_Accuracy: 0.8833\n",
      "Epoch 176/500\n",
      "64/64 [==============================] - 0s 776us/step - loss: 0.3741 - Accuracy: 0.8451 - val_loss: 0.3040 - val_Accuracy: 0.8822\n",
      "Epoch 177/500\n",
      "64/64 [==============================] - 0s 823us/step - loss: 0.3675 - Accuracy: 0.8463 - val_loss: 0.2978 - val_Accuracy: 0.8889\n",
      "Epoch 178/500\n",
      "64/64 [==============================] - 0s 807us/step - loss: 0.3718 - Accuracy: 0.8440 - val_loss: 0.3007 - val_Accuracy: 0.8844\n",
      "Epoch 179/500\n",
      "64/64 [==============================] - 0s 807us/step - loss: 0.3738 - Accuracy: 0.8448 - val_loss: 0.3013 - val_Accuracy: 0.8822\n",
      "Epoch 180/500\n",
      "64/64 [==============================] - 0s 823us/step - loss: 0.3723 - Accuracy: 0.8422 - val_loss: 0.3004 - val_Accuracy: 0.8867\n",
      "Epoch 181/500\n",
      "64/64 [==============================] - 0s 807us/step - loss: 0.3748 - Accuracy: 0.8442 - val_loss: 0.3012 - val_Accuracy: 0.8856\n",
      "Epoch 182/500\n",
      "64/64 [==============================] - 0s 792us/step - loss: 0.3751 - Accuracy: 0.8421 - val_loss: 0.2999 - val_Accuracy: 0.8878\n",
      "Epoch 183/500\n",
      "64/64 [==============================] - 0s 823us/step - loss: 0.3695 - Accuracy: 0.8465 - val_loss: 0.3012 - val_Accuracy: 0.8867\n",
      "Epoch 184/500\n",
      "64/64 [==============================] - 0s 803us/step - loss: 0.3689 - Accuracy: 0.8491 - val_loss: 0.2982 - val_Accuracy: 0.8867\n",
      "Epoch 185/500\n",
      "64/64 [==============================] - 0s 776us/step - loss: 0.3708 - Accuracy: 0.8478 - val_loss: 0.2989 - val_Accuracy: 0.8811\n",
      "Epoch 186/500\n",
      "64/64 [==============================] - 0s 760us/step - loss: 0.3778 - Accuracy: 0.8446 - val_loss: 0.3009 - val_Accuracy: 0.8856\n",
      "Epoch 187/500\n",
      "64/64 [==============================] - 0s 776us/step - loss: 0.3712 - Accuracy: 0.8420 - val_loss: 0.2993 - val_Accuracy: 0.8867\n",
      "Epoch 188/500\n",
      "64/64 [==============================] - 0s 776us/step - loss: 0.3740 - Accuracy: 0.8422 - val_loss: 0.3002 - val_Accuracy: 0.8811\n",
      "Epoch 189/500\n",
      "64/64 [==============================] - 0s 792us/step - loss: 0.3661 - Accuracy: 0.8453 - val_loss: 0.2980 - val_Accuracy: 0.8856\n",
      "Epoch 190/500\n",
      "64/64 [==============================] - 0s 772us/step - loss: 0.3694 - Accuracy: 0.8472 - val_loss: 0.2972 - val_Accuracy: 0.8867\n",
      "Epoch 191/500\n",
      "64/64 [==============================] - 0s 776us/step - loss: 0.3738 - Accuracy: 0.8447 - val_loss: 0.2983 - val_Accuracy: 0.8833\n",
      "Epoch 192/500\n",
      "64/64 [==============================] - 0s 776us/step - loss: 0.3756 - Accuracy: 0.8467 - val_loss: 0.3000 - val_Accuracy: 0.8878\n",
      "Epoch 193/500\n",
      "64/64 [==============================] - 0s 776us/step - loss: 0.3720 - Accuracy: 0.8449 - val_loss: 0.3005 - val_Accuracy: 0.8844\n",
      "Epoch 194/500\n",
      "64/64 [==============================] - 0s 760us/step - loss: 0.3717 - Accuracy: 0.8448 - val_loss: 0.3016 - val_Accuracy: 0.8856\n",
      "Epoch 195/500\n",
      "64/64 [==============================] - 0s 776us/step - loss: 0.3703 - Accuracy: 0.8480 - val_loss: 0.2997 - val_Accuracy: 0.8867\n",
      "Epoch 196/500\n",
      "64/64 [==============================] - 0s 776us/step - loss: 0.3695 - Accuracy: 0.8444 - val_loss: 0.2989 - val_Accuracy: 0.8867\n",
      "Epoch 197/500\n",
      "64/64 [==============================] - 0s 760us/step - loss: 0.3734 - Accuracy: 0.8419 - val_loss: 0.3019 - val_Accuracy: 0.8889\n",
      "Epoch 198/500\n",
      "64/64 [==============================] - 0s 760us/step - loss: 0.3658 - Accuracy: 0.8457 - val_loss: 0.3013 - val_Accuracy: 0.8833\n",
      "Epoch 199/500\n",
      "64/64 [==============================] - 0s 776us/step - loss: 0.3672 - Accuracy: 0.8472 - val_loss: 0.2986 - val_Accuracy: 0.8844\n",
      "Epoch 200/500\n",
      "64/64 [==============================] - 0s 776us/step - loss: 0.3745 - Accuracy: 0.8427 - val_loss: 0.3028 - val_Accuracy: 0.8822\n",
      "Epoch 201/500\n",
      "64/64 [==============================] - 0s 792us/step - loss: 0.3714 - Accuracy: 0.8441 - val_loss: 0.3033 - val_Accuracy: 0.8878\n",
      "Epoch 202/500\n",
      "64/64 [==============================] - 0s 792us/step - loss: 0.3711 - Accuracy: 0.8477 - val_loss: 0.2979 - val_Accuracy: 0.8844\n",
      "Epoch 203/500\n",
      "64/64 [==============================] - 0s 776us/step - loss: 0.3678 - Accuracy: 0.8442 - val_loss: 0.2983 - val_Accuracy: 0.8856\n",
      "Epoch 204/500\n",
      "64/64 [==============================] - 0s 776us/step - loss: 0.3706 - Accuracy: 0.8479 - val_loss: 0.3000 - val_Accuracy: 0.8900\n",
      "Epoch 205/500\n",
      "64/64 [==============================] - 0s 776us/step - loss: 0.3704 - Accuracy: 0.8449 - val_loss: 0.2977 - val_Accuracy: 0.8911\n",
      "Epoch 206/500\n",
      "64/64 [==============================] - 0s 760us/step - loss: 0.3694 - Accuracy: 0.8443 - val_loss: 0.2968 - val_Accuracy: 0.8889\n",
      "Epoch 207/500\n",
      "64/64 [==============================] - 0s 792us/step - loss: 0.3729 - Accuracy: 0.8473 - val_loss: 0.3002 - val_Accuracy: 0.8856\n",
      "Epoch 208/500\n",
      "64/64 [==============================] - 0s 776us/step - loss: 0.3688 - Accuracy: 0.8469 - val_loss: 0.2990 - val_Accuracy: 0.8844\n",
      "Epoch 209/500\n",
      "64/64 [==============================] - 0s 760us/step - loss: 0.3663 - Accuracy: 0.8479 - val_loss: 0.3032 - val_Accuracy: 0.8844\n",
      "Epoch 210/500\n",
      "64/64 [==============================] - 0s 776us/step - loss: 0.3737 - Accuracy: 0.8446 - val_loss: 0.2995 - val_Accuracy: 0.8844\n",
      "Epoch 211/500\n",
      "64/64 [==============================] - 0s 776us/step - loss: 0.3687 - Accuracy: 0.8479 - val_loss: 0.3004 - val_Accuracy: 0.8856\n",
      "Epoch 212/500\n",
      "64/64 [==============================] - 0s 778us/step - loss: 0.3657 - Accuracy: 0.8496 - val_loss: 0.2945 - val_Accuracy: 0.8900\n",
      "Epoch 213/500\n",
      "64/64 [==============================] - 0s 760us/step - loss: 0.3764 - Accuracy: 0.8441 - val_loss: 0.2981 - val_Accuracy: 0.8900\n",
      "Epoch 214/500\n",
      "64/64 [==============================] - 0s 776us/step - loss: 0.3708 - Accuracy: 0.8470 - val_loss: 0.2961 - val_Accuracy: 0.8844\n",
      "Epoch 215/500\n",
      "64/64 [==============================] - 0s 760us/step - loss: 0.3684 - Accuracy: 0.8489 - val_loss: 0.2949 - val_Accuracy: 0.8900\n",
      "Epoch 216/500\n",
      "64/64 [==============================] - 0s 779us/step - loss: 0.3685 - Accuracy: 0.8446 - val_loss: 0.2950 - val_Accuracy: 0.8856\n",
      "Epoch 217/500\n",
      "64/64 [==============================] - 0s 771us/step - loss: 0.3628 - Accuracy: 0.8451 - val_loss: 0.2970 - val_Accuracy: 0.8822\n",
      "Epoch 218/500\n",
      "64/64 [==============================] - 0s 776us/step - loss: 0.3690 - Accuracy: 0.8481 - val_loss: 0.2987 - val_Accuracy: 0.8844\n",
      "Epoch 219/500\n",
      "64/64 [==============================] - 0s 760us/step - loss: 0.3705 - Accuracy: 0.8460 - val_loss: 0.3011 - val_Accuracy: 0.8833\n",
      "Epoch 220/500\n",
      "64/64 [==============================] - 0s 771us/step - loss: 0.3718 - Accuracy: 0.8428 - val_loss: 0.2984 - val_Accuracy: 0.8878\n",
      "Epoch 221/500\n",
      "64/64 [==============================] - 0s 776us/step - loss: 0.3734 - Accuracy: 0.8462 - val_loss: 0.2986 - val_Accuracy: 0.8889\n",
      "Epoch 222/500\n",
      "64/64 [==============================] - 0s 768us/step - loss: 0.3704 - Accuracy: 0.8451 - val_loss: 0.2969 - val_Accuracy: 0.8856\n",
      "Epoch 223/500\n",
      "64/64 [==============================] - 0s 760us/step - loss: 0.3658 - Accuracy: 0.8456 - val_loss: 0.2983 - val_Accuracy: 0.8867\n",
      "Epoch 224/500\n",
      "64/64 [==============================] - 0s 776us/step - loss: 0.3631 - Accuracy: 0.8483 - val_loss: 0.2958 - val_Accuracy: 0.8944\n",
      "Epoch 225/500\n",
      "64/64 [==============================] - 0s 776us/step - loss: 0.3735 - Accuracy: 0.8459 - val_loss: 0.2968 - val_Accuracy: 0.8889\n",
      "Epoch 226/500\n",
      "64/64 [==============================] - 0s 776us/step - loss: 0.3724 - Accuracy: 0.8421 - val_loss: 0.2978 - val_Accuracy: 0.8844\n",
      "Epoch 227/500\n"
     ]
    },
    {
     "name": "stdout",
     "output_type": "stream",
     "text": [
      "64/64 [==============================] - 0s 792us/step - loss: 0.3691 - Accuracy: 0.8457 - val_loss: 0.2978 - val_Accuracy: 0.8844\n",
      "Epoch 228/500\n",
      "64/64 [==============================] - 0s 776us/step - loss: 0.3675 - Accuracy: 0.8477 - val_loss: 0.2963 - val_Accuracy: 0.8844\n",
      "Epoch 229/500\n",
      "64/64 [==============================] - 0s 776us/step - loss: 0.3665 - Accuracy: 0.8463 - val_loss: 0.2939 - val_Accuracy: 0.8878\n",
      "Epoch 230/500\n",
      "64/64 [==============================] - 0s 776us/step - loss: 0.3673 - Accuracy: 0.8505 - val_loss: 0.2939 - val_Accuracy: 0.8911\n",
      "Epoch 231/500\n",
      "64/64 [==============================] - 0s 792us/step - loss: 0.3644 - Accuracy: 0.8495 - val_loss: 0.2951 - val_Accuracy: 0.8889\n",
      "Epoch 232/500\n",
      "64/64 [==============================] - 0s 760us/step - loss: 0.3676 - Accuracy: 0.8467 - val_loss: 0.2957 - val_Accuracy: 0.8833\n",
      "Epoch 233/500\n",
      "64/64 [==============================] - 0s 792us/step - loss: 0.3707 - Accuracy: 0.8452 - val_loss: 0.2984 - val_Accuracy: 0.8889\n",
      "Epoch 234/500\n",
      "64/64 [==============================] - 0s 776us/step - loss: 0.3768 - Accuracy: 0.8426 - val_loss: 0.3020 - val_Accuracy: 0.8867\n",
      "Epoch 235/500\n",
      "64/64 [==============================] - 0s 792us/step - loss: 0.3719 - Accuracy: 0.8478 - val_loss: 0.2984 - val_Accuracy: 0.8900\n",
      "Epoch 236/500\n",
      "64/64 [==============================] - 0s 807us/step - loss: 0.3676 - Accuracy: 0.8452 - val_loss: 0.2990 - val_Accuracy: 0.8878\n",
      "Epoch 237/500\n",
      "64/64 [==============================] - 0s 792us/step - loss: 0.3686 - Accuracy: 0.8474 - val_loss: 0.2987 - val_Accuracy: 0.8867\n",
      "Epoch 238/500\n",
      "64/64 [==============================] - 0s 776us/step - loss: 0.3643 - Accuracy: 0.8478 - val_loss: 0.2974 - val_Accuracy: 0.8878\n",
      "Epoch 239/500\n",
      "64/64 [==============================] - 0s 760us/step - loss: 0.3727 - Accuracy: 0.8468 - val_loss: 0.2982 - val_Accuracy: 0.8833\n",
      "Epoch 240/500\n",
      "64/64 [==============================] - 0s 776us/step - loss: 0.3709 - Accuracy: 0.8423 - val_loss: 0.2977 - val_Accuracy: 0.8867\n",
      "Epoch 241/500\n",
      "64/64 [==============================] - 0s 776us/step - loss: 0.3722 - Accuracy: 0.8467 - val_loss: 0.2987 - val_Accuracy: 0.8856\n",
      "Epoch 242/500\n",
      "64/64 [==============================] - 0s 776us/step - loss: 0.3661 - Accuracy: 0.8454 - val_loss: 0.2992 - val_Accuracy: 0.8867\n",
      "Epoch 243/500\n",
      "64/64 [==============================] - 0s 776us/step - loss: 0.3726 - Accuracy: 0.8469 - val_loss: 0.2992 - val_Accuracy: 0.8856\n",
      "Epoch 244/500\n",
      "64/64 [==============================] - 0s 776us/step - loss: 0.3689 - Accuracy: 0.8498 - val_loss: 0.2973 - val_Accuracy: 0.8878\n",
      "Epoch 245/500\n",
      "64/64 [==============================] - 0s 792us/step - loss: 0.3702 - Accuracy: 0.8472 - val_loss: 0.2974 - val_Accuracy: 0.8867\n",
      "Epoch 246/500\n",
      "64/64 [==============================] - 0s 792us/step - loss: 0.3636 - Accuracy: 0.8468 - val_loss: 0.2979 - val_Accuracy: 0.8833\n",
      "Epoch 247/500\n",
      "64/64 [==============================] - 0s 792us/step - loss: 0.3656 - Accuracy: 0.8485 - val_loss: 0.2956 - val_Accuracy: 0.8889\n",
      "Epoch 248/500\n",
      "64/64 [==============================] - 0s 792us/step - loss: 0.3616 - Accuracy: 0.8486 - val_loss: 0.2950 - val_Accuracy: 0.8878\n",
      "Epoch 249/500\n",
      "64/64 [==============================] - 0s 793us/step - loss: 0.3641 - Accuracy: 0.8520 - val_loss: 0.2949 - val_Accuracy: 0.8856\n",
      "Epoch 250/500\n",
      "64/64 [==============================] - 0s 792us/step - loss: 0.3680 - Accuracy: 0.8493 - val_loss: 0.2933 - val_Accuracy: 0.8944\n",
      "Epoch 251/500\n",
      "64/64 [==============================] - 0s 792us/step - loss: 0.3673 - Accuracy: 0.8500 - val_loss: 0.2944 - val_Accuracy: 0.8878\n",
      "Epoch 252/500\n",
      "64/64 [==============================] - 0s 776us/step - loss: 0.3664 - Accuracy: 0.8501 - val_loss: 0.2957 - val_Accuracy: 0.8867\n",
      "Epoch 253/500\n",
      "64/64 [==============================] - 0s 760us/step - loss: 0.3715 - Accuracy: 0.8477 - val_loss: 0.2983 - val_Accuracy: 0.8844\n",
      "Epoch 254/500\n",
      "64/64 [==============================] - 0s 792us/step - loss: 0.3680 - Accuracy: 0.8474 - val_loss: 0.2974 - val_Accuracy: 0.8856\n",
      "Epoch 255/500\n",
      "64/64 [==============================] - 0s 807us/step - loss: 0.3635 - Accuracy: 0.8477 - val_loss: 0.2961 - val_Accuracy: 0.8844\n",
      "Epoch 256/500\n",
      "64/64 [==============================] - 0s 776us/step - loss: 0.3681 - Accuracy: 0.8452 - val_loss: 0.2954 - val_Accuracy: 0.8933\n",
      "Epoch 257/500\n",
      "64/64 [==============================] - 0s 792us/step - loss: 0.3687 - Accuracy: 0.8489 - val_loss: 0.2974 - val_Accuracy: 0.8900\n",
      "Epoch 258/500\n",
      "64/64 [==============================] - 0s 776us/step - loss: 0.3685 - Accuracy: 0.8448 - val_loss: 0.2997 - val_Accuracy: 0.8844\n",
      "Epoch 259/500\n",
      "64/64 [==============================] - 0s 776us/step - loss: 0.3691 - Accuracy: 0.8448 - val_loss: 0.2992 - val_Accuracy: 0.8833\n",
      "Epoch 260/500\n",
      "64/64 [==============================] - 0s 792us/step - loss: 0.3637 - Accuracy: 0.8495 - val_loss: 0.2957 - val_Accuracy: 0.8889\n",
      "Epoch 261/500\n",
      "64/64 [==============================] - 0s 792us/step - loss: 0.3688 - Accuracy: 0.8444 - val_loss: 0.2938 - val_Accuracy: 0.8867\n",
      "Epoch 262/500\n",
      "64/64 [==============================] - 0s 760us/step - loss: 0.3726 - Accuracy: 0.8479 - val_loss: 0.2990 - val_Accuracy: 0.8844\n",
      "Epoch 263/500\n",
      "64/64 [==============================] - 0s 776us/step - loss: 0.3643 - Accuracy: 0.8484 - val_loss: 0.2948 - val_Accuracy: 0.8889\n",
      "Epoch 264/500\n",
      "64/64 [==============================] - 0s 776us/step - loss: 0.3680 - Accuracy: 0.8468 - val_loss: 0.2949 - val_Accuracy: 0.8889\n",
      "Epoch 265/500\n",
      "64/64 [==============================] - 0s 775us/step - loss: 0.3632 - Accuracy: 0.8480 - val_loss: 0.2916 - val_Accuracy: 0.8911\n",
      "Epoch 266/500\n",
      "64/64 [==============================] - 0s 760us/step - loss: 0.3641 - Accuracy: 0.8468 - val_loss: 0.2943 - val_Accuracy: 0.8911\n",
      "Epoch 267/500\n",
      "64/64 [==============================] - 0s 776us/step - loss: 0.3655 - Accuracy: 0.8512 - val_loss: 0.2938 - val_Accuracy: 0.8833\n",
      "Epoch 268/500\n",
      "64/64 [==============================] - 0s 776us/step - loss: 0.3654 - Accuracy: 0.8474 - val_loss: 0.2956 - val_Accuracy: 0.8922\n",
      "Epoch 269/500\n",
      "64/64 [==============================] - 0s 776us/step - loss: 0.3648 - Accuracy: 0.8491 - val_loss: 0.2944 - val_Accuracy: 0.8911\n",
      "Epoch 270/500\n",
      "64/64 [==============================] - 0s 776us/step - loss: 0.3665 - Accuracy: 0.8481 - val_loss: 0.2940 - val_Accuracy: 0.8889\n",
      "Epoch 271/500\n",
      "64/64 [==============================] - 0s 770us/step - loss: 0.3696 - Accuracy: 0.8459 - val_loss: 0.2945 - val_Accuracy: 0.8900\n",
      "Epoch 272/500\n",
      "64/64 [==============================] - 0s 760us/step - loss: 0.3686 - Accuracy: 0.8474 - val_loss: 0.2959 - val_Accuracy: 0.8922\n",
      "Epoch 273/500\n",
      "64/64 [==============================] - 0s 759us/step - loss: 0.3662 - Accuracy: 0.8499 - val_loss: 0.2983 - val_Accuracy: 0.8911\n",
      "Epoch 274/500\n",
      "64/64 [==============================] - 0s 776us/step - loss: 0.3651 - Accuracy: 0.8488 - val_loss: 0.2956 - val_Accuracy: 0.8878\n",
      "Epoch 275/500\n",
      "64/64 [==============================] - 0s 792us/step - loss: 0.3619 - Accuracy: 0.8493 - val_loss: 0.2941 - val_Accuracy: 0.8867\n",
      "Epoch 276/500\n",
      "64/64 [==============================] - 0s 792us/step - loss: 0.3690 - Accuracy: 0.8435 - val_loss: 0.2964 - val_Accuracy: 0.8878\n",
      "Epoch 277/500\n",
      "64/64 [==============================] - 0s 772us/step - loss: 0.3691 - Accuracy: 0.8421 - val_loss: 0.2975 - val_Accuracy: 0.8856\n",
      "Epoch 278/500\n",
      "64/64 [==============================] - 0s 792us/step - loss: 0.3680 - Accuracy: 0.8485 - val_loss: 0.2975 - val_Accuracy: 0.8878\n",
      "Epoch 279/500\n",
      "64/64 [==============================] - 0s 787us/step - loss: 0.3692 - Accuracy: 0.8473 - val_loss: 0.2982 - val_Accuracy: 0.8867\n",
      "Epoch 280/500\n",
      "64/64 [==============================] - 0s 776us/step - loss: 0.3742 - Accuracy: 0.8481 - val_loss: 0.3001 - val_Accuracy: 0.8844\n",
      "Epoch 281/500\n",
      "64/64 [==============================] - 0s 792us/step - loss: 0.3607 - Accuracy: 0.8504 - val_loss: 0.2947 - val_Accuracy: 0.8889\n",
      "Epoch 282/500\n",
      "64/64 [==============================] - 0s 792us/step - loss: 0.3725 - Accuracy: 0.8483 - val_loss: 0.2961 - val_Accuracy: 0.8878\n",
      "Epoch 283/500\n"
     ]
    },
    {
     "name": "stdout",
     "output_type": "stream",
     "text": [
      "64/64 [==============================] - 0s 776us/step - loss: 0.3671 - Accuracy: 0.8477 - val_loss: 0.2983 - val_Accuracy: 0.8867\n",
      "Epoch 284/500\n",
      "64/64 [==============================] - 0s 807us/step - loss: 0.3714 - Accuracy: 0.8454 - val_loss: 0.2968 - val_Accuracy: 0.8822\n",
      "Epoch 285/500\n",
      "64/64 [==============================] - 0s 776us/step - loss: 0.3652 - Accuracy: 0.8501 - val_loss: 0.2994 - val_Accuracy: 0.8856\n",
      "Epoch 286/500\n",
      "64/64 [==============================] - 0s 792us/step - loss: 0.3627 - Accuracy: 0.8502 - val_loss: 0.2969 - val_Accuracy: 0.8856\n",
      "Epoch 287/500\n",
      "64/64 [==============================] - 0s 792us/step - loss: 0.3659 - Accuracy: 0.8490 - val_loss: 0.2946 - val_Accuracy: 0.8856\n",
      "Epoch 288/500\n",
      "64/64 [==============================] - 0s 792us/step - loss: 0.3662 - Accuracy: 0.8456 - val_loss: 0.2941 - val_Accuracy: 0.8889\n",
      "Epoch 289/500\n",
      "64/64 [==============================] - 0s 776us/step - loss: 0.3644 - Accuracy: 0.8481 - val_loss: 0.2948 - val_Accuracy: 0.8900\n",
      "Epoch 290/500\n",
      "64/64 [==============================] - 0s 792us/step - loss: 0.3685 - Accuracy: 0.8498 - val_loss: 0.2960 - val_Accuracy: 0.8889\n",
      "Epoch 291/500\n",
      "64/64 [==============================] - 0s 776us/step - loss: 0.3661 - Accuracy: 0.8473 - val_loss: 0.2971 - val_Accuracy: 0.8878\n",
      "Epoch 292/500\n",
      "64/64 [==============================] - 0s 792us/step - loss: 0.3682 - Accuracy: 0.8473 - val_loss: 0.2980 - val_Accuracy: 0.8900\n",
      "Epoch 293/500\n",
      "64/64 [==============================] - 0s 776us/step - loss: 0.3690 - Accuracy: 0.8484 - val_loss: 0.2962 - val_Accuracy: 0.8856\n",
      "Epoch 294/500\n",
      "64/64 [==============================] - 0s 792us/step - loss: 0.3659 - Accuracy: 0.8463 - val_loss: 0.2975 - val_Accuracy: 0.8867\n",
      "Epoch 295/500\n",
      "64/64 [==============================] - 0s 776us/step - loss: 0.3681 - Accuracy: 0.8469 - val_loss: 0.2991 - val_Accuracy: 0.8844\n",
      "Epoch 00295: early stopping\n"
     ]
    },
    {
     "data": {
      "text/plain": [
       "<keras.callbacks.History at 0x28eacfea0d0>"
      ]
     },
     "execution_count": 35,
     "metadata": {},
     "output_type": "execute_result"
    }
   ],
   "source": [
    "model.fit(x=X_train,\n",
    "          y=y_train,\n",
    "          validation_split=.1,\n",
    "          batch_size=128,\n",
    "          epochs=500,\n",
    "          verbose=1,\n",
    "          callbacks=[early_stop])"
   ]
  },
  {
   "cell_type": "code",
   "execution_count": 36,
   "metadata": {
    "cell_style": "center",
    "scrolled": true
   },
   "outputs": [
    {
     "name": "stdout",
     "output_type": "stream",
     "text": [
      "Model: \"sequential\"\n",
      "_________________________________________________________________\n",
      "Layer (type)                 Output Shape              Param #   \n",
      "=================================================================\n",
      "dense (Dense)                (None, 30)                450       \n",
      "_________________________________________________________________\n",
      "dropout (Dropout)            (None, 30)                0         \n",
      "_________________________________________________________________\n",
      "dense_1 (Dense)              (None, 15)                465       \n",
      "_________________________________________________________________\n",
      "dropout_1 (Dropout)          (None, 15)                0         \n",
      "_________________________________________________________________\n",
      "dense_2 (Dense)              (None, 1)                 16        \n",
      "=================================================================\n",
      "Total params: 931\n",
      "Trainable params: 931\n",
      "Non-trainable params: 0\n",
      "_________________________________________________________________\n"
     ]
    }
   ],
   "source": [
    "model.summary()"
   ]
  },
  {
   "cell_type": "code",
   "execution_count": 37,
   "metadata": {
    "cell_style": "split",
    "executionInfo": {
     "elapsed": 809,
     "status": "ok",
     "timestamp": 1610205470123,
     "user": {
      "displayName": "Richard C",
      "photoUrl": "",
      "userId": "08040814671867660929"
     },
     "user_tz": -180
    },
    "id": "vQIbjGQduQpQ"
   },
   "outputs": [
    {
     "data": {
      "text/plain": [
       "<AxesSubplot:>"
      ]
     },
     "execution_count": 37,
     "metadata": {},
     "output_type": "execute_result"
    },
    {
     "data": {
      "image/png": "[encoded data removed]",
      "text/plain": [
       "<Figure size 864x432 with 1 Axes>"
      ]
     },
     "metadata": {},
     "output_type": "display_data"
    }
   ],
   "source": [
    "loss_df = pd.DataFrame(model.history.history)\n",
    "loss_df.plot()"
   ]
  },
  {
   "cell_type": "code",
   "execution_count": 38,
   "metadata": {},
   "outputs": [
    {
     "ename": "KeyError",
     "evalue": "'val_accuracy'",
     "output_type": "error",
     "traceback": [
      "\u001b[1;31m---------------------------------------------------------------------------\u001b[0m",
      "\u001b[1;31mKeyError\u001b[0m                                  Traceback (most recent call last)",
      "\u001b[1;32m~\\anaconda3\\lib\\site-packages\\pandas\\core\\indexes\\base.py\u001b[0m in \u001b[0;36mget_loc\u001b[1;34m(self, key, method, tolerance)\u001b[0m\n\u001b[0;32m   3079\u001b[0m             \u001b[1;32mtry\u001b[0m\u001b[1;33m:\u001b[0m\u001b[1;33m\u001b[0m\u001b[1;33m\u001b[0m\u001b[0m\n\u001b[1;32m-> 3080\u001b[1;33m                 \u001b[1;32mreturn\u001b[0m \u001b[0mself\u001b[0m\u001b[1;33m.\u001b[0m\u001b[0m_engine\u001b[0m\u001b[1;33m.\u001b[0m\u001b[0mget_loc\u001b[0m\u001b[1;33m(\u001b[0m\u001b[0mcasted_key\u001b[0m\u001b[1;33m)\u001b[0m\u001b[1;33m\u001b[0m\u001b[1;33m\u001b[0m\u001b[0m\n\u001b[0m\u001b[0;32m   3081\u001b[0m             \u001b[1;32mexcept\u001b[0m \u001b[0mKeyError\u001b[0m \u001b[1;32mas\u001b[0m \u001b[0merr\u001b[0m\u001b[1;33m:\u001b[0m\u001b[1;33m\u001b[0m\u001b[1;33m\u001b[0m\u001b[0m\n",
      "\u001b[1;32mpandas\\_libs\\index.pyx\u001b[0m in \u001b[0;36mpandas._libs.index.IndexEngine.get_loc\u001b[1;34m()\u001b[0m\n",
      "\u001b[1;32mpandas\\_libs\\index.pyx\u001b[0m in \u001b[0;36mpandas._libs.index.IndexEngine.get_loc\u001b[1;34m()\u001b[0m\n",
      "\u001b[1;32mpandas\\_libs\\hashtable_class_helper.pxi\u001b[0m in \u001b[0;36mpandas._libs.hashtable.PyObjectHashTable.get_item\u001b[1;34m()\u001b[0m\n",
      "\u001b[1;32mpandas\\_libs\\hashtable_class_helper.pxi\u001b[0m in \u001b[0;36mpandas._libs.hashtable.PyObjectHashTable.get_item\u001b[1;34m()\u001b[0m\n",
      "\u001b[1;31mKeyError\u001b[0m: 'val_accuracy'",
      "\nThe above exception was the direct cause of the following exception:\n",
      "\u001b[1;31mKeyError\u001b[0m                                  Traceback (most recent call last)",
      "\u001b[1;32m<ipython-input-38-f666649f0407>\u001b[0m in \u001b[0;36m<module>\u001b[1;34m\u001b[0m\n\u001b[1;32m----> 1\u001b[1;33m \u001b[0mloss_df\u001b[0m\u001b[1;33m.\u001b[0m\u001b[0mnlargest\u001b[0m\u001b[1;33m(\u001b[0m\u001b[1;36m10\u001b[0m\u001b[1;33m,\u001b[0m \u001b[1;34m\"val_accuracy\"\u001b[0m\u001b[1;33m)\u001b[0m\u001b[1;33m\u001b[0m\u001b[1;33m\u001b[0m\u001b[0m\n\u001b[0m",
      "\u001b[1;32m~\\anaconda3\\lib\\site-packages\\pandas\\core\\frame.py\u001b[0m in \u001b[0;36mnlargest\u001b[1;34m(self, n, columns, keep)\u001b[0m\n\u001b[0;32m   5795\u001b[0m         \u001b[0mBrunei\u001b[0m      \u001b[1;36m434000\u001b[0m    \u001b[1;36m12128\u001b[0m      \u001b[0mBN\u001b[0m\u001b[1;33m\u001b[0m\u001b[1;33m\u001b[0m\u001b[0m\n\u001b[0;32m   5796\u001b[0m         \"\"\"\n\u001b[1;32m-> 5797\u001b[1;33m         \u001b[1;32mreturn\u001b[0m \u001b[0malgorithms\u001b[0m\u001b[1;33m.\u001b[0m\u001b[0mSelectNFrame\u001b[0m\u001b[1;33m(\u001b[0m\u001b[0mself\u001b[0m\u001b[1;33m,\u001b[0m \u001b[0mn\u001b[0m\u001b[1;33m=\u001b[0m\u001b[0mn\u001b[0m\u001b[1;33m,\u001b[0m \u001b[0mkeep\u001b[0m\u001b[1;33m=\u001b[0m\u001b[0mkeep\u001b[0m\u001b[1;33m,\u001b[0m \u001b[0mcolumns\u001b[0m\u001b[1;33m=\u001b[0m\u001b[0mcolumns\u001b[0m\u001b[1;33m)\u001b[0m\u001b[1;33m.\u001b[0m\u001b[0mnlargest\u001b[0m\u001b[1;33m(\u001b[0m\u001b[1;33m)\u001b[0m\u001b[1;33m\u001b[0m\u001b[1;33m\u001b[0m\u001b[0m\n\u001b[0m\u001b[0;32m   5798\u001b[0m \u001b[1;33m\u001b[0m\u001b[0m\n\u001b[0;32m   5799\u001b[0m     \u001b[1;32mdef\u001b[0m \u001b[0mnsmallest\u001b[0m\u001b[1;33m(\u001b[0m\u001b[0mself\u001b[0m\u001b[1;33m,\u001b[0m \u001b[0mn\u001b[0m\u001b[1;33m,\u001b[0m \u001b[0mcolumns\u001b[0m\u001b[1;33m,\u001b[0m \u001b[0mkeep\u001b[0m\u001b[1;33m=\u001b[0m\u001b[1;34m\"first\"\u001b[0m\u001b[1;33m)\u001b[0m \u001b[1;33m->\u001b[0m \u001b[0mDataFrame\u001b[0m\u001b[1;33m:\u001b[0m\u001b[1;33m\u001b[0m\u001b[1;33m\u001b[0m\u001b[0m\n",
      "\u001b[1;32m~\\anaconda3\\lib\\site-packages\\pandas\\core\\algorithms.py\u001b[0m in \u001b[0;36mnlargest\u001b[1;34m(self)\u001b[0m\n\u001b[0;32m   1181\u001b[0m \u001b[1;33m\u001b[0m\u001b[0m\n\u001b[0;32m   1182\u001b[0m     \u001b[1;32mdef\u001b[0m \u001b[0mnlargest\u001b[0m\u001b[1;33m(\u001b[0m\u001b[0mself\u001b[0m\u001b[1;33m)\u001b[0m\u001b[1;33m:\u001b[0m\u001b[1;33m\u001b[0m\u001b[1;33m\u001b[0m\u001b[0m\n\u001b[1;32m-> 1183\u001b[1;33m         \u001b[1;32mreturn\u001b[0m \u001b[0mself\u001b[0m\u001b[1;33m.\u001b[0m\u001b[0mcompute\u001b[0m\u001b[1;33m(\u001b[0m\u001b[1;34m\"nlargest\"\u001b[0m\u001b[1;33m)\u001b[0m\u001b[1;33m\u001b[0m\u001b[1;33m\u001b[0m\u001b[0m\n\u001b[0m\u001b[0;32m   1184\u001b[0m \u001b[1;33m\u001b[0m\u001b[0m\n\u001b[0;32m   1185\u001b[0m     \u001b[1;32mdef\u001b[0m \u001b[0mnsmallest\u001b[0m\u001b[1;33m(\u001b[0m\u001b[0mself\u001b[0m\u001b[1;33m)\u001b[0m\u001b[1;33m:\u001b[0m\u001b[1;33m\u001b[0m\u001b[1;33m\u001b[0m\u001b[0m\n",
      "\u001b[1;32m~\\anaconda3\\lib\\site-packages\\pandas\\core\\algorithms.py\u001b[0m in \u001b[0;36mcompute\u001b[1;34m(self, method)\u001b[0m\n\u001b[0;32m   1293\u001b[0m \u001b[1;33m\u001b[0m\u001b[0m\n\u001b[0;32m   1294\u001b[0m         \u001b[1;32mfor\u001b[0m \u001b[0mcolumn\u001b[0m \u001b[1;32min\u001b[0m \u001b[0mcolumns\u001b[0m\u001b[1;33m:\u001b[0m\u001b[1;33m\u001b[0m\u001b[1;33m\u001b[0m\u001b[0m\n\u001b[1;32m-> 1295\u001b[1;33m             \u001b[0mdtype\u001b[0m \u001b[1;33m=\u001b[0m \u001b[0mframe\u001b[0m\u001b[1;33m[\u001b[0m\u001b[0mcolumn\u001b[0m\u001b[1;33m]\u001b[0m\u001b[1;33m.\u001b[0m\u001b[0mdtype\u001b[0m\u001b[1;33m\u001b[0m\u001b[1;33m\u001b[0m\u001b[0m\n\u001b[0m\u001b[0;32m   1296\u001b[0m             \u001b[1;32mif\u001b[0m \u001b[1;32mnot\u001b[0m \u001b[0mself\u001b[0m\u001b[1;33m.\u001b[0m\u001b[0mis_valid_dtype_n_method\u001b[0m\u001b[1;33m(\u001b[0m\u001b[0mdtype\u001b[0m\u001b[1;33m)\u001b[0m\u001b[1;33m:\u001b[0m\u001b[1;33m\u001b[0m\u001b[1;33m\u001b[0m\u001b[0m\n\u001b[0;32m   1297\u001b[0m                 raise TypeError(\n",
      "\u001b[1;32m~\\anaconda3\\lib\\site-packages\\pandas\\core\\frame.py\u001b[0m in \u001b[0;36m__getitem__\u001b[1;34m(self, key)\u001b[0m\n\u001b[0;32m   3022\u001b[0m             \u001b[1;32mif\u001b[0m \u001b[0mself\u001b[0m\u001b[1;33m.\u001b[0m\u001b[0mcolumns\u001b[0m\u001b[1;33m.\u001b[0m\u001b[0mnlevels\u001b[0m \u001b[1;33m>\u001b[0m \u001b[1;36m1\u001b[0m\u001b[1;33m:\u001b[0m\u001b[1;33m\u001b[0m\u001b[1;33m\u001b[0m\u001b[0m\n\u001b[0;32m   3023\u001b[0m                 \u001b[1;32mreturn\u001b[0m \u001b[0mself\u001b[0m\u001b[1;33m.\u001b[0m\u001b[0m_getitem_multilevel\u001b[0m\u001b[1;33m(\u001b[0m\u001b[0mkey\u001b[0m\u001b[1;33m)\u001b[0m\u001b[1;33m\u001b[0m\u001b[1;33m\u001b[0m\u001b[0m\n\u001b[1;32m-> 3024\u001b[1;33m             \u001b[0mindexer\u001b[0m \u001b[1;33m=\u001b[0m \u001b[0mself\u001b[0m\u001b[1;33m.\u001b[0m\u001b[0mcolumns\u001b[0m\u001b[1;33m.\u001b[0m\u001b[0mget_loc\u001b[0m\u001b[1;33m(\u001b[0m\u001b[0mkey\u001b[0m\u001b[1;33m)\u001b[0m\u001b[1;33m\u001b[0m\u001b[1;33m\u001b[0m\u001b[0m\n\u001b[0m\u001b[0;32m   3025\u001b[0m             \u001b[1;32mif\u001b[0m \u001b[0mis_integer\u001b[0m\u001b[1;33m(\u001b[0m\u001b[0mindexer\u001b[0m\u001b[1;33m)\u001b[0m\u001b[1;33m:\u001b[0m\u001b[1;33m\u001b[0m\u001b[1;33m\u001b[0m\u001b[0m\n\u001b[0;32m   3026\u001b[0m                 \u001b[0mindexer\u001b[0m \u001b[1;33m=\u001b[0m \u001b[1;33m[\u001b[0m\u001b[0mindexer\u001b[0m\u001b[1;33m]\u001b[0m\u001b[1;33m\u001b[0m\u001b[1;33m\u001b[0m\u001b[0m\n",
      "\u001b[1;32m~\\anaconda3\\lib\\site-packages\\pandas\\core\\indexes\\base.py\u001b[0m in \u001b[0;36mget_loc\u001b[1;34m(self, key, method, tolerance)\u001b[0m\n\u001b[0;32m   3080\u001b[0m                 \u001b[1;32mreturn\u001b[0m \u001b[0mself\u001b[0m\u001b[1;33m.\u001b[0m\u001b[0m_engine\u001b[0m\u001b[1;33m.\u001b[0m\u001b[0mget_loc\u001b[0m\u001b[1;33m(\u001b[0m\u001b[0mcasted_key\u001b[0m\u001b[1;33m)\u001b[0m\u001b[1;33m\u001b[0m\u001b[1;33m\u001b[0m\u001b[0m\n\u001b[0;32m   3081\u001b[0m             \u001b[1;32mexcept\u001b[0m \u001b[0mKeyError\u001b[0m \u001b[1;32mas\u001b[0m \u001b[0merr\u001b[0m\u001b[1;33m:\u001b[0m\u001b[1;33m\u001b[0m\u001b[1;33m\u001b[0m\u001b[0m\n\u001b[1;32m-> 3082\u001b[1;33m                 \u001b[1;32mraise\u001b[0m \u001b[0mKeyError\u001b[0m\u001b[1;33m(\u001b[0m\u001b[0mkey\u001b[0m\u001b[1;33m)\u001b[0m \u001b[1;32mfrom\u001b[0m \u001b[0merr\u001b[0m\u001b[1;33m\u001b[0m\u001b[1;33m\u001b[0m\u001b[0m\n\u001b[0m\u001b[0;32m   3083\u001b[0m \u001b[1;33m\u001b[0m\u001b[0m\n\u001b[0;32m   3084\u001b[0m         \u001b[1;32mif\u001b[0m \u001b[0mtolerance\u001b[0m \u001b[1;32mis\u001b[0m \u001b[1;32mnot\u001b[0m \u001b[1;32mNone\u001b[0m\u001b[1;33m:\u001b[0m\u001b[1;33m\u001b[0m\u001b[1;33m\u001b[0m\u001b[0m\n",
      "\u001b[1;31mKeyError\u001b[0m: 'val_accuracy'"
     ]
    }
   ],
   "source": [
    "loss_df.nlargest(10, \"Val_accuracy\")"
   ]
  },
  {
   "cell_type": "code",
   "execution_count": null,
   "metadata": {},
   "outputs": [],
   "source": [
    "loss_df"
   ]
  },
  {
   "cell_type": "code",
   "execution_count": null,
   "metadata": {
    "cell_style": "split",
    "scrolled": true,
    "tags": []
   },
   "outputs": [],
   "source": [
    "y_test_pred = (model.predict(X_test) > 0.5).astype(\"int32\")\n",
    "print(confusion_matrix(y_test, y_test_pred))\n",
    "print(classification_report(y_test, y_test_pred))"
   ]
  },
  {
   "cell_type": "markdown",
   "metadata": {
    "tags": []
   },
   "source": [
    "### ROC (Receiver Operating Curve) and AUC (Area Under Curve) for model"
   ]
  },
  {
   "cell_type": "code",
   "execution_count": null,
   "metadata": {
    "cell_style": "split"
   },
   "outputs": [],
   "source": [
    "y_pred_proba = model.predict(X_test)\n",
    "fpr, tpr, thresholds = roc_curve(y_test, y_pred_proba)\n",
    "plt.plot([0,1],[0,1],'k--')\n",
    "plt.plot(fpr,tpr, label='ANN')\n",
    "plt.xlabel('False Positive Rate')\n",
    "plt.ylabel('True Positive Rate')\n",
    "plt.title('ROC Curve for Keras Model')\n",
    "plt.show()"
   ]
  },
  {
   "cell_type": "code",
   "execution_count": null,
   "metadata": {
    "cell_style": "split",
    "scrolled": true
   },
   "outputs": [],
   "source": [
    "average_precision_score(y_test, y_pred_proba)"
   ]
  },
  {
   "cell_type": "markdown",
   "metadata": {},
   "source": [
    "### with class_weigth"
   ]
  },
  {
   "cell_type": "code",
   "execution_count": null,
   "metadata": {
    "cell_style": "split"
   },
   "outputs": [],
   "source": [
    "model_weighted = Sequential()\n",
    "\n",
    "model_weighted.add(Dense(30, activation=\"relu\"))\n",
    "model_weighted.add(Dropout(0.5))\n",
    "model_weighted.add(Dense(15, activation=\"relu\"))\n",
    "model_weighted.add(Dropout(0.5))\n",
    "model_weighted.add(Dense(1, activation=\"sigmoid\"))\n",
    "\n",
    "opt = Adam(lr=0.001)\n",
    "model_weighted.compile(optimizer=opt, \n",
    "                       loss=\"binary_crossentropy\",\n",
    "                       metrics=[\"Accuracy\"])"
   ]
  },
  {
   "cell_type": "code",
   "execution_count": null,
   "metadata": {
    "cell_style": "split"
   },
   "outputs": [],
   "source": [
    "early_stop = EarlyStopping(monitor=\"val_loss\",\n",
    "                           mode=\"auto\",\n",
    "                           verbose=1,\n",
    "                           patience=30)"
   ]
  },
  {
   "cell_type": "code",
   "execution_count": null,
   "metadata": {},
   "outputs": [],
   "source": [
    "from sklearn.utils import class_weight\n",
    "\n",
    "class_weights = class_weight.compute_class_weight('balanced',\n",
    "                                                   classes=np.unique(y_train),\n",
    "                                                   y=y_train)\n",
    "\n",
    "class_weights = {0: class_weights[0], 1: class_weights[1]}\n",
    "class_weights"
   ]
  },
  {
   "cell_type": "code",
   "execution_count": null,
   "metadata": {
    "scrolled": true
   },
   "outputs": [],
   "source": [
    "model_weighted.fit(x=X_train,\n",
    "                   y=y_train,\n",
    "                   validation_split=.1,\n",
    "                   batch_size=128,\n",
    "                   epochs=200,\n",
    "                   verbose=1,\n",
    "                   callbacks=[early_stop],\n",
    "                   class_weight=class_weights)"
   ]
  },
  {
   "cell_type": "code",
   "execution_count": null,
   "metadata": {
    "cell_style": "split",
    "executionInfo": {
     "elapsed": 809,
     "status": "ok",
     "timestamp": 1610205470123,
     "user": {
      "displayName": "Richard C",
      "photoUrl": "",
      "userId": "08040814671867660929"
     },
     "user_tz": -180
    },
    "id": "vQIbjGQduQpQ",
    "scrolled": true
   },
   "outputs": [],
   "source": [
    "loss_df = pd.DataFrame(model_weighted.history.history)\n",
    "loss_df.plot()"
   ]
  },
  {
   "cell_type": "code",
   "execution_count": null,
   "metadata": {},
   "outputs": [],
   "source": [
    "loss_df.nlargest(10, \"val_accuracy\")"
   ]
  },
  {
   "cell_type": "code",
   "execution_count": null,
   "metadata": {},
   "outputs": [],
   "source": [
    "loss_df "
   ]
  },
  {
   "cell_type": "code",
   "execution_count": null,
   "metadata": {
    "cell_style": "split"
   },
   "outputs": [],
   "source": [
    "y_test_pred = (model_weighted.predict(X_test) > 0.5).astype(\"int32\")\n",
    "print(confusion_matrix(y_test, y_test_pred))\n",
    "print(classification_report(y_test, y_test_pred))"
   ]
  },
  {
   "cell_type": "markdown",
   "metadata": {},
   "source": [
    "### ROC (Receiver Operating Curve) and AUC (Area Under Curve) for model"
   ]
  },
  {
   "cell_type": "code",
   "execution_count": null,
   "metadata": {
    "cell_style": "split",
    "scrolled": true
   },
   "outputs": [],
   "source": [
    "y_pred_proba = model_weighted.predict(X_test)\n",
    "fpr, tpr, thresholds = roc_curve(y_test, y_pred_proba)\n",
    "plt.plot([0,1],[0,1],'k--')\n",
    "plt.plot(fpr,tpr, label='ANN')\n",
    "plt.xlabel('False Positive Rate')\n",
    "plt.ylabel('True Positive Rate')\n",
    "plt.title('ROC Curve for Keras Model')\n",
    "plt.show()"
   ]
  },
  {
   "cell_type": "code",
   "execution_count": null,
   "metadata": {
    "cell_style": "split"
   },
   "outputs": [],
   "source": [
    "average_precision_score(y_test, y_pred_proba)"
   ]
  },
  {
   "cell_type": "markdown",
   "metadata": {},
   "source": [
    "## GridSearchCV"
   ]
  },
  {
   "cell_type": "code",
   "execution_count": null,
   "metadata": {},
   "outputs": [],
   "source": [
    "from tensorflow.keras.wrappers.scikit_learn import KerasClassifier"
   ]
  },
  {
   "cell_type": "code",
   "execution_count": null,
   "metadata": {},
   "outputs": [],
   "source": [
    "def build_classifier(optimizer):\n",
    "    \n",
    "    classifier = Sequential()\n",
    "    classifier.add(Dense(30, activation=\"relu\"))\n",
    "    classifier.add(Dropout(0.5))\n",
    "    classifier.add(Dense(15, activation=\"relu\"))\n",
    "    classifier.add(Dropout(0.5))\n",
    "    classifier.add(Dense(1, activation=\"sigmoid\"))\n",
    "    \n",
    "    classifier.compile(optimizer=optimizer,\n",
    "                       loss='binary_crossentropy',\n",
    "                       metrics=['Accuracy'])\n",
    "    return classifier"
   ]
  },
  {
   "cell_type": "code",
   "execution_count": null,
   "metadata": {},
   "outputs": [],
   "source": [
    "class_weights"
   ]
  },
  {
   "cell_type": "code",
   "execution_count": null,
   "metadata": {
    "scrolled": true
   },
   "outputs": [],
   "source": [
    "classifier = KerasClassifier(build_fn=build_classifier, epochs=150)\n",
    "parameters = {'batch_size': [128, 256],\n",
    "              'optimizer': [Adam, 'rmsprop', \"SGD\", \"adagrad\", \"adadelta\"]}\n",
    "\n",
    "grid_model = GridSearchCV(estimator=classifier,\n",
    "                          param_grid=parameters,\n",
    "                          scoring='accuracy',\n",
    "                          cv=5,\n",
    "                          n_jobs=-1,\n",
    "                          verbose=0).fit(X_train, y_train, class_weight=class_weights)"
   ]
  },
  {
   "cell_type": "code",
   "execution_count": null,
   "metadata": {},
   "outputs": [],
   "source": [
    "grid_model.best_score_"
   ]
  },
  {
   "cell_type": "code",
   "execution_count": null,
   "metadata": {},
   "outputs": [],
   "source": [
    "grid_model.best_params_"
   ]
  },
  {
   "cell_type": "code",
   "execution_count": null,
   "metadata": {},
   "outputs": [],
   "source": [
    "y_test_pred = (grid_model.predict(X_test) > 0.5).astype(\"int32\")\n",
    "print(confusion_matrix(y_test, y_test_pred))\n",
    "print(classification_report(y_test, y_test_pred))"
   ]
  },
  {
   "cell_type": "markdown",
   "metadata": {},
   "source": [
    "### ROC (Receiver Operating Curve) and AUC (Area Under Curve) for grid_model"
   ]
  },
  {
   "cell_type": "code",
   "execution_count": null,
   "metadata": {
    "cell_style": "split",
    "scrolled": true
   },
   "outputs": [],
   "source": [
    "y_pred_proba = grid_model.predict(X_test)\n",
    "fpr, tpr, thresholds = roc_curve(y_test, y_pred_proba)\n",
    "plt.plot([0,1],[0,1],'k--')\n",
    "plt.plot(fpr,tpr, label='ANN')\n",
    "plt.xlabel('False Positive Rate')\n",
    "plt.ylabel('True Positive Rate')\n",
    "plt.title('ROC Curve for Keras Model')\n",
    "plt.show()"
   ]
  },
  {
   "cell_type": "code",
   "execution_count": null,
   "metadata": {
    "cell_style": "split",
    "scrolled": true
   },
   "outputs": [],
   "source": [
    "average_precision_score(y_test, y_pred_proba)"
   ]
  },
  {
   "cell_type": "markdown",
   "metadata": {},
   "source": [
    "## Final Model and Model Deployment"
   ]
  },
  {
   "cell_type": "code",
   "execution_count": null,
   "metadata": {},
   "outputs": [],
   "source": [
    "import pickle\n",
    "\n",
    "pickle.dump(scaler, open(\"scaler_churn\", 'wb'))"
   ]
  },
  {
   "cell_type": "code",
   "execution_count": null,
   "metadata": {
    "scrolled": true
   },
   "outputs": [],
   "source": [
    "final_model = Sequential()\n",
    "\n",
    "\n",
    "final_model.add(Dense(30, activation=\"relu\"))\n",
    "final_model.add(Dropout(0.5))\n",
    "final_model.add(Dense(15, activation=\"relu\"))\n",
    "final_model.add(Dropout(0.5))\n",
    "final_model.add(Dense(1, activation=\"sigmoid\"))\n",
    "\n",
    "final_model.compile(optimizer=\"rmsprop\",\n",
    "                    loss=\"binary_crossentropy\",\n",
    "                    metrics=[\"Accuracy\"])\n",
    "\n",
    "final_model.fit(x=X_train,\n",
    "                y=y_train,\n",
    "                validation_data=(X_test, y_test),\n",
    "                callbacks=[early_stop],\n",
    "                batch_size=128,\n",
    "                epochs=200,\n",
    "                verbose=1,\n",
    "                class_weight=class_weights)"
   ]
  },
  {
   "cell_type": "code",
   "execution_count": null,
   "metadata": {
    "cell_style": "split",
    "executionInfo": {
     "elapsed": 809,
     "status": "ok",
     "timestamp": 1610205470123,
     "user": {
      "displayName": "Richard C",
      "photoUrl": "",
      "userId": "08040814671867660929"
     },
     "user_tz": -180
    },
    "id": "vQIbjGQduQpQ",
    "scrolled": true
   },
   "outputs": [],
   "source": [
    "loss_df = pd.DataFrame(final_model.history.history)\n",
    "loss_df.plot()"
   ]
  },
  {
   "cell_type": "code",
   "execution_count": null,
   "metadata": {},
   "outputs": [],
   "source": [
    "loss_df"
   ]
  },
  {
   "cell_type": "code",
   "execution_count": null,
   "metadata": {},
   "outputs": [],
   "source": [
    "loss_df.nlargest(10, \"val_accuracy\")"
   ]
  },
  {
   "cell_type": "code",
   "execution_count": null,
   "metadata": {
    "cell_style": "split",
    "scrolled": false
   },
   "outputs": [],
   "source": [
    "y_test_pred = (final_model.predict(X_test) > 0.5).astype(\"int32\")\n",
    "print(confusion_matrix(y_test, y_test_pred))\n",
    "print(classification_report(y_test, y_test_pred))"
   ]
  },
  {
   "cell_type": "code",
   "execution_count": null,
   "metadata": {},
   "outputs": [],
   "source": [
    "final_model.save('model_churn.h5')"
   ]
  },
  {
   "cell_type": "markdown",
   "metadata": {
    "heading_collapsed": true,
    "id": "Cq10ovAX6daY"
   },
   "source": [
    "### Prediction"
   ]
  },
  {
   "cell_type": "code",
   "execution_count": null,
   "metadata": {
    "hidden": true
   },
   "outputs": [],
   "source": [
    "single_customer = df.drop('Exited', axis=1).iloc[0]\n",
    "single_customer"
   ]
  },
  {
   "cell_type": "code",
   "execution_count": null,
   "metadata": {
    "hidden": true
   },
   "outputs": [],
   "source": [
    "single_customer = scaler.transform(single_customer.values.reshape(-1, 14))\n",
    "single_customer"
   ]
  },
  {
   "cell_type": "code",
   "execution_count": null,
   "metadata": {
    "hidden": true
   },
   "outputs": [],
   "source": [
    "(final_model.predict(single_customer) > 0.5).astype(\"int32\")"
   ]
  },
  {
   "cell_type": "code",
   "execution_count": null,
   "metadata": {
    "hidden": true
   },
   "outputs": [],
   "source": [
    "df[\"Exited\"].iloc[0]"
   ]
  },
  {
   "cell_type": "markdown",
   "metadata": {
    "hidden": true
   },
   "source": [
    "---\n",
    "---"
   ]
  },
  {
   "cell_type": "markdown",
   "metadata": {},
   "source": [
    "## Comparison with ML"
   ]
  },
  {
   "cell_type": "code",
   "execution_count": null,
   "metadata": {},
   "outputs": [],
   "source": [
    "from sklearn.pipeline import Pipeline\n",
    "from sklearn.ensemble import RandomForestClassifier\n",
    "from sklearn.svm import SVC\n",
    "from sklearn.linear_model import LogisticRegression"
   ]
  },
  {
   "cell_type": "code",
   "execution_count": null,
   "metadata": {},
   "outputs": [],
   "source": [
    "clf1 = RandomForestClassifier(random_state=42, class_weight=\"balanced\")\n",
    "clf2 = SVC(probability=True, random_state=42, class_weight=\"balanced\")\n",
    "clf3 = LogisticRegression(random_state=42, class_weight=\"balanced\")"
   ]
  },
  {
   "cell_type": "code",
   "execution_count": null,
   "metadata": {},
   "outputs": [],
   "source": []
  },
  {
   "cell_type": "code",
   "execution_count": null,
   "metadata": {
    "cell_style": "split"
   },
   "outputs": [],
   "source": [
    "# Initiaze the hyperparameters for each dictionary\n",
    "param1 = {}\n",
    "param1['classifier__n_estimators'] = [10, 50, 100, 250]\n",
    "param1['classifier__max_depth'] = [5, 10, 20]\n",
    "param1['classifier'] = [clf1]\n",
    "\n",
    "param2 = {}\n",
    "param2['classifier__C'] = [10**(-2+i) for i in range(5)]\n",
    "param2['classifier'] = [clf2]\n",
    "\n",
    "param3 = {}\n",
    "param3['classifier__C'] = [10**(-2+i) for i in range(5)]\n",
    "param3['classifier__penalty'] = ['l1', 'l2']\n",
    "param3['classifier'] = [clf3]"
   ]
  },
  {
   "cell_type": "code",
   "execution_count": null,
   "metadata": {
    "cell_style": "split"
   },
   "outputs": [],
   "source": [
    "pipeline = Pipeline([('classifier', clf1)])\n",
    "params = [param1, param2, param3]"
   ]
  },
  {
   "cell_type": "code",
   "execution_count": null,
   "metadata": {
    "cell_style": "center"
   },
   "outputs": [],
   "source": [
    "grid_model_rf = GridSearchCV(pipeline, params, cv=5, n_jobs=-1,\n",
    "                          scoring='accuracy').fit(X_train, y_train)"
   ]
  },
  {
   "cell_type": "code",
   "execution_count": null,
   "metadata": {
    "cell_style": "center"
   },
   "outputs": [],
   "source": [
    "grid_model_rf.best_params_"
   ]
  },
  {
   "cell_type": "code",
   "execution_count": null,
   "metadata": {
    "cell_style": "center"
   },
   "outputs": [],
   "source": [
    "grid_model_rf.best_score_"
   ]
  },
  {
   "cell_type": "code",
   "execution_count": null,
   "metadata": {
    "cell_style": "split"
   },
   "outputs": [],
   "source": [
    "y_pred_proba = grid_model_rf.predict(X_test)\n",
    "fpr, tpr, thresholds = roc_curve(y_test, y_pred_proba)\n",
    "plt.plot([0,1],[0,1],'k--')\n",
    "plt.plot(fpr,tpr, label='ANN')\n",
    "plt.xlabel('False Positive Rate')\n",
    "plt.ylabel('True Positive Rate')\n",
    "plt.title('ROC Curve for Keras Model')\n",
    "plt.show()"
   ]
  },
  {
   "cell_type": "code",
   "execution_count": null,
   "metadata": {
    "cell_style": "split"
   },
   "outputs": [],
   "source": [
    "average_precision_score(y_test, y_pred_proba)"
   ]
  },
  {
   "cell_type": "code",
   "execution_count": null,
   "metadata": {
    "cell_style": "split",
    "scrolled": true
   },
   "outputs": [],
   "source": [
    "y_test_pred = (grid_model_rf.predict(X_test) > 0.5).astype(\"int32\")\n",
    "print(confusion_matrix(y_test, y_test_pred))\n",
    "print(classification_report(y_test, y_test_pred))"
   ]
  },
  {
   "cell_type": "markdown",
   "metadata": {},
   "source": [
    "# SVC"
   ]
  },
  {
   "cell_type": "code",
   "execution_count": null,
   "metadata": {
    "cell_style": "split"
   },
   "outputs": [],
   "source": [
    "pipeline = Pipeline([('classifier', clf2)])\n",
    "params = [param1, param2, param3]"
   ]
  },
  {
   "cell_type": "code",
   "execution_count": null,
   "metadata": {
    "cell_style": "center"
   },
   "outputs": [],
   "source": [
    "grid_model_svc = GridSearchCV(pipeline, params, cv=5, n_jobs=-1,\n",
    "                          scoring='accuracy').fit(X_train, y_train)"
   ]
  },
  {
   "cell_type": "code",
   "execution_count": null,
   "metadata": {
    "cell_style": "center"
   },
   "outputs": [],
   "source": [
    "grid_model_svc.best_params_"
   ]
  },
  {
   "cell_type": "code",
   "execution_count": null,
   "metadata": {
    "cell_style": "center"
   },
   "outputs": [],
   "source": [
    "grid_model_svc.best_score_"
   ]
  },
  {
   "cell_type": "code",
   "execution_count": null,
   "metadata": {
    "cell_style": "split"
   },
   "outputs": [],
   "source": [
    "y_pred_proba = grid_model_svc.predict(X_test)\n",
    "fpr, tpr, thresholds = roc_curve(y_test, y_pred_proba)\n",
    "plt.plot([0,1],[0,1],'k--')\n",
    "plt.plot(fpr,tpr, label='ANN')\n",
    "plt.xlabel('False Positive Rate')\n",
    "plt.ylabel('True Positive Rate')\n",
    "plt.title('ROC Curve for Keras Model')\n",
    "plt.show()"
   ]
  },
  {
   "cell_type": "code",
   "execution_count": null,
   "metadata": {
    "cell_style": "split"
   },
   "outputs": [],
   "source": [
    "average_precision_score(y_test, y_pred_proba)"
   ]
  },
  {
   "cell_type": "code",
   "execution_count": null,
   "metadata": {
    "cell_style": "split",
    "scrolled": true
   },
   "outputs": [],
   "source": [
    "y_test_pred = (grid_model_svc.predict(X_test) > 0.5).astype(\"int32\")\n",
    "print(confusion_matrix(y_test, y_test_pred))\n",
    "print(classification_report(y_test, y_test_pred))"
   ]
  },
  {
   "cell_type": "markdown",
   "metadata": {},
   "source": [
    "# LR"
   ]
  },
  {
   "cell_type": "code",
   "execution_count": null,
   "metadata": {
    "cell_style": "split"
   },
   "outputs": [],
   "source": [
    "pipeline = Pipeline([('classifier', clf3)])\n",
    "params = [param1, param2, param3]"
   ]
  },
  {
   "cell_type": "code",
   "execution_count": null,
   "metadata": {
    "cell_style": "center"
   },
   "outputs": [],
   "source": [
    "grid_model_lr = GridSearchCV(pipeline, params, cv=5, n_jobs=-1,\n",
    "                          scoring='accuracy').fit(X_train, y_train)"
   ]
  },
  {
   "cell_type": "code",
   "execution_count": null,
   "metadata": {
    "cell_style": "center"
   },
   "outputs": [],
   "source": [
    "grid_model_lr.best_params_"
   ]
  },
  {
   "cell_type": "code",
   "execution_count": null,
   "metadata": {
    "cell_style": "center"
   },
   "outputs": [],
   "source": [
    "grid_model_lr.best_score_"
   ]
  },
  {
   "cell_type": "code",
   "execution_count": null,
   "metadata": {
    "cell_style": "split"
   },
   "outputs": [],
   "source": [
    "y_pred_proba = grid_model_lr.predict(X_test)\n",
    "fpr, tpr, thresholds = roc_curve(y_test, y_pred_proba)\n",
    "plt.plot([0,1],[0,1],'k--')\n",
    "plt.plot(fpr,tpr, label='ANN')\n",
    "plt.xlabel('False Positive Rate')\n",
    "plt.ylabel('True Positive Rate')\n",
    "plt.title('ROC Curve for Keras Model')\n",
    "plt.show()"
   ]
  },
  {
   "cell_type": "code",
   "execution_count": null,
   "metadata": {
    "cell_style": "split"
   },
   "outputs": [],
   "source": [
    "average_precision_score(y_test, y_pred_proba)"
   ]
  },
  {
   "cell_type": "code",
   "execution_count": null,
   "metadata": {
    "cell_style": "split",
    "scrolled": true
   },
   "outputs": [],
   "source": [
    "y_test_pred = (grid_model_lr.predict(X_test) > 0.5).astype(\"int32\")\n",
    "print(confusion_matrix(y_test, y_test_pred))\n",
    "print(classification_report(y_test, y_test_pred))"
   ]
  },
  {
   "cell_type": "markdown",
   "metadata": {},
   "source": [
    "---\n",
    "---"
   ]
  }
 ],
 "metadata": {
  "colab": {
   "authorship_tag": "ABX9TyPKBWWuNpSuP7DHsa+Zpo3l",
   "collapsed_sections": [],
   "name": "Untitled0.ipynb",
   "provenance": []
  },
  "hide_input": false,
  "interpreter": {
   "hash": "e4e90950cb561445fc7289d5187c528b28750a487d008a70b474c773afaf79b7"
  },
  "kernelspec": {
   "display_name": "Python 3",
   "language": "python",
   "name": "python3"
  },
  "language_info": {
   "codemirror_mode": {
    "name": "ipython",
    "version": 3
   },
   "file_extension": ".py",
   "mimetype": "text/x-python",
   "name": "python",
   "nbconvert_exporter": "python",
   "pygments_lexer": "ipython3",
   "version": "3.8.8"
  },
  "varInspector": {
   "cols": {
    "lenName": 16,
    "lenType": 16,
    "lenVar": 40
   },
   "kernels_config": {
    "python": {
     "delete_cmd_postfix": "",
     "delete_cmd_prefix": "del ",
     "library": "var_list.py",
     "varRefreshCmd": "print(var_dic_list())"
    },
    "r": {
     "delete_cmd_postfix": ") ",
     "delete_cmd_prefix": "rm(",
     "library": "var_list.r",
     "varRefreshCmd": "cat(var_dic_list()) "
    }
   },
   "types_to_exclude": [
    "module",
    "function",
    "builtin_function_or_method",
    "instance",
    "_Feature"
   ],
   "window_display": false
  }
 },
 "nbformat": 4,
 "nbformat_minor": 4
}
